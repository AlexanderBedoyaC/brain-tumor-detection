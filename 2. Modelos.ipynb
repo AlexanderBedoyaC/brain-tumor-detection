{
 "cells": [
  {
   "cell_type": "code",
   "execution_count": 2,
   "metadata": {},
   "outputs": [],
   "source": [
    "import numpy as np\n",
    "import joblib ### para cargar array\n",
    "\n",
    "########Paquetes para NN #########\n",
    "import tensorflow as tf\n",
    "from sklearn import metrics ### para analizar modelo\n",
    "from sklearn.ensemble import RandomForestClassifier, GradientBoostingClassifier  ### para analizar modelo\n",
    "import pandas as pd\n",
    "\n",
    "from sklearn.svm import SVC\n",
    "\n"
   ]
  },
  {
   "cell_type": "code",
   "execution_count": 3,
   "metadata": {},
   "outputs": [],
   "source": [
    "x_train = joblib.load('salidas\\\\x_train.pkl')\n",
    "y_train = joblib.load('salidas\\\\y_train.pkl')\n",
    "x_test = joblib.load('salidas\\\\x_test.pkl')\n",
    "y_test = joblib.load('salidas\\\\y_test.pkl')\n"
   ]
  },
  {
   "cell_type": "markdown",
   "metadata": {},
   "source": [
    "Modelo Random "
   ]
  },
  {
   "cell_type": "code",
   "execution_count": 5,
   "metadata": {},
   "outputs": [
    {
     "data": {
      "text/plain": [
       "(1737, 100, 100, 3)"
      ]
     },
     "execution_count": 5,
     "metadata": {},
     "output_type": "execute_result"
    }
   ],
   "source": [
    "x_test.shape"
   ]
  },
  {
   "cell_type": "code",
   "execution_count": 6,
   "metadata": {},
   "outputs": [
    {
     "data": {
      "text/plain": [
       "(1737, 30000)"
      ]
     },
     "execution_count": 6,
     "metadata": {},
     "output_type": "execute_result"
    }
   ],
   "source": [
    "x_train2=x_train.reshape(6953,30000)\n",
    "x_test2=x_test.reshape(1737, 30000)\n",
    "x_train2.shape\n",
    "x_test2.shape"
   ]
  },
  {
   "cell_type": "code",
   "execution_count": 7,
   "metadata": {},
   "outputs": [
    {
     "name": "stderr",
     "output_type": "stream",
     "text": [
      "c:\\Analitica 3\\brain-tumor-detection\\environment\\Lib\\site-packages\\sklearn\\base.py:1474: DataConversionWarning: A column-vector y was passed when a 1d array was expected. Please change the shape of y to (n_samples,), for example using ravel().\n",
      "  return fit_method(estimator, *args, **kwargs)\n"
     ]
    },
    {
     "name": "stdout",
     "output_type": "stream",
     "text": [
      "              precision    recall  f1-score   support\n",
      "\n",
      "           0       1.00      1.00      1.00      2864\n",
      "           1       1.00      1.00      1.00      4089\n",
      "\n",
      "    accuracy                           1.00      6953\n",
      "   macro avg       1.00      1.00      1.00      6953\n",
      "weighted avg       1.00      1.00      1.00      6953\n",
      "\n",
      "              precision    recall  f1-score   support\n",
      "\n",
      "           0       0.98      0.98      0.98       716\n",
      "           1       0.99      0.99      0.99      1021\n",
      "\n",
      "    accuracy                           0.99      1737\n",
      "   macro avg       0.99      0.99      0.99      1737\n",
      "weighted avg       0.99      0.99      0.99      1737\n",
      "\n"
     ]
    },
    {
     "data": {
      "text/plain": [
       "0.9864418441773045"
      ]
     },
     "execution_count": 7,
     "metadata": {},
     "output_type": "execute_result"
    }
   ],
   "source": [
    "rf=RandomForestClassifier()\n",
    "rf.fit(x_train2, y_train)\n",
    "\n",
    "pred_train=rf.predict(x_train2)\n",
    "print(metrics.classification_report(y_train, pred_train))\n",
    "metrics.roc_auc_score(y_train, pred_train)\n",
    "\n",
    "pred_test=rf.predict(x_test2)\n",
    "print(metrics.classification_report(y_test, pred_test))\n",
    "metrics.roc_auc_score(y_test, pred_test)"
   ]
  },
  {
   "cell_type": "markdown",
   "metadata": {},
   "source": [
    "### Support vector machine"
   ]
  },
  {
   "cell_type": "code",
   "execution_count": 8,
   "metadata": {},
   "outputs": [
    {
     "name": "stderr",
     "output_type": "stream",
     "text": [
      "c:\\Analitica 3\\brain-tumor-detection\\environment\\Lib\\site-packages\\sklearn\\preprocessing\\_label.py:114: DataConversionWarning: A column-vector y was passed when a 1d array was expected. Please change the shape of y to (n_samples, ), for example using ravel().\n",
      "  y = column_or_1d(y, warn=True)\n"
     ]
    }
   ],
   "source": [
    "\"\"\" gbc=GradientBoostingClassifier()\n",
    "gbc.fit(x_train2, y_train)\n",
    "\n",
    "pred_train=gbc.predict(x_train2)\n",
    "print(metrics.classification_report(y_train, pred_train))\n",
    "metrics.roc_auc_score(y_train, pred_train)\n",
    "\n",
    "pred_test=gbc.predict(x_test2)\n",
    "print(metrics.classification_report(y_test, pred_test))\n",
    "metrics.roc_auc_score(y_test, pred_test) \"\"\""
   ]
  },
  {
   "cell_type": "markdown",
   "metadata": {},
   "source": [
    "## modelo Red neuronal"
   ]
  },
  {
   "cell_type": "code",
   "execution_count": 4,
   "metadata": {},
   "outputs": [
    {
     "name": "stderr",
     "output_type": "stream",
     "text": [
      "c:\\Analitica 3\\brain-tumor-detection\\environment\\Lib\\site-packages\\keras\\src\\layers\\reshaping\\flatten.py:37: UserWarning: Do not pass an `input_shape`/`input_dim` argument to a layer. When using Sequential models, prefer using an `Input(shape)` object as the first layer in the model instead.\n",
      "  super().__init__(**kwargs)\n"
     ]
    }
   ],
   "source": [
    "fc_model=tf.keras.models.Sequential([\n",
    "    tf.keras.layers.Flatten(input_shape=x_train.shape[1:]),\n",
    "    tf.keras.layers.Dense(128, activation='relu'),\n",
    "    tf.keras.layers.Dense(64, activation='relu'),\n",
    "    tf.keras.layers.Dense(1, activation='sigmoid')\n",
    "])"
   ]
  },
  {
   "cell_type": "code",
   "execution_count": 5,
   "metadata": {},
   "outputs": [],
   "source": [
    "##### configura el optimizador y la función para optimizar ##############\n",
    "fc_model.compile(optimizer='adam', loss='binary_crossentropy', metrics=['accuracy','AUC', 'Recall', 'Precision'])\n"
   ]
  },
  {
   "cell_type": "code",
   "execution_count": 6,
   "metadata": {},
   "outputs": [
    {
     "name": "stdout",
     "output_type": "stream",
     "text": [
      "Epoch 1/10\n",
      "\u001b[1m70/70\u001b[0m \u001b[32m━━━━━━━━━━━━━━━━━━━━\u001b[0m\u001b[37m\u001b[0m \u001b[1m11s\u001b[0m 96ms/step - AUC: 0.7304 - Precision: 0.7369 - Recall: 0.6593 - accuracy: 0.6721 - loss: 0.9022 - val_AUC: 0.9476 - val_Precision: 0.9251 - val_Recall: 0.9432 - val_accuracy: 0.9217 - val_loss: 0.2972\n",
      "Epoch 2/10\n",
      "\u001b[1m70/70\u001b[0m \u001b[32m━━━━━━━━━━━━━━━━━━━━\u001b[0m\u001b[37m\u001b[0m \u001b[1m5s\u001b[0m 70ms/step - AUC: 0.9556 - Precision: 0.9297 - Recall: 0.9255 - accuracy: 0.9144 - loss: 0.2872 - val_AUC: 0.9687 - val_Precision: 0.9366 - val_Recall: 0.9696 - val_accuracy: 0.9436 - val_loss: 0.2194\n",
      "Epoch 3/10\n",
      "\u001b[1m70/70\u001b[0m \u001b[32m━━━━━━━━━━━━━━━━━━━━\u001b[0m\u001b[37m\u001b[0m \u001b[1m5s\u001b[0m 68ms/step - AUC: 0.9731 - Precision: 0.9467 - Recall: 0.9471 - accuracy: 0.9389 - loss: 0.2095 - val_AUC: 0.9758 - val_Precision: 0.9185 - val_Recall: 0.9824 - val_accuracy: 0.9384 - val_loss: 0.2165\n",
      "Epoch 4/10\n",
      "\u001b[1m70/70\u001b[0m \u001b[32m━━━━━━━━━━━━━━━━━━━━\u001b[0m\u001b[37m\u001b[0m \u001b[1m5s\u001b[0m 69ms/step - AUC: 0.9809 - Precision: 0.9515 - Recall: 0.9619 - accuracy: 0.9489 - loss: 0.1718 - val_AUC: 0.9845 - val_Precision: 0.9767 - val_Recall: 0.9452 - val_accuracy: 0.9545 - val_loss: 0.1602\n",
      "Epoch 5/10\n",
      "\u001b[1m70/70\u001b[0m \u001b[32m━━━━━━━━━━━━━━━━━━━━\u001b[0m\u001b[37m\u001b[0m \u001b[1m5s\u001b[0m 70ms/step - AUC: 0.9846 - Precision: 0.9641 - Recall: 0.9671 - accuracy: 0.9592 - loss: 0.1477 - val_AUC: 0.9841 - val_Precision: 0.9437 - val_Recall: 0.9843 - val_accuracy: 0.9562 - val_loss: 0.1607\n",
      "Epoch 6/10\n",
      "\u001b[1m70/70\u001b[0m \u001b[32m━━━━━━━━━━━━━━━━━━━━\u001b[0m\u001b[37m\u001b[0m \u001b[1m5s\u001b[0m 70ms/step - AUC: 0.9895 - Precision: 0.9695 - Recall: 0.9680 - accuracy: 0.9634 - loss: 0.1206 - val_AUC: 0.9885 - val_Precision: 0.9754 - val_Recall: 0.9716 - val_accuracy: 0.9689 - val_loss: 0.1231\n",
      "Epoch 7/10\n",
      "\u001b[1m70/70\u001b[0m \u001b[32m━━━━━━━━━━━━━━━━━━━━\u001b[0m\u001b[37m\u001b[0m \u001b[1m5s\u001b[0m 70ms/step - AUC: 0.9958 - Precision: 0.9820 - Recall: 0.9839 - accuracy: 0.9797 - loss: 0.0747 - val_AUC: 0.9903 - val_Precision: 0.9757 - val_Recall: 0.9833 - val_accuracy: 0.9758 - val_loss: 0.1066\n",
      "Epoch 8/10\n",
      "\u001b[1m70/70\u001b[0m \u001b[32m━━━━━━━━━━━━━━━━━━━━\u001b[0m\u001b[37m\u001b[0m \u001b[1m5s\u001b[0m 71ms/step - AUC: 0.9979 - Precision: 0.9883 - Recall: 0.9883 - accuracy: 0.9862 - loss: 0.0561 - val_AUC: 0.9913 - val_Precision: 0.9785 - val_Recall: 0.9794 - val_accuracy: 0.9752 - val_loss: 0.1022\n",
      "Epoch 9/10\n",
      "\u001b[1m70/70\u001b[0m \u001b[32m━━━━━━━━━━━━━━━━━━━━\u001b[0m\u001b[37m\u001b[0m \u001b[1m5s\u001b[0m 71ms/step - AUC: 0.9977 - Precision: 0.9872 - Recall: 0.9877 - accuracy: 0.9852 - loss: 0.0532 - val_AUC: 0.9898 - val_Precision: 0.9775 - val_Recall: 0.9775 - val_accuracy: 0.9735 - val_loss: 0.1174\n",
      "Epoch 10/10\n",
      "\u001b[1m70/70\u001b[0m \u001b[32m━━━━━━━━━━━━━━━━━━━━\u001b[0m\u001b[37m\u001b[0m \u001b[1m5s\u001b[0m 70ms/step - AUC: 0.9988 - Precision: 0.9885 - Recall: 0.9869 - accuracy: 0.9854 - loss: 0.0469 - val_AUC: 0.9906 - val_Precision: 0.9802 - val_Recall: 0.9687 - val_accuracy: 0.9701 - val_loss: 0.1154\n"
     ]
    },
    {
     "data": {
      "text/plain": [
       "<keras.src.callbacks.history.History at 0x25618d9c490>"
      ]
     },
     "execution_count": 6,
     "metadata": {},
     "output_type": "execute_result"
    }
   ],
   "source": [
    "#####Entrenar el modelo usando el optimizador y arquitectura definidas #########\n",
    "fc_model.fit(x_train, y_train, batch_size=100, epochs=10, validation_data=(x_test, y_test))\n"
   ]
  },
  {
   "cell_type": "code",
   "execution_count": 7,
   "metadata": {},
   "outputs": [
    {
     "name": "stdout",
     "output_type": "stream",
     "text": [
      "55/55 - 0s - 6ms/step - AUC: 0.9906 - Precision: 0.9802 - Recall: 0.9687 - accuracy: 0.9701 - loss: 0.1154\n",
      "Test auc: 0.9905893206596375\n"
     ]
    }
   ],
   "source": [
    "#########Evaluar el modelo ####################\n",
    "test_loss, test_acc, test_auc, test_recall, test_precision = fc_model.evaluate(x_test, y_test, verbose=2)\n",
    "print(\"Test auc:\", test_auc)"
   ]
  },
  {
   "cell_type": "code",
   "execution_count": 8,
   "metadata": {},
   "outputs": [
    {
     "name": "stdout",
     "output_type": "stream",
     "text": [
      "\u001b[1m55/55\u001b[0m \u001b[32m━━━━━━━━━━━━━━━━━━━━\u001b[0m\u001b[37m\u001b[0m \u001b[1m1s\u001b[0m 8ms/step\n",
      "              precision    recall  f1-score   support\n",
      "\n",
      "           0       0.96      0.97      0.96       716\n",
      "           1       0.98      0.97      0.97      1021\n",
      "\n",
      "    accuracy                           0.97      1737\n",
      "   macro avg       0.97      0.97      0.97      1737\n",
      "weighted avg       0.97      0.97      0.97      1737\n",
      "\n"
     ]
    },
    {
     "data": {
      "image/png": "[encoded data removed]",
      "text/plain": [
       "<Figure size 640x480 with 2 Axes>"
      ]
     },
     "metadata": {},
     "output_type": "display_data"
    }
   ],
   "source": [
    "###### matriz de confusión test\n",
    "pred_test=(fc_model.predict(x_test) > 0.50).astype('int')\n",
    "cm=metrics.confusion_matrix(y_test,pred_test, labels=[1,0])\n",
    "disp=metrics.ConfusionMatrixDisplay(cm,display_labels=['Pneu', 'Normal'])\n",
    "disp.plot()\n",
    "\n",
    "print(metrics.classification_report(y_test, pred_test))\n"
   ]
  },
  {
   "cell_type": "markdown",
   "metadata": {},
   "source": [
    "### modelos convolusionales"
   ]
  },
  {
   "cell_type": "code",
   "execution_count": null,
   "metadata": {},
   "outputs": [],
   "source": [
    "model = tf.keras.Sequential([\n",
    "    tf.keras.layers.Conv2D(16, kernel_size=(3, 3), activation='relu', input_shape=x_train.shape[1:]),\n",
    "    tf.keras.layers.MaxPooling2D(pool_size=(2, 2)),\n",
    "    tf.keras.layers.Conv2D(32, kernel_size=(3, 3), activation='relu'),\n",
    "    tf.keras.layers.MaxPooling2D(pool_size=(2, 2)),\n",
    "    tf.keras.layers.Flatten(),\n",
    "    tf.keras.layers.Dense(64, activation='relu'),\n",
    "    tf.keras.layers.Dense(1, activation='sigmoid')\n",
    "])"
   ]
  },
  {
   "cell_type": "code",
   "execution_count": null,
   "metadata": {},
   "outputs": [],
   "source": [
    "# Compile the model with binary cross-entropy loss and Adam optimizer\n",
    "model.compile(loss='binary_crossentropy', optimizer='adam', metrics=['AUC'])"
   ]
  },
  {
   "cell_type": "code",
   "execution_count": null,
   "metadata": {},
   "outputs": [
    {
     "name": "stdout",
     "output_type": "stream",
     "text": [
      "Epoch 1/10\n",
      "\u001b[1m70/70\u001b[0m \u001b[32m━━━━━━━━━━━━━━━━━━━━\u001b[0m\u001b[37m\u001b[0m \u001b[1m23s\u001b[0m 259ms/step - AUC: 0.8099 - loss: 0.4828 - val_AUC: 0.9861 - val_loss: 0.1470\n",
      "Epoch 2/10\n",
      "\u001b[1m70/70\u001b[0m \u001b[32m━━━━━━━━━━━━━━━━━━━━\u001b[0m\u001b[37m\u001b[0m \u001b[1m12s\u001b[0m 170ms/step - AUC: 0.9833 - loss: 0.1573 - val_AUC: 0.9921 - val_loss: 0.1072\n",
      "Epoch 3/10\n",
      "\u001b[1m70/70\u001b[0m \u001b[32m━━━━━━━━━━━━━━━━━━━━\u001b[0m\u001b[37m\u001b[0m \u001b[1m13s\u001b[0m 184ms/step - AUC: 0.9946 - loss: 0.0900 - val_AUC: 0.9933 - val_loss: 0.0912\n",
      "Epoch 4/10\n",
      "\u001b[1m70/70\u001b[0m \u001b[32m━━━━━━━━━━━━━━━━━━━━\u001b[0m\u001b[37m\u001b[0m \u001b[1m12s\u001b[0m 176ms/step - AUC: 0.9952 - loss: 0.0749 - val_AUC: 0.9947 - val_loss: 0.0774\n",
      "Epoch 5/10\n",
      "\u001b[1m70/70\u001b[0m \u001b[32m━━━━━━━━━━━━━━━━━━━━\u001b[0m\u001b[37m\u001b[0m \u001b[1m13s\u001b[0m 180ms/step - AUC: 0.9978 - loss: 0.0472 - val_AUC: 0.9939 - val_loss: 0.0720\n",
      "Epoch 6/10\n",
      "\u001b[1m70/70\u001b[0m \u001b[32m━━━━━━━━━━━━━━━━━━━━\u001b[0m\u001b[37m\u001b[0m \u001b[1m12s\u001b[0m 177ms/step - AUC: 0.9991 - loss: 0.0351 - val_AUC: 0.9948 - val_loss: 0.0611\n",
      "Epoch 7/10\n",
      "\u001b[1m70/70\u001b[0m \u001b[32m━━━━━━━━━━━━━━━━━━━━\u001b[0m\u001b[37m\u001b[0m \u001b[1m12s\u001b[0m 177ms/step - AUC: 0.9994 - loss: 0.0196 - val_AUC: 0.9944 - val_loss: 0.0551\n",
      "Epoch 8/10\n",
      "\u001b[1m70/70\u001b[0m \u001b[32m━━━━━━━━━━━━━━━━━━━━\u001b[0m\u001b[37m\u001b[0m \u001b[1m13s\u001b[0m 179ms/step - AUC: 1.0000 - loss: 0.0104 - val_AUC: 0.9938 - val_loss: 0.0563\n",
      "Epoch 9/10\n",
      "\u001b[1m70/70\u001b[0m \u001b[32m━━━━━━━━━━━━━━━━━━━━\u001b[0m\u001b[37m\u001b[0m \u001b[1m13s\u001b[0m 178ms/step - AUC: 1.0000 - loss: 0.0085 - val_AUC: 0.9941 - val_loss: 0.0613\n",
      "Epoch 10/10\n",
      "\u001b[1m70/70\u001b[0m \u001b[32m━━━━━━━━━━━━━━━━━━━━\u001b[0m\u001b[37m\u001b[0m \u001b[1m13s\u001b[0m 183ms/step - AUC: 1.0000 - loss: 0.0036 - val_AUC: 0.9938 - val_loss: 0.0687\n"
     ]
    },
    {
     "data": {
      "text/plain": [
       "<keras.src.callbacks.history.History at 0x1b5d2c3d450>"
      ]
     },
     "execution_count": 7,
     "metadata": {},
     "output_type": "execute_result"
    }
   ],
   "source": [
    "# Train the model for 10 epochs\n",
    "model.fit(x_train, y_train, batch_size=100, epochs=10, validation_data=(x_test, y_test))"
   ]
  }
 ],
 "metadata": {
  "kernelspec": {
   "display_name": "environment",
   "language": "python",
   "name": "python3"
  },
  "language_info": {
   "codemirror_mode": {
    "name": "ipython",
    "version": 3
   },
   "file_extension": ".py",
   "mimetype": "text/x-python",
   "name": "python",
   "nbconvert_exporter": "python",
   "pygments_lexer": "ipython3",
   "version": "3.11.7"
  }
 },
 "nbformat": 4,
 "nbformat_minor": 2
}
