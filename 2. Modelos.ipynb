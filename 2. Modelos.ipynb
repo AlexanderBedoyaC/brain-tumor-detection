{
 "cells": [
  {
   "cell_type": "code",
   "execution_count": 107,
   "metadata": {},
   "outputs": [],
   "source": [
    "import numpy as np\n",
    "import joblib ### para cargar array\n",
    "\n",
    "########Paquetes para NN #########\n",
    "import tensorflow as tf\n",
    "from sklearn import metrics ### para analizar modelo\n",
    "from sklearn.ensemble import RandomForestClassifier, GradientBoostingClassifier  ### para analizar modelo\n",
    "import pandas as pd\n",
    "import matplotlib.pyplot as plt\n",
    "\n",
    "from sklearn.svm import SVC\n",
    "\n"
   ]
  },
  {
   "cell_type": "code",
   "execution_count": 2,
   "metadata": {},
   "outputs": [],
   "source": [
    "x_train = joblib.load('salidas\\\\x_train.pkl')\n",
    "y_train = joblib.load('salidas\\\\y_train.pkl')\n",
    "x_test = joblib.load('salidas\\\\x_test.pkl')\n",
    "y_test = joblib.load('salidas\\\\y_test.pkl')\n"
   ]
  },
  {
   "cell_type": "markdown",
   "metadata": {},
   "source": [
    "Modelo Random "
   ]
  },
  {
   "cell_type": "code",
   "execution_count": 3,
   "metadata": {},
   "outputs": [
    {
     "data": {
      "text/plain": [
       "(1737, 100, 100, 3)"
      ]
     },
     "execution_count": 3,
     "metadata": {},
     "output_type": "execute_result"
    }
   ],
   "source": [
    "x_test.shape"
   ]
  },
  {
   "cell_type": "code",
   "execution_count": 4,
   "metadata": {},
   "outputs": [
    {
     "data": {
      "text/plain": [
       "(1737, 30000)"
      ]
     },
     "execution_count": 4,
     "metadata": {},
     "output_type": "execute_result"
    }
   ],
   "source": [
    "x_train2=x_train.reshape(6953,30000)\n",
    "x_test2=x_test.reshape(1737, 30000)\n",
    "x_train2.shape\n",
    "x_test2.shape"
   ]
  },
  {
   "cell_type": "code",
   "execution_count": 5,
   "metadata": {},
   "outputs": [
    {
     "name": "stderr",
     "output_type": "stream",
     "text": [
      "c:\\Analitica 3\\brain-tumor-detection\\environment\\Lib\\site-packages\\sklearn\\base.py:1474: DataConversionWarning: A column-vector y was passed when a 1d array was expected. Please change the shape of y to (n_samples,), for example using ravel().\n",
      "  return fit_method(estimator, *args, **kwargs)\n"
     ]
    },
    {
     "name": "stdout",
     "output_type": "stream",
     "text": [
      "              precision    recall  f1-score   support\n",
      "\n",
      "           0       1.00      1.00      1.00      2864\n",
      "           1       1.00      1.00      1.00      4089\n",
      "\n",
      "    accuracy                           1.00      6953\n",
      "   macro avg       1.00      1.00      1.00      6953\n",
      "weighted avg       1.00      1.00      1.00      6953\n",
      "\n",
      "              precision    recall  f1-score   support\n",
      "\n",
      "           0       0.98      0.99      0.98       716\n",
      "           1       0.99      0.98      0.99      1021\n",
      "\n",
      "    accuracy                           0.99      1737\n",
      "   macro avg       0.98      0.99      0.98      1737\n",
      "weighted avg       0.99      0.99      0.99      1737\n",
      "\n"
     ]
    },
    {
     "data": {
      "text/plain": [
       "0.9851813043406891"
      ]
     },
     "execution_count": 5,
     "metadata": {},
     "output_type": "execute_result"
    }
   ],
   "source": [
    "rf=RandomForestClassifier()\n",
    "rf.fit(x_train2, y_train)\n",
    "\n",
    "pred_train=rf.predict(x_train2)\n",
    "print(metrics.classification_report(y_train, pred_train))\n",
    "metrics.roc_auc_score(y_train, pred_train)\n",
    "\n",
    "pred_test=rf.predict(x_test2)\n",
    "print(metrics.classification_report(y_test, pred_test))\n",
    "metrics.roc_auc_score(y_test, pred_test)"
   ]
  },
  {
   "cell_type": "markdown",
   "metadata": {},
   "source": [
    "## modelo Red neuronal"
   ]
  },
  {
   "cell_type": "code",
   "execution_count": 7,
   "metadata": {},
   "outputs": [
    {
     "name": "stderr",
     "output_type": "stream",
     "text": [
      "c:\\Analitica 3\\brain-tumor-detection\\environment\\Lib\\site-packages\\keras\\src\\layers\\reshaping\\flatten.py:37: UserWarning: Do not pass an `input_shape`/`input_dim` argument to a layer. When using Sequential models, prefer using an `Input(shape)` object as the first layer in the model instead.\n",
      "  super().__init__(**kwargs)\n"
     ]
    }
   ],
   "source": [
    "fc_model=tf.keras.models.Sequential([\n",
    "    tf.keras.layers.Flatten(input_shape=x_train.shape[1:]),\n",
    "    tf.keras.layers.Dense(128, activation='relu'),\n",
    "    tf.keras.layers.Dense(64, activation='relu'),\n",
    "    tf.keras.layers.Dense(1, activation='sigmoid')\n",
    "])"
   ]
  },
  {
   "cell_type": "code",
   "execution_count": 8,
   "metadata": {},
   "outputs": [],
   "source": [
    "##### configura el optimizador y la función para optimizar ##############\n",
    "fc_model.compile(optimizer='adam', loss='binary_crossentropy', metrics=['accuracy','AUC', 'Recall', 'Precision'])\n"
   ]
  },
  {
   "cell_type": "code",
   "execution_count": 9,
   "metadata": {},
   "outputs": [
    {
     "name": "stdout",
     "output_type": "stream",
     "text": [
      "Epoch 1/10\n",
      "\u001b[1m70/70\u001b[0m \u001b[32m━━━━━━━━━━━━━━━━━━━━\u001b[0m\u001b[37m\u001b[0m \u001b[1m12s\u001b[0m 111ms/step - AUC: 0.6366 - Precision: 0.6966 - Recall: 0.6471 - accuracy: 0.6251 - loss: 1.4584 - val_AUC: 0.9526 - val_Precision: 0.9488 - val_Recall: 0.9079 - val_accuracy: 0.9171 - val_loss: 0.2895\n",
      "Epoch 2/10\n",
      "\u001b[1m70/70\u001b[0m \u001b[32m━━━━━━━━━━━━━━━━━━━━\u001b[0m\u001b[37m\u001b[0m \u001b[1m5s\u001b[0m 72ms/step - AUC: 0.9517 - Precision: 0.9174 - Recall: 0.9268 - accuracy: 0.9076 - loss: 0.2852 - val_AUC: 0.9661 - val_Precision: 0.9483 - val_Recall: 0.9530 - val_accuracy: 0.9419 - val_loss: 0.2155\n",
      "Epoch 3/10\n",
      "\u001b[1m70/70\u001b[0m \u001b[32m━━━━━━━━━━━━━━━━━━━━\u001b[0m\u001b[37m\u001b[0m \u001b[1m5s\u001b[0m 67ms/step - AUC: 0.9776 - Precision: 0.9529 - Recall: 0.9609 - accuracy: 0.9490 - loss: 0.1920 - val_AUC: 0.9823 - val_Precision: 0.9680 - val_Recall: 0.9491 - val_accuracy: 0.9516 - val_loss: 0.1711\n",
      "Epoch 4/10\n",
      "\u001b[1m70/70\u001b[0m \u001b[32m━━━━━━━━━━━━━━━━━━━━\u001b[0m\u001b[37m\u001b[0m \u001b[1m5s\u001b[0m 68ms/step - AUC: 0.9823 - Precision: 0.9591 - Recall: 0.9608 - accuracy: 0.9527 - loss: 0.1670 - val_AUC: 0.9828 - val_Precision: 0.9553 - val_Recall: 0.9638 - val_accuracy: 0.9522 - val_loss: 0.1617\n",
      "Epoch 5/10\n",
      "\u001b[1m70/70\u001b[0m \u001b[32m━━━━━━━━━━━━━━━━━━━━\u001b[0m\u001b[37m\u001b[0m \u001b[1m5s\u001b[0m 69ms/step - AUC: 0.9896 - Precision: 0.9683 - Recall: 0.9695 - accuracy: 0.9630 - loss: 0.1198 - val_AUC: 0.9884 - val_Precision: 0.9744 - val_Recall: 0.9677 - val_accuracy: 0.9660 - val_loss: 0.1274\n",
      "Epoch 6/10\n",
      "\u001b[1m70/70\u001b[0m \u001b[32m━━━━━━━━━━━━━━━━━━━━\u001b[0m\u001b[37m\u001b[0m \u001b[1m5s\u001b[0m 66ms/step - AUC: 0.9917 - Precision: 0.9784 - Recall: 0.9777 - accuracy: 0.9739 - loss: 0.1014 - val_AUC: 0.9840 - val_Precision: 0.8881 - val_Recall: 0.9951 - val_accuracy: 0.9234 - val_loss: 0.2480\n",
      "Epoch 7/10\n",
      "\u001b[1m70/70\u001b[0m \u001b[32m━━━━━━━━━━━━━━━━━━━━\u001b[0m\u001b[37m\u001b[0m \u001b[1m6s\u001b[0m 83ms/step - AUC: 0.9931 - Precision: 0.9735 - Recall: 0.9738 - accuracy: 0.9689 - loss: 0.0984 - val_AUC: 0.9893 - val_Precision: 0.9792 - val_Recall: 0.9687 - val_accuracy: 0.9695 - val_loss: 0.1194\n",
      "Epoch 8/10\n",
      "\u001b[1m70/70\u001b[0m \u001b[32m━━━━━━━━━━━━━━━━━━━━\u001b[0m\u001b[37m\u001b[0m \u001b[1m5s\u001b[0m 64ms/step - AUC: 0.9965 - Precision: 0.9860 - Recall: 0.9804 - accuracy: 0.9803 - loss: 0.0670 - val_AUC: 0.9909 - val_Precision: 0.9775 - val_Recall: 0.9804 - val_accuracy: 0.9752 - val_loss: 0.1086\n",
      "Epoch 9/10\n",
      "\u001b[1m70/70\u001b[0m \u001b[32m━━━━━━━━━━━━━━━━━━━━\u001b[0m\u001b[37m\u001b[0m \u001b[1m5s\u001b[0m 64ms/step - AUC: 0.9980 - Precision: 0.9885 - Recall: 0.9869 - accuracy: 0.9855 - loss: 0.0505 - val_AUC: 0.9837 - val_Precision: 0.8904 - val_Recall: 0.9941 - val_accuracy: 0.9246 - val_loss: 0.2760\n",
      "Epoch 10/10\n",
      "\u001b[1m70/70\u001b[0m \u001b[32m━━━━━━━━━━━━━━━━━━━━\u001b[0m\u001b[37m\u001b[0m \u001b[1m5s\u001b[0m 64ms/step - AUC: 0.9952 - Precision: 0.9729 - Recall: 0.9731 - accuracy: 0.9685 - loss: 0.0823 - val_AUC: 0.9915 - val_Precision: 0.9794 - val_Recall: 0.9785 - val_accuracy: 0.9752 - val_loss: 0.1095\n"
     ]
    },
    {
     "data": {
      "text/plain": [
       "<keras.src.callbacks.history.History at 0x1cf7a156690>"
      ]
     },
     "execution_count": 9,
     "metadata": {},
     "output_type": "execute_result"
    }
   ],
   "source": [
    "#####Entrenar el modelo usando el optimizador y arquitectura definidas #########\n",
    "fc_model.fit(x_train, y_train, batch_size=100, epochs=10, validation_data=(x_test, y_test))\n"
   ]
  },
  {
   "cell_type": "code",
   "execution_count": 10,
   "metadata": {},
   "outputs": [
    {
     "name": "stdout",
     "output_type": "stream",
     "text": [
      "55/55 - 0s - 6ms/step - AUC: 0.9915 - Precision: 0.9794 - Recall: 0.9785 - accuracy: 0.9752 - loss: 0.1095\n",
      "Test auc: 0.9915141463279724\n"
     ]
    }
   ],
   "source": [
    "#########Evaluar el modelo ####################\n",
    "test_loss, test_acc, test_auc, test_recall, test_precision = fc_model.evaluate(x_test, y_test, verbose=2)\n",
    "print(\"Test auc:\", test_auc)"
   ]
  },
  {
   "cell_type": "code",
   "execution_count": 125,
   "metadata": {},
   "outputs": [
    {
     "name": "stdout",
     "output_type": "stream",
     "text": [
      "\u001b[1m55/55\u001b[0m \u001b[32m━━━━━━━━━━━━━━━━━━━━\u001b[0m\u001b[37m\u001b[0m \u001b[1m0s\u001b[0m 6ms/step\n",
      "              precision    recall  f1-score   support\n",
      "\n",
      "           0       0.92      0.98      0.95       716\n",
      "           1       0.98      0.94      0.96      1021\n",
      "\n",
      "    accuracy                           0.96      1737\n",
      "   macro avg       0.95      0.96      0.95      1737\n",
      "weighted avg       0.96      0.96      0.96      1737\n",
      "\n"
     ]
    },
    {
     "data": {
      "image/png": "[encoded data removed]",
      "text/plain": [
       "<Figure size 640x480 with 2 Axes>"
      ]
     },
     "metadata": {},
     "output_type": "display_data"
    }
   ],
   "source": [
    "###### matriz de confusión test\n",
    "pred_test=(fc_model.predict(x_test) > 0.80).astype('int')\n",
    "cm=metrics.confusion_matrix(y_test,pred_test, labels=[1,0])\n",
    "disp=metrics.ConfusionMatrixDisplay(cm,display_labels=['tumor', 'No_tumor'])\n",
    "disp.plot()\n",
    "\n",
    "print(metrics.classification_report(y_test, pred_test))\n"
   ]
  },
  {
   "cell_type": "code",
   "execution_count": 122,
   "metadata": {},
   "outputs": [
    {
     "name": "stdout",
     "output_type": "stream",
     "text": [
      "\u001b[1m55/55\u001b[0m \u001b[32m━━━━━━━━━━━━━━━━━━━━\u001b[0m\u001b[37m\u001b[0m \u001b[1m0s\u001b[0m 6ms/step\n"
     ]
    },
    {
     "data": {
      "application/vnd.plotly.v1+json": {
       "config": {
        "plotlyServerURL": "https://plot.ly"
       },
       "data": [
        {
         "alignmentgroup": "True",
         "bingroup": "x",
         "hovertemplate": "variable=0<br>value=%{x}<br>count=%{y}<extra></extra>",
         "legendgroup": "0",
         "marker": {
          "color": "#636efa",
          "pattern": {
           "shape": ""
          }
         },
         "name": "0",
         "offsetgroup": "0",
         "orientation": "v",
         "showlegend": true,
         "type": "histogram",
         "x": [
          0.00012605365191120654,
          0.006688645109534264,
          0.0029311992693692446,
          0.0003457222192082554,
          0.005498793907463551,
          0.022125018760561943,
          0.03087165579199791,
          0.003914556000381708,
          0.0019525805255398154,
          0.006688645109534264,
          0.015972165390849113,
          0.0062947263941168785,
          0.003524037776514888,
          0.004325119312852621,
          0.004122039768844843,
          0.005313614383339882,
          0.0017844102112576365,
          0.00012979334860574454,
          0.000018327487850910984,
          0.00044515644549392164,
          0.010326535440981388,
          0.00005873867485206574,
          0.00042505370220169425,
          0.00004025268572149798,
          0.007757841609418392,
          0.026793228462338448,
          0.004040991421788931,
          0.006627251394093037,
          0.026494992896914482,
          0.03151686489582062,
          0.08065410703420639,
          0.007402978837490082,
          0.0014922822592779994,
          0.04050150141119957,
          0.03226400539278984,
          0.003513621399179101,
          0.0034806393086910248,
          0.0010514510795474052,
          0.004325002431869507,
          0.053602516651153564,
          0.016513261944055557,
          0.003959548193961382,
          0.0038434492889791727,
          0.00016653524653520435,
          0.00012062836322002113,
          0.00007500427454942837,
          0.010628396645188332,
          0.00030850389157421887,
          0.0031151403672993183,
          0.00009144952491624281,
          0.0000584631779929623,
          0.0007805709028616548,
          0.023351548239588737,
          0.0020502577535808086,
          0.0011558511760085821,
          0.00002375625081185717,
          0.004029602278023958,
          0.00009494223195360973,
          0.00023003402748145163,
          0.01046307198703289,
          0.02678259089589119,
          0.003423684509471059,
          0.00007899592310423031,
          0.0013156415661796927,
          0.00003688252036226913,
          0.0011027418076992035,
          0.0016768431523814797,
          0.08524736762046814,
          0.00015220927889458835,
          1.936398064117384e-7,
          0.008125830441713333,
          0.009445350617170334,
          0.0001669782359385863,
          0.0006787487654946744,
          0.027683159336447716,
          0.0011344223748892546,
          0.005953625310212374,
          0.008199193514883518,
          0.005831927061080933,
          0.000027495201720739715,
          0.008502128534018993,
          0.0003072362160310149,
          0.005743332207202911,
          0.0018347541335970163,
          0.000059467707615112886,
          0.00005309522748575546,
          0.0040078847669065,
          0.0606379434466362,
          0.023461539298295975,
          0.0033079655840992928,
          0.002410217421129346,
          0.0034260819666087627,
          0.0025246813893318176,
          0.028745779767632484,
          0.005675413645803928,
          0.23425990343093872,
          0.00013536281767301261,
          0.0030314819887280464,
          0.0041634379886090755,
          0.00011326418461976573,
          0.1346927285194397,
          0.000012477729796955828,
          0.002550187287852168,
          0.00011862679093610495,
          0.00003097697117482312,
          0.00006311065226327628,
          0.00028324799495749176,
          0.000011272361007286236,
          0.044495124369859695,
          0.00004525484109763056,
          0.00021162285702303052,
          0.01581488735973835,
          0.0033730098512023687,
          0.00001180906929221237,
          0.0004950242000631988,
          7.449862096109428e-7,
          2.334762001510171e-7,
          0.0007127210847102106,
          0.00006518735608551651,
          0.00007181498222053051,
          0.0021224035881459713,
          0.08537537604570389,
          0.0001263074082089588,
          0.00008485982834827155,
          0.00046020609443075955,
          0.00018651668506208807,
          0.0005729832919314504,
          0.0004266049654688686,
          0.00009411555947735906,
          0.008933435194194317,
          0.0009802464628592134,
          0.00528272520750761,
          0.00013749339268542826,
          0.0003832570801023394,
          0.0011771965073421597,
          0.0019745042081922293,
          0.000617091020103544,
          0.00016433348355349153,
          0.011907720938324928,
          0.002412759233266115,
          0.022536803036928177,
          0.018615953624248505,
          0.007706090807914734,
          0.003106591524556279,
          0.002443779958412051,
          0.02256166748702526,
          0.9999998211860657,
          0.004462569020688534,
          0.0021043759770691395,
          2.1765362134829047e-7,
          0.000042283245420549065,
          0.0011363988742232323,
          0.02134922333061695,
          0.000010844881217053626,
          0.0004275074752513319,
          0.00011085308506153524,
          0.000027283527742838487,
          0.0005920425755903125,
          0.000024148417651304044,
          0.000008335682650795206,
          0.0007485332316718996,
          0.014056084677577019,
          0.0019398570293560624,
          0.0006538283778354526,
          0.0031642743851989508,
          0.0006927569047547877,
          0.0000070385563049057964,
          0.010119893588125706,
          0.00017748908430803567,
          0.0046841916628181934,
          0.00282301171682775,
          0.000519747321959585,
          0.001961130416020751,
          0.00007720321445958689,
          0.0009213049779646099,
          0.005665144417434931,
          0.028747744858264923,
          0.00019158105715177953,
          0.0005472908960655332,
          0.0028072111308574677,
          0.004519264679402113,
          0.008688798174262047,
          0.027759667485952377,
          0.006659082602709532,
          0.000051138809794792905,
          0.000999581185169518,
          0.0029382528737187386,
          0.0038765529170632362,
          0.017263498157262802,
          0.03087165579199791,
          0.00030783991678617895,
          0.0019525823881849647,
          0.026083432137966156,
          0.0004063654050696641,
          0.001975166844204068,
          0.000111322347947862,
          0.004092675168067217,
          0.005476266145706177,
          0.002325488952919841,
          0.0003625614335760474,
          0.015542538836598396,
          0.002873686607927084,
          0.000962555524893105,
          0.00021761639800388366,
          0.006825014483183622,
          0.000019931891074520536,
          0.005330405663698912,
          0.017679406329989433,
          0.006235143169760704,
          0.0004931793664582074,
          0.00048639613669365644,
          0.004121360369026661,
          0.0009595302399247885,
          0.0019404080230742693,
          0.0023982145357877016,
          0.22293460369110107,
          0.00976455770432949,
          0.0012003895826637745,
          0.003614513436332345,
          0.012279728427529335,
          0.004764221608638763,
          0.00011031675239792094,
          0.013208935037255287,
          0.0016126680420711637,
          0.0528002567589283,
          0.003181610954925418,
          0.01465135533362627,
          0.005281552206724882,
          0.023565445095300674,
          0.000979011063463986,
          0.0049518258310854435,
          0.002661388833075762,
          0.00018158201419282705,
          0.000002600979087219457,
          0.00001682656875345856,
          0.000002780985141725978,
          0.00008126987086143345,
          0.000155428730067797,
          0.0000760124676162377,
          0.00013245875015854836,
          0.000767529767472297,
          1.1516200970618229e-7,
          0.000027739477445720695,
          0.001695033977739513,
          0.0008507103193551302,
          0.006439889781177044,
          0.0005975679378025234,
          0.0002709006075747311,
          0.00007009419641690329,
          0.00007335550617426634,
          0.000004198030183033552,
          0.00281246448867023,
          0.0000031953536563378293,
          0.00003529695823090151,
          0.00008818192145554349,
          0.00038672113441862166,
          0.03350299224257469,
          0.002483242889866233,
          0.00783050898462534,
          0.002100516576319933,
          0.0000067013643274549395,
          0.3424432873725891,
          0.039676979184150696,
          0.00021843751892447472,
          0.0010363319888710976,
          0.017618875950574875,
          0.0023425950203090906,
          0.00010781263699755073,
          0.0006496323621831834,
          0.011811679229140282,
          0.018792176619172096,
          0.001342944335192442,
          0.009082705713808537,
          0.02144390344619751,
          0.0001190098628285341,
          0.026766428723931313,
          0.003138967789709568,
          0.04519462212920189,
          0.00528859905898571,
          0.22688813507556915,
          0.005065674893558025,
          0.001393084996379912,
          0.06386272609233856,
          0.0002855707425624132,
          0.0016411225078627467,
          0.00016659194079693407,
          0.0026073227636516094,
          0.001227545435540378,
          0.0012191933346912265,
          0.00007332095265155658,
          0.00047728593926876783,
          0.000148272723890841,
          0.0013030172558501363,
          0.0008038269588723779,
          0.0027756933122873306,
          0.010039555840194225,
          0.0027970755472779274,
          0.00505756726488471,
          0.00013672882050741464,
          0.00010569742153165862,
          0.00006721679528709501,
          0.0005500295665115118,
          0.00004528087447397411,
          0.0002590900694485754,
          0.00001283597794099478,
          0.0008713618735782802,
          0.00003429607750149444,
          0.001803384511731565,
          0.00987008772790432,
          0.0007999234949238598,
          0.000021780946553917602,
          0.00011140772403450683,
          0.008409461006522179,
          0.0006061987951397896,
          0.0026124354917556047,
          0.00016415589198004454,
          0.03699778392910957,
          0.024454522877931595,
          0.06886151432991028,
          0.22293469309806824,
          0.05267825350165367,
          0.019029861316084862,
          0.60033118724823,
          0.05702003091573715,
          0.023152511566877365,
          0.36675360798835754,
          0.08957093954086304,
          0.03813350945711136,
          0.0015993964625522494,
          0.000111322347947862,
          0.006729427259415388,
          0.03589656576514244,
          0.017895154654979706,
          0.000111322347947862,
          0.020486246794462204,
          0.29582464694976807,
          0.013386676087975502,
          0.015840914100408554,
          0.010559085756540298,
          0.005351983942091465,
          0.03151686489582062,
          0.02213842235505581,
          0.0013230238109827042,
          0.00024157114967238158,
          0.004539144691079855,
          0.00030850389157421887,
          0.0000584631779929623,
          0.000004399543286126573,
          0.002568410476669669,
          0.00004219173570163548,
          0.00006159830081742257,
          0.00014498094969894737,
          0.00006796855450375006,
          0.00008249292295658961,
          0.0001669782359385863,
          0.0008329611737281084,
          0.000027495201720739715,
          0.022285373881459236,
          0.00019503226212691516,
          0.00002135755494236946,
          0.0606379434466362,
          0.004180397372692823,
          0.0033079655840992928,
          0.0016140291700139642,
          0.2342599481344223,
          0.000052774827054236084,
          0.0032806680537760258,
          0.0052736797370016575,
          0.000052334846259327605,
          0.0002974361996166408,
          0.0005722180940210819,
          0.00003097697117482312,
          0.00001180906929221237,
          0.00018904895114246756,
          0.000056468685215804726,
          0.08537537604570389,
          0.000009284114639740437,
          0.00006967341323615983,
          0.0020755857694894075,
          0.027461793273687363,
          0.00019029443501494825,
          0.00298484624363482,
          0.022561635822057724,
          0.008749906904995441,
          0.0010033710859715939,
          0.002111911540850997,
          0.015357984229922295,
          0.00528859905898571,
          0.005091085098683834,
          0.005543294362723827,
          0.024171952158212662,
          0.008065584115684032,
          0.051735080778598785,
          0.002607321599498391,
          0.03158676251769066,
          0.00011140772403450683,
          0.000015046171938593034,
          0.36563462018966675,
          0.6975620985031128,
          0.0017844507237896323,
          0.17138256132602692,
          0.12117826193571091,
          0.021889984607696533,
          0.004764221608638763,
          0.004121360369026661,
          0.00694732740521431,
          0.0013021886115893722,
          0.0015993964625522494,
          0.059251390397548676,
          0.013346127234399319,
          0.025480277836322784,
          0.00292956386692822,
          0.9633384346961975,
          0.9689280390739441,
          0.8753095269203186,
          1,
          0.005357842892408371,
          0.5058373212814331,
          0.001018856535665691,
          0.9668463468551636,
          0.0008290561963804066,
          0.012292985804378986,
          0.000011419730981288012,
          0.004824229050427675,
          0.8492082357406616,
          0.030842797830700874,
          0.002953875344246626,
          0.002431095577776432,
          0.00014004141849000007,
          0.0016525796381756663,
          0.012279728427529335,
          0.03497130423784256,
          0.004533143248409033,
          0.004140067845582962,
          0.006521726492792368,
          0.2417774349451065,
          0.09673263877630234,
          0.19490261375904083,
          0.8133684992790222,
          0.00033406613511033356,
          0.002431095577776432,
          0.7884650230407715,
          0.16047720611095428,
          0.022635331377387047,
          0.08678538352251053,
          0.03364302217960358,
          0.03887191787362099,
          0.9686722159385681,
          0.6609714031219482,
          0.0002815786574501544,
          0.019412308931350708,
          0.003592014778405428,
          0.005349958315491676,
          0.0069919065572321415,
          0.011154992505908012,
          0.00012969982344657183,
          0.9997464418411255,
          0.9988216161727905,
          0.8567990660667419,
          0.2899191081523895,
          0.024454522877931595,
          0.03901771828532219,
          0.15649659931659698,
          0.005921962205320597,
          0.9797359108924866,
          0.020486246794462204,
          0.09587541967630386,
          0.04792741313576698,
          0.000011419730981288012,
          0.009977285750210285,
          0.0015993964625522494,
          0.9683517813682556,
          0.8837143182754517,
          0.9280837178230286,
          0.000018327487850910984,
          0.00010410794493509457,
          0.00042505370220169425,
          0.002403699094429612,
          0.001927121658809483,
          0.03443663939833641,
          0.08065414428710938,
          0.0012832737993448973,
          0.003573911963030696,
          0.04050150141119957,
          0.0012985826469957829,
          0.0421740785241127,
          0.0004323927278164774,
          0.019396474584937096,
          0.004956863820552826,
          0.00018470406939741224,
          0.002492413856089115,
          0.005609765183180571,
          0.003496290650218725,
          0.001058151014149189,
          0.0002841519599314779,
          0.00000785395059210714,
          0.01046307198703289,
          0.0000019820304260065313,
          0.0019385602790862322,
          0.0026514981873333454,
          0.00009409160702489316,
          0.002357138553634286,
          0.0011344223748892546,
          0.01740046963095665,
          0.024760207161307335,
          0.0001228097826242447,
          0.00205996073782444,
          0.029552537947893143,
          0.00005309522748575546,
          0.0017862480599433184,
          0.00707941735163331,
          0.006047166883945465,
          0.0057785892859101295,
          0.00003390717029105872,
          0.0034260819666087627,
          0.005404682829976082,
          0.1346927285194397,
          0.01089607086032629,
          0.08239754289388657,
          0.00010526722326176241,
          0.00031427465728484094,
          0.0011859969235956669,
          0.0000842997687868774,
          0.00008072618948062882,
          0.00028324799495749176,
          0.00037904022610746324,
          0.00019695915398187935,
          0.0021224035881459713,
          0.0024205888621509075,
          0.0000735624271328561,
          0.000029195123715908267,
          0.0002990706416312605,
          0.011500774882733822,
          0.00013749339268542826,
          0.0011771965073421597,
          0.0030735561158508062,
          0.034908097237348557,
          0.06495361030101776,
          0.0021770617458969355,
          0.016378415748476982,
          0.0006487636128440499,
          0.011766270734369755,
          0.0031065901275724173,
          0.0024437764659523964,
          0.00765162194147706,
          0.009808696806430817,
          0.00023503518605139107,
          0.00192443176638335,
          0.05093168839812279,
          0.00026306495419703424,
          0.004462569020688534,
          0.00006322968692984432,
          0.001330982195213437,
          0.000017552436474943534,
          0.00011471362813608721,
          0.000042283245420549065,
          0.00006640930223511532,
          0.0030701085925102234,
          0.0033168664667755365,
          0.009764548391103745,
          0.03578783944249153,
          0.000018376125808572397,
          0.00001857383904280141,
          0.000497093831654638,
          0.000027283527742838487,
          0.0017327505629509687,
          0.0005920425755903125,
          0.000024148394004441798,
          0.014321877621114254,
          0.0019398570293560624,
          0.006891758646816015,
          0.000004496711881074589,
          0.0008483550045639277,
          0.0020893507171422243,
          0.000002704599864955526,
          0.0002197567227995023,
          0.00003803732033702545,
          0.010119893588125706,
          0.0001013461805996485,
          0.004185736645013094,
          0.000029581824492197484,
          0.0019080698257312179,
          0.028747744858264923,
          0.00019158105715177953,
          0.0012539613526314497,
          0.005645853467285633,
          0.000051138809794792905,
          0.013848179951310158,
          0.004162479192018509,
          0.00030783904367126524,
          0.0019276655511930585,
          0.0019525805255398154,
          0.021681804209947586,
          0.001975166844204068,
          0.01769646629691124,
          0.002325488952919841,
          0.0003625614335760474,
          0.014675847254693508,
          0.005313614383339882,
          0.0030156306456774473,
          0.01761607825756073,
          0.0017761335475370288,
          0.0018708310090005398,
          0.008770291693508625,
          0.004025906790047884,
          0.008487401530146599,
          0.007069238927215338,
          0.011807695031166077,
          0.01138926763087511,
          0.04260406643152237,
          0.00023170432541519403,
          0.004316580947488546,
          0.0009595302399247885,
          0.0003405578900128603,
          0.00694732740521431,
          0.0023982145357877016,
          0.025480277836322784,
          0.0015993964625522494,
          0.0007108441786840558,
          0.22293460369110107,
          0.010818258859217167,
          0.022125018760561943,
          0.00014004141849000007,
          0.002053407486528158,
          0.00017297716112807393,
          0.007952576503157616,
          0.0016126672271639109,
          0.008202183991670609,
          0.026564830914139748,
          0.003914556000381708,
          0.027897365391254425,
          0.0424015037715435,
          0.013241724111139774,
          0.01847016252577305,
          0.08957093954086304,
          0.00008720070763956755,
          0.006166043225675821,
          0.056497227400541306,
          0.0003438892599660903,
          0.00001029702525556786,
          0.003901210380718112,
          0.00007756429113214836,
          0.00005365450488170609,
          0.00000708176230546087,
          0.0006934282719157636,
          0.0008761356584727764,
          0.005353098269551992,
          0.0002778703346848488,
          0.011114233173429966,
          0.003574519883841276,
          0.000560361600946635,
          0.000005844576662639156,
          0.000155428730067797,
          0.0003808320325333625,
          0.000041605431761126965,
          0.0009662617230787873,
          0.0036940337158739567,
          0.0001493774907430634,
          0.00011091768101323396,
          0.00026329857064411044,
          1.1516200970618229e-7,
          0.002160449279472232,
          0.0008507103193551302,
          0.0032998505048453808,
          0.00035176880192011595,
          0.00010731937072705477,
          0.0007809250382706523,
          0.00003373236540937796,
          0.0008039878448471427,
          0.000030237604732974432,
          0.005486403591930866,
          0.000002024708919634577,
          0.00022737654217053205,
          0.0010457418393343687,
          0.000036051158531336114,
          0.0003972596605308354,
          0.0003867220366373658,
          0.004684400279074907,
          0.000039657417801208794,
          0.00565328961238265,
          0.0076315999031066895,
          0.004206631798297167,
          0.00950915552675724,
          0.007575936149805784,
          0.0032312830444425344,
          0.000010911284334724769,
          0.05494963005185127,
          0.01820259913802147,
          0.002512909471988678,
          0.0012126525398343801,
          0.0024147480726242065,
          0.0017689736559987068,
          0.00248127244412899,
          0.005956219509243965,
          0.008495178073644638,
          0.0012275447370484471,
          0.00008174242975655943,
          0.010084721259772778,
          0.0004914365126751363,
          0.00978275015950203,
          0.01062505692243576,
          0.0027970755472779274,
          0.004090949892997742,
          0.00009601357305655256,
          0.00007953069143695757,
          0.00008708752284292132,
          0.13168321549892426,
          0.006907124537974596,
          0.007782340049743652,
          0.00009090004459721968,
          0.03554300591349602,
          0.00009483871690463275,
          0.008409461006522179,
          0.024579642340540886,
          0.0026124354917556047,
          0.000518811633810401,
          0.9950082898139954,
          0.997556746006012,
          0.9990692138671875,
          0.9910345673561096,
          0.9856511354446411,
          0.9893767833709717,
          0.9987773299217224,
          0.9999094009399414,
          0.9999184012413025,
          0.9368006587028503,
          0.9693761467933655,
          0.9998545050621033,
          0.9984089136123657,
          0.8975544571876526,
          0.9527079463005066,
          0.9995723366737366,
          0.9642959237098694,
          0.9349859952926636,
          0.9982010722160339,
          0.9242563843727112,
          0.9999721050262451,
          0.9998897314071655,
          0.9604091048240662,
          0.9991440773010254,
          0.9970817565917969,
          0.9999980926513672,
          0.9870576858520508,
          0.9471077919006348,
          0.999667227268219,
          0.9843053817749023,
          0.9997662305831909,
          0.9825659394264221,
          0.9999921321868896,
          0.9979665875434875,
          0.99299156665802,
          0.9970073103904724,
          0.9514936208724976,
          0.9772422909736633,
          0.9993324875831604,
          0.9971736073493958,
          0.9998931288719177,
          0.9998347163200378,
          0.9943591356277466,
          0.9988766312599182,
          0.9999997019767761,
          0.9994583129882812,
          0.9990910887718201,
          0.9971919059753418,
          0.9666632413864136,
          0.9967130422592163,
          0.9992157220840454,
          0.1730351597070694,
          0.9982673525810242,
          0.9871801733970642,
          0.972707986831665,
          0.9998025298118591,
          0.9850258827209473,
          0.9531891942024231,
          0.9351945519447327,
          0.6579245328903198,
          0.7807364463806152,
          1,
          1,
          0.9653339982032776,
          0.999981164932251,
          0.8004038333892822,
          0.9658266305923462,
          0.9999988675117493,
          0.9994515180587769,
          0.9876381754875183,
          0.9907904267311096,
          0.9613217115402222,
          0.972630500793457,
          0.9989746809005737,
          0.8703473210334778,
          0.00023441191297024488,
          0.9995743632316589,
          0.9952942728996277,
          0.9902676939964294,
          0.999840259552002,
          0.9997818470001221,
          0.998369574546814,
          0.998211145401001,
          0.999898374080658,
          0.8252716064453125,
          0.9999563694000244,
          0.99994957447052,
          0.956554651260376,
          0.9999796152114868,
          0.9999566078186035,
          0.9999615550041199,
          0.9982935786247253,
          0.9999927878379822,
          0.8836280703544617,
          0.9999995827674866,
          0.9649816155433655,
          0.9999434947967529,
          0.9999469518661499,
          0.9999626874923706,
          0.999322772026062,
          0.9972535967826843,
          0.9998098015785217,
          0.998538076877594,
          0.9282280206680298,
          0.9996671676635742,
          0.9999591708183289,
          0.9967997670173645,
          0.9999974966049194,
          0.9997429251670837,
          0.9997205138206482,
          0.9998998641967773,
          0.9944527745246887,
          0.9983117580413818,
          0.999623715877533,
          0.9941125512123108,
          0.9996104836463928,
          0.9997909069061279,
          0.9998456239700317,
          0.9999679923057556,
          0.9995842576026917,
          0.7876964807510376,
          0.9993870854377747,
          0.9962763786315918,
          0.985268771648407,
          0.9982587695121765,
          0.9993637204170227,
          0.9999985098838806,
          0.9455174207687378,
          0.9997790455818176,
          0.8257700204849243,
          0.91069096326828,
          0.986861526966095,
          0.9963351488113403,
          0.9928565621376038,
          0.9889212846755981,
          0.991813063621521,
          0.9840624332427979,
          0.9978592395782471,
          0.9998442530632019,
          0.9990623593330383,
          0.9982771277427673,
          0.9998037815093994,
          0.998512327671051,
          0.9965347051620483,
          0.9996801614761353,
          0.9987597465515137,
          0.9992149472236633,
          0.9993591904640198,
          0.9759427309036255,
          0.9987216591835022,
          0.5152931213378906,
          0.9985104203224182,
          0.9995936155319214,
          0.9745492339134216,
          0.9997634887695312,
          0.9999109506607056,
          0.7682310342788696,
          0.990212082862854,
          0.9990585446357727,
          0.9993152022361755,
          0.999999463558197,
          0.9986674785614014,
          0.9999725818634033,
          0.9724730849266052,
          0.9960989952087402,
          0.9979716539382935,
          0.9990202188491821,
          0.9999670386314392,
          0.8565959334373474,
          0.9861723780632019,
          0.9999463558197021,
          0.998602569103241,
          0.9988729953765869,
          0.9968441724777222,
          0.9984966516494751,
          0.9999169707298279,
          0.9999978542327881,
          0.996626615524292,
          0.9997016191482544,
          0.999067485332489,
          0.999495804309845,
          0.9998665452003479,
          0.9931459426879883,
          0.9995061159133911,
          0.9986088275909424,
          0.9998089671134949,
          0.9990952610969543,
          0.9994848370552063,
          0.9944342374801636,
          0.9996886849403381,
          0.999760091304779,
          0.9999999403953552,
          0.7324634790420532,
          0.9438215494155884,
          0.9984521865844727,
          0.999992311000824,
          0.9972749948501587,
          0.7277621030807495,
          0.9900792837142944,
          0.8644413948059082,
          0.9884155988693237,
          0.9866721034049988,
          0.9564330577850342,
          0.9999568462371826,
          0.999952495098114,
          0.9997446537017822,
          0.9996026754379272,
          0.9984686970710754,
          0.9994708895683289,
          0.8611960411071777,
          0.994025468826294,
          0.996367335319519,
          0.9927061796188354,
          0.9978994727134705,
          0.9265242218971252,
          0.9797796607017517,
          0.8805634379386902,
          0.8607862591743469,
          0.9580813646316528,
          0.9364505410194397,
          0.9997861385345459,
          0.9992191195487976,
          0.9816098213195801,
          0.9814411997795105,
          0.9794476628303528,
          0.9912940859794617,
          0.9753597378730774,
          0.9996404051780701,
          0.9916312098503113,
          0.9565114974975586,
          0.9933628439903259,
          0.9958521127700806,
          0.9999812245368958,
          0.9980090856552124,
          0.9908978343009949,
          0.9864246845245361,
          0.9603463411331177,
          0.8220579624176025,
          0.938883364200592,
          0.9984864592552185,
          0.97135329246521,
          0.9871639609336853,
          0.953098714351654,
          0.8991601467132568,
          0.414259135723114,
          0.40862980484962463,
          0.9997490644454956,
          0.9988903999328613,
          0.9974133372306824,
          0.9475025534629822,
          0.997965395450592,
          0.996229350566864,
          0.9883763194084167,
          0.9765202403068542,
          0.7767255306243896,
          0.7404220104217529,
          0.9812634587287903,
          0.8916935324668884,
          0.9901781678199768,
          0.3136760890483856,
          0.4613122344017029,
          0.9639151096343994,
          0.9938772320747375,
          0.997015655040741,
          0.884080171585083,
          0.8810266852378845,
          0.829634964466095,
          0.9761425256729126,
          0.9846168160438538,
          0.997610330581665,
          0.9988117814064026,
          0.9949243068695068,
          0.7914218306541443,
          0.9998937845230103,
          0.9998975396156311,
          0.9999883770942688,
          0.9966409206390381,
          0.9980542063713074,
          0.9999960064888,
          0.9999898076057434,
          0.9604340195655823,
          0.9963091015815735,
          0.9999607801437378,
          0.999995231628418,
          0.9996176958084106,
          0.9993725419044495,
          0.9954387545585632,
          0.9967114925384521,
          0.9960154891014099,
          0.99000084400177,
          0.7026352882385254,
          0.7374436855316162,
          0.9153602719306946,
          0.9205764532089233,
          0.998045027256012,
          0.9711395502090454,
          0.9968531727790833,
          0.995755672454834,
          0.9960209727287292,
          0.9298734068870544,
          0.5604270696640015,
          0.9900549650192261,
          0.9999557733535767,
          0.9999977350234985,
          0.9913510084152222,
          0.9971782565116882,
          0.9999156594276428,
          0.999592125415802,
          0.9994679689407349,
          0.9995391368865967,
          0.9999944567680359,
          0.9999909996986389,
          0.9999980330467224,
          0.9999993443489075,
          0.9999998807907104,
          0.9999998807907104,
          0.9970596432685852,
          0.9997580051422119,
          0.9819207787513733,
          0.9853360056877136,
          0.6849004030227661,
          0.5560458898544312,
          0.9876891374588013,
          0.9968467950820923,
          0.999925434589386,
          0.48122960329055786,
          0.9912548661231995,
          0.9952023029327393,
          0.9816293120384216,
          0.9998102188110352,
          0.9999892711639404,
          0.9999635815620422,
          0.9953253865242004,
          0.9996416568756104,
          0.9998976588249207,
          0.9153870940208435,
          0.9993075728416443,
          0.9879840612411499,
          0.9995785355567932,
          0.9970093369483948,
          0.9999207258224487,
          0.9069229960441589,
          0.9797808527946472,
          0.9997647404670715,
          0.9998785853385925,
          0.9802017211914062,
          0.9995407462120056,
          0.8373227119445801,
          0.995114266872406,
          0.9999209642410278,
          0.9792464971542358,
          0.8981758952140808,
          0.9999563097953796,
          0.998558521270752,
          0.9991332292556763,
          0.9939366579055786,
          0.9997049570083618,
          0.9999407529830933,
          0.9982170462608337,
          0.9987987875938416,
          0.9737119674682617,
          0.9992061853408813,
          0.875011146068573,
          0.9966972470283508,
          0.9827986359596252,
          0.9937012195587158,
          0.8208487629890442,
          0.9772469401359558,
          0.9998183846473694,
          0.992548406124115,
          0.9846212863922119,
          0.9753642678260803,
          0.9673742651939392,
          0.9501109719276428,
          0.999998927116394,
          0.9913616180419922,
          0.9999107122421265,
          0.9942222237586975,
          0.9999446868896484,
          0.6792749166488647,
          0.997585117816925,
          0.8707600831985474,
          0.9998448491096497,
          0.998839795589447,
          0.5625489950180054,
          0.9977622032165527,
          0.9848557710647583,
          0.9997953176498413,
          0.9989541172981262,
          0.9958425760269165,
          0.9940678477287292,
          0.9975669384002686,
          0.9995108842849731,
          0.9990050792694092,
          0.9988993406295776,
          0.9875304698944092,
          0.9991353154182434,
          0.6908544301986694,
          0.33094099164009094,
          0.9999721646308899,
          0.9997627139091492,
          0.9996837973594666,
          0.9999123215675354,
          0.6701534390449524,
          0.9931405186653137,
          0.9946948289871216,
          0.9945998191833496,
          0.9090021848678589,
          0.998745322227478,
          0.9999831914901733,
          0.9914618134498596,
          0.9708752632141113,
          0.9996616840362549,
          0.9998608231544495,
          0.9999608993530273,
          0.9999225735664368,
          0.9999869465827942,
          0.9991834163665771,
          0.9993215203285217,
          0.9999478459358215,
          0.9999684691429138,
          0.9999743700027466,
          0.9999783039093018,
          0.9999794960021973,
          0.9999680519104004,
          0.9999622702598572,
          0.9987972378730774,
          0.8410804271697998,
          0.9963933825492859,
          0.9920600056648254,
          0.9998295307159424,
          0.9900482892990112,
          0.5825236439704895,
          0.9994311928749084,
          0.9905399084091187,
          0.9582985043525696,
          0.8851048350334167,
          0.8994259238243103,
          0.999197781085968,
          0.9408645033836365,
          0.7155851125717163,
          0.9981169700622559,
          0.9999549984931946,
          0.9996400475502014,
          0.9940105676651001,
          0.99971604347229,
          0.9998751282691956,
          0.9845600128173828,
          0.9999950528144836,
          0.9915837049484253,
          0.9979516267776489,
          0.9990386962890625,
          0.9976711869239807,
          0.999784529209137,
          0.9997610449790955,
          0.9997904896736145,
          0.9993334412574768,
          0.9972996115684509,
          0.9999943375587463,
          0.9999597072601318,
          0.998510479927063,
          0.9911438226699829,
          0.950827956199646,
          0.999977707862854,
          0.9998219013214111,
          0.9909912347793579,
          0.9949439167976379,
          0.9997421503067017,
          0.9989309906959534,
          0.998619794845581,
          0.9981457591056824,
          0.9999975562095642,
          0.9999926090240479,
          0.9941096305847168,
          0.9947168827056885,
          0.9999018907546997,
          0.9400889277458191,
          0.9999911785125732,
          1,
          0.9999945759773254,
          0.9991845488548279,
          0.9997900128364563,
          0.995266318321228,
          0.842128574848175,
          0.7979738116264343,
          0.9336344599723816,
          1,
          0.583676815032959,
          0.6579245328903198,
          0.9793760180473328,
          0.995525062084198,
          0.9974798560142517,
          0.9992267489433289,
          0.9790915846824646,
          0.7988881468772888,
          0.9124748706817627,
          0.9653339982032776,
          0.999981164932251,
          0.3430822193622589,
          0.9927327632904053,
          0.9907904267311096,
          0.7637296915054321,
          0.9999828934669495,
          0.999991774559021,
          0.9715821743011475,
          0.9945539832115173,
          0.8912473320960999,
          0.9245002269744873,
          0.590920090675354,
          0.9591473937034607,
          0.925451934337616,
          0.9952526092529297,
          0.9991714954376221,
          0.986056387424469,
          0.00023441191297024488,
          0.9964566826820374,
          0.9994644522666931,
          0.18015560507774353,
          0.9971200227737427,
          0.998994767665863,
          0.9995489716529846,
          0.9351945519447327,
          0.6065636873245239,
          0.9998689293861389,
          0.9998030066490173,
          1,
          0.9996368288993835,
          0.9998694062232971,
          0.9995732307434082,
          0.9999619722366333,
          0.9955220818519592,
          0.9998600482940674,
          0.9999696612358093,
          0.9998205900192261,
          0.9999537467956543,
          0.9931837320327759,
          0.9978359341621399,
          0.999671459197998,
          0.9999863505363464,
          0.9929983019828796,
          0.9998499751091003,
          0.9971914291381836,
          0.98727947473526,
          0.9994328022003174,
          0.9788435697555542,
          0.9993605017662048,
          1,
          0.9999827742576599,
          0.9999939799308777,
          0.9999592900276184,
          0.9964023232460022,
          0.9931482076644897,
          0.9998065233230591,
          0.9995937943458557,
          0.7073255181312561,
          0.8684759140014648,
          0.023739734664559364,
          0.08865221589803696,
          0.9810517430305481,
          0.9999545812606812,
          0.9986101984977722,
          0.9640054106712341,
          0.9968960285186768,
          0.99905925989151,
          0.9994933605194092,
          0.9997990727424622,
          0.9351189732551575,
          0.9923157095909119,
          0.9991484880447388,
          0.9999985694885254,
          0.9990156292915344,
          0.9987393021583557,
          0.999623715877533,
          0.9993672966957092,
          0.9976730942726135,
          0.9961629509925842,
          0.9999502897262573,
          0.22706469893455505,
          0.5754331946372986,
          0.9932886362075806,
          0.9998916983604431,
          0.9576983451843262,
          0.9999669194221497,
          0.643046498298645,
          0.6327526569366455,
          0.802202582359314,
          0.9995809197425842,
          0.9143427014350891,
          0.7698855400085449,
          0.995081901550293,
          0.9998298287391663,
          0.9872378706932068,
          0.9979666471481323,
          0.9998682141304016,
          0.999299943447113,
          0.975021481513977,
          0.9121079444885254,
          0.9988893270492554,
          0.9964463710784912,
          0.9857409596443176,
          0.9946975111961365,
          0.8442991375923157,
          0.9973602890968323,
          0.9950235486030579,
          0.9999803900718689,
          0.9997297525405884,
          0.997014045715332,
          0.9992340803146362,
          0.9977143406867981,
          0.9999881386756897,
          0.992941677570343,
          0.992865264415741,
          0.9956817626953125,
          0.9982044696807861,
          0.9998856782913208,
          0.9999568462371826,
          0.9983180165290833,
          0.9994475245475769,
          0.9974632263183594,
          0.999776303768158,
          0.9985203742980957,
          0.9999369382858276,
          0.9857710003852844,
          0.9998987913131714,
          0.9999997615814209,
          0.9999997019767761,
          0.9999256730079651,
          0.9999899864196777,
          0.9316436052322388,
          0.9999365210533142,
          0.999980092048645,
          0.9628163576126099,
          0.9999988079071045,
          0.99892657995224,
          0.9968710541725159,
          0.9999523162841797,
          0.9963278770446777,
          0.9999058842658997,
          0.9998021721839905,
          0.9999815225601196,
          0.9998096823692322,
          0.9998047947883606,
          0.9990919828414917,
          0.9999954700469971,
          0.9999701976776123,
          0.9998767971992493,
          0.9999814033508301,
          0.9999896883964539,
          0.9999446868896484,
          0.9888651371002197,
          0.9981755614280701,
          0.9988269209861755,
          0.9990450143814087,
          0.9996417760848999,
          0.9999616742134094,
          0.9994798302650452,
          0.9937755465507507,
          0.9999923706054688,
          0.9992148280143738,
          0.9999747276306152,
          0.9995254278182983,
          0.9998708963394165,
          0.9998530745506287,
          0.999980628490448,
          0.971785843372345,
          0.9999173283576965,
          0.9975965619087219,
          0.9952706098556519,
          0.9870444536209106,
          0.999664843082428,
          0.9983406662940979,
          0.9953559041023254,
          0.999858021736145,
          0.9986019730567932,
          0.8916537165641785,
          0.9921223521232605,
          0.9991717338562012,
          0.997438907623291,
          0.9999582767486572,
          0.992970883846283,
          0.9596567153930664,
          0.9999967217445374,
          0.9999416470527649,
          0.9429171085357666,
          0.9969648718833923,
          0.9999842643737793,
          0.9986016750335693,
          0.9995024800300598,
          0.9999371767044067,
          0.9997681975364685,
          0.9999825358390808,
          0.9964660406112671,
          0.9999704360961914,
          0.9993056654930115,
          0.997661292552948,
          0.9999026656150818,
          0.9997276067733765,
          0.949802815914154,
          0.9969924688339233,
          0.9991455674171448,
          0.9911333322525024,
          0.9976887106895447,
          0.9996473789215088,
          0.9999982118606567,
          0.9866947531700134,
          0.9982225894927979,
          0.9992505311965942,
          0.9996082186698914,
          0.9285131692886353,
          0.999790370464325,
          0.9998100399971008,
          0.9960498213768005,
          0.9951475262641907,
          0.998029887676239,
          0.9627595543861389,
          0.9994027018547058,
          0.996265709400177,
          0.9999841451644897,
          0.9998301863670349,
          0.9991794228553772,
          0.9934962391853333,
          0.981792151927948,
          0.9971116781234741,
          0.9786036610603333,
          0.9999510645866394,
          1,
          0.6196640729904175,
          0.8156049847602844,
          0.9999834299087524,
          0.9984800815582275,
          0.9995447397232056,
          0.9976484775543213,
          0.9974976181983948,
          0.9999998211860657,
          0.9504600167274475,
          0.9161457419395447,
          0.8641240000724792,
          0.9700279831886292,
          0.9064279794692993,
          0.9695056676864624,
          0.9983474016189575,
          0.9952895641326904,
          0.9950335621833801,
          0.9994791150093079,
          0.9999959468841553,
          0.906313419342041,
          0.997759997844696,
          0.9999381303787231,
          0.9992895722389221,
          0.9992963075637817,
          0.9988694190979004,
          0.9998583197593689,
          0.9984492659568787,
          0.9978686571121216,
          0.9827989339828491,
          0.9959344863891602,
          0.9984084367752075,
          0.99825119972229,
          0.999951183795929,
          0.9990538358688354,
          0.9642583727836609,
          0.9998596906661987,
          0.9442659020423889,
          0.9997727274894714,
          0.9998029470443726,
          0.9998776316642761,
          0.9989382028579712,
          0.9952318668365479,
          0.9982231259346008,
          0.9877884984016418,
          0.9997963905334473,
          0.9999996423721313,
          0.9988701939582825,
          0.9281796216964722,
          0.9973570108413696,
          0.9802035689353943,
          0.8534073233604431,
          0.998678982257843,
          0.9959222078323364,
          0.9990642666816711,
          0.9997547268867493,
          0.9997411370277405,
          0.9999731779098511,
          0.9998989701271057,
          0.9218461513519287,
          0.9998689889907837,
          0.9994533658027649,
          0.9959997534751892,
          0.9812871813774109,
          0.99724280834198,
          0.9919235706329346,
          0.9971935153007507,
          0.9997401237487793,
          0.9998780488967896,
          0.9798544645309448,
          0.9246107935905457,
          0.9944896101951599,
          0.9991375803947449,
          0.9960586428642273,
          0.9967830777168274,
          0.9999803304672241,
          0.9999303221702576,
          0.96290522813797,
          0.9514795541763306,
          0.9999411702156067,
          0.9998690485954285,
          0.9651840925216675,
          0.9663916230201721,
          0.9992768168449402,
          0.9992228746414185,
          0.998442530632019,
          0.9745978116989136,
          0.9835769534111023,
          0.9999915957450867,
          0.9982359409332275,
          0.9987972974777222,
          0.994201123714447,
          0.9960815906524658,
          0.9965484142303467,
          0.9742317795753479,
          0.9980581402778625,
          0.9481185674667358,
          0.9909886121749878,
          0.9998636245727539,
          0.9926082491874695,
          0.9990811944007874,
          0.9991539120674133,
          0.9971452355384827,
          0.9934015274047852,
          0.9904999136924744,
          0.7519324421882629,
          0.9996500611305237,
          0.9999008178710938,
          0.9997055530548096,
          0.9746169447898865,
          0.9864641427993774,
          0.999932587146759,
          0.9994104504585266,
          0.9999006390571594,
          0.9673684239387512,
          0.9994415640830994,
          0.9932100772857666,
          0.9867128133773804,
          0.9804492592811584,
          0.9975481629371643,
          0.9913545250892639,
          0.9939766526222229,
          0.9219977259635925,
          0.9973708987236023,
          0.9891225695610046,
          0.9999681711196899,
          0.9714887738227844,
          0.9781613945960999,
          0.999443769454956,
          0.9995627403259277,
          0.9628098011016846,
          0.9986846446990967,
          0.9990637898445129,
          0.9916477799415588,
          0.999721884727478,
          0.9999819993972778,
          0.9999972581863403,
          0.9994328022003174,
          0.9987460970878601,
          0.9996917247772217,
          0.9979664087295532,
          0.9560625553131104,
          0.9407594203948975,
          0.9998782277107239,
          0.9993413686752319,
          0.9997334480285645,
          0.9413970112800598,
          0.998235285282135,
          0.9951053261756897,
          0.9997497797012329,
          0.9995248913764954,
          0.9979451894760132,
          0.9919958710670471,
          0.9989475607872009,
          0.9999952912330627,
          0.9892675876617432,
          0.9999710321426392,
          0.9951450228691101,
          0.9999998211860657,
          0.999950110912323,
          0.9794317483901978,
          0.9997768402099609,
          0.9900528192520142,
          0.9923763871192932,
          0.9999441504478455,
          0.999359130859375,
          0.9944167733192444,
          0.9955465197563171,
          0.994384765625,
          0.9711340665817261,
          0.9999792575836182,
          0.9587587118148804,
          0.9999645352363586,
          0.9973450303077698,
          0.9929046630859375,
          0.9999985098838806,
          0.9997822046279907,
          0.9880749583244324,
          0.9994428157806396,
          0.9963629245758057,
          0.9980387091636658,
          0.9996767640113831,
          0.9989058375358582,
          0.9997342824935913,
          0.999531626701355,
          0.9659927487373352,
          0.9816281199455261,
          0.9951018691062927,
          0.9974557161331177,
          0.9993865489959717,
          0.99991375207901,
          0.7799033522605896,
          0.49876075983047485,
          0.9271853566169739,
          0.9948267340660095,
          0.998733401298523,
          0.9455380439758301,
          0.9809780120849609,
          0.9977577924728394,
          0.9996808171272278,
          0.9999756813049316,
          0.9999246001243591,
          0.9999503493309021,
          0.992120623588562,
          0.9999381899833679,
          0.9997865557670593,
          0.5762709379196167,
          0.8087118864059448,
          0.9999823570251465,
          0.9998558759689331,
          0.9998425245285034,
          0.9932786226272583,
          0.8781653642654419,
          0.8986930847167969,
          0.9694257974624634,
          0.995770275592804,
          0.9993350505828857,
          0.9997149705886841,
          0.9777176380157471,
          0.9738543033599854,
          0.9999445080757141,
          0.9998915195465088,
          0.9971316456794739,
          0.9976486563682556,
          0.9999467730522156,
          0.9994807839393616,
          0.9997718930244446,
          0.9690324068069458,
          0.9938444495201111,
          0.9998254776000977,
          0.9494461417198181,
          0.9852166771888733,
          0.9998204112052917,
          0.9993565082550049,
          0.9974461793899536,
          0.9895565509796143,
          0.9826322197914124,
          0.9907875061035156,
          0.9978199601173401,
          0.9881294369697571,
          0.9996477365493774,
          0.9894726276397705,
          0.9999486804008484,
          0.9999264478683472,
          0.9999241232872009,
          0.9994228482246399,
          0.9983190298080444,
          0.9551132917404175,
          0.9185377955436707,
          0.9749232530593872,
          0.9998070597648621,
          0.9979861974716187,
          0.996917724609375,
          0.998561680316925,
          0.997416079044342,
          0.9998170733451843,
          0.9996957778930664,
          0.9997483491897583,
          0.9998816251754761,
          0.9957435727119446,
          0.9894080758094788,
          0.9998465180397034,
          0.9999738931655884,
          0.9999940395355225,
          1,
          0.9779238700866699,
          0.9989935159683228,
          0.9989902973175049,
          0.9372471570968628,
          0.9996770024299622,
          0.9999955296516418,
          0.999999463558197,
          0.9995617270469666,
          0.9998123645782471,
          0.9917181134223938,
          0.9994569420814514,
          0.9990126490592957,
          0.9993638396263123,
          0.9974861741065979,
          0.9989813566207886,
          0.9984950423240662,
          0.9896164536476135,
          0.6724960803985596,
          0.9858719706535339,
          0.8924694061279297,
          0.02001398615539074,
          0.5288060307502747,
          0.012646293267607689,
          0.770774781703949,
          0.9801287651062012,
          0.0891253650188446,
          0.05006049573421478,
          0.9905412197113037,
          0.04652036353945732,
          0.07955458760261536,
          0.09919426590204239
         ],
         "xaxis": "x",
         "yaxis": "y"
        }
       ],
       "layout": {
        "barmode": "relative",
        "legend": {
         "title": {
          "text": "variable"
         },
         "tracegroupgap": 0
        },
        "margin": {
         "t": 60
        },
        "template": {
         "data": {
          "bar": [
           {
            "error_x": {
             "color": "#2a3f5f"
            },
            "error_y": {
             "color": "#2a3f5f"
            },
            "marker": {
             "line": {
              "color": "#E5ECF6",
              "width": 0.5
             },
             "pattern": {
              "fillmode": "overlay",
              "size": 10,
              "solidity": 0.2
             }
            },
            "type": "bar"
           }
          ],
          "barpolar": [
           {
            "marker": {
             "line": {
              "color": "#E5ECF6",
              "width": 0.5
             },
             "pattern": {
              "fillmode": "overlay",
              "size": 10,
              "solidity": 0.2
             }
            },
            "type": "barpolar"
           }
          ],
          "carpet": [
           {
            "aaxis": {
             "endlinecolor": "#2a3f5f",
             "gridcolor": "white",
             "linecolor": "white",
             "minorgridcolor": "white",
             "startlinecolor": "#2a3f5f"
            },
            "baxis": {
             "endlinecolor": "#2a3f5f",
             "gridcolor": "white",
             "linecolor": "white",
             "minorgridcolor": "white",
             "startlinecolor": "#2a3f5f"
            },
            "type": "carpet"
           }
          ],
          "choropleth": [
           {
            "colorbar": {
             "outlinewidth": 0,
             "ticks": ""
            },
            "type": "choropleth"
           }
          ],
          "contour": [
           {
            "colorbar": {
             "outlinewidth": 0,
             "ticks": ""
            },
            "colorscale": [
             [
              0,
              "#0d0887"
             ],
             [
              0.1111111111111111,
              "#46039f"
             ],
             [
              0.2222222222222222,
              "#7201a8"
             ],
             [
              0.3333333333333333,
              "#9c179e"
             ],
             [
              0.4444444444444444,
              "#bd3786"
             ],
             [
              0.5555555555555556,
              "#d8576b"
             ],
             [
              0.6666666666666666,
              "#ed7953"
             ],
             [
              0.7777777777777778,
              "#fb9f3a"
             ],
             [
              0.8888888888888888,
              "#fdca26"
             ],
             [
              1,
              "#f0f921"
             ]
            ],
            "type": "contour"
           }
          ],
          "contourcarpet": [
           {
            "colorbar": {
             "outlinewidth": 0,
             "ticks": ""
            },
            "type": "contourcarpet"
           }
          ],
          "heatmap": [
           {
            "colorbar": {
             "outlinewidth": 0,
             "ticks": ""
            },
            "colorscale": [
             [
              0,
              "#0d0887"
             ],
             [
              0.1111111111111111,
              "#46039f"
             ],
             [
              0.2222222222222222,
              "#7201a8"
             ],
             [
              0.3333333333333333,
              "#9c179e"
             ],
             [
              0.4444444444444444,
              "#bd3786"
             ],
             [
              0.5555555555555556,
              "#d8576b"
             ],
             [
              0.6666666666666666,
              "#ed7953"
             ],
             [
              0.7777777777777778,
              "#fb9f3a"
             ],
             [
              0.8888888888888888,
              "#fdca26"
             ],
             [
              1,
              "#f0f921"
             ]
            ],
            "type": "heatmap"
           }
          ],
          "heatmapgl": [
           {
            "colorbar": {
             "outlinewidth": 0,
             "ticks": ""
            },
            "colorscale": [
             [
              0,
              "#0d0887"
             ],
             [
              0.1111111111111111,
              "#46039f"
             ],
             [
              0.2222222222222222,
              "#7201a8"
             ],
             [
              0.3333333333333333,
              "#9c179e"
             ],
             [
              0.4444444444444444,
              "#bd3786"
             ],
             [
              0.5555555555555556,
              "#d8576b"
             ],
             [
              0.6666666666666666,
              "#ed7953"
             ],
             [
              0.7777777777777778,
              "#fb9f3a"
             ],
             [
              0.8888888888888888,
              "#fdca26"
             ],
             [
              1,
              "#f0f921"
             ]
            ],
            "type": "heatmapgl"
           }
          ],
          "histogram": [
           {
            "marker": {
             "pattern": {
              "fillmode": "overlay",
              "size": 10,
              "solidity": 0.2
             }
            },
            "type": "histogram"
           }
          ],
          "histogram2d": [
           {
            "colorbar": {
             "outlinewidth": 0,
             "ticks": ""
            },
            "colorscale": [
             [
              0,
              "#0d0887"
             ],
             [
              0.1111111111111111,
              "#46039f"
             ],
             [
              0.2222222222222222,
              "#7201a8"
             ],
             [
              0.3333333333333333,
              "#9c179e"
             ],
             [
              0.4444444444444444,
              "#bd3786"
             ],
             [
              0.5555555555555556,
              "#d8576b"
             ],
             [
              0.6666666666666666,
              "#ed7953"
             ],
             [
              0.7777777777777778,
              "#fb9f3a"
             ],
             [
              0.8888888888888888,
              "#fdca26"
             ],
             [
              1,
              "#f0f921"
             ]
            ],
            "type": "histogram2d"
           }
          ],
          "histogram2dcontour": [
           {
            "colorbar": {
             "outlinewidth": 0,
             "ticks": ""
            },
            "colorscale": [
             [
              0,
              "#0d0887"
             ],
             [
              0.1111111111111111,
              "#46039f"
             ],
             [
              0.2222222222222222,
              "#7201a8"
             ],
             [
              0.3333333333333333,
              "#9c179e"
             ],
             [
              0.4444444444444444,
              "#bd3786"
             ],
             [
              0.5555555555555556,
              "#d8576b"
             ],
             [
              0.6666666666666666,
              "#ed7953"
             ],
             [
              0.7777777777777778,
              "#fb9f3a"
             ],
             [
              0.8888888888888888,
              "#fdca26"
             ],
             [
              1,
              "#f0f921"
             ]
            ],
            "type": "histogram2dcontour"
           }
          ],
          "mesh3d": [
           {
            "colorbar": {
             "outlinewidth": 0,
             "ticks": ""
            },
            "type": "mesh3d"
           }
          ],
          "parcoords": [
           {
            "line": {
             "colorbar": {
              "outlinewidth": 0,
              "ticks": ""
             }
            },
            "type": "parcoords"
           }
          ],
          "pie": [
           {
            "automargin": true,
            "type": "pie"
           }
          ],
          "scatter": [
           {
            "fillpattern": {
             "fillmode": "overlay",
             "size": 10,
             "solidity": 0.2
            },
            "type": "scatter"
           }
          ],
          "scatter3d": [
           {
            "line": {
             "colorbar": {
              "outlinewidth": 0,
              "ticks": ""
             }
            },
            "marker": {
             "colorbar": {
              "outlinewidth": 0,
              "ticks": ""
             }
            },
            "type": "scatter3d"
           }
          ],
          "scattercarpet": [
           {
            "marker": {
             "colorbar": {
              "outlinewidth": 0,
              "ticks": ""
             }
            },
            "type": "scattercarpet"
           }
          ],
          "scattergeo": [
           {
            "marker": {
             "colorbar": {
              "outlinewidth": 0,
              "ticks": ""
             }
            },
            "type": "scattergeo"
           }
          ],
          "scattergl": [
           {
            "marker": {
             "colorbar": {
              "outlinewidth": 0,
              "ticks": ""
             }
            },
            "type": "scattergl"
           }
          ],
          "scattermapbox": [
           {
            "marker": {
             "colorbar": {
              "outlinewidth": 0,
              "ticks": ""
             }
            },
            "type": "scattermapbox"
           }
          ],
          "scatterpolar": [
           {
            "marker": {
             "colorbar": {
              "outlinewidth": 0,
              "ticks": ""
             }
            },
            "type": "scatterpolar"
           }
          ],
          "scatterpolargl": [
           {
            "marker": {
             "colorbar": {
              "outlinewidth": 0,
              "ticks": ""
             }
            },
            "type": "scatterpolargl"
           }
          ],
          "scatterternary": [
           {
            "marker": {
             "colorbar": {
              "outlinewidth": 0,
              "ticks": ""
             }
            },
            "type": "scatterternary"
           }
          ],
          "surface": [
           {
            "colorbar": {
             "outlinewidth": 0,
             "ticks": ""
            },
            "colorscale": [
             [
              0,
              "#0d0887"
             ],
             [
              0.1111111111111111,
              "#46039f"
             ],
             [
              0.2222222222222222,
              "#7201a8"
             ],
             [
              0.3333333333333333,
              "#9c179e"
             ],
             [
              0.4444444444444444,
              "#bd3786"
             ],
             [
              0.5555555555555556,
              "#d8576b"
             ],
             [
              0.6666666666666666,
              "#ed7953"
             ],
             [
              0.7777777777777778,
              "#fb9f3a"
             ],
             [
              0.8888888888888888,
              "#fdca26"
             ],
             [
              1,
              "#f0f921"
             ]
            ],
            "type": "surface"
           }
          ],
          "table": [
           {
            "cells": {
             "fill": {
              "color": "#EBF0F8"
             },
             "line": {
              "color": "white"
             }
            },
            "header": {
             "fill": {
              "color": "#C8D4E3"
             },
             "line": {
              "color": "white"
             }
            },
            "type": "table"
           }
          ]
         },
         "layout": {
          "annotationdefaults": {
           "arrowcolor": "#2a3f5f",
           "arrowhead": 0,
           "arrowwidth": 1
          },
          "autotypenumbers": "strict",
          "coloraxis": {
           "colorbar": {
            "outlinewidth": 0,
            "ticks": ""
           }
          },
          "colorscale": {
           "diverging": [
            [
             0,
             "#8e0152"
            ],
            [
             0.1,
             "#c51b7d"
            ],
            [
             0.2,
             "#de77ae"
            ],
            [
             0.3,
             "#f1b6da"
            ],
            [
             0.4,
             "#fde0ef"
            ],
            [
             0.5,
             "#f7f7f7"
            ],
            [
             0.6,
             "#e6f5d0"
            ],
            [
             0.7,
             "#b8e186"
            ],
            [
             0.8,
             "#7fbc41"
            ],
            [
             0.9,
             "#4d9221"
            ],
            [
             1,
             "#276419"
            ]
           ],
           "sequential": [
            [
             0,
             "#0d0887"
            ],
            [
             0.1111111111111111,
             "#46039f"
            ],
            [
             0.2222222222222222,
             "#7201a8"
            ],
            [
             0.3333333333333333,
             "#9c179e"
            ],
            [
             0.4444444444444444,
             "#bd3786"
            ],
            [
             0.5555555555555556,
             "#d8576b"
            ],
            [
             0.6666666666666666,
             "#ed7953"
            ],
            [
             0.7777777777777778,
             "#fb9f3a"
            ],
            [
             0.8888888888888888,
             "#fdca26"
            ],
            [
             1,
             "#f0f921"
            ]
           ],
           "sequentialminus": [
            [
             0,
             "#0d0887"
            ],
            [
             0.1111111111111111,
             "#46039f"
            ],
            [
             0.2222222222222222,
             "#7201a8"
            ],
            [
             0.3333333333333333,
             "#9c179e"
            ],
            [
             0.4444444444444444,
             "#bd3786"
            ],
            [
             0.5555555555555556,
             "#d8576b"
            ],
            [
             0.6666666666666666,
             "#ed7953"
            ],
            [
             0.7777777777777778,
             "#fb9f3a"
            ],
            [
             0.8888888888888888,
             "#fdca26"
            ],
            [
             1,
             "#f0f921"
            ]
           ]
          },
          "colorway": [
           "#636efa",
           "#EF553B",
           "#00cc96",
           "#ab63fa",
           "#FFA15A",
           "#19d3f3",
           "#FF6692",
           "#B6E880",
           "#FF97FF",
           "#FECB52"
          ],
          "font": {
           "color": "#2a3f5f"
          },
          "geo": {
           "bgcolor": "white",
           "lakecolor": "white",
           "landcolor": "#E5ECF6",
           "showlakes": true,
           "showland": true,
           "subunitcolor": "white"
          },
          "hoverlabel": {
           "align": "left"
          },
          "hovermode": "closest",
          "mapbox": {
           "style": "light"
          },
          "paper_bgcolor": "white",
          "plot_bgcolor": "#E5ECF6",
          "polar": {
           "angularaxis": {
            "gridcolor": "white",
            "linecolor": "white",
            "ticks": ""
           },
           "bgcolor": "#E5ECF6",
           "radialaxis": {
            "gridcolor": "white",
            "linecolor": "white",
            "ticks": ""
           }
          },
          "scene": {
           "xaxis": {
            "backgroundcolor": "#E5ECF6",
            "gridcolor": "white",
            "gridwidth": 2,
            "linecolor": "white",
            "showbackground": true,
            "ticks": "",
            "zerolinecolor": "white"
           },
           "yaxis": {
            "backgroundcolor": "#E5ECF6",
            "gridcolor": "white",
            "gridwidth": 2,
            "linecolor": "white",
            "showbackground": true,
            "ticks": "",
            "zerolinecolor": "white"
           },
           "zaxis": {
            "backgroundcolor": "#E5ECF6",
            "gridcolor": "white",
            "gridwidth": 2,
            "linecolor": "white",
            "showbackground": true,
            "ticks": "",
            "zerolinecolor": "white"
           }
          },
          "shapedefaults": {
           "line": {
            "color": "#2a3f5f"
           }
          },
          "ternary": {
           "aaxis": {
            "gridcolor": "white",
            "linecolor": "white",
            "ticks": ""
           },
           "baxis": {
            "gridcolor": "white",
            "linecolor": "white",
            "ticks": ""
           },
           "bgcolor": "#E5ECF6",
           "caxis": {
            "gridcolor": "white",
            "linecolor": "white",
            "ticks": ""
           }
          },
          "title": {
           "x": 0.05
          },
          "xaxis": {
           "automargin": true,
           "gridcolor": "white",
           "linecolor": "white",
           "ticks": "",
           "title": {
            "standoff": 15
           },
           "zerolinecolor": "white",
           "zerolinewidth": 2
          },
          "yaxis": {
           "automargin": true,
           "gridcolor": "white",
           "linecolor": "white",
           "ticks": "",
           "title": {
            "standoff": 15
           },
           "zerolinecolor": "white",
           "zerolinewidth": 2
          }
         }
        },
        "xaxis": {
         "anchor": "y",
         "domain": [
          0,
          1
         ],
         "title": {
          "text": "value"
         }
        },
        "yaxis": {
         "anchor": "x",
         "domain": [
          0,
          1
         ],
         "title": {
          "text": "count"
         }
        }
       }
      }
     },
     "metadata": {},
     "output_type": "display_data"
    }
   ],
   "source": [
    "import plotly.express as px\n",
    "p = fc_model.predict(x_test)\n",
    "hist= px.histogram(p)\n",
    "hist.show()"
   ]
  },
  {
   "cell_type": "markdown",
   "metadata": {},
   "source": [
    "### modelos convolusionales"
   ]
  },
  {
   "cell_type": "code",
   "execution_count": 12,
   "metadata": {},
   "outputs": [
    {
     "name": "stderr",
     "output_type": "stream",
     "text": [
      "c:\\Analitica 3\\brain-tumor-detection\\environment\\Lib\\site-packages\\keras\\src\\layers\\convolutional\\base_conv.py:107: UserWarning: Do not pass an `input_shape`/`input_dim` argument to a layer. When using Sequential models, prefer using an `Input(shape)` object as the first layer in the model instead.\n",
      "  super().__init__(activity_regularizer=activity_regularizer, **kwargs)\n"
     ]
    }
   ],
   "source": [
    "model = tf.keras.Sequential([\n",
    "    tf.keras.layers.Conv2D(16, kernel_size=(3, 3), activation='relu', input_shape=x_train.shape[1:]),\n",
    "    tf.keras.layers.MaxPooling2D(pool_size=(2, 2)),\n",
    "    tf.keras.layers.Conv2D(32, kernel_size=(3, 3), activation='relu'),\n",
    "    tf.keras.layers.MaxPooling2D(pool_size=(2, 2)),\n",
    "    tf.keras.layers.Flatten(),\n",
    "    tf.keras.layers.Dense(64, activation='relu'),\n",
    "    tf.keras.layers.Dense(1, activation='sigmoid')\n",
    "])"
   ]
  },
  {
   "cell_type": "code",
   "execution_count": 13,
   "metadata": {},
   "outputs": [],
   "source": [
    "# Compile the model with binary cross-entropy loss and Adam optimizer\n",
    "model.compile(loss='binary_crossentropy', optimizer='adam', metrics=['AUC'])"
   ]
  },
  {
   "cell_type": "code",
   "execution_count": 14,
   "metadata": {},
   "outputs": [
    {
     "name": "stdout",
     "output_type": "stream",
     "text": [
      "Epoch 1/10\n",
      "\u001b[1m70/70\u001b[0m \u001b[32m━━━━━━━━━━━━━━━━━━━━\u001b[0m\u001b[37m\u001b[0m \u001b[1m19s\u001b[0m 211ms/step - AUC: 0.7932 - loss: 0.5144 - val_AUC: 0.9844 - val_loss: 0.1597\n",
      "Epoch 2/10\n",
      "\u001b[1m70/70\u001b[0m \u001b[32m━━━━━━━━━━━━━━━━━━━━\u001b[0m\u001b[37m\u001b[0m \u001b[1m12s\u001b[0m 165ms/step - AUC: 0.9837 - loss: 0.1639 - val_AUC: 0.9901 - val_loss: 0.1333\n",
      "Epoch 3/10\n",
      "\u001b[1m70/70\u001b[0m \u001b[32m━━━━━━━━━━━━━━━━━━━━\u001b[0m\u001b[37m\u001b[0m \u001b[1m12s\u001b[0m 165ms/step - AUC: 0.9936 - loss: 0.1032 - val_AUC: 0.9925 - val_loss: 0.1064\n",
      "Epoch 4/10\n",
      "\u001b[1m70/70\u001b[0m \u001b[32m━━━━━━━━━━━━━━━━━━━━\u001b[0m\u001b[37m\u001b[0m \u001b[1m12s\u001b[0m 170ms/step - AUC: 0.9969 - loss: 0.0678 - val_AUC: 0.9940 - val_loss: 0.0856\n",
      "Epoch 5/10\n",
      "\u001b[1m70/70\u001b[0m \u001b[32m━━━━━━━━━━━━━━━━━━━━\u001b[0m\u001b[37m\u001b[0m \u001b[1m12s\u001b[0m 173ms/step - AUC: 0.9977 - loss: 0.0605 - val_AUC: 0.9942 - val_loss: 0.0660\n",
      "Epoch 6/10\n",
      "\u001b[1m70/70\u001b[0m \u001b[32m━━━━━━━━━━━━━━━━━━━━\u001b[0m\u001b[37m\u001b[0m \u001b[1m12s\u001b[0m 165ms/step - AUC: 0.9991 - loss: 0.0352 - val_AUC: 0.9943 - val_loss: 0.0660\n",
      "Epoch 7/10\n",
      "\u001b[1m70/70\u001b[0m \u001b[32m━━━━━━━━━━━━━━━━━━━━\u001b[0m\u001b[37m\u001b[0m \u001b[1m12s\u001b[0m 164ms/step - AUC: 0.9997 - loss: 0.0211 - val_AUC: 0.9940 - val_loss: 0.0578\n",
      "Epoch 8/10\n",
      "\u001b[1m70/70\u001b[0m \u001b[32m━━━━━━━━━━━━━━━━━━━━\u001b[0m\u001b[37m\u001b[0m \u001b[1m12s\u001b[0m 167ms/step - AUC: 0.9999 - loss: 0.0138 - val_AUC: 0.9943 - val_loss: 0.0560\n",
      "Epoch 9/10\n",
      "\u001b[1m70/70\u001b[0m \u001b[32m━━━━━━━━━━━━━━━━━━━━\u001b[0m\u001b[37m\u001b[0m \u001b[1m11s\u001b[0m 163ms/step - AUC: 1.0000 - loss: 0.0100 - val_AUC: 0.9949 - val_loss: 0.0547\n",
      "Epoch 10/10\n",
      "\u001b[1m70/70\u001b[0m \u001b[32m━━━━━━━━━━━━━━━━━━━━\u001b[0m\u001b[37m\u001b[0m \u001b[1m12s\u001b[0m 166ms/step - AUC: 1.0000 - loss: 0.0059 - val_AUC: 0.9947 - val_loss: 0.0579\n"
     ]
    },
    {
     "data": {
      "text/plain": [
       "<keras.src.callbacks.history.History at 0x1cf7ad0e790>"
      ]
     },
     "execution_count": 14,
     "metadata": {},
     "output_type": "execute_result"
    }
   ],
   "source": [
    "# Train the model for 10 epochs\n",
    "model.fit(x_train, y_train, batch_size=100, epochs=10, validation_data=(x_test, y_test))"
   ]
  },
  {
   "cell_type": "code",
   "execution_count": 137,
   "metadata": {},
   "outputs": [
    {
     "name": "stdout",
     "output_type": "stream",
     "text": [
      "\u001b[1m55/55\u001b[0m \u001b[32m━━━━━━━━━━━━━━━━━━━━\u001b[0m\u001b[37m\u001b[0m \u001b[1m1s\u001b[0m 19ms/step\n",
      "              precision    recall  f1-score   support\n",
      "\n",
      "           0       0.97      0.99      0.98       716\n",
      "           1       1.00      0.98      0.99      1021\n",
      "\n",
      "    accuracy                           0.98      1737\n",
      "   macro avg       0.98      0.98      0.98      1737\n",
      "weighted avg       0.98      0.98      0.98      1737\n",
      "\n"
     ]
    },
    {
     "data": {
      "image/png": "[encoded data removed]",
      "text/plain": [
       "<Figure size 640x480 with 2 Axes>"
      ]
     },
     "metadata": {},
     "output_type": "display_data"
    }
   ],
   "source": [
    "pred_test1=(model.predict(x_test) >= 0.95).astype('int')\n",
    "cm=metrics.confusion_matrix(y_test,pred_test1, labels=[1,0])\n",
    "disp=metrics.ConfusionMatrixDisplay(cm,display_labels=['tumor', 'No_tumor'])\n",
    "disp.plot()\n",
    "\n",
    "print(metrics.classification_report(y_test, pred_test1))\n"
   ]
  },
  {
   "cell_type": "code",
   "execution_count": 129,
   "metadata": {},
   "outputs": [
    {
     "name": "stdout",
     "output_type": "stream",
     "text": [
      "\u001b[1m55/55\u001b[0m \u001b[32m━━━━━━━━━━━━━━━━━━━━\u001b[0m\u001b[37m\u001b[0m \u001b[1m1s\u001b[0m 19ms/step\n"
     ]
    },
    {
     "data": {
      "application/vnd.plotly.v1+json": {
       "config": {
        "plotlyServerURL": "https://plot.ly"
       },
       "data": [
        {
         "alignmentgroup": "True",
         "bingroup": "x",
         "hovertemplate": "variable=0<br>value=%{x}<br>count=%{y}<extra></extra>",
         "legendgroup": "0",
         "marker": {
          "color": "#636efa",
          "pattern": {
           "shape": ""
          }
         },
         "name": "0",
         "offsetgroup": "0",
         "orientation": "v",
         "showlegend": true,
         "type": "histogram",
         "x": [
          0.00000384958048016415,
          2.4681167332119003e-8,
          0.00003851038491120562,
          0.000677425938192755,
          0.0007402005139738321,
          0.0015649042325094342,
          0.00009613760630600154,
          0.00020003119425382465,
          1.1843476199757674e-10,
          2.4681167332119003e-8,
          0.0008118581608869135,
          0.0005175013211555779,
          0.000008970252565632109,
          0.002823625225573778,
          0.001398772932589054,
          0.000002485799313944881,
          6.856269024746453e-11,
          0.0000010452507694935775,
          1.491351313276379e-12,
          1.3125637729483053e-11,
          0.00617370568215847,
          1.3839533685722216e-10,
          1.3560151265745723e-11,
          0.0006355055957101285,
          1.0420135510003092e-7,
          0.008433734998106956,
          0.003732961369678378,
          0.0036279780324548483,
          0.028069889172911644,
          0.01902242749929428,
          0.0026339192409068346,
          0.0005874967901036143,
          0.0003253272734582424,
          0.00004628086753655225,
          0.00005564906314248219,
          0.0004846282536163926,
          0.0000023203722321341047,
          8.204991130966732e-10,
          0.00003993918653577566,
          0.002046053996309638,
          0.00013210935867391527,
          0.00029115763027220964,
          0.0000023995351057237713,
          0.000002451694172123098,
          4.216561251269013e-7,
          4.3630656421100866e-8,
          2.980043234401819e-8,
          6.849109013273846e-7,
          0.001493191928602755,
          0.00003920820017810911,
          1.331120991210355e-9,
          1.2985909006099638e-12,
          0.000056412820413243026,
          3.3438553259657056e-8,
          2.022982475979873e-11,
          8.65038174424626e-9,
          8.982673307400546e-7,
          2.9410582413902375e-8,
          0.00001772302493918687,
          0.00003424963870202191,
          0.0004111656453460455,
          9.064721629564731e-14,
          0.00004551066012936644,
          0.0000019874682948284317,
          3.111934321342602e-11,
          0.005748022813349962,
          3.535641326379846e-7,
          0.0003078267036471516,
          3.80011799805402e-10,
          2.829661418374263e-12,
          0.0001747438363963738,
          1.2515222636011458e-7,
          2.1829971785791713e-7,
          0.00001907923615362961,
          1.728552518898141e-7,
          0.00006739201489835978,
          0.000001035832497109368,
          0.00014726723020430654,
          1.3101707219131953e-10,
          7.956767975611859e-14,
          0.00012135544238844886,
          0.0008253278210759163,
          0.0006999936304055154,
          0.00007362769247265533,
          4.096455466506832e-11,
          2.463059729507222e-7,
          0.0002824891416821629,
          0.0011111180065199733,
          0.01957566663622856,
          0.0011121929856017232,
          1.2167564178433565e-10,
          1.0724585663979269e-8,
          0.010928916744887829,
          0.0019366882042959332,
          0.00017276172002311796,
          0.025202997028827667,
          1.536363569698551e-8,
          3.692623806728079e-7,
          3.1663185962038654e-10,
          3.805743631346559e-8,
          0.004017439670860767,
          9.276553969428392e-10,
          0.00001677422369539272,
          3.314573291390843e-7,
          2.0064465644509255e-8,
          0.000036100766010349616,
          2.1674866346188537e-9,
          2.678780530729341e-10,
          1.2866524912169552e-7,
          0.000014602113878936507,
          1.6554610127172964e-8,
          8.78009018379089e-7,
          2.0212731044466636e-8,
          4.071184795534366e-12,
          2.181873242079746e-7,
          3.3693201006990137e-10,
          3.191576516958783e-11,
          1.1806469046860002e-7,
          3.1882387929726974e-7,
          0.000004062981588504044,
          3.480682408962821e-8,
          0.00022175736376084387,
          0.000009256496014131699,
          1.2582342936648394e-12,
          2.871471289911387e-12,
          1.9931576389353722e-7,
          0.0007188647869043052,
          0.00002655795105965808,
          3.6344021125955805e-9,
          0.0000023717695967206964,
          0.000007673750587855466,
          0.000032450912840431556,
          0.0000555880724277813,
          0.005633010063320398,
          9.18760001411556e-9,
          1.1066381144786419e-10,
          4.7188584062496375e-7,
          2.2245653497066087e-7,
          0.0002983413578476757,
          0.00004374263153295033,
          0.000005362212959880708,
          0.0000499848356412258,
          1.6370538258314582e-9,
          7.808200197523263e-10,
          0.0015593472635373473,
          0.000056189899623859674,
          0.9999668598175049,
          2.8335879420637866e-8,
          0.0012460824800655246,
          1.3727937515049804e-13,
          6.244206947293371e-14,
          6.820891507858251e-12,
          0.01772589236497879,
          1.1995722950662764e-15,
          0.000015133751730900258,
          0.0000012531602351373294,
          5.629147814545377e-9,
          1.3907925375603036e-12,
          4.780495665021253e-16,
          2.398088672084242e-11,
          4.206779022353224e-11,
          3.240918422520167e-9,
          4.5376662427543124e-8,
          0.016034502536058426,
          9.781576864043018e-7,
          3.205618952894357e-16,
          6.023387084247434e-13,
          0.003558781696483493,
          4.992143851079156e-13,
          4.348770801243518e-7,
          1.336758937049709e-13,
          2.223734085760043e-9,
          1.7893163339888218e-10,
          1.3592732495126825e-10,
          2.0144825807477673e-9,
          0.00003851383735309355,
          3.2865219168343174e-7,
          3.0606874863335284e-14,
          1.8904064424951628e-10,
          0.000009839549420576077,
          0.0030325530096888542,
          4.616599528876886e-13,
          0.00021905970061197877,
          2.6468121916423115e-8,
          2.1090166071879857e-11,
          0.000008772934961598366,
          9.795551925151358e-9,
          0.000010649181604094338,
          0.000007817714504199103,
          0.00009613760630600154,
          0.0007584629929624498,
          1.1843476199757674e-10,
          0.000020385492462082766,
          0.0005858366494067013,
          0.00003063492840738036,
          0.00011016202188329771,
          0.00002317702274012845,
          0.000002127306515831151,
          0.00162307673599571,
          9.268038070331386e-8,
          2.7439540846744756e-14,
          6.130489171862763e-11,
          0.0001740723237162456,
          0.000026306286599719897,
          0.00382195389829576,
          2.5900000460293837e-12,
          0.0011151778744533658,
          0.0030161694157868624,
          0.00009899033466354012,
          1.9695051145518505e-11,
          2.5066675402030114e-9,
          0.0014071352779865265,
          0.000002114571543643251,
          0.0011496919905766845,
          0.000017763994037522934,
          0.00099805963691324,
          0.0003719653468579054,
          0.011579449288547039,
          0.000015041981896501966,
          0.00970462616533041,
          0.00006432567170122638,
          3.720974461884907e-8,
          0.0002721073688007891,
          0.000024780145395197906,
          0.0035551481414586306,
          4.977562184649287e-7,
          0.0001470610877731815,
          0.005864090286195278,
          0.000741504889447242,
          0.0001151420219684951,
          0.000002379579200351145,
          0.0000021397117961896583,
          2.1484950707417738e-7,
          2.919796493472404e-8,
          1.0238496855885515e-10,
          1.4060638764412658e-10,
          0.00004488756530918181,
          0.000028340091375866905,
          0.000006236593435460236,
          5.11285747961665e-7,
          2.354210992816519e-10,
          1.7143381159101523e-10,
          5.277239756296126e-10,
          0.0000023588418116560206,
          0.000005248609340924304,
          2.8481392244650294e-10,
          1.717235728615485e-12,
          1.5955046706039866e-7,
          2.1810226957796885e-9,
          9.761420187714975e-7,
          9.741925148520902e-13,
          0.000014516499504679814,
          1.04342819107206e-10,
          2.798159204342454e-10,
          2.7535042388532327e-12,
          1.635398066968108e-11,
          0.0002454679924994707,
          9.573879822255549e-8,
          0.003203083062544465,
          0.0006805731682106853,
          7.719017425245056e-9,
          0.00549322459846735,
          0.0006356533267535269,
          1.3146765620586365e-10,
          1.6436493410765252e-7,
          0.006423471961170435,
          0.00002204386873927433,
          4.045395962659626e-11,
          5.447275839287613e-7,
          0.0021517383866012096,
          0.0000023370637336483924,
          0.011327353306114674,
          0.00004028391049359925,
          3.5551707355807594e-7,
          0.0000010255930646962952,
          0.0013822633773088455,
          0.0000034195616080978652,
          0.03409099578857422,
          0.0001269631029572338,
          0.021712888032197952,
          0.00008660535968374461,
          0.004092539194971323,
          0.0007782999309711158,
          9.016832419606047e-11,
          2.0311573223352752e-7,
          4.0572714965492196e-8,
          2.0873878181504324e-9,
          0.000493242812808603,
          7.837511889485782e-12,
          3.1844225034660667e-9,
          2.90419446304091e-12,
          1.7316617473284168e-8,
          7.687754788321399e-8,
          2.449776492774447e-10,
          0.00016846151265781373,
          8.231474879494272e-8,
          0.00001740018888085615,
          5.532525051421544e-7,
          2.0013805608447288e-13,
          2.536269505526434e-8,
          0.00003958393062930554,
          0.00031919663888402283,
          1.6666654167885042e-10,
          5.486550658240219e-10,
          1.115129499851264e-8,
          1.0450459386746047e-9,
          4.153042059557022e-12,
          0.000015212744074233342,
          0.0005679787136614323,
          1.264961052571678e-10,
          5.618355715560075e-13,
          1.6630890797841857e-7,
          0.00003537567317835055,
          0.0000018060560478261323,
          3.1920147081088146e-11,
          0.00002219354792032391,
          0.0006588202668353915,
          0.013249456882476807,
          0.031273264437913895,
          0.00099805963691324,
          0.011415853165090084,
          0.015247670002281666,
          0.19899113476276398,
          0.0012371683260425925,
          0.000809168559499085,
          0.1896955370903015,
          0.010804867371916771,
          0.000933102157432586,
          1.3134690846072772e-7,
          0.00011016202188329771,
          0.006885508541017771,
          0.021851707249879837,
          0.0032062602695077658,
          0.00011016202188329771,
          0.0056781647726893425,
          0.05816200375556946,
          0.0002433827321510762,
          0.00047128467122092843,
          0.0000011627843150563422,
          0.00017084753199014813,
          0.01902242749929428,
          0.004147535189986229,
          0.0028801909647881985,
          6.436625454853129e-9,
          2.249703712209339e-8,
          6.849109013273846e-7,
          1.331120991210355e-9,
          8.81164499005882e-13,
          0.0015489078359678388,
          3.2328213023236074e-11,
          3.7223273352537944e-7,
          2.6767303040742263e-8,
          0.00003860863944282755,
          5.133739544582738e-10,
          2.1829971785791713e-7,
          0.00003497512443573214,
          7.956767975611859e-14,
          0.000047916626499500126,
          7.456607895158993e-14,
          2.1086372665318764e-12,
          0.0011111180065199733,
          0.00006585691880900413,
          0.0011121929856017232,
          2.2923588005596685e-7,
          0.025202997028827667,
          1.5613703906180998e-12,
          0.000021681325961253606,
          0.00000448795071861241,
          2.057450920744941e-8,
          8.360006518159935e-7,
          2.501484019923339e-10,
          2.0064465644509255e-8,
          4.071184795534366e-12,
          3.3546680811014085e-7,
          1.9153191033183248e-7,
          0.00022175736376084387,
          1.207528725899465e-7,
          0.000030615767173003405,
          0.00006447976193157956,
          0.000015736317436676472,
          0.0002367806009715423,
          0.0015455989632755518,
          0.000056189899623859674,
          0.0029958582017570734,
          0.000007458352229150478,
          0.00014393037417903543,
          0.0021637678146362305,
          0.0001269631029572338,
          2.7513413769497674e-8,
          0.0001820953912101686,
          0.0006120976177044213,
          0.000044088046706747264,
          0.00041859588236548007,
          2.0873878181504324e-9,
          0.00024226540699601173,
          1.6630890797841857e-7,
          3.5223274608142674e-7,
          0.0021744940895587206,
          0.9040783643722534,
          7.256264339394747e-11,
          0.18374693393707275,
          0.19297970831394196,
          0.007095793262124062,
          0.00006432567170122638,
          0.0014071352779865265,
          0.00008593088568886742,
          4.876152259747357e-11,
          1.3134690846072772e-7,
          0.0019935329910367727,
          0.00481021823361516,
          0.013853800483047962,
          0.031093792989850044,
          0.9993467926979065,
          0.11073796451091766,
          0.14073660969734192,
          0.9617794156074524,
          2.3152613159993507e-9,
          0.00035070712328888476,
          0.00005912430788157508,
          0.026474781334400177,
          4.843661258746579e-7,
          0.0000612519434071146,
          0.000017429767467547208,
          0.00001665705713094212,
          0.04322786629199982,
          0.00000445455498265801,
          0.000040479648305336013,
          3.76799022205887e-7,
          0.00005807122215628624,
          2.920078543411364e-7,
          0.00970462616533041,
          0.0017172537045553327,
          0.00009982745541492477,
          0.02205941081047058,
          0.00009423562732990831,
          0.0004019204352516681,
          0.003834331640973687,
          0.20024731755256653,
          0.9997667074203491,
          0.007607788313180208,
          3.76799022205887e-7,
          0.00787205807864666,
          0.15533457696437836,
          0.05014757439494133,
          0.09832658618688583,
          0.003210285911336541,
          0.7452825307846069,
          0.0007943022646941245,
          0.20382988452911377,
          0.000001484110725868959,
          0.000014481683138001245,
          0.000008450089808320627,
          0.0000025375484256073833,
          2.4184364733059738e-8,
          0.0015731030143797398,
          0.0000010965924275296857,
          0.9086122512817383,
          0.9997066855430603,
          0.2645910382270813,
          0.0001098152861231938,
          0.013249456882476807,
          0.0023698017466813326,
          0.008412276394665241,
          0.000056321656302316114,
          0.1942533403635025,
          0.0056781647726893425,
          0.0027046045288443565,
          0.006203148979693651,
          0.000017429767467547208,
          0.001070967293344438,
          1.3134690846072772e-7,
          0.09924744814634323,
          0.8903462290763855,
          0.7905673980712891,
          1.491351313276379e-12,
          0.0000035915697935706703,
          1.3560151265745723e-11,
          0.000024666054741828702,
          0.00015669388812966645,
          0.00007261483551701531,
          0.0026339192409068346,
          3.5210048210387868e-9,
          0.0009412231738679111,
          0.00004628086753655225,
          0.0121255312114954,
          0.0011721663177013397,
          0.000016774656614870764,
          0.00043728394666686654,
          6.256260576265049e-7,
          1.453468367884625e-8,
          0.000005047202648711391,
          0.000049572696298127994,
          1.4800929371006077e-8,
          4.779507776220271e-7,
          0.00001588275881658774,
          3.6786597531167364e-13,
          0.00003424963870202191,
          1.4518867878787756e-11,
          0.0002979181008413434,
          0.00004287190313334577,
          1.6968191118849063e-7,
          0.00004942976011079736,
          0.00006739201489835978,
          0.000048343936214223504,
          0.0006029693176969886,
          0.000005259266799839679,
          2.554156053324874e-10,
          0.000023659440557821654,
          2.463059729507222e-7,
          7.244191357891339e-11,
          0.00010745392501121387,
          0.00005754679295932874,
          1.494653162901257e-14,
          1.0299091440790775e-11,
          1.0724585663979269e-8,
          0.00009315180795965716,
          0.004017439670860767,
          0.007840056903660297,
          0.0179742444306612,
          5.9132677421303015e-8,
          0.00007354167610174045,
          0.000005864542799827177,
          0.000005098113433632534,
          1.2639064550512558e-7,
          2.1674866346188537e-9,
          2.0033382938655642e-11,
          0.00000998012546915561,
          3.480682408962821e-8,
          1.2749034467018916e-11,
          1.9034434028952774e-9,
          9.148316132412404e-11,
          5.75023972881894e-10,
          4.010251188901748e-7,
          0.0000555880724277813,
          9.18760001411556e-9,
          0.00004116405398235656,
          0.0019509659614413977,
          0.028450388461351395,
          2.068314408631977e-8,
          0.0005569584318436682,
          0.000019160321244271472,
          0.00001944229006767273,
          7.808200197523263e-10,
          0.0015593472635373473,
          9.555707265462843e-7,
          7.529638992309629e-7,
          4.220387060660524e-14,
          0.00006206890247995034,
          0.0004918448976241052,
          4.9280145936192454e-12,
          2.8335879420637866e-8,
          5.7017650149926435e-12,
          0.00002822645728883799,
          1.3882217857891233e-12,
          2.738315111058896e-16,
          6.244206947293371e-14,
          3.307414049006399e-16,
          0.00004687557157012634,
          2.1768344505429527e-12,
          0.0000035898335681849858,
          0.0018341596005484462,
          3.528243530670494e-10,
          3.0790986622376837e-13,
          2.4265894849051506e-10,
          5.629147814545377e-9,
          7.404996754667437e-12,
          1.3907925375603036e-12,
          4.780495665021253e-16,
          0.0030956577975302935,
          4.5376662427543124e-8,
          0.0000072188954618468415,
          1.4279453541907877e-13,
          9.320142381930192e-15,
          9.926551136629769e-9,
          3.015022606578377e-11,
          1.6585876494445984e-7,
          4.49086704238863e-13,
          0.003558781696483493,
          6.424100695845425e-10,
          6.459666802789742e-15,
          3.941698967224738e-9,
          0.00006913870311109349,
          3.2865219168343174e-7,
          3.0606874863335284e-14,
          8.184321131921024e-8,
          0.00017928662418853492,
          2.1090166071879857e-11,
          0.0000012484580338423257,
          9.264220324212147e-8,
          0.0007584629929624498,
          0.0012009963393211365,
          1.1843476199757674e-10,
          0.008748488500714302,
          0.00003063492840738036,
          0.003013388952240348,
          0.00162307673599571,
          9.268038070331386e-8,
          0.00013897151802666485,
          0.000002485799313944881,
          0.000029251921660033986,
          0.002993095200508833,
          7.760581760551943e-11,
          7.895604200829076e-13,
          0.006855496671050787,
          0.000010752679372671992,
          0.004312158562242985,
          0.0000913531330297701,
          0.0030587732326239347,
          0.003421924775466323,
          0.016052892431616783,
          0.00006821406714152545,
          0.002945417771115899,
          0.000002114571543643251,
          2.6614728199092497e-8,
          0.00008593088568886742,
          0.000017763994037522934,
          0.013853800483047962,
          1.3134690846072772e-7,
          0.0028724120929837227,
          0.00099805963691324,
          0.001883538207039237,
          0.0015649042325094342,
          0.00005807122215628624,
          0.00006173555448185652,
          3.875464926750283e-7,
          4.064140083498424e-12,
          0.000024780145395197906,
          0.00991902220994234,
          0.0002848246367648244,
          0.00020003119425382465,
          0.00018785009160637856,
          0.001926313852891326,
          0.0002336743928026408,
          0.00000999286839942215,
          0.010804867371916771,
          4.2266803121707164e-13,
          0.0000840856519062072,
          0.0008975989767350256,
          2.0045989757022653e-8,
          1.1086928708436972e-8,
          0.0000781588678364642,
          1.0308362236727264e-12,
          4.510600888352201e-7,
          7.554055159175732e-9,
          0.000002494976342859445,
          7.52587709484942e-7,
          0.0001673414808465168,
          0.000009690967090136837,
          0.00002730481901380699,
          6.617882782576634e-13,
          0.0009244433022104204,
          5.416143267211737e-7,
          0.000028340091375866905,
          4.0273871348972534e-8,
          4.4602429388751474e-11,
          1.0644585968146592e-14,
          0.000017900976672535762,
          0.0000021655969248968177,
          4.0452555083447805e-8,
          6.739671598587904e-10,
          1.7143381159101523e-10,
          0.00017459427181165665,
          0.000005248609340924304,
          1.4412407267627714e-7,
          0.0000046144773477863055,
          2.0690601232331574e-8,
          0.00005617312854155898,
          2.1032388275443736e-8,
          9.44461197617541e-13,
          7.129646699410852e-12,
          0.00004968368011759594,
          1.6150261683556266e-11,
          3.4711171437162847e-11,
          9.894303154567297e-9,
          7.38050419391012e-12,
          0.000001121693003369728,
          1.635398066968108e-11,
          0.0005924648139625788,
          1.1901916084633424e-11,
          0.00011764538794523105,
          1.0456589905061264e-7,
          0.0037971925921738148,
          0.0004632493946701288,
          0.0011119975242763758,
          0.0006124626961536705,
          1.5780346864294192e-12,
          0.0022841598838567734,
          0.000026956700821756385,
          0.0011475260835140944,
          0.000007344585355895106,
          8.898806691526318e-11,
          0.0002860536042135209,
          5.06474168160409e-11,
          0.00021170178661122918,
          0.00001400962719344534,
          0.000493242812808603,
          0.0000016422496855739155,
          0.000006071000825613737,
          1.1452545578549689e-7,
          0.000003224705324100796,
          0.000018215481759398244,
          0.00001740018888085615,
          2.059045129954029e-7,
          0.0000033308492675132584,
          0.0000018709487221713061,
          0.00005843051621923223,
          0.0003306936414446682,
          0.0007098885835148394,
          8.779925764201835e-8,
          1.7753859538061079e-7,
          0.00007946480764076114,
          4.246439644361999e-8,
          0.00003537567317835055,
          0.0035186198074370623,
          3.1920147081088146e-11,
          8.450224697753583e-8,
          0.8955521583557129,
          0.9999562501907349,
          0.9999997019767761,
          0.9999696612358093,
          0.9999996423721313,
          0.9999913573265076,
          0.9999924302101135,
          0.9999917149543762,
          0.9999052882194519,
          0.9999554753303528,
          0.999853253364563,
          0.9999940395355225,
          0.9999973773956299,
          0.9998966455459595,
          0.9966111183166504,
          0.9999996423721313,
          0.9999958872795105,
          0.9999697208404541,
          0.9999988675117493,
          0.9999972581863403,
          0.9999737739562988,
          0.9999971985816956,
          0.9999614357948303,
          0.9999406933784485,
          0.9999806880950928,
          0.9999999403953552,
          0.999763011932373,
          0.9999886155128479,
          0.9999295473098755,
          0.9999921917915344,
          0.9999998211860657,
          0.9999284744262695,
          0.9999994039535522,
          0.9999069571495056,
          0.9997128248214722,
          0.9996317625045776,
          0.9968443512916565,
          0.9991674423217773,
          0.9999998807907104,
          0.9998196959495544,
          0.9999994039535522,
          0.9999590516090393,
          0.9999942779541016,
          0.9999322295188904,
          0.9997177720069885,
          0.9999817609786987,
          0.9999997615814209,
          0.9999955892562866,
          0.9999552369117737,
          0.9999996423721313,
          0.9999675154685974,
          0.9495988488197327,
          0.9999521374702454,
          0.9999968409538269,
          0.9999982714653015,
          0.9999975562095642,
          0.9103705883026123,
          0.9990866184234619,
          0.979870080947876,
          0.9771112203598022,
          0.9569578170776367,
          0.9994258880615234,
          0.999998927116394,
          0.9671664834022522,
          0.9999597072601318,
          0.9870117902755737,
          0.9664278030395508,
          0.9999398589134216,
          0.9998510479927063,
          0.9146728515625,
          0.9999587535858154,
          0.985270082950592,
          0.8076767921447754,
          0.9793601036071777,
          0.9786028861999512,
          0.000002205522605436272,
          0.9999904036521912,
          0.9998301863670349,
          0.9999632239341736,
          0.9999987483024597,
          0.9998489022254944,
          0.9999874830245972,
          0.9965022206306458,
          0.9999898672103882,
          0.9999629855155945,
          0.9999467730522156,
          0.9999996423721313,
          0.9949617981910706,
          0.9999958872795105,
          0.9999591112136841,
          0.999977707862854,
          0.9999523162841797,
          0.9973604083061218,
          0.9999338984489441,
          0.999997615814209,
          0.999794065952301,
          0.999998152256012,
          0.9999982118606567,
          0.9999979138374329,
          0.9999997615814209,
          0.9999959468841553,
          0.9999948143959045,
          0.9997166395187378,
          0.9935640096664429,
          0.99966961145401,
          0.9999381899833679,
          0.9873401522636414,
          0.9999805688858032,
          0.9999995827674866,
          0.9999997615814209,
          0.9998050928115845,
          0.999891459941864,
          0.9999997019767761,
          0.9999999403953552,
          0.9999616146087646,
          0.9978600144386292,
          0.9999999403953552,
          0.999940037727356,
          0.999998927116394,
          0.9999732375144958,
          0.9636303782463074,
          0.9999531507492065,
          0.997425377368927,
          0.9947549700737,
          0.999888002872467,
          0.9999629855155945,
          0.9999995827674866,
          0.9999321103096008,
          0.9996576905250549,
          0.9998359084129333,
          0.9999840259552002,
          0.9998698234558105,
          0.9997944235801697,
          0.9999828934669495,
          0.9998992085456848,
          0.9999082684516907,
          0.9999779462814331,
          0.999671220779419,
          0.9999970197677612,
          0.9999920725822449,
          0.999953031539917,
          0.9999765157699585,
          0.9999940395355225,
          0.9988365769386292,
          0.9997467994689941,
          0.9999328255653381,
          0.9999997615814209,
          0.9999998211860657,
          0.9996263384819031,
          0.9996024966239929,
          0.9999498724937439,
          0.9981662034988403,
          0.9999991059303284,
          0.9999294281005859,
          0.9999935626983643,
          0.9999264478683472,
          0.9994232654571533,
          0.9999982714653015,
          0.9995266199111938,
          0.9999523162841797,
          0.9999907612800598,
          0.9921834468841553,
          0.9999784231185913,
          0.9999534487724304,
          0.9996271133422852,
          0.9998356699943542,
          0.9992749094963074,
          0.999741792678833,
          0.9662928581237793,
          0.999315619468689,
          0.9999937415122986,
          0.9997904896736145,
          0.9999796152114868,
          0.9999522566795349,
          0.9999719858169556,
          0.999929666519165,
          0.9858853816986084,
          0.9998201727867126,
          0.9581670761108398,
          0.9968617558479309,
          0.999932050704956,
          0.9999306201934814,
          0.9999009370803833,
          0.9998424649238586,
          0.9999010562896729,
          0.99973464012146,
          0.9999961256980896,
          0.9999645352363586,
          0.9999668598175049,
          0.999999463558197,
          0.9995244145393372,
          0.9999993443489075,
          0.999851644039154,
          0.9983466863632202,
          0.9996286630630493,
          0.9996683597564697,
          0.9998010396957397,
          0.9978725910186768,
          0.9999985694885254,
          0.9995778203010559,
          0.9995275139808655,
          0.9979146718978882,
          0.9999056458473206,
          0.9999511241912842,
          0.9999032616615295,
          0.9999998807907104,
          0.9999502897262573,
          0.9999958276748657,
          0.9999854564666748,
          0.9980159401893616,
          0.9999468326568604,
          0.9999998211860657,
          0.9997633695602417,
          0.9999960064888,
          0.9999747276306152,
          0.9999871253967285,
          0.9999998807907104,
          0.9993448257446289,
          0.9969485998153687,
          0.997966468334198,
          0.9998751282691956,
          0.9999560713768005,
          0.9999992251396179,
          0.9999980330467224,
          0.9997809529304504,
          0.9999989867210388,
          0.9980475902557373,
          0.9999979138374329,
          0.9999901056289673,
          0.9999722242355347,
          0.9999662637710571,
          0.9999988675117493,
          0.9999996423721313,
          0.9999993443489075,
          0.9999948143959045,
          0.9999915957450867,
          0.999981164932251,
          0.9995071291923523,
          0.9999992847442627,
          0.9999991059303284,
          0.9999925494194031,
          0.9970225691795349,
          0.9999964237213135,
          0.9999515414237976,
          0.9999732971191406,
          0.9999927878379822,
          0.9999948740005493,
          0.9999994039535522,
          0.9999865293502808,
          0.9953829646110535,
          0.9999708533287048,
          0.9999958872795105,
          0.9999687671661377,
          0.9999840259552002,
          0.9294620156288147,
          0.9999985694885254,
          0.9998648166656494,
          0.9999982714653015,
          0.999999463558197,
          0.9880754947662354,
          0.9967842698097229,
          0.9998308420181274,
          0.9999995231628418,
          0.9999997615814209,
          0.9998785853385925,
          0.9999828934669495,
          0.9993827939033508,
          0.9999904036521912,
          0.9999704360961914,
          0.9999968409538269,
          0.9999963641166687,
          0.9998251795768738,
          0.9999906420707703,
          0.9999995231628418,
          0.9999992251396179,
          0.9999997019767761,
          0.999999463558197,
          0.9999990463256836,
          0.9999998807907104,
          0.9999996423721313,
          0.999996542930603,
          0.9999979734420776,
          0.9999968409538269,
          0.9999985694885254,
          0.9999976754188538,
          0.9999967217445374,
          0.9999743700027466,
          0.9999913573265076,
          0.9998555183410645,
          0.9999180436134338,
          0.9999646544456482,
          0.9988890290260315,
          0.9987515211105347,
          0.999916136264801,
          1,
          0.9999989867210388,
          0.9999998807907104,
          0.9999998807907104,
          0.9999973177909851,
          0.9991708993911743,
          0.9999470114707947,
          0.999876081943512,
          0.9999992847442627,
          0.9999998807907104,
          0.9998458623886108,
          0.9997689127922058,
          0.9999760985374451,
          0.9999969005584717,
          0.9999980926513672,
          0.9999998807907104,
          0.9999996423721313,
          0.9999997615814209,
          0.9999998211860657,
          0.9999998807907104,
          0.9999998211860657,
          0.9999997615814209,
          0.9999842643737793,
          0.9999893307685852,
          0.9999852776527405,
          0.9992191195487976,
          0.9994856715202332,
          0.9997745156288147,
          0.9999939799308777,
          0.9999772310256958,
          0.9999980330467224,
          0.9993909001350403,
          0.999998927116394,
          0.9999748468399048,
          0.9998817443847656,
          0.9999992251396179,
          0.9999973177909851,
          0.9999963045120239,
          0.9999979734420776,
          0.9999998807907104,
          0.9999985098838806,
          0.9974913001060486,
          0.9999927282333374,
          0.9997424483299255,
          0.9998384714126587,
          0.9999969005584717,
          0.9999955892562866,
          0.9999158978462219,
          0.9997496604919434,
          0.9999918341636658,
          0.9999807476997375,
          0.9998895525932312,
          0.9999402165412903,
          0.9999763369560242,
          0.9957478046417236,
          0.999981701374054,
          0.9998424649238586,
          0.9949153661727905,
          0.9998735189437866,
          0.9999527335166931,
          0.9997907876968384,
          0.9999831914901733,
          0.9999660849571228,
          0.9999990463256836,
          0.9999980926513672,
          0.9999862313270569,
          0.9999991059303284,
          0.9999958276748657,
          0.9999355673789978,
          0.9999756813049316,
          0.999771773815155,
          0.9999813437461853,
          0.9999127388000488,
          0.9998587369918823,
          0.9999964833259583,
          0.9999986886978149,
          0.9998580813407898,
          0.999972403049469,
          0.9886679649353027,
          0.9990512728691101,
          0.9999513626098633,
          0.9999514818191528,
          0.9998825192451477,
          0.9998951554298401,
          0.999980092048645,
          0.9997892379760742,
          0.9999969601631165,
          0.8218201994895935,
          0.9998290538787842,
          0.999992311000824,
          0.9986354112625122,
          0.9999977350234985,
          0.9999998211860657,
          0.9972366690635681,
          0.9999947547912598,
          0.9999759197235107,
          0.9997140765190125,
          0.9999765753746033,
          0.9999918341636658,
          0.9999976754188538,
          0.9999997615814209,
          0.9999975562095642,
          0.9966766834259033,
          0.9970069527626038,
          0.9714796543121338,
          0.9998443126678467,
          0.9998984336853027,
          0.9999578595161438,
          0.9999971389770508,
          0.999917209148407,
          0.9996019005775452,
          0.9999938607215881,
          0.9999967217445374,
          0.9989210963249207,
          0.9999857544898987,
          0.9999967813491821,
          0.9983504414558411,
          0.9999936819076538,
          0.999641478061676,
          0.9999999403953552,
          0.9999998807907104,
          0.9999983310699463,
          0.9999948143959045,
          0.9999929666519165,
          0.9999947547912598,
          0.9993738532066345,
          0.9999993443489075,
          0.9999968409538269,
          0.999996542930603,
          0.9999989867210388,
          0.9993325471878052,
          0.9999992847442627,
          0.9999983310699463,
          0.9999979138374329,
          0.9987412691116333,
          0.9999145269393921,
          0.9970701932907104,
          0.9999974966049194,
          0.9448615312576294,
          0.9999823570251465,
          0.9999876618385315,
          0.9999897480010986,
          0.9998661875724792,
          0.9991595149040222,
          0.999811053276062,
          0.9995146989822388,
          0.989300012588501,
          0.9999984502792358,
          0.9999547004699707,
          0.9999994039535522,
          0.9995390176773071,
          0.9999931454658508,
          0.9999997615814209,
          0.9998988509178162,
          0.9999854564666748,
          0.9999796152114868,
          0.9999811053276062,
          0.9999966621398926,
          0.999980628490448,
          0.999999463558197,
          0.9999830722808838,
          0.999994695186615,
          0.9999787211418152,
          0.9999918937683105,
          0.9999962449073792,
          0.9999995827674866,
          0.9999895095825195,
          0.9998952746391296,
          0.9999565482139587,
          0.9999976754188538,
          0.9999823570251465,
          0.9999739527702332,
          0.999970018863678,
          0.9999980926513672,
          0.9999817609786987,
          0.9999992847442627,
          0.9999068975448608,
          0.9999862909317017,
          0.9999938011169434,
          0.9999991059303284,
          0.9999997615814209,
          0.9999999403953552,
          0.9995926022529602,
          0.9999987483024597,
          0.9999915361404419,
          0.9999999403953552,
          0.999997615814209,
          0.9999988675117493,
          0.993327796459198,
          0.997725248336792,
          0.9598702788352966,
          0.9978991746902466,
          0.9994258880615234,
          0.996601402759552,
          0.9771112203598022,
          0.9946034550666809,
          0.999997615814209,
          0.9894641041755676,
          0.9998682737350464,
          0.9944021105766296,
          0.9780706167221069,
          0.9981198310852051,
          0.9671664834022522,
          0.9999597072601318,
          0.8674497604370117,
          0.9669736623764038,
          0.9999587535858154,
          0.9999799728393555,
          0.9999998807907104,
          0.9999998211860657,
          0.9999783039093018,
          0.9993045926094055,
          0.9999290704727173,
          0.9995637536048889,
          0.9802525043487549,
          0.9990004301071167,
          0.9978972673416138,
          0.999957799911499,
          0.9998286366462708,
          0.9998711943626404,
          0.000002205522605436272,
          0.998896598815918,
          0.999983549118042,
          0.9997586607933044,
          0.999981164932251,
          0.9999750256538391,
          0.9998165965080261,
          0.979870080947876,
          0.7956660389900208,
          0.9999978542327881,
          0.9999915361404419,
          0.9999855756759644,
          0.9999848008155823,
          0.999999463558197,
          0.9999974370002747,
          0.9999979138374329,
          0.9999976754188538,
          0.9993084669113159,
          0.9999979138374329,
          0.9995558261871338,
          0.9999983310699463,
          0.9999678134918213,
          0.9999851584434509,
          0.9999001622200012,
          0.9999987483024597,
          0.9992009401321411,
          0.9999988079071045,
          0.9999963045120239,
          0.9988340139389038,
          0.9999997615814209,
          0.9999987483024597,
          0.999997615814209,
          0.9999982118606567,
          0.9999998807907104,
          0.9999985694885254,
          0.999984622001648,
          0.9999936819076538,
          0.9999995231628418,
          0.9999634623527527,
          0.9999868869781494,
          0.9990438222885132,
          0.9999176859855652,
          0.9999751448631287,
          0.8819707036018372,
          0.9999974370002747,
          0.999999463558197,
          0.9999996423721313,
          0.9999880194664001,
          0.9993125200271606,
          0.9999970197677612,
          0.9999983906745911,
          0.9999154806137085,
          0.9999722838401794,
          0.999880313873291,
          0.9996032118797302,
          0.9998899698257446,
          0.9999997615814209,
          0.9999997615814209,
          0.9998925924301147,
          0.9999072551727295,
          0.9991466403007507,
          0.9999451041221619,
          0.9999907612800598,
          0.9903571009635925,
          0.9853120446205139,
          0.9999978542327881,
          0.9998455047607422,
          0.9999986290931702,
          0.9999980926513672,
          0.9973427057266235,
          0.9997498989105225,
          0.9831141233444214,
          0.9999998211860657,
          0.9999138712882996,
          0.9999683499336243,
          0.9991154074668884,
          0.9999976754188538,
          0.9999929666519165,
          0.9998993277549744,
          0.9999979734420776,
          0.9999927878379822,
          0.9999988079071045,
          0.9999997019767761,
          0.9999992847442627,
          0.9995618462562561,
          0.9998500347137451,
          0.9990726113319397,
          0.9940366148948669,
          0.9999675154685974,
          0.9999316930770874,
          0.9999926090240479,
          0.999999463558197,
          0.9999963045120239,
          0.9999893307685852,
          0.9999682903289795,
          0.9999977946281433,
          0.9999361038208008,
          0.9998060464859009,
          0.9999983906745911,
          0.9999958276748657,
          0.9999807476997375,
          0.9999858140945435,
          0.9997677803039551,
          0.9999502897262573,
          0.9999994039535522,
          0.9999992251396179,
          0.9995120167732239,
          0.9999960064888,
          0.9999999403953552,
          0.9999969005584717,
          0.9999988079071045,
          0.9999885559082031,
          0.9999998807907104,
          0.9999977350234985,
          0.9999661445617676,
          0.9999939799308777,
          0.9999895691871643,
          0.9998907446861267,
          0.9999995231628418,
          0.9999728798866272,
          0.9997861981391907,
          0.9999951720237732,
          0.9995556473731995,
          0.999998927116394,
          0.9999999403953552,
          0.999997079372406,
          0.9999999403953552,
          0.9999825954437256,
          0.9999719858169556,
          0.9999963045120239,
          0.9999974966049194,
          0.9999946355819702,
          0.9999693632125854,
          0.9999991655349731,
          0.9999950528144836,
          0.999944806098938,
          0.9997313022613525,
          0.999994158744812,
          0.999998152256012,
          0.9999986886978149,
          0.9998422265052795,
          0.9999980926513672,
          0.9999130368232727,
          0.9998475313186646,
          0.9969423413276672,
          0.9999989867210388,
          0.9999997019767761,
          0.9999991059303284,
          0.9999904632568359,
          0.9999982118606567,
          0.999985933303833,
          0.9999991655349731,
          0.9999949336051941,
          0.9995321035385132,
          0.9999975562095642,
          0.9999988079071045,
          0.9999951124191284,
          0.9999804496765137,
          0.9999905824661255,
          0.9996967911720276,
          0.9999911785125732,
          0.9999963641166687,
          0.9999778270721436,
          0.9999985694885254,
          0.9999908804893494,
          0.9999039769172668,
          0.9999761581420898,
          0.9999997615814209,
          0.9999982118606567,
          0.9999960064888,
          0.9996720552444458,
          0.9999996423721313,
          0.9999991059303284,
          0.9999987483024597,
          0.9999709725379944,
          0.9999067783355713,
          0.9999998807907104,
          0.9999997019767761,
          0.9999998807907104,
          0.9999995827674866,
          0.9999998211860657,
          0.9999995231628418,
          0.9999995231628418,
          0.9999085664749146,
          0.9999969005584717,
          0.9999893307685852,
          0.9999216198921204,
          0.9999703764915466,
          0.9999997615814209,
          0.9999960660934448,
          0.9999300837516785,
          0.9999681711196899,
          0.9999995827674866,
          0.9999988675117493,
          0.9950887560844421,
          0.9999917149543762,
          0.999997079372406,
          0.9999622702598572,
          0.9922685027122498,
          0.9999603629112244,
          0.9999855756759644,
          0.9997396469116211,
          0.9999927878379822,
          0.9999970197677612,
          0.9970829486846924,
          0.9994764924049377,
          0.9999921321868896,
          0.9999963641166687,
          0.9999712109565735,
          0.9999967813491821,
          0.9996476173400879,
          0.9995869994163513,
          0.7754833102226257,
          0.996774435043335,
          0.9874899983406067,
          0.9997937083244324,
          0.9999870657920837,
          0.9998344779014587,
          0.9998562932014465,
          0.9999991655349731,
          0.9994919896125793,
          0.9833084940910339,
          0.9979616403579712,
          0.999973714351654,
          0.999937891960144,
          0.9996787905693054,
          0.9999075531959534,
          0.9987655878067017,
          0.9940838813781738,
          0.9999402761459351,
          0.9999415874481201,
          0.9882479310035706,
          0.9999857544898987,
          0.9999988675117493,
          0.9999333620071411,
          0.9999493360519409,
          0.9984896779060364,
          0.9987342357635498,
          0.9998875856399536,
          0.9996112585067749,
          0.9987196326255798,
          0.9995649456977844,
          0.9991123676300049,
          0.9992057085037231,
          0.9998347759246826,
          0.998134195804596,
          0.9981437921524048,
          0.999999463558197,
          0.9973294734954834,
          0.9987054467201233,
          0.9999698400497437,
          0.9999929070472717,
          0.9608141779899597,
          0.9999677538871765,
          0.999868631362915,
          0.9999766945838928,
          0.9864104390144348,
          0.9999958276748657,
          0.9987939596176147,
          0.9999195337295532,
          0.9999910593032837,
          0.9988766312599182,
          0.9932040572166443,
          0.9983510971069336,
          0.997594952583313,
          0.9999870657920837,
          0.9988475441932678,
          0.9997650980949402,
          0.9999264478683472,
          0.9999472498893738,
          0.9980858564376831,
          0.9999967217445374,
          0.9995682835578918,
          0.9998307824134827,
          0.9997045397758484,
          0.9999460577964783,
          0.9990882277488708,
          0.9992764592170715,
          0.9999949932098389,
          0.9999996423721313,
          0.9999557733535767,
          0.9998360872268677,
          0.9994638562202454,
          0.9809168577194214,
          0.9984506964683533,
          0.9999943971633911,
          0.9999986290931702,
          0.999998927116394,
          0.9999305009841919,
          0.9998937249183655,
          0.9995025396347046,
          0.999996542930603,
          0.999485433101654,
          0.9998116493225098,
          0.9999900460243225,
          0.9999958276748657,
          0.9999992251396179,
          0.9999977946281433,
          0.9999913573265076,
          0.9999254941940308,
          0.999971330165863,
          0.9999269247055054,
          0.9997952580451965,
          0.9999988079071045,
          0.9999980330467224,
          0.9998493194580078,
          0.992404580116272,
          0.9999931454658508,
          0.9996355772018433,
          0.9999905228614807,
          0.9999955892562866,
          0.9999943971633911,
          0.9999889731407166,
          0.9999551177024841,
          0.9997149705886841,
          0.9999650716781616,
          0.9953852891921997,
          0.998673141002655,
          0.9999953508377075,
          0.9997401237487793,
          0.9999722838401794,
          0.9974722266197205,
          0.9999997615814209,
          0.9999996423721313,
          0.9999942779541016,
          0.9937046766281128,
          0.9999122619628906,
          0.9998749494552612,
          0.9999884963035583,
          0.99997878074646,
          0.9999955892562866,
          0.9999749660491943,
          0.9996567964553833,
          0.9910477995872498,
          0.9991957545280457,
          0.9897743463516235,
          0.9999707341194153,
          0.9999862909317017,
          0.9999970197677612,
          0.9999711513519287,
          0.9997805953025818,
          0.9997895956039429,
          0.9999819993972778,
          0.999988853931427,
          0.9998750686645508,
          0.9999375343322754,
          0.999997079372406,
          0.9999903440475464,
          0.9999987483024597,
          0.9999299049377441,
          0.9999850988388062,
          0.9991520643234253,
          0.9999942779541016,
          0.9998603463172913,
          0.9999953508377075,
          0.9977608323097229,
          0.9982733726501465,
          0.9987037777900696,
          0.9999842643737793,
          0.9999146461486816,
          0.9984543323516846,
          0.9999884366989136,
          0.8647289276123047,
          0.9999920129776001,
          0.9999963045120239,
          0.9997756481170654,
          0.9998005628585815,
          0.9999138116836548,
          0.9935509562492371,
          0.9999938607215881,
          0.9999837875366211,
          0.9997937083244324,
          0.9999914169311523,
          0.999872088432312,
          0.9806993007659912,
          0.9999933242797852,
          0.9997725486755371,
          0.9990872144699097,
          0.9998871684074402,
          0.9905375242233276,
          0.9931325316429138,
          0.9999977946281433,
          0.9996615648269653,
          0.9999423027038574,
          0.9999412298202515,
          0.9997825622558594,
          0.9999982714653015,
          0.9997284412384033,
          0.9999791979789734,
          0.9969772696495056,
          0.9999635815620422,
          0.9998720288276672,
          0.9999976754188538,
          0.999153196811676,
          0.9841394424438477,
          0.9999666810035706,
          0.9991278648376465,
          0.9998957514762878,
          0.999636709690094,
          0.9999257922172546,
          0.9999974966049194,
          0.9999997019767761,
          0.9998313188552856,
          0.9999926090240479,
          0.9999962449073792,
          0.9930219650268555,
          0.9999988675117493,
          0.999896228313446,
          0.9988589286804199,
          0.9999536275863647,
          0.9991893768310547,
          0.9999983906745911,
          0.9999990463256836,
          0.998693585395813,
          0.999343991279602,
          0.9999998807907104,
          0.9999998807907104,
          0.9994436502456665,
          0.9980707168579102,
          0.9999927282333374,
          0.9999806880950928,
          0.9999999403953552,
          0.9995835423469543,
          0.9928547143936157,
          0.9976812601089478,
          0.9999831914901733,
          0.9999485611915588,
          0.9999310970306396,
          0.9968975782394409,
          0.9999963641166687,
          0.9999809861183167,
          0.999983549118042,
          0.9975825548171997,
          0.9999189972877502,
          0.9998770356178284,
          0.9987434148788452,
          0.9998692870140076,
          0.9999886751174927,
          0.9999935626983643,
          0.9966416358947754,
          0.9999733567237854,
          0.9993323683738708,
          0.99996417760849,
          0.9999920725822449,
          0.9999523758888245,
          0.9997768402099609,
          0.9996621012687683,
          0.99860680103302,
          0.9556634426116943,
          0.9999766945838928,
          0.9999855160713196,
          0.9999697208404541,
          0.9948967695236206,
          0.9999998211860657,
          0.9999417662620544,
          0.9999989867210388,
          0.9999629259109497,
          0.9998900890350342,
          0.9998988509178162,
          0.9997698664665222,
          0.999968409538269,
          0.9999986886978149,
          0.9998839497566223,
          0.9998669624328613,
          0.9997413754463196,
          0.9999780654907227,
          0.999609112739563,
          0.9988170266151428,
          0.9997961521148682,
          0.9998718500137329,
          0.9998936057090759,
          0.9999464154243469,
          0.9944348335266113,
          0.9999555945396423,
          0.9999651312828064,
          0.9999397397041321,
          0.9517848491668701,
          0.9999511241912842,
          0.9999909400939941,
          0.9887876510620117,
          0.9994103908538818,
          0.9996726512908936,
          0.9968221187591553,
          0.999997079372406,
          0.9999955892562866,
          0.9999370574951172,
          0.9999887347221375,
          0.9999863505363464,
          0.9997962713241577,
          0.9998021721839905,
          0.9999864101409912,
          0.9999784231185913,
          0.9177473783493042,
          0.9593329429626465,
          0.9940313100814819,
          0.9883756637573242,
          0.18248765170574188,
          0.036937613040208817,
          0.3209775388240814,
          0.8303590416908264,
          0.9930354356765747,
          0.8846578001976013,
          0.919050395488739,
          0.9989739060401917,
          0.9117683172225952,
          0.0009010616922751069,
          0.001186226843856275
         ],
         "xaxis": "x",
         "yaxis": "y"
        }
       ],
       "layout": {
        "barmode": "relative",
        "legend": {
         "title": {
          "text": "variable"
         },
         "tracegroupgap": 0
        },
        "margin": {
         "t": 60
        },
        "template": {
         "data": {
          "bar": [
           {
            "error_x": {
             "color": "#2a3f5f"
            },
            "error_y": {
             "color": "#2a3f5f"
            },
            "marker": {
             "line": {
              "color": "#E5ECF6",
              "width": 0.5
             },
             "pattern": {
              "fillmode": "overlay",
              "size": 10,
              "solidity": 0.2
             }
            },
            "type": "bar"
           }
          ],
          "barpolar": [
           {
            "marker": {
             "line": {
              "color": "#E5ECF6",
              "width": 0.5
             },
             "pattern": {
              "fillmode": "overlay",
              "size": 10,
              "solidity": 0.2
             }
            },
            "type": "barpolar"
           }
          ],
          "carpet": [
           {
            "aaxis": {
             "endlinecolor": "#2a3f5f",
             "gridcolor": "white",
             "linecolor": "white",
             "minorgridcolor": "white",
             "startlinecolor": "#2a3f5f"
            },
            "baxis": {
             "endlinecolor": "#2a3f5f",
             "gridcolor": "white",
             "linecolor": "white",
             "minorgridcolor": "white",
             "startlinecolor": "#2a3f5f"
            },
            "type": "carpet"
           }
          ],
          "choropleth": [
           {
            "colorbar": {
             "outlinewidth": 0,
             "ticks": ""
            },
            "type": "choropleth"
           }
          ],
          "contour": [
           {
            "colorbar": {
             "outlinewidth": 0,
             "ticks": ""
            },
            "colorscale": [
             [
              0,
              "#0d0887"
             ],
             [
              0.1111111111111111,
              "#46039f"
             ],
             [
              0.2222222222222222,
              "#7201a8"
             ],
             [
              0.3333333333333333,
              "#9c179e"
             ],
             [
              0.4444444444444444,
              "#bd3786"
             ],
             [
              0.5555555555555556,
              "#d8576b"
             ],
             [
              0.6666666666666666,
              "#ed7953"
             ],
             [
              0.7777777777777778,
              "#fb9f3a"
             ],
             [
              0.8888888888888888,
              "#fdca26"
             ],
             [
              1,
              "#f0f921"
             ]
            ],
            "type": "contour"
           }
          ],
          "contourcarpet": [
           {
            "colorbar": {
             "outlinewidth": 0,
             "ticks": ""
            },
            "type": "contourcarpet"
           }
          ],
          "heatmap": [
           {
            "colorbar": {
             "outlinewidth": 0,
             "ticks": ""
            },
            "colorscale": [
             [
              0,
              "#0d0887"
             ],
             [
              0.1111111111111111,
              "#46039f"
             ],
             [
              0.2222222222222222,
              "#7201a8"
             ],
             [
              0.3333333333333333,
              "#9c179e"
             ],
             [
              0.4444444444444444,
              "#bd3786"
             ],
             [
              0.5555555555555556,
              "#d8576b"
             ],
             [
              0.6666666666666666,
              "#ed7953"
             ],
             [
              0.7777777777777778,
              "#fb9f3a"
             ],
             [
              0.8888888888888888,
              "#fdca26"
             ],
             [
              1,
              "#f0f921"
             ]
            ],
            "type": "heatmap"
           }
          ],
          "heatmapgl": [
           {
            "colorbar": {
             "outlinewidth": 0,
             "ticks": ""
            },
            "colorscale": [
             [
              0,
              "#0d0887"
             ],
             [
              0.1111111111111111,
              "#46039f"
             ],
             [
              0.2222222222222222,
              "#7201a8"
             ],
             [
              0.3333333333333333,
              "#9c179e"
             ],
             [
              0.4444444444444444,
              "#bd3786"
             ],
             [
              0.5555555555555556,
              "#d8576b"
             ],
             [
              0.6666666666666666,
              "#ed7953"
             ],
             [
              0.7777777777777778,
              "#fb9f3a"
             ],
             [
              0.8888888888888888,
              "#fdca26"
             ],
             [
              1,
              "#f0f921"
             ]
            ],
            "type": "heatmapgl"
           }
          ],
          "histogram": [
           {
            "marker": {
             "pattern": {
              "fillmode": "overlay",
              "size": 10,
              "solidity": 0.2
             }
            },
            "type": "histogram"
           }
          ],
          "histogram2d": [
           {
            "colorbar": {
             "outlinewidth": 0,
             "ticks": ""
            },
            "colorscale": [
             [
              0,
              "#0d0887"
             ],
             [
              0.1111111111111111,
              "#46039f"
             ],
             [
              0.2222222222222222,
              "#7201a8"
             ],
             [
              0.3333333333333333,
              "#9c179e"
             ],
             [
              0.4444444444444444,
              "#bd3786"
             ],
             [
              0.5555555555555556,
              "#d8576b"
             ],
             [
              0.6666666666666666,
              "#ed7953"
             ],
             [
              0.7777777777777778,
              "#fb9f3a"
             ],
             [
              0.8888888888888888,
              "#fdca26"
             ],
             [
              1,
              "#f0f921"
             ]
            ],
            "type": "histogram2d"
           }
          ],
          "histogram2dcontour": [
           {
            "colorbar": {
             "outlinewidth": 0,
             "ticks": ""
            },
            "colorscale": [
             [
              0,
              "#0d0887"
             ],
             [
              0.1111111111111111,
              "#46039f"
             ],
             [
              0.2222222222222222,
              "#7201a8"
             ],
             [
              0.3333333333333333,
              "#9c179e"
             ],
             [
              0.4444444444444444,
              "#bd3786"
             ],
             [
              0.5555555555555556,
              "#d8576b"
             ],
             [
              0.6666666666666666,
              "#ed7953"
             ],
             [
              0.7777777777777778,
              "#fb9f3a"
             ],
             [
              0.8888888888888888,
              "#fdca26"
             ],
             [
              1,
              "#f0f921"
             ]
            ],
            "type": "histogram2dcontour"
           }
          ],
          "mesh3d": [
           {
            "colorbar": {
             "outlinewidth": 0,
             "ticks": ""
            },
            "type": "mesh3d"
           }
          ],
          "parcoords": [
           {
            "line": {
             "colorbar": {
              "outlinewidth": 0,
              "ticks": ""
             }
            },
            "type": "parcoords"
           }
          ],
          "pie": [
           {
            "automargin": true,
            "type": "pie"
           }
          ],
          "scatter": [
           {
            "fillpattern": {
             "fillmode": "overlay",
             "size": 10,
             "solidity": 0.2
            },
            "type": "scatter"
           }
          ],
          "scatter3d": [
           {
            "line": {
             "colorbar": {
              "outlinewidth": 0,
              "ticks": ""
             }
            },
            "marker": {
             "colorbar": {
              "outlinewidth": 0,
              "ticks": ""
             }
            },
            "type": "scatter3d"
           }
          ],
          "scattercarpet": [
           {
            "marker": {
             "colorbar": {
              "outlinewidth": 0,
              "ticks": ""
             }
            },
            "type": "scattercarpet"
           }
          ],
          "scattergeo": [
           {
            "marker": {
             "colorbar": {
              "outlinewidth": 0,
              "ticks": ""
             }
            },
            "type": "scattergeo"
           }
          ],
          "scattergl": [
           {
            "marker": {
             "colorbar": {
              "outlinewidth": 0,
              "ticks": ""
             }
            },
            "type": "scattergl"
           }
          ],
          "scattermapbox": [
           {
            "marker": {
             "colorbar": {
              "outlinewidth": 0,
              "ticks": ""
             }
            },
            "type": "scattermapbox"
           }
          ],
          "scatterpolar": [
           {
            "marker": {
             "colorbar": {
              "outlinewidth": 0,
              "ticks": ""
             }
            },
            "type": "scatterpolar"
           }
          ],
          "scatterpolargl": [
           {
            "marker": {
             "colorbar": {
              "outlinewidth": 0,
              "ticks": ""
             }
            },
            "type": "scatterpolargl"
           }
          ],
          "scatterternary": [
           {
            "marker": {
             "colorbar": {
              "outlinewidth": 0,
              "ticks": ""
             }
            },
            "type": "scatterternary"
           }
          ],
          "surface": [
           {
            "colorbar": {
             "outlinewidth": 0,
             "ticks": ""
            },
            "colorscale": [
             [
              0,
              "#0d0887"
             ],
             [
              0.1111111111111111,
              "#46039f"
             ],
             [
              0.2222222222222222,
              "#7201a8"
             ],
             [
              0.3333333333333333,
              "#9c179e"
             ],
             [
              0.4444444444444444,
              "#bd3786"
             ],
             [
              0.5555555555555556,
              "#d8576b"
             ],
             [
              0.6666666666666666,
              "#ed7953"
             ],
             [
              0.7777777777777778,
              "#fb9f3a"
             ],
             [
              0.8888888888888888,
              "#fdca26"
             ],
             [
              1,
              "#f0f921"
             ]
            ],
            "type": "surface"
           }
          ],
          "table": [
           {
            "cells": {
             "fill": {
              "color": "#EBF0F8"
             },
             "line": {
              "color": "white"
             }
            },
            "header": {
             "fill": {
              "color": "#C8D4E3"
             },
             "line": {
              "color": "white"
             }
            },
            "type": "table"
           }
          ]
         },
         "layout": {
          "annotationdefaults": {
           "arrowcolor": "#2a3f5f",
           "arrowhead": 0,
           "arrowwidth": 1
          },
          "autotypenumbers": "strict",
          "coloraxis": {
           "colorbar": {
            "outlinewidth": 0,
            "ticks": ""
           }
          },
          "colorscale": {
           "diverging": [
            [
             0,
             "#8e0152"
            ],
            [
             0.1,
             "#c51b7d"
            ],
            [
             0.2,
             "#de77ae"
            ],
            [
             0.3,
             "#f1b6da"
            ],
            [
             0.4,
             "#fde0ef"
            ],
            [
             0.5,
             "#f7f7f7"
            ],
            [
             0.6,
             "#e6f5d0"
            ],
            [
             0.7,
             "#b8e186"
            ],
            [
             0.8,
             "#7fbc41"
            ],
            [
             0.9,
             "#4d9221"
            ],
            [
             1,
             "#276419"
            ]
           ],
           "sequential": [
            [
             0,
             "#0d0887"
            ],
            [
             0.1111111111111111,
             "#46039f"
            ],
            [
             0.2222222222222222,
             "#7201a8"
            ],
            [
             0.3333333333333333,
             "#9c179e"
            ],
            [
             0.4444444444444444,
             "#bd3786"
            ],
            [
             0.5555555555555556,
             "#d8576b"
            ],
            [
             0.6666666666666666,
             "#ed7953"
            ],
            [
             0.7777777777777778,
             "#fb9f3a"
            ],
            [
             0.8888888888888888,
             "#fdca26"
            ],
            [
             1,
             "#f0f921"
            ]
           ],
           "sequentialminus": [
            [
             0,
             "#0d0887"
            ],
            [
             0.1111111111111111,
             "#46039f"
            ],
            [
             0.2222222222222222,
             "#7201a8"
            ],
            [
             0.3333333333333333,
             "#9c179e"
            ],
            [
             0.4444444444444444,
             "#bd3786"
            ],
            [
             0.5555555555555556,
             "#d8576b"
            ],
            [
             0.6666666666666666,
             "#ed7953"
            ],
            [
             0.7777777777777778,
             "#fb9f3a"
            ],
            [
             0.8888888888888888,
             "#fdca26"
            ],
            [
             1,
             "#f0f921"
            ]
           ]
          },
          "colorway": [
           "#636efa",
           "#EF553B",
           "#00cc96",
           "#ab63fa",
           "#FFA15A",
           "#19d3f3",
           "#FF6692",
           "#B6E880",
           "#FF97FF",
           "#FECB52"
          ],
          "font": {
           "color": "#2a3f5f"
          },
          "geo": {
           "bgcolor": "white",
           "lakecolor": "white",
           "landcolor": "#E5ECF6",
           "showlakes": true,
           "showland": true,
           "subunitcolor": "white"
          },
          "hoverlabel": {
           "align": "left"
          },
          "hovermode": "closest",
          "mapbox": {
           "style": "light"
          },
          "paper_bgcolor": "white",
          "plot_bgcolor": "#E5ECF6",
          "polar": {
           "angularaxis": {
            "gridcolor": "white",
            "linecolor": "white",
            "ticks": ""
           },
           "bgcolor": "#E5ECF6",
           "radialaxis": {
            "gridcolor": "white",
            "linecolor": "white",
            "ticks": ""
           }
          },
          "scene": {
           "xaxis": {
            "backgroundcolor": "#E5ECF6",
            "gridcolor": "white",
            "gridwidth": 2,
            "linecolor": "white",
            "showbackground": true,
            "ticks": "",
            "zerolinecolor": "white"
           },
           "yaxis": {
            "backgroundcolor": "#E5ECF6",
            "gridcolor": "white",
            "gridwidth": 2,
            "linecolor": "white",
            "showbackground": true,
            "ticks": "",
            "zerolinecolor": "white"
           },
           "zaxis": {
            "backgroundcolor": "#E5ECF6",
            "gridcolor": "white",
            "gridwidth": 2,
            "linecolor": "white",
            "showbackground": true,
            "ticks": "",
            "zerolinecolor": "white"
           }
          },
          "shapedefaults": {
           "line": {
            "color": "#2a3f5f"
           }
          },
          "ternary": {
           "aaxis": {
            "gridcolor": "white",
            "linecolor": "white",
            "ticks": ""
           },
           "baxis": {
            "gridcolor": "white",
            "linecolor": "white",
            "ticks": ""
           },
           "bgcolor": "#E5ECF6",
           "caxis": {
            "gridcolor": "white",
            "linecolor": "white",
            "ticks": ""
           }
          },
          "title": {
           "x": 0.05
          },
          "xaxis": {
           "automargin": true,
           "gridcolor": "white",
           "linecolor": "white",
           "ticks": "",
           "title": {
            "standoff": 15
           },
           "zerolinecolor": "white",
           "zerolinewidth": 2
          },
          "yaxis": {
           "automargin": true,
           "gridcolor": "white",
           "linecolor": "white",
           "ticks": "",
           "title": {
            "standoff": 15
           },
           "zerolinecolor": "white",
           "zerolinewidth": 2
          }
         }
        },
        "xaxis": {
         "anchor": "y",
         "domain": [
          0,
          1
         ],
         "title": {
          "text": "value"
         }
        },
        "yaxis": {
         "anchor": "x",
         "domain": [
          0,
          1
         ],
         "title": {
          "text": "count"
         }
        }
       }
      }
     },
     "metadata": {},
     "output_type": "display_data"
    }
   ],
   "source": [
    "p = model.predict(x_test)\n",
    "hist= px.histogram(p)\n",
    "hist.show()"
   ]
  },
  {
   "cell_type": "code",
   "execution_count": 135,
   "metadata": {},
   "outputs": [
    {
     "data": {
      "text/plain": [
       "[791, 1230, 1726, 1727, 1728, 1735, 1736]"
      ]
     },
     "execution_count": 135,
     "metadata": {},
     "output_type": "execute_result"
    }
   ],
   "source": [
    "falsos_n = []\n",
    "\n",
    "# Iterar sobre las predicciones y las etiquetas verdaderas\n",
    "for i in range(len(pred_test1)):\n",
    "    # Si la predicción es 0 (no hay tumor) \n",
    "    if pred_test1[i] == 0 and y_test[i] == 1:\n",
    "        falsos_n.append(i)\n",
    "\n",
    "falsos_n"
   ]
  },
  {
   "cell_type": "code",
   "execution_count": 136,
   "metadata": {},
   "outputs": [
    {
     "data": {
      "text/plain": [
       "[146, 398, 412, 415, 438, 456, 457, 472, 473]"
      ]
     },
     "execution_count": 136,
     "metadata": {},
     "output_type": "execute_result"
    }
   ],
   "source": [
    "falsos_p = []\n",
    "\n",
    "# Iterar sobre las predicciones y las etiquetas verdaderas\n",
    "for i in range(len(pred_test1)):\n",
    "    if pred_test1[i] == 1 and y_test[i] == 0:\n",
    "        falsos_p.append(i)\n",
    "\n",
    "falsos_p"
   ]
  }
 ],
 "metadata": {
  "kernelspec": {
   "display_name": "environment",
   "language": "python",
   "name": "python3"
  },
  "language_info": {
   "codemirror_mode": {
    "name": "ipython",
    "version": 3
   },
   "file_extension": ".py",
   "mimetype": "text/x-python",
   "name": "python",
   "nbconvert_exporter": "python",
   "pygments_lexer": "ipython3",
   "version": "3.11.7"
  }
 },
 "nbformat": 4,
 "nbformat_minor": 2
}
