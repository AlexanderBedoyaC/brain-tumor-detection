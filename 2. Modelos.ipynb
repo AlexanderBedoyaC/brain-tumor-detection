{
 "cells": [
  {
   "cell_type": "markdown",
   "metadata": {},
   "source": [
    "# 1. Importar Librerías"
   ]
  },
  {
   "cell_type": "code",
   "execution_count": 1,
   "metadata": {},
   "outputs": [],
   "source": [
    "import joblib\n",
    "import keras_tuner as kt\n",
    "\n",
    "import tensorflow as tf\n",
    "from sklearn import metrics\n",
    "from sklearn.ensemble import RandomForestClassifier"
   ]
  },
  {
   "cell_type": "markdown",
   "metadata": {},
   "source": [
    "# 2. Importar Datos"
   ]
  },
  {
   "cell_type": "code",
   "execution_count": 7,
   "metadata": {},
   "outputs": [],
   "source": [
    "x_train = joblib.load('salidas\\\\x_train.pkl')\n",
    "y_train = joblib.load('salidas\\\\y_train.pkl')\n",
    "x_test = joblib.load('salidas\\\\x_test.pkl')\n",
    "y_test = joblib.load('salidas\\\\y_test.pkl')"
   ]
  },
  {
   "cell_type": "code",
   "execution_count": 8,
   "metadata": {},
   "outputs": [
    {
     "data": {
      "text/plain": [
       "1.0"
      ]
     },
     "execution_count": 8,
     "metadata": {},
     "output_type": "execute_result"
    }
   ],
   "source": [
    "x_train.max()"
   ]
  },
  {
   "cell_type": "markdown",
   "metadata": {},
   "source": [
    "# 3. Modelos"
   ]
  },
  {
   "cell_type": "markdown",
   "metadata": {},
   "source": [
    "## 3.1. Modelo Random Forest Classifier"
   ]
  },
  {
   "cell_type": "code",
   "execution_count": 4,
   "metadata": {},
   "outputs": [
    {
     "data": {
      "text/plain": [
       "(1737, 30000)"
      ]
     },
     "execution_count": 4,
     "metadata": {},
     "output_type": "execute_result"
    }
   ],
   "source": [
    "x_train2=x_train.reshape(6953,30000)\n",
    "x_test2=x_test.reshape(1737, 30000)\n",
    "x_train2.shape\n",
    "x_test2.shape"
   ]
  },
  {
   "cell_type": "code",
   "execution_count": 5,
   "metadata": {},
   "outputs": [
    {
     "name": "stderr",
     "output_type": "stream",
     "text": [
      "c:\\aplicaciones_analitica\\Casos de Estudio\\brain-tumor-detection\\environment\\Lib\\site-packages\\sklearn\\base.py:1474: DataConversionWarning: A column-vector y was passed when a 1d array was expected. Please change the shape of y to (n_samples,), for example using ravel().\n",
      "  return fit_method(estimator, *args, **kwargs)\n"
     ]
    },
    {
     "ename": "KeyboardInterrupt",
     "evalue": "",
     "output_type": "error",
     "traceback": [
      "\u001b[1;31m---------------------------------------------------------------------------\u001b[0m",
      "\u001b[1;31mKeyboardInterrupt\u001b[0m                         Traceback (most recent call last)",
      "Cell \u001b[1;32mIn[5], line 2\u001b[0m\n\u001b[0;32m      1\u001b[0m rf\u001b[39m=\u001b[39mRandomForestClassifier()\n\u001b[1;32m----> 2\u001b[0m rf\u001b[39m.\u001b[39;49mfit(x_train2, y_train)\n",
      "File \u001b[1;32mc:\\aplicaciones_analitica\\Casos de Estudio\\brain-tumor-detection\\environment\\Lib\\site-packages\\sklearn\\base.py:1474\u001b[0m, in \u001b[0;36m_fit_context.<locals>.decorator.<locals>.wrapper\u001b[1;34m(estimator, *args, **kwargs)\u001b[0m\n\u001b[0;32m   1467\u001b[0m     estimator\u001b[39m.\u001b[39m_validate_params()\n\u001b[0;32m   1469\u001b[0m \u001b[39mwith\u001b[39;00m config_context(\n\u001b[0;32m   1470\u001b[0m     skip_parameter_validation\u001b[39m=\u001b[39m(\n\u001b[0;32m   1471\u001b[0m         prefer_skip_nested_validation \u001b[39mor\u001b[39;00m global_skip_validation\n\u001b[0;32m   1472\u001b[0m     )\n\u001b[0;32m   1473\u001b[0m ):\n\u001b[1;32m-> 1474\u001b[0m     \u001b[39mreturn\u001b[39;00m fit_method(estimator, \u001b[39m*\u001b[39;49margs, \u001b[39m*\u001b[39;49m\u001b[39m*\u001b[39;49mkwargs)\n",
      "File \u001b[1;32mc:\\aplicaciones_analitica\\Casos de Estudio\\brain-tumor-detection\\environment\\Lib\\site-packages\\sklearn\\ensemble\\_forest.py:489\u001b[0m, in \u001b[0;36mBaseForest.fit\u001b[1;34m(self, X, y, sample_weight)\u001b[0m\n\u001b[0;32m    478\u001b[0m trees \u001b[39m=\u001b[39m [\n\u001b[0;32m    479\u001b[0m     \u001b[39mself\u001b[39m\u001b[39m.\u001b[39m_make_estimator(append\u001b[39m=\u001b[39m\u001b[39mFalse\u001b[39;00m, random_state\u001b[39m=\u001b[39mrandom_state)\n\u001b[0;32m    480\u001b[0m     \u001b[39mfor\u001b[39;00m i \u001b[39min\u001b[39;00m \u001b[39mrange\u001b[39m(n_more_estimators)\n\u001b[0;32m    481\u001b[0m ]\n\u001b[0;32m    483\u001b[0m \u001b[39m# Parallel loop: we prefer the threading backend as the Cython code\u001b[39;00m\n\u001b[0;32m    484\u001b[0m \u001b[39m# for fitting the trees is internally releasing the Python GIL\u001b[39;00m\n\u001b[0;32m    485\u001b[0m \u001b[39m# making threading more efficient than multiprocessing in\u001b[39;00m\n\u001b[0;32m    486\u001b[0m \u001b[39m# that case. However, for joblib 0.12+ we respect any\u001b[39;00m\n\u001b[0;32m    487\u001b[0m \u001b[39m# parallel_backend contexts set at a higher level,\u001b[39;00m\n\u001b[0;32m    488\u001b[0m \u001b[39m# since correctness does not rely on using threads.\u001b[39;00m\n\u001b[1;32m--> 489\u001b[0m trees \u001b[39m=\u001b[39m Parallel(\n\u001b[0;32m    490\u001b[0m     n_jobs\u001b[39m=\u001b[39;49m\u001b[39mself\u001b[39;49m\u001b[39m.\u001b[39;49mn_jobs,\n\u001b[0;32m    491\u001b[0m     verbose\u001b[39m=\u001b[39;49m\u001b[39mself\u001b[39;49m\u001b[39m.\u001b[39;49mverbose,\n\u001b[0;32m    492\u001b[0m     prefer\u001b[39m=\u001b[39;49m\u001b[39m\"\u001b[39;49m\u001b[39mthreads\u001b[39;49m\u001b[39m\"\u001b[39;49m,\n\u001b[0;32m    493\u001b[0m )(\n\u001b[0;32m    494\u001b[0m     delayed(_parallel_build_trees)(\n\u001b[0;32m    495\u001b[0m         t,\n\u001b[0;32m    496\u001b[0m         \u001b[39mself\u001b[39;49m\u001b[39m.\u001b[39;49mbootstrap,\n\u001b[0;32m    497\u001b[0m         X,\n\u001b[0;32m    498\u001b[0m         y,\n\u001b[0;32m    499\u001b[0m         sample_weight,\n\u001b[0;32m    500\u001b[0m         i,\n\u001b[0;32m    501\u001b[0m         \u001b[39mlen\u001b[39;49m(trees),\n\u001b[0;32m    502\u001b[0m         verbose\u001b[39m=\u001b[39;49m\u001b[39mself\u001b[39;49m\u001b[39m.\u001b[39;49mverbose,\n\u001b[0;32m    503\u001b[0m         class_weight\u001b[39m=\u001b[39;49m\u001b[39mself\u001b[39;49m\u001b[39m.\u001b[39;49mclass_weight,\n\u001b[0;32m    504\u001b[0m         n_samples_bootstrap\u001b[39m=\u001b[39;49mn_samples_bootstrap,\n\u001b[0;32m    505\u001b[0m         missing_values_in_feature_mask\u001b[39m=\u001b[39;49mmissing_values_in_feature_mask,\n\u001b[0;32m    506\u001b[0m     )\n\u001b[0;32m    507\u001b[0m     \u001b[39mfor\u001b[39;49;00m i, t \u001b[39min\u001b[39;49;00m \u001b[39menumerate\u001b[39;49m(trees)\n\u001b[0;32m    508\u001b[0m )\n\u001b[0;32m    510\u001b[0m \u001b[39m# Collect newly grown trees\u001b[39;00m\n\u001b[0;32m    511\u001b[0m \u001b[39mself\u001b[39m\u001b[39m.\u001b[39mestimators_\u001b[39m.\u001b[39mextend(trees)\n",
      "File \u001b[1;32mc:\\aplicaciones_analitica\\Casos de Estudio\\brain-tumor-detection\\environment\\Lib\\site-packages\\sklearn\\utils\\parallel.py:67\u001b[0m, in \u001b[0;36mParallel.__call__\u001b[1;34m(self, iterable)\u001b[0m\n\u001b[0;32m     62\u001b[0m config \u001b[39m=\u001b[39m get_config()\n\u001b[0;32m     63\u001b[0m iterable_with_config \u001b[39m=\u001b[39m (\n\u001b[0;32m     64\u001b[0m     (_with_config(delayed_func, config), args, kwargs)\n\u001b[0;32m     65\u001b[0m     \u001b[39mfor\u001b[39;00m delayed_func, args, kwargs \u001b[39min\u001b[39;00m iterable\n\u001b[0;32m     66\u001b[0m )\n\u001b[1;32m---> 67\u001b[0m \u001b[39mreturn\u001b[39;00m \u001b[39msuper\u001b[39;49m()\u001b[39m.\u001b[39;49m\u001b[39m__call__\u001b[39;49m(iterable_with_config)\n",
      "File \u001b[1;32mc:\\aplicaciones_analitica\\Casos de Estudio\\brain-tumor-detection\\environment\\Lib\\site-packages\\joblib\\parallel.py:1918\u001b[0m, in \u001b[0;36mParallel.__call__\u001b[1;34m(self, iterable)\u001b[0m\n\u001b[0;32m   1916\u001b[0m     output \u001b[39m=\u001b[39m \u001b[39mself\u001b[39m\u001b[39m.\u001b[39m_get_sequential_output(iterable)\n\u001b[0;32m   1917\u001b[0m     \u001b[39mnext\u001b[39m(output)\n\u001b[1;32m-> 1918\u001b[0m     \u001b[39mreturn\u001b[39;00m output \u001b[39mif\u001b[39;00m \u001b[39mself\u001b[39m\u001b[39m.\u001b[39mreturn_generator \u001b[39melse\u001b[39;00m \u001b[39mlist\u001b[39;49m(output)\n\u001b[0;32m   1920\u001b[0m \u001b[39m# Let's create an ID that uniquely identifies the current call. If the\u001b[39;00m\n\u001b[0;32m   1921\u001b[0m \u001b[39m# call is interrupted early and that the same instance is immediately\u001b[39;00m\n\u001b[0;32m   1922\u001b[0m \u001b[39m# re-used, this id will be used to prevent workers that were\u001b[39;00m\n\u001b[0;32m   1923\u001b[0m \u001b[39m# concurrently finalizing a task from the previous call to run the\u001b[39;00m\n\u001b[0;32m   1924\u001b[0m \u001b[39m# callback.\u001b[39;00m\n\u001b[0;32m   1925\u001b[0m \u001b[39mwith\u001b[39;00m \u001b[39mself\u001b[39m\u001b[39m.\u001b[39m_lock:\n",
      "File \u001b[1;32mc:\\aplicaciones_analitica\\Casos de Estudio\\brain-tumor-detection\\environment\\Lib\\site-packages\\joblib\\parallel.py:1847\u001b[0m, in \u001b[0;36mParallel._get_sequential_output\u001b[1;34m(self, iterable)\u001b[0m\n\u001b[0;32m   1845\u001b[0m \u001b[39mself\u001b[39m\u001b[39m.\u001b[39mn_dispatched_batches \u001b[39m+\u001b[39m\u001b[39m=\u001b[39m \u001b[39m1\u001b[39m\n\u001b[0;32m   1846\u001b[0m \u001b[39mself\u001b[39m\u001b[39m.\u001b[39mn_dispatched_tasks \u001b[39m+\u001b[39m\u001b[39m=\u001b[39m \u001b[39m1\u001b[39m\n\u001b[1;32m-> 1847\u001b[0m res \u001b[39m=\u001b[39m func(\u001b[39m*\u001b[39;49margs, \u001b[39m*\u001b[39;49m\u001b[39m*\u001b[39;49mkwargs)\n\u001b[0;32m   1848\u001b[0m \u001b[39mself\u001b[39m\u001b[39m.\u001b[39mn_completed_tasks \u001b[39m+\u001b[39m\u001b[39m=\u001b[39m \u001b[39m1\u001b[39m\n\u001b[0;32m   1849\u001b[0m \u001b[39mself\u001b[39m\u001b[39m.\u001b[39mprint_progress()\n",
      "File \u001b[1;32mc:\\aplicaciones_analitica\\Casos de Estudio\\brain-tumor-detection\\environment\\Lib\\site-packages\\sklearn\\utils\\parallel.py:129\u001b[0m, in \u001b[0;36m_FuncWrapper.__call__\u001b[1;34m(self, *args, **kwargs)\u001b[0m\n\u001b[0;32m    127\u001b[0m     config \u001b[39m=\u001b[39m {}\n\u001b[0;32m    128\u001b[0m \u001b[39mwith\u001b[39;00m config_context(\u001b[39m*\u001b[39m\u001b[39m*\u001b[39mconfig):\n\u001b[1;32m--> 129\u001b[0m     \u001b[39mreturn\u001b[39;00m \u001b[39mself\u001b[39;49m\u001b[39m.\u001b[39;49mfunction(\u001b[39m*\u001b[39;49margs, \u001b[39m*\u001b[39;49m\u001b[39m*\u001b[39;49mkwargs)\n",
      "File \u001b[1;32mc:\\aplicaciones_analitica\\Casos de Estudio\\brain-tumor-detection\\environment\\Lib\\site-packages\\sklearn\\ensemble\\_forest.py:192\u001b[0m, in \u001b[0;36m_parallel_build_trees\u001b[1;34m(tree, bootstrap, X, y, sample_weight, tree_idx, n_trees, verbose, class_weight, n_samples_bootstrap, missing_values_in_feature_mask)\u001b[0m\n\u001b[0;32m    189\u001b[0m     \u001b[39melif\u001b[39;00m class_weight \u001b[39m==\u001b[39m \u001b[39m\"\u001b[39m\u001b[39mbalanced_subsample\u001b[39m\u001b[39m\"\u001b[39m:\n\u001b[0;32m    190\u001b[0m         curr_sample_weight \u001b[39m*\u001b[39m\u001b[39m=\u001b[39m compute_sample_weight(\u001b[39m\"\u001b[39m\u001b[39mbalanced\u001b[39m\u001b[39m\"\u001b[39m, y, indices\u001b[39m=\u001b[39mindices)\n\u001b[1;32m--> 192\u001b[0m     tree\u001b[39m.\u001b[39;49m_fit(\n\u001b[0;32m    193\u001b[0m         X,\n\u001b[0;32m    194\u001b[0m         y,\n\u001b[0;32m    195\u001b[0m         sample_weight\u001b[39m=\u001b[39;49mcurr_sample_weight,\n\u001b[0;32m    196\u001b[0m         check_input\u001b[39m=\u001b[39;49m\u001b[39mFalse\u001b[39;49;00m,\n\u001b[0;32m    197\u001b[0m         missing_values_in_feature_mask\u001b[39m=\u001b[39;49mmissing_values_in_feature_mask,\n\u001b[0;32m    198\u001b[0m     )\n\u001b[0;32m    199\u001b[0m \u001b[39melse\u001b[39;00m:\n\u001b[0;32m    200\u001b[0m     tree\u001b[39m.\u001b[39m_fit(\n\u001b[0;32m    201\u001b[0m         X,\n\u001b[0;32m    202\u001b[0m         y,\n\u001b[1;32m   (...)\u001b[0m\n\u001b[0;32m    205\u001b[0m         missing_values_in_feature_mask\u001b[39m=\u001b[39mmissing_values_in_feature_mask,\n\u001b[0;32m    206\u001b[0m     )\n",
      "File \u001b[1;32mc:\\aplicaciones_analitica\\Casos de Estudio\\brain-tumor-detection\\environment\\Lib\\site-packages\\sklearn\\tree\\_classes.py:472\u001b[0m, in \u001b[0;36mBaseDecisionTree._fit\u001b[1;34m(self, X, y, sample_weight, check_input, missing_values_in_feature_mask)\u001b[0m\n\u001b[0;32m    461\u001b[0m \u001b[39melse\u001b[39;00m:\n\u001b[0;32m    462\u001b[0m     builder \u001b[39m=\u001b[39m BestFirstTreeBuilder(\n\u001b[0;32m    463\u001b[0m         splitter,\n\u001b[0;32m    464\u001b[0m         min_samples_split,\n\u001b[1;32m   (...)\u001b[0m\n\u001b[0;32m    469\u001b[0m         \u001b[39mself\u001b[39m\u001b[39m.\u001b[39mmin_impurity_decrease,\n\u001b[0;32m    470\u001b[0m     )\n\u001b[1;32m--> 472\u001b[0m builder\u001b[39m.\u001b[39;49mbuild(\u001b[39mself\u001b[39;49m\u001b[39m.\u001b[39;49mtree_, X, y, sample_weight, missing_values_in_feature_mask)\n\u001b[0;32m    474\u001b[0m \u001b[39mif\u001b[39;00m \u001b[39mself\u001b[39m\u001b[39m.\u001b[39mn_outputs_ \u001b[39m==\u001b[39m \u001b[39m1\u001b[39m \u001b[39mand\u001b[39;00m is_classifier(\u001b[39mself\u001b[39m):\n\u001b[0;32m    475\u001b[0m     \u001b[39mself\u001b[39m\u001b[39m.\u001b[39mn_classes_ \u001b[39m=\u001b[39m \u001b[39mself\u001b[39m\u001b[39m.\u001b[39mn_classes_[\u001b[39m0\u001b[39m]\n",
      "\u001b[1;31mKeyboardInterrupt\u001b[0m: "
     ]
    }
   ],
   "source": [
    "rf=RandomForestClassifier()\n",
    "rf.fit(x_train2, y_train)"
   ]
  },
  {
   "cell_type": "code",
   "execution_count": 6,
   "metadata": {},
   "outputs": [
    {
     "name": "stdout",
     "output_type": "stream",
     "text": [
      "------------------------TRAIN---------------------------\n",
      "              precision    recall  f1-score   support\n",
      "\n",
      "           0       0.76      1.00      0.86      2864\n",
      "           1       1.00      0.78      0.87      4089\n",
      "\n",
      "    accuracy                           0.87      6953\n",
      "   macro avg       0.88      0.89      0.87      6953\n",
      "weighted avg       0.90      0.87      0.87      6953\n",
      "\n",
      "\n",
      "------------------------TEST---------------------------\n",
      "              precision    recall  f1-score   support\n",
      "\n",
      "           0       0.63      1.00      0.78       716\n",
      "           1       1.00      0.59      0.74      1021\n",
      "\n",
      "    accuracy                           0.76      1737\n",
      "   macro avg       0.82      0.80      0.76      1737\n",
      "weighted avg       0.85      0.76      0.76      1737\n",
      "\n"
     ]
    },
    {
     "data": {
      "text/plain": [
       "0.796767874632713"
      ]
     },
     "execution_count": 6,
     "metadata": {},
     "output_type": "execute_result"
    }
   ],
   "source": [
    "print('------------------------TRAIN---------------------------')\n",
    "pred_train = rf.predict_proba(x_train2)[:, 1]\n",
    "pred_train = (pred_train > 0.98).astype(int)\n",
    "print(metrics.classification_report(y_train, pred_train))\n",
    "metrics.roc_auc_score(y_train, pred_train)\n",
    "\n",
    "print()\n",
    "print('------------------------TEST---------------------------')\n",
    "pred_test = rf.predict_proba(x_test2)[:, 1]\n",
    "pred_test = (pred_test > 0.98).astype(int)\n",
    "print(metrics.classification_report(y_test, pred_test))\n",
    "metrics.roc_auc_score(y_test, pred_test)"
   ]
  },
  {
   "cell_type": "markdown",
   "metadata": {},
   "source": [
    "## 3.2. Red Neuronal Estándar"
   ]
  },
  {
   "cell_type": "code",
   "execution_count": 7,
   "metadata": {},
   "outputs": [
    {
     "name": "stderr",
     "output_type": "stream",
     "text": [
      "c:\\aplicaciones_analitica\\Casos de Estudio\\brain-tumor-detection\\environment\\Lib\\site-packages\\keras\\src\\layers\\reshaping\\flatten.py:37: UserWarning: Do not pass an `input_shape`/`input_dim` argument to a layer. When using Sequential models, prefer using an `Input(shape)` object as the first layer in the model instead.\n",
      "  super().__init__(**kwargs)\n"
     ]
    }
   ],
   "source": [
    "fc_model=tf.keras.models.Sequential([\n",
    "    tf.keras.layers.Flatten(input_shape=x_train.shape[1:]),\n",
    "    tf.keras.layers.Dense(128, activation='relu'),\n",
    "    tf.keras.layers.Dense(64, activation='relu'),\n",
    "    tf.keras.layers.Dense(1, activation='sigmoid')\n",
    "])"
   ]
  },
  {
   "cell_type": "code",
   "execution_count": 8,
   "metadata": {},
   "outputs": [],
   "source": [
    "##### configura el optimizador y la función para optimizar ##############\n",
    "fc_model.compile(optimizer='adam', loss='binary_crossentropy', metrics=['accuracy','AUC', 'Recall', 'Precision'])"
   ]
  },
  {
   "cell_type": "code",
   "execution_count": 9,
   "metadata": {},
   "outputs": [
    {
     "name": "stdout",
     "output_type": "stream",
     "text": [
      "Epoch 1/10\n",
      "\u001b[1m70/70\u001b[0m \u001b[32m━━━━━━━━━━━━━━━━━━━━\u001b[0m\u001b[37m\u001b[0m \u001b[1m10s\u001b[0m 85ms/step - AUC: 0.6745 - Precision: 0.6897 - Recall: 0.6204 - accuracy: 0.6264 - loss: 1.0592 - val_AUC: 0.9352 - val_Precision: 0.8635 - val_Recall: 0.9667 - val_accuracy: 0.8906 - val_loss: 0.3355\n",
      "Epoch 2/10\n",
      "\u001b[1m70/70\u001b[0m \u001b[32m━━━━━━━━━━━━━━━━━━━━\u001b[0m\u001b[37m\u001b[0m \u001b[1m5s\u001b[0m 67ms/step - AUC: 0.9413 - Precision: 0.9001 - Recall: 0.9135 - accuracy: 0.8918 - loss: 0.3259 - val_AUC: 0.9651 - val_Precision: 0.9447 - val_Recall: 0.9363 - val_accuracy: 0.9303 - val_loss: 0.2291\n",
      "Epoch 3/10\n",
      "\u001b[1m70/70\u001b[0m \u001b[32m━━━━━━━━━━━━━━━━━━━━\u001b[0m\u001b[37m\u001b[0m \u001b[1m5s\u001b[0m 72ms/step - AUC: 0.9681 - Precision: 0.9433 - Recall: 0.9560 - accuracy: 0.9404 - loss: 0.2228 - val_AUC: 0.9672 - val_Precision: 0.8608 - val_Recall: 0.9873 - val_accuracy: 0.8987 - val_loss: 0.2725\n",
      "Epoch 4/10\n",
      "\u001b[1m70/70\u001b[0m \u001b[32m━━━━━━━━━━━━━━━━━━━━\u001b[0m\u001b[37m\u001b[0m \u001b[1m5s\u001b[0m 71ms/step - AUC: 0.9692 - Precision: 0.9309 - Recall: 0.9452 - accuracy: 0.9267 - loss: 0.2182 - val_AUC: 0.9807 - val_Precision: 0.9681 - val_Recall: 0.9520 - val_accuracy: 0.9534 - val_loss: 0.1647\n",
      "Epoch 5/10\n",
      "\u001b[1m70/70\u001b[0m \u001b[32m━━━━━━━━━━━━━━━━━━━━\u001b[0m\u001b[37m\u001b[0m \u001b[1m5s\u001b[0m 69ms/step - AUC: 0.9877 - Precision: 0.9589 - Recall: 0.9687 - accuracy: 0.9566 - loss: 0.1372 - val_AUC: 0.9842 - val_Precision: 0.9750 - val_Recall: 0.9569 - val_accuracy: 0.9603 - val_loss: 0.1473\n",
      "Epoch 6/10\n",
      "\u001b[1m70/70\u001b[0m \u001b[32m━━━━━━━━━━━━━━━━━━━━\u001b[0m\u001b[37m\u001b[0m \u001b[1m5s\u001b[0m 73ms/step - AUC: 0.9897 - Precision: 0.9679 - Recall: 0.9672 - accuracy: 0.9620 - loss: 0.1267 - val_AUC: 0.9848 - val_Precision: 0.9607 - val_Recall: 0.9804 - val_accuracy: 0.9649 - val_loss: 0.1407\n",
      "Epoch 7/10\n",
      "\u001b[1m70/70\u001b[0m \u001b[32m━━━━━━━━━━━━━━━━━━━━\u001b[0m\u001b[37m\u001b[0m \u001b[1m5s\u001b[0m 67ms/step - AUC: 0.9917 - Precision: 0.9728 - Recall: 0.9778 - accuracy: 0.9708 - loss: 0.1030 - val_AUC: 0.9872 - val_Precision: 0.9611 - val_Recall: 0.9912 - val_accuracy: 0.9712 - val_loss: 0.1274\n",
      "Epoch 8/10\n",
      "\u001b[1m70/70\u001b[0m \u001b[32m━━━━━━━━━━━━━━━━━━━━\u001b[0m\u001b[37m\u001b[0m \u001b[1m4s\u001b[0m 62ms/step - AUC: 0.9965 - Precision: 0.9820 - Recall: 0.9887 - accuracy: 0.9826 - loss: 0.0707 - val_AUC: 0.9869 - val_Precision: 0.9785 - val_Recall: 0.9363 - val_accuracy: 0.9505 - val_loss: 0.1573\n",
      "Epoch 9/10\n",
      "\u001b[1m70/70\u001b[0m \u001b[32m━━━━━━━━━━━━━━━━━━━━\u001b[0m\u001b[37m\u001b[0m \u001b[1m4s\u001b[0m 60ms/step - AUC: 0.9945 - Precision: 0.9818 - Recall: 0.9860 - accuracy: 0.9811 - loss: 0.0756 - val_AUC: 0.9896 - val_Precision: 0.9486 - val_Recall: 0.9931 - val_accuracy: 0.9643 - val_loss: 0.1390\n",
      "Epoch 10/10\n",
      "\u001b[1m70/70\u001b[0m \u001b[32m━━━━━━━━━━━━━━━━━━━━\u001b[0m\u001b[37m\u001b[0m \u001b[1m4s\u001b[0m 63ms/step - AUC: 0.9984 - Precision: 0.9881 - Recall: 0.9944 - accuracy: 0.9897 - loss: 0.0498 - val_AUC: 0.9908 - val_Precision: 0.9775 - val_Recall: 0.9804 - val_accuracy: 0.9752 - val_loss: 0.1056\n"
     ]
    },
    {
     "data": {
      "text/plain": [
       "<keras.src.callbacks.history.History at 0x2a788561a10>"
      ]
     },
     "execution_count": 9,
     "metadata": {},
     "output_type": "execute_result"
    }
   ],
   "source": [
    "#####Entrenar el modelo usando el optimizador y arquitectura definidas #########\n",
    "fc_model.fit(x_train, y_train, batch_size=100, epochs=10, validation_data=(x_test, y_test))"
   ]
  },
  {
   "cell_type": "code",
   "execution_count": 10,
   "metadata": {},
   "outputs": [
    {
     "name": "stdout",
     "output_type": "stream",
     "text": [
      "55/55 - 0s - 8ms/step - AUC: 0.9908 - Precision: 0.9775 - Recall: 0.9804 - accuracy: 0.9752 - loss: 0.1056\n",
      "Test auc: 0.9908287525177002\n"
     ]
    }
   ],
   "source": [
    "test_loss, test_acc, test_auc, test_recall, test_precision = fc_model.evaluate(x_test, y_test, verbose=2)\n",
    "print(\"Test auc:\", test_auc)"
   ]
  },
  {
   "cell_type": "code",
   "execution_count": 11,
   "metadata": {},
   "outputs": [
    {
     "name": "stdout",
     "output_type": "stream",
     "text": [
      "\u001b[1m55/55\u001b[0m \u001b[32m━━━━━━━━━━━━━━━━━━━━\u001b[0m\u001b[37m\u001b[0m \u001b[1m1s\u001b[0m 7ms/step\n",
      "              precision    recall  f1-score   support\n",
      "\n",
      "           0       0.70      0.99      0.82       716\n",
      "           1       0.99      0.71      0.83      1021\n",
      "\n",
      "    accuracy                           0.83      1737\n",
      "   macro avg       0.85      0.85      0.83      1737\n",
      "weighted avg       0.87      0.83      0.83      1737\n",
      "\n"
     ]
    },
    {
     "data": {
      "image/png": "[encoded data removed]",
      "text/plain": [
       "<Figure size 640x480 with 2 Axes>"
      ]
     },
     "metadata": {},
     "output_type": "display_data"
    }
   ],
   "source": [
    "###### matriz de confusión test\n",
    "pred_test=(fc_model.predict(x_test) > 0.98).astype('int')\n",
    "cm=metrics.confusion_matrix(y_test,pred_test, labels=[1,0])\n",
    "disp=metrics.ConfusionMatrixDisplay(cm,display_labels=['tumor', 'No_tumor'])\n",
    "disp.plot()\n",
    "\n",
    "print(metrics.classification_report(y_test, pred_test))\n"
   ]
  },
  {
   "cell_type": "code",
   "execution_count": 12,
   "metadata": {},
   "outputs": [
    {
     "name": "stdout",
     "output_type": "stream",
     "text": [
      "\u001b[1m55/55\u001b[0m \u001b[32m━━━━━━━━━━━━━━━━━━━━\u001b[0m\u001b[37m\u001b[0m \u001b[1m0s\u001b[0m 6ms/step\n"
     ]
    },
    {
     "data": {
      "application/vnd.plotly.v1+json": {
       "config": {
        "plotlyServerURL": "https://plot.ly"
       },
       "data": [
        {
         "alignmentgroup": "True",
         "bingroup": "x",
         "hovertemplate": "variable=0<br>value=%{x}<br>count=%{y}<extra></extra>",
         "legendgroup": "0",
         "marker": {
          "color": "#636efa",
          "pattern": {
           "shape": ""
          }
         },
         "name": "0",
         "offsetgroup": "0",
         "orientation": "v",
         "showlegend": true,
         "type": "histogram",
         "x": [
          0.00009812092321226373,
          0.0020561646670103073,
          0.004399899393320084,
          0.020493917167186737,
          0.007201652508229017,
          0.00028196198400110006,
          0.0025239535607397556,
          0.0019857422448694706,
          0.000559913576580584,
          0.0020561646670103073,
          0.0014791025314480066,
          0.0009079492883756757,
          0.00014251268294174224,
          0.008785156533122063,
          0.008051929995417595,
          0.00006705628766212612,
          0.00038843954098410904,
          0.0000987445455393754,
          0.0001548218133393675,
          0.000002598975697765127,
          0.0055889287032186985,
          9.483279086452967e-7,
          0.0010530243162065744,
          0.0003723724512383342,
          0.00012290266749914736,
          0.007499074097722769,
          0.010246455669403076,
          0.0006211583386175334,
          0.0014463954139500856,
          0.03878374770283699,
          0.11569945514202118,
          0.039045240730047226,
          0.0004482034419197589,
          0.0003239703946746886,
          0.0011894975323230028,
          0.003773064585402608,
          0.0006961148465052247,
          0.00036071351496502757,
          0.016225721687078476,
          0.0009038833668455482,
          0.021614160388708115,
          0.004911941010504961,
          0.004567389842122793,
          0.00007249963528010994,
          0.000035578705137595534,
          0.0011398443020880222,
          0.0008903785492293537,
          0.0000020879399471596116,
          0.03945307433605194,
          0.000002103729912050767,
          0.00031163354287855327,
          0.00029450023430399597,
          0.27931588888168335,
          4.521855316852452e-7,
          0.00228864885866642,
          0.00020206006593070924,
          0.00003513042247504927,
          0.000421043747337535,
          8.487892841912981e-7,
          0.0005628456128761172,
          0.00022425936185754836,
          0.00020767665409948677,
          0.00001806562977435533,
          0.0014709634706377983,
          2.3823191952487832e-7,
          0.000024639371986268088,
          0.06731871515512466,
          0.14131735265254974,
          0.00026006344705820084,
          1.9813619189790188e-7,
          0.0008510577608831227,
          0.000025291805286542512,
          0.0001819509780034423,
          0.012267738580703735,
          0.0978064090013504,
          0.000002970293962789583,
          0.0006826060125604272,
          0.03379647806286812,
          0.0007632559281773865,
          0.00003040085175598506,
          0.032779958099126816,
          0.018643643707036972,
          0.00746154086664319,
          0.01132276188582182,
          0.00003088020093855448,
          0.0022538427729159594,
          0.002051153453066945,
          0.0028799937572330236,
          0.0177787896245718,
          0.0020798291079699993,
          0.003279994474723935,
          0.00023005640832707286,
          0.041978225111961365,
          0.0044130804017186165,
          0.011128985323011875,
          0.32430750131607056,
          0.00009909365326166153,
          0.0003053707769140601,
          0.006629944778978825,
          0.00010888445103773847,
          0.0033636074513196945,
          0.0004217348468955606,
          0.00008996825636131689,
          0.00003631546860560775,
          3.2131617899722187e-7,
          0.00019463637727312744,
          0.000004852463916904526,
          0.000001724126718727348,
          0.002532890299335122,
          6.319240242191881e-8,
          0.00020542913989629596,
          0.056460123509168625,
          6.439969411076163e-7,
          1.0117047821722736e-7,
          0.000007541326340287924,
          0.00022354887914843857,
          1.1287487611255642e-10,
          0.000017873460819828324,
          0.0018046878976747394,
          0.003411473473533988,
          4.65333471311169e-7,
          0.13845081627368927,
          0.0000023890179363661446,
          0.00043706910219043493,
          0.00001783270090527367,
          4.435316895978758e-7,
          0.0000027270059490547283,
          9.153169457931654e-7,
          0.00022383019677363336,
          0.024209609255194664,
          0.00012942358443979174,
          0.000011726337106665596,
          0.00004621488187694922,
          0.013147947378456593,
          0.000047356785216834396,
          0.000574826670344919,
          0.00000948625984165119,
          0.00017193934763781726,
          0.013373356312513351,
          0.0001313049579039216,
          0.0003956762666348368,
          0.003185383277013898,
          0.01668248139321804,
          0.006825858261436224,
          0.0018889975035563111,
          0.27617815136909485,
          0.9999999403953552,
          0.0018100629094988108,
          0.0005804802058264613,
          9.750616286607894e-11,
          0.00007603609992656857,
          1.231251189892646e-7,
          0.014131532050669193,
          7.20308833024319e-7,
          0.00007505105895688757,
          0.000011493491911096498,
          3.420672456400098e-8,
          5.721853995055426e-7,
          0.0000010945769872705569,
          0.00012041127047268674,
          0.0015659580240026116,
          0.04441465809941292,
          0.0000020075754036952276,
          0.0005451934412121773,
          0.027000702917575836,
          0.00003351729901623912,
          0.000003332062760819099,
          0.01973077468574047,
          0.0014049869496375322,
          0.00015701635857112706,
          0.004606566391885281,
          0.00809329841285944,
          0.0005566122126765549,
          0.00006193669105414301,
          0.006164026912301779,
          0.013552360236644745,
          0.003061407944187522,
          0.0008667470538057387,
          0.000011180725778103806,
          0.002942980732768774,
          0.0101590845733881,
          0.0007147926953621209,
          0.044128529727458954,
          0.0004353745898697525,
          0.0006461039301939309,
          0.00025242488482035697,
          0.0011213995749130845,
          0.00016362627502530813,
          0.006295495666563511,
          0.0025239535607397556,
          0.0000048244000936392695,
          0.0005599146825261414,
          0.00017939007375389338,
          0.036487407982349396,
          0.0010306190233677626,
          0.002174273831769824,
          0.04597039148211479,
          0.00007228252070490271,
          0.015523462556302547,
          0.014899286441504955,
          0.04551396891474724,
          0.027628982439637184,
          0.00015839937259443104,
          0.010749281384050846,
          0.15782715380191803,
          0.00017714705609250814,
          0.010385099798440933,
          0.0017907489091157913,
          0.03940615803003311,
          0.000003083195451836218,
          7.572066351713147e-7,
          0.008037478663027287,
          0.00009650463471189141,
          0.0001546071725897491,
          0.0008479065727442503,
          0.007876625284552574,
          0.01908259466290474,
          0.0011019553057849407,
          0.006071861833333969,
          0.005132129415869713,
          0.007387036457657814,
          0.003939758986234665,
          0.022404054179787636,
          0.0012459144927561283,
          0.0035472330637276173,
          0.00605959864333272,
          0.00041371281258761883,
          0.01930803246796131,
          0.006389001850038767,
          0.001647836179472506,
          0.00006431199290091172,
          0.000007440308309014654,
          0.000004931874173053075,
          0.00030578620498999953,
          0.0001695028622634709,
          1.3403417931101558e-8,
          0.000018575150534161367,
          6.469683171417273e-7,
          0.00002029330062214285,
          0.00004348393122199923,
          0.0010308503406122327,
          8.230470172065907e-8,
          0.0006745527498424053,
          0.00006196789036039263,
          0.01640966534614563,
          0.005346714053303003,
          0.00011279082536930218,
          0.0000016966440625765244,
          0.00046853639651089907,
          0.0008197188144549727,
          3.066757017222699e-7,
          0.0026638959534466267,
          1.0524877858131276e-8,
          0.000004523033567238599,
          0.000004041113243147265,
          0.0009422241128049791,
          0.000059513266023714095,
          0.025237074121832848,
          0.03288237750530243,
          0.00001112758218368981,
          5.2678492679092415e-9,
          0.010640105232596397,
          0.008104118518531322,
          0.000022563795937458053,
          0.000002363406110816868,
          0.000898163125384599,
          0.024739772081375122,
          0.0013499357737600803,
          0.08756359666585922,
          0.0006775344954803586,
          0.0023853564634919167,
          0.0013426393270492554,
          0.00016673956997692585,
          0.006097834091633558,
          0.0000829284472274594,
          0.0018420437118038535,
          0.000923093524761498,
          0.031223943457007408,
          0.01015510130673647,
          0.3111593425273895,
          0.00035599363036453724,
          0.00029133225325495005,
          0.0051716649904847145,
          0.003950696438550949,
          0.00014824797108303756,
          0.0002053333882940933,
          0.0002564534661360085,
          0.0019397110445424914,
          0.0024037081748247147,
          0.00034603645326569676,
          0.000019775499822571874,
          0.0005799590144306421,
          0.00008388357673538849,
          0.0010520973009988666,
          0.004917293321341276,
          0.0009028619970194995,
          0.0000934948620852083,
          0.02617618627846241,
          0.00018119528249371797,
          7.543864199988093e-8,
          0.0002311213902430609,
          0.000050217033276567236,
          0.00039902300341054797,
          0.00297556328587234,
          0.004254251252859831,
          0.009665221907198429,
          0.00008656639693072066,
          0.00555315800011158,
          0.00467228377237916,
          0.0006485296180471778,
          0.00001554687878524419,
          0.0000977501695160754,
          0.06047069653868675,
          6.033922517190149e-8,
          0.00002586096707091201,
          0.0000795332744019106,
          0.007452361285686493,
          0.0007164256530813873,
          0.19040697813034058,
          0.007876613177359104,
          0.3611234724521637,
          0.00960559118539095,
          0.6566780209541321,
          0.21200022101402283,
          0.011219624429941177,
          0.5997297763824463,
          0.009660804644227028,
          0.000057444100093562156,
          0.00800797063857317,
          0.002174273831769824,
          0.001067001256160438,
          0.0809793621301651,
          0.12258027493953705,
          0.002174273831769824,
          0.01906147040426731,
          0.2546122968196869,
          0.07607977837324142,
          0.019479814916849136,
          0.00660319160670042,
          0.000014032480066816788,
          0.03878374770283699,
          0.009600380435585976,
          0.0012185635278001428,
          0.001218185294419527,
          9.984446478483733e-7,
          0.0000020879399471596116,
          0.00031163354287855327,
          3.309201019874308e-7,
          0.002139513846486807,
          0.000049578560719965026,
          0.0019631260074675083,
          0.001189720700494945,
          0.00008940184488892555,
          0.0024641838390380144,
          0.0001819509780034423,
          0.00038265783223323524,
          0.00003040085175598506,
          0.2696492671966553,
          5.697599281262455e-9,
          0.00018911599181592464,
          0.0028799937572330236,
          0.00018877387628890574,
          0.0020798291079699993,
          0.00014091143384575844,
          0.3243076205253601,
          5.125668280925311e-7,
          0.04018479585647583,
          0.0001284541212953627,
          0.00005562821388593875,
          0.0000016992057680909056,
          0.001134077669121325,
          3.2131617899722187e-7,
          1.0117047821722736e-7,
          0.0000053679536904382985,
          9.998036176739333e-8,
          0.13845081627368927,
          0.00009127788507612422,
          0.00009044221951626241,
          0.013273011893033981,
          0.00018790953618008643,
          0.00009741889516590163,
          0.04019581526517868,
          0.2761784791946411,
          0.003951047547161579,
          0.00003320490941405296,
          0.0002623436157591641,
          0.0004467818362172693,
          0.01015510130673647,
          0.00025578783242963254,
          0.000165240591741167,
          0.0016650842735543847,
          0.011976570822298527,
          0.0017977897077798843,
          0.0002564527385402471,
          0.000046134569856803864,
          0.0000977501695160754,
          0.00004696367614087649,
          0.8647791147232056,
          0.9236839413642883,
          0.0003876357222907245,
          0.024545099586248398,
          0.0601758174598217,
          0.03773806616663933,
          0.007387036457657814,
          0.008037478663027287,
          0.005060363560914993,
          0.0017073380295187235,
          0.00800797063857317,
          0.009672518819570541,
          0.02480231039226055,
          0.01872989349067211,
          0.015223181806504726,
          0.886488676071167,
          0.9086649417877197,
          0.15367670357227325,
          0.9999854564666748,
          0.0002291802375111729,
          0.604258120059967,
          0.0016877214657142758,
          0.9659678339958191,
          0.0006023138994351029,
          0.00005031611362937838,
          0.0000013103467608743813,
          0.011407235637307167,
          0.21822503209114075,
          0.0012986010406166315,
          0.004466127138584852,
          0.004471723921597004,
          0.00005058331953478046,
          0.025007225573062897,
          0.005132129415869713,
          0.0069510191679000854,
          0.0007305981125682592,
          0.3352999687194824,
          0.016313981264829636,
          0.11056345701217651,
          0.09924069046974182,
          0.9096726179122925,
          0.7914590835571289,
          7.841165370336967e-7,
          0.004471723921597004,
          0.8675901889801025,
          0.029834376648068428,
          0.11666608601808548,
          0.033492278307676315,
          0.04121985286474228,
          0.01881667599081993,
          0.9155221581459045,
          0.7354810237884521,
          0.00000792589798948029,
          0.0007371697574853897,
          0.0001468927803216502,
          0.00006763544661225751,
          0.0021448724437505007,
          0.02861291542649269,
          0.00009821986895985901,
          0.9943792819976807,
          0.9999052286148071,
          0.7752454280853271,
          0.05512864887714386,
          0.0007164256530813873,
          0.014185256324708462,
          0.5553021430969238,
          0.0209038145840168,
          0.9770955443382263,
          0.01906147040426731,
          0.03495549410581589,
          0.03427911922335625,
          0.0000013103467608743813,
          0.03752962127327919,
          0.00800797063857317,
          0.9076747298240662,
          0.9345495700836182,
          0.9346610903739929,
          0.0001548218133393675,
          0.001396280713379383,
          0.0010530243162065744,
          0.024883408099412918,
          0.00021967377688270062,
          0.007022354286164045,
          0.11569957435131073,
          0.000530088203959167,
          0.13256801664829254,
          0.0003239703946746886,
          0.0012047557393088937,
          0.003221964929252863,
          9.461670060773031e-7,
          0.008069724775850773,
          0.024935737252235413,
          0.0007721238653175533,
          0.00008843531395541504,
          0.0000028469964945543325,
          6.147582212179259e-7,
          0.007241630461066961,
          0.0007302142330445349,
          4.119607766028821e-8,
          0.0005628456128761172,
          3.7699596333595764e-8,
          0.004612979479134083,
          0.004128698725253344,
          0.0000017238801319763297,
          0.0001299358846154064,
          0.000002970293962789583,
          0.003011951455846429,
          0.0001876426103990525,
          0.00008880087989382446,
          0.0006157975294627249,
          0.0002084956649923697,
          0.0022538427729159594,
          0.0003840128192678094,
          0.005230640061199665,
          0.0074012731201946735,
          0.0002285047376062721,
          0.00008820766379358247,
          0.00023005640832707286,
          0.0004269363125786185,
          0.0033636074513196945,
          0.08313650637865067,
          0.05502985790371895,
          7.455975037373719e-8,
          0.000005263712409941945,
          0.000009619284355721902,
          0.0020385473035275936,
          7.647025768164895e-8,
          0.000004852463916904526,
          0.0009258426143787801,
          7.238165835588006e-7,
          4.65333471311169e-7,
          0.0011938064126297832,
          0.00014328403631225228,
          6.827594347669219e-7,
          0.000009019025128509384,
          0.011354202404618263,
          0.00004621488187694922,
          0.000047356785216834396,
          0.004610066302120686,
          0.006955220364034176,
          0.12047731131315231,
          0.001124450471252203,
          0.0023467419669032097,
          0.011460221372544765,
          0.00002304366535099689,
          0.006825855001807213,
          0.0018889965722337365,
          0.00022123532835394144,
          0.000725569436326623,
          0.000006744666734448401,
          0.011436623521149158,
          0.0017914377385750413,
          0.000008442541911790613,
          0.0018100629094988108,
          0.000010682023457775358,
          0.000004390522917674389,
          0.0003341043193358928,
          0.000003229500180168543,
          0.00007603609992656857,
          0.0000021006305814808,
          0.004520596470683813,
          5.048575530963717e-7,
          0.003288151463493705,
          0.00698623713105917,
          0.0000045973506530572195,
          0.0000018545821376392269,
          0.0019520182395353913,
          3.420672456400098e-8,
          2.449936005177733e-7,
          5.721853995055426e-7,
          0.0000010945800568151753,
          0.0002099717385135591,
          0.0000020075754036952276,
          0.00025647084112279117,
          2.0831298286339006e-7,
          0.0005700091714970767,
          0.0000011847959058286506,
          3.436397264522384e-7,
          0.000002956220669148024,
          0.000007451320925611071,
          0.01973077468574047,
          0.0000028361837394186296,
          0.00020588564802892506,
          0.0000429172687290702,
          0.0002744973171502352,
          0.003061407944187522,
          0.0008667470538057387,
          0.00017514568753540516,
          0.010124714113771915,
          0.0006461039301939309,
          0.010056047700345516,
          0.005146088544279337,
          0.000004824381903745234,
          0.050372738391160965,
          0.000559913576580584,
          0.02023143693804741,
          0.0010306190233677626,
          0.0018409237964078784,
          0.015523462556302547,
          0.014899286441504955,
          0.0004078960919287056,
          0.00006705628766212612,
          0.0024241094943135977,
          0.0017705634236335754,
          0.0003817753167822957,
          0.004227068740874529,
          0.05585377290844917,
          0.00015886282199062407,
          0.007389368023723364,
          0.0053505320101976395,
          0.023382095620036125,
          0.02347572147846222,
          0.043925654143095016,
          0.0000016340151205440634,
          0.008904765360057354,
          0.00009650463471189141,
          0.000006661406132479897,
          0.005060363560914993,
          0.0008479065727442503,
          0.01872989349067211,
          0.00800797063857317,
          0.025762876495718956,
          0.007876625284552574,
          0.000466503988718614,
          0.00028196198400110006,
          0.00005058331953478046,
          0.01215300802141428,
          0.014158209785819054,
          0.09532480686903,
          0.0012459110002964735,
          0.05533453822135925,
          0.019149957224726677,
          0.0019857422448694706,
          0.043238405138254166,
          0.01674646884202957,
          0.02244427613914013,
          0.06046748906373978,
          0.009660804644227028,
          0.00034793224767781794,
          0.04039997607469559,
          0.002608673647046089,
          0.000006631520136579638,
          2.299239731939906e-8,
          0.00016666312876623124,
          0.00035294852568767965,
          0.001460074563510716,
          0.000007926548278192058,
          3.4902001289083273e-7,
          0.0000016889531480046571,
          0.0001576055510668084,
          0.0010206596925854683,
          0.0005617447895929217,
          0.013216264545917511,
          0.000002576181486801943,
          0.0000015687354562032851,
          6.469683171417273e-7,
          0.000005874836915609194,
          0.00001350045931758359,
          0.000060892198234796524,
          0.0078076692298054695,
          0.000055246473493753,
          8.418533070653211e-8,
          0.0008559466805309057,
          8.230470172065907e-8,
          0.003969589713960886,
          0.01640966534614563,
          0.0031984380912035704,
          0.000864807516336441,
          0.0000018128065448763664,
          0.00010505894897505641,
          0.0000011929148513445398,
          0.00029366245144046843,
          0.00003063124677282758,
          0.0000028655492769757984,
          1.041258279599333e-8,
          0.0002376912598265335,
          0.0006652514566667378,
          0.000009359000614495017,
          0.004939527716487646,
          0.0009422213770449162,
          0.00004571588215185329,
          0.00004822831033379771,
          0.000015186870768957306,
          0.00012136864097556099,
          0.010732291266322136,
          0.004476706497371197,
          0.01715150475502014,
          0.0003197683545295149,
          0.00003622595249908045,
          0.0009400554117746651,
          0.0022697513923048973,
          0.0003055950510315597,
          0.0001748003123793751,
          0.003229456255212426,
          0.0046830265782773495,
          0.00267923716455698,
          0.0017573642544448376,
          0.024491680786013603,
          0.0019397129071876407,
          0.0007162853144109249,
          0.0007214294746518135,
          0.00031316292006522417,
          0.038161225616931915,
          0.0016113311285153031,
          0.0000934948620852083,
          0.0000014240209793570102,
          0.002483936259523034,
          0.0000014317065506475046,
          0.000002168089167753351,
          0.0017468591686338186,
          0.014976580627262592,
          0.00012546427024062723,
          0.0000015391901797556784,
          0.007325957994908094,
          1.2002359994767176e-7,
          0.06047069653868675,
          0.04077165573835373,
          0.00002586096707091201,
          0.00002301037238794379,
          0.9923860430717468,
          0.9956769943237305,
          0.9983891844749451,
          0.9879896640777588,
          0.9938107132911682,
          0.9724041819572449,
          0.9913426637649536,
          0.9987327456474304,
          0.9991072416305542,
          0.9313188791275024,
          0.8637708425521851,
          0.9970750212669373,
          0.9922556281089783,
          0.8541580438613892,
          0.9466707110404968,
          0.9949477910995483,
          0.9760155081748962,
          0.9479478001594543,
          0.9962521195411682,
          0.9155828952789307,
          0.9983441829681396,
          0.9971279501914978,
          0.894951343536377,
          0.9922731518745422,
          0.985275387763977,
          0.9995646476745605,
          0.9960855841636658,
          0.9957596063613892,
          0.9974817633628845,
          0.9650925397872925,
          0.9990922808647156,
          0.9430951476097107,
          0.9992939233779907,
          0.9975977540016174,
          0.9973050951957703,
          0.9820868968963623,
          0.9363181591033936,
          0.9716731905937195,
          0.998579204082489,
          0.9837144613265991,
          0.9990027546882629,
          0.9988874197006226,
          0.9921168684959412,
          0.9986610412597656,
          0.9998459219932556,
          0.997633695602417,
          0.9934072494506836,
          0.9920576214790344,
          0.9908633232116699,
          0.9852787256240845,
          0.9961787462234497,
          0.6786975860595703,
          0.9942862391471863,
          0.981370210647583,
          0.9912776947021484,
          0.9984399676322937,
          0.769315242767334,
          0.9913548231124878,
          0.025271525606513023,
          0.9490243792533875,
          0.8870963454246521,
          0.9999800324440002,
          0.9999563097953796,
          0.999760627746582,
          0.99985671043396,
          0.8561317920684814,
          0.9547482132911682,
          0.9999915957450867,
          0.9659755825996399,
          0.9385746717453003,
          0.9903340339660645,
          0.8912948369979858,
          0.959965705871582,
          0.9996320605278015,
          0.7183934450149536,
          0.00007914944580988958,
          0.9970400929450989,
          0.9943622946739197,
          0.9917425513267517,
          0.9991340637207031,
          0.9984858632087708,
          0.995610773563385,
          0.9989668726921082,
          0.9980623722076416,
          0.8618184328079224,
          0.999688982963562,
          0.9961318969726562,
          0.9581246376037598,
          0.9988260269165039,
          0.9988480806350708,
          0.9998704195022583,
          0.9906448125839233,
          0.9988773465156555,
          0.925233006477356,
          0.9998779296875,
          0.9803323745727539,
          0.9990109205245972,
          0.9979158639907837,
          0.9992491006851196,
          0.994243323802948,
          0.9940727353096008,
          0.9960243105888367,
          0.995330810546875,
          0.9067001938819885,
          0.9991937875747681,
          0.9995889663696289,
          0.9974576830863953,
          0.9995989203453064,
          0.9994475245475769,
          0.9993082880973816,
          0.9994616508483887,
          0.9924492835998535,
          0.996605634689331,
          0.9962855577468872,
          0.9981511831283569,
          0.9990097284317017,
          0.9987837076187134,
          0.9990247488021851,
          0.9995784163475037,
          0.9990769028663635,
          0.7733979821205139,
          0.9990832209587097,
          0.9866639971733093,
          0.9668743014335632,
          0.9835432767868042,
          0.9984213709831238,
          0.9998470544815063,
          0.9886875748634338,
          0.9984845519065857,
          0.91602623462677,
          0.9096679091453552,
          0.9546478986740112,
          0.9760779142379761,
          0.9947746992111206,
          0.9907268285751343,
          0.9965716004371643,
          0.9505941271781921,
          0.9936710000038147,
          0.9952521920204163,
          0.9934896230697632,
          0.9945623874664307,
          0.9908207058906555,
          0.9943980574607849,
          0.9932158589363098,
          0.9990338087081909,
          0.9967210292816162,
          0.9986149072647095,
          0.997338593006134,
          0.9653599858283997,
          0.9911009073257446,
          0.4174882769584656,
          0.998595118522644,
          0.9989854693412781,
          0.9268355965614319,
          0.9992595911026001,
          0.9992014169692993,
          0.877089262008667,
          0.9242631196975708,
          0.9910871386528015,
          0.9934477806091309,
          0.9999288320541382,
          0.9566261768341064,
          0.9970179200172424,
          0.9671266078948975,
          0.9832040071487427,
          0.9814137816429138,
          0.9982664585113525,
          0.9998310804367065,
          0.81434166431427,
          0.9702689051628113,
          0.9994712471961975,
          0.9878915548324585,
          0.9921452403068542,
          0.9880678057670593,
          0.9983165264129639,
          0.9989994168281555,
          0.9997952580451965,
          0.9965405464172363,
          0.9935123920440674,
          0.9697551727294922,
          0.9933152198791504,
          0.9902839064598083,
          0.9888395667076111,
          0.9908815026283264,
          0.9950404763221741,
          0.9972667694091797,
          0.9913842082023621,
          0.9946332573890686,
          0.9710714817047119,
          0.9975085258483887,
          0.9964050650596619,
          0.9998226761817932,
          0.9497407078742981,
          0.9866203665733337,
          0.9939938187599182,
          0.9994280934333801,
          0.9872387647628784,
          0.7601450085639954,
          0.9892882108688354,
          0.9682692885398865,
          0.9789984822273254,
          0.9712924957275391,
          0.9707552790641785,
          0.999485969543457,
          0.9991757273674011,
          0.9977684617042542,
          0.9955483675003052,
          0.9945293664932251,
          0.9972078204154968,
          0.9253620505332947,
          0.9915475845336914,
          0.9817121624946594,
          0.9840952157974243,
          0.9930770397186279,
          0.9398391842842102,
          0.959717333316803,
          0.9235694408416748,
          0.7406246662139893,
          0.9700618982315063,
          0.9537476301193237,
          0.9990770220756531,
          0.9947875738143921,
          0.9742835164070129,
          0.9701920747756958,
          0.9777513742446899,
          0.9894024729728699,
          0.9825452566146851,
          0.9995373487472534,
          0.996336817741394,
          0.9770964980125427,
          0.9926022291183472,
          0.9968483448028564,
          0.9994832277297974,
          0.9897317290306091,
          0.9885644912719727,
          0.9749292135238647,
          0.9314661622047424,
          0.8760325908660889,
          0.9396985173225403,
          0.9916465878486633,
          0.9238914847373962,
          0.9773169755935669,
          0.9602963924407959,
          0.9127653241157532,
          0.7069778442382812,
          0.6226699352264404,
          0.9972813129425049,
          0.9959683418273926,
          0.993226170539856,
          0.9724193215370178,
          0.9878158569335938,
          0.9867238998413086,
          0.9902970790863037,
          0.9809326529502869,
          0.8732407093048096,
          0.6616089344024658,
          0.9630298018455505,
          0.8862089514732361,
          0.9786829352378845,
          0.36548084020614624,
          0.6348949074745178,
          0.9354183077812195,
          0.9879038333892822,
          0.9922143816947937,
          0.8237781524658203,
          0.7677769660949707,
          0.8403300046920776,
          0.9731560945510864,
          0.9774825572967529,
          0.9908636212348938,
          0.9796087741851807,
          0.9873315691947937,
          0.8896598815917969,
          0.9970082640647888,
          0.9969307780265808,
          0.9987766742706299,
          0.9756271243095398,
          0.9779373407363892,
          0.9994436502456665,
          0.9989613890647888,
          0.94914710521698,
          0.9950067400932312,
          0.9995375871658325,
          0.9995338320732117,
          0.997946560382843,
          0.9973568320274353,
          0.9898346662521362,
          0.9907829761505127,
          0.99039226770401,
          0.992081344127655,
          0.7008598446846008,
          0.6791834831237793,
          0.8803095817565918,
          0.8913735747337341,
          0.9852237701416016,
          0.9328376650810242,
          0.9903706908226013,
          0.9895849823951721,
          0.9899036288261414,
          0.9624066352844238,
          0.9588248133659363,
          0.9530141353607178,
          0.9990171194076538,
          0.9990542531013489,
          0.9719752669334412,
          0.9905031323432922,
          0.9988740682601929,
          0.994924783706665,
          0.9957982897758484,
          0.9960452318191528,
          0.9991012215614319,
          0.9994762539863586,
          0.9992578625679016,
          0.999683141708374,
          0.9998593330383301,
          0.9998370409011841,
          0.9898717999458313,
          0.997029185295105,
          0.9701113104820251,
          0.9889953136444092,
          0.7710951566696167,
          0.4034898579120636,
          0.9621191024780273,
          0.9786306619644165,
          0.9837855696678162,
          0.6115015745162964,
          0.9793156981468201,
          0.987226128578186,
          0.9787732362747192,
          0.9967638850212097,
          0.9992052316665649,
          0.9989888668060303,
          0.9868109226226807,
          0.9981026649475098,
          0.9989386200904846,
          0.9319642782211304,
          0.9951714873313904,
          0.974994421005249,
          0.9985220432281494,
          0.9863784313201904,
          0.9928557276725769,
          0.9291712641716003,
          0.9483321309089661,
          0.9975179433822632,
          0.9972671866416931,
          0.9732081294059753,
          0.9967072010040283,
          0.8617807626724243,
          0.9837629199028015,
          0.9987262487411499,
          0.9325876235961914,
          0.6550511121749878,
          0.9991443157196045,
          0.9815326929092407,
          0.9932079911231995,
          0.9517243504524231,
          0.9960685968399048,
          0.999180018901825,
          0.9885779619216919,
          0.9906112551689148,
          0.968735933303833,
          0.9972419738769531,
          0.9489234685897827,
          0.9851913452148438,
          0.9721333384513855,
          0.9805556535720825,
          0.9068721532821655,
          0.995945394039154,
          0.9991714954376221,
          0.9773726463317871,
          0.9896664619445801,
          0.9756708741188049,
          0.9208772778511047,
          0.9128374457359314,
          0.9997451901435852,
          0.9785715341567993,
          0.9991442561149597,
          0.9946996569633484,
          0.9995055198669434,
          0.9300268292427063,
          0.9808171391487122,
          0.8105298280715942,
          0.9992897510528564,
          0.9968000054359436,
          0.7531487345695496,
          0.9969283938407898,
          0.9919639825820923,
          0.9951954483985901,
          0.9963374137878418,
          0.9671245217323303,
          0.952468752861023,
          0.9690055847167969,
          0.9993984699249268,
          0.9993774890899658,
          0.9997035264968872,
          0.9976040720939636,
          0.9923673272132874,
          0.9523695707321167,
          0.3990550935268402,
          0.9954329133033752,
          0.9961118698120117,
          0.9982864260673523,
          0.9972985982894897,
          0.9652929306030273,
          0.9912576079368591,
          0.9936784505844116,
          0.9938067197799683,
          0.9515048861503601,
          0.9984090924263,
          0.9989032745361328,
          0.7998796701431274,
          0.9801468849182129,
          0.9970216155052185,
          0.9997982382774353,
          0.998793363571167,
          0.9987038373947144,
          0.9995161294937134,
          0.9928756356239319,
          0.9976973533630371,
          0.9997776746749878,
          0.9996271729469299,
          0.9997586607933044,
          0.999750554561615,
          0.9996251463890076,
          0.9984247088432312,
          0.9995185136795044,
          0.9983949661254883,
          0.8933528661727905,
          0.9983142018318176,
          0.9962896108627319,
          0.999406635761261,
          0.9810777306556702,
          0.9788988828659058,
          0.9991887807846069,
          0.9858053922653198,
          0.9633474946022034,
          0.9079041481018066,
          0.820914089679718,
          0.9978116154670715,
          0.9425920844078064,
          0.8523893356323242,
          0.9974681735038757,
          0.9989362359046936,
          0.9984279274940491,
          0.9912557601928711,
          0.99851393699646,
          0.999082624912262,
          0.9885690808296204,
          0.9997518062591553,
          0.9951335787773132,
          0.9986550211906433,
          0.997466504573822,
          0.9970763921737671,
          0.9988865852355957,
          0.9988424181938171,
          0.9985879063606262,
          0.9983518719673157,
          0.9981848001480103,
          0.999636173248291,
          0.9994475245475769,
          0.9795169830322266,
          0.917981743812561,
          0.8787013292312622,
          0.9989433288574219,
          0.9960433840751648,
          0.9534698128700256,
          0.9732990264892578,
          0.9889116883277893,
          0.9983707666397095,
          0.9846800565719604,
          0.9885603785514832,
          0.9997898936271667,
          0.9994581341743469,
          0.9859052896499634,
          0.9856672883033752,
          0.9975004196166992,
          0.8114492893218994,
          0.998924732208252,
          0.9999798536300659,
          0.9996709823608398,
          0.9984124898910522,
          0.9988116025924683,
          0.9991195201873779,
          0.81606125831604,
          0.90737384557724,
          0.9445984363555908,
          0.9999800324440002,
          0.337189644575119,
          0.9490243792533875,
          0.9799442887306213,
          0.9894345998764038,
          0.9422490000724792,
          0.9976255893707275,
          0.5312978029251099,
          0.9485831260681152,
          0.7237328886985779,
          0.999760627746582,
          0.99985671043396,
          0.9373452067375183,
          0.9403659105300903,
          0.9903340339660645,
          0.7642241716384888,
          0.9990789294242859,
          0.999330997467041,
          0.9170714616775513,
          0.9910573959350586,
          0.8219197392463684,
          0.94975346326828,
          0.9164886474609375,
          0.9708002805709839,
          0.9487992525100708,
          0.9813473224639893,
          0.9988223910331726,
          0.9814667701721191,
          0.00007914944580988958,
          0.9860429763793945,
          0.9984705448150635,
          0.496655136346817,
          0.9970449805259705,
          0.9981293678283691,
          0.9989617466926575,
          0.025271525606513023,
          0.940931499004364,
          0.9990962743759155,
          0.9987156987190247,
          0.9999196529388428,
          0.9984003305435181,
          0.9983310699462891,
          0.9961163997650146,
          0.9985514283180237,
          0.9879606366157532,
          0.9977620840072632,
          0.9994209408760071,
          0.9984312057495117,
          0.9986243844032288,
          0.9764933586120605,
          0.9976630210876465,
          0.9932431578636169,
          0.9994379281997681,
          0.9861387014389038,
          0.9923020601272583,
          0.9920259118080139,
          0.9959240555763245,
          0.9908462166786194,
          0.9879619479179382,
          0.9962840676307678,
          0.999980628490448,
          0.9995458126068115,
          0.9996019601821899,
          0.9985233545303345,
          0.9980530142784119,
          0.9805129170417786,
          0.9961259961128235,
          0.9906144142150879,
          0.763076663017273,
          0.9388687610626221,
          0.3775348663330078,
          0.029146628454327583,
          0.9821588397026062,
          0.9971184730529785,
          0.9881846308708191,
          0.9784913659095764,
          0.9938488006591797,
          0.9956483244895935,
          0.9862356781959534,
          0.9965454936027527,
          0.8924766778945923,
          0.980331540107727,
          0.9940364956855774,
          0.9999316334724426,
          0.9960647821426392,
          0.9974233508110046,
          0.9968780279159546,
          0.9983376860618591,
          0.996401309967041,
          0.9930530190467834,
          0.9979730844497681,
          0.8133253455162048,
          0.8949536681175232,
          0.9511869549751282,
          0.9950234889984131,
          0.9609093070030212,
          0.9998363256454468,
          0.7698079943656921,
          0.7017083168029785,
          0.902296245098114,
          0.9955856800079346,
          0.9326201677322388,
          0.8162456154823303,
          0.9876722097396851,
          0.9942903518676758,
          0.977834165096283,
          0.9808316826820374,
          0.9990798234939575,
          0.9967836141586304,
          0.9836088418960571,
          0.8682429790496826,
          0.9544458985328674,
          0.9707664847373962,
          0.9558589458465576,
          0.997053325176239,
          0.9705797433853149,
          0.9966133832931519,
          0.9954652786254883,
          0.9992045760154724,
          0.998009443283081,
          0.992743194103241,
          0.9977118968963623,
          0.9918971657752991,
          0.9996100068092346,
          0.9950788021087646,
          0.9675416946411133,
          0.971084475517273,
          0.9975780248641968,
          0.9973896741867065,
          0.999450147151947,
          0.986924409866333,
          0.991973340511322,
          0.9970120191574097,
          0.9957256317138672,
          0.9861218929290771,
          0.9958503842353821,
          0.9906282424926758,
          0.9991812109947205,
          0.9999659061431885,
          0.9999440908432007,
          0.9992608428001404,
          0.999308168888092,
          0.9711737632751465,
          0.9982991814613342,
          0.999045729637146,
          0.978225827217102,
          0.9997896552085876,
          0.9977097511291504,
          0.9921402335166931,
          0.9990254640579224,
          0.9958423972129822,
          0.9980911612510681,
          0.9960943460464478,
          0.9991231560707092,
          0.9944162368774414,
          0.9972361922264099,
          0.9953681230545044,
          0.9998470544815063,
          0.9995524287223816,
          0.9994221329689026,
          0.9991415143013,
          0.9997522830963135,
          0.9986385107040405,
          0.9944174885749817,
          0.9989566206932068,
          0.9980573058128357,
          0.9951906800270081,
          0.9997903108596802,
          0.99991774559021,
          0.9980683326721191,
          0.9681676030158997,
          0.9994504451751709,
          0.998624324798584,
          0.9991589188575745,
          0.9993270635604858,
          0.9995535016059875,
          0.9987412095069885,
          0.9994754791259766,
          0.9850008487701416,
          0.9927098155021667,
          0.9933518767356873,
          0.9964425563812256,
          0.9678264260292053,
          0.9974633455276489,
          0.9989701509475708,
          0.9879504442214966,
          0.9993239045143127,
          0.9995062351226807,
          0.9940586686134338,
          0.9963533878326416,
          0.9932686686515808,
          0.9924120903015137,
          0.998604953289032,
          0.9954637289047241,
          0.9905718564987183,
          0.9997738599777222,
          0.9995659589767456,
          0.9665462374687195,
          0.9976075291633606,
          0.9992713928222656,
          0.9922767281532288,
          0.994576632976532,
          0.999522864818573,
          0.9922590851783752,
          0.9991006851196289,
          0.998137891292572,
          0.9967030882835388,
          0.9976150393486023,
          0.9977257251739502,
          0.9985202550888062,
          0.9969737529754639,
          0.9986191391944885,
          0.9953961372375488,
          0.9981020092964172,
          0.993263840675354,
          0.9962507486343384,
          0.9993497729301453,
          0.9999116063117981,
          0.9811098575592041,
          0.9963569641113281,
          0.9973568916320801,
          0.9990026950836182,
          0.8851509094238281,
          0.9991642832756042,
          0.999104917049408,
          0.9855622053146362,
          0.9913361668586731,
          0.996211588382721,
          0.9599959254264832,
          0.9995594024658203,
          0.9920986890792847,
          0.9991456866264343,
          0.9960421919822693,
          0.9987317323684692,
          0.9925124645233154,
          0.9901570081710815,
          0.994386613368988,
          0.983209490776062,
          0.9930818676948547,
          0.9999555349349976,
          0.6704431176185608,
          0.9352297186851501,
          0.9997068047523499,
          0.9905268549919128,
          0.9963059425354004,
          0.9961285591125488,
          0.9968445897102356,
          0.9998601078987122,
          0.9077484011650085,
          0.9156792163848877,
          0.883023738861084,
          0.9755627512931824,
          0.9341690540313721,
          0.9490577578544617,
          0.9830081462860107,
          0.9809178113937378,
          0.9900232553482056,
          0.9975288510322571,
          0.9986341595649719,
          0.871672511100769,
          0.9769583344459534,
          0.9990358352661133,
          0.9985216856002808,
          0.9985126256942749,
          0.9959460496902466,
          0.9992627501487732,
          0.9919954538345337,
          0.9930058717727661,
          0.9771207571029663,
          0.9921460151672363,
          0.9921835660934448,
          0.9954339265823364,
          0.9995958209037781,
          0.9971901774406433,
          0.9739474058151245,
          0.9998648166656494,
          0.8423834443092346,
          0.9941600561141968,
          0.997600257396698,
          0.9996631145477295,
          0.9962487816810608,
          0.9884973168373108,
          0.9843177795410156,
          0.9710283279418945,
          0.9978963732719421,
          0.9999675750732422,
          0.9964911341667175,
          0.979213535785675,
          0.9937145113945007,
          0.9541347622871399,
          0.9296650290489197,
          0.9759048819541931,
          0.9492383599281311,
          0.9838082194328308,
          0.9990905523300171,
          0.9991814494132996,
          0.9997215270996094,
          0.9993991851806641,
          0.9124524593353271,
          0.9961187243461609,
          0.9994927048683167,
          0.9973511695861816,
          0.9147244095802307,
          0.9663931131362915,
          0.9726247191429138,
          0.9902833104133606,
          0.998405933380127,
          0.9981079697608948,
          0.654170036315918,
          0.23440773785114288,
          0.9955228567123413,
          0.9916639924049377,
          0.9921525716781616,
          0.993872344493866,
          0.9991375803947449,
          0.9964579939842224,
          0.9475439786911011,
          0.9662134647369385,
          0.9942840933799744,
          0.996329665184021,
          0.9402780532836914,
          0.6526856422424316,
          0.9964815378189087,
          0.995841383934021,
          0.9977782964706421,
          0.981366753578186,
          0.988741934299469,
          0.9997339248657227,
          0.986364483833313,
          0.985676646232605,
          0.9733652472496033,
          0.9769447445869446,
          0.9529313445091248,
          0.9475508332252502,
          0.9919445514678955,
          0.8045148849487305,
          0.9943930506706238,
          0.9989049434661865,
          0.9887341856956482,
          0.9986453056335449,
          0.9976668357849121,
          0.9950196146965027,
          0.985877513885498,
          0.9984222054481506,
          0.8498902320861816,
          0.993465781211853,
          0.9984550476074219,
          0.9938972592353821,
          0.9737957119941711,
          0.9933217763900757,
          0.999786376953125,
          0.9998399019241333,
          0.9980050325393677,
          0.9826535582542419,
          0.9991796612739563,
          0.9452304840087891,
          0.875434160232544,
          0.9304967522621155,
          0.9929041862487793,
          0.9931944608688354,
          0.9620778560638428,
          0.8181633949279785,
          0.9949397444725037,
          0.9647662043571472,
          0.9956878423690796,
          0.957475483417511,
          0.9648318290710449,
          0.9994547963142395,
          0.9852145910263062,
          0.9321780800819397,
          0.9831327199935913,
          0.98332679271698,
          0.9875425696372986,
          0.9963008165359497,
          0.9992316365242004,
          0.9997676610946655,
          0.9892509579658508,
          0.9897093772888184,
          0.994526743888855,
          0.9881709218025208,
          0.8937863111495972,
          0.9981642961502075,
          0.9955801963806152,
          0.9980238080024719,
          0.9968852996826172,
          0.9972217679023743,
          0.9872275590896606,
          0.9918726086616516,
          0.9967175722122192,
          0.9997010231018066,
          0.9992683529853821,
          0.9967842102050781,
          0.9983325004577637,
          0.999400794506073,
          0.9901005029678345,
          0.9986042380332947,
          0.9031441807746887,
          0.999208390712738,
          0.996195375919342,
          0.9799023866653442,
          0.9898062944412231,
          0.9747082591056824,
          0.9816227555274963,
          0.999343991279602,
          0.9945529103279114,
          0.9882262349128723,
          0.9816178679466248,
          0.959888219833374,
          0.9796460866928101,
          0.9973822236061096,
          0.9773433208465576,
          0.9997036457061768,
          0.9952617883682251,
          0.9928385019302368,
          0.9999090433120728,
          0.9995297789573669,
          0.995067834854126,
          0.9968191385269165,
          0.996885359287262,
          0.9949179887771606,
          0.9998137354850769,
          0.9986271858215332,
          0.9837157726287842,
          0.9985563158988953,
          0.9642849564552307,
          0.9770558476448059,
          0.9932618141174316,
          0.9971356391906738,
          0.9992900490760803,
          0.9991540908813477,
          0.7575041055679321,
          0.5351758003234863,
          0.9858848452568054,
          0.9940665364265442,
          0.9986646771430969,
          0.921108067035675,
          0.9548144340515137,
          0.9962332248687744,
          0.9992717504501343,
          0.9994580149650574,
          0.9992190599441528,
          0.9998073577880859,
          0.9967548251152039,
          0.9995335936546326,
          0.9969335198402405,
          0.48404935002326965,
          0.8554055094718933,
          0.9997762441635132,
          0.9974617958068848,
          0.9986558556556702,
          0.9590222835540771,
          0.9514846205711365,
          0.9578819274902344,
          0.97100830078125,
          0.9651843309402466,
          0.9987165927886963,
          0.9804338216781616,
          0.9053969979286194,
          0.9584388136863708,
          0.9986411333084106,
          0.9933105111122131,
          0.9868127703666687,
          0.9869571924209595,
          0.9990874528884888,
          0.9977610111236572,
          0.9974884390830994,
          0.9656954407691956,
          0.986382007598877,
          0.9984853863716125,
          0.7721606492996216,
          0.975983738899231,
          0.9983246326446533,
          0.9973682165145874,
          0.9818472862243652,
          0.9828397035598755,
          0.9732978940010071,
          0.9668008685112,
          0.9778311848640442,
          0.9165554046630859,
          0.997452974319458,
          0.9925438761711121,
          0.9989714622497559,
          0.9989896416664124,
          0.998404324054718,
          0.9929137825965881,
          0.9963443279266357,
          0.9343517422676086,
          0.937183141708374,
          0.9503029584884644,
          0.9870671033859253,
          0.9884274005889893,
          0.9837073087692261,
          0.9855614900588989,
          0.9971452951431274,
          0.9957862496376038,
          0.998878002166748,
          0.9990131855010986,
          0.9978049397468567,
          0.9991734623908997,
          0.9968335628509521,
          0.9977774024009705,
          0.995377242565155,
          0.9971755743026733,
          0.9999812841415405,
          0.9510811567306519,
          0.9866838455200195,
          0.9926329255104065,
          0.9567315578460693,
          0.9925988912582397,
          0.9983361959457397,
          0.9991452097892761,
          0.9967370629310608,
          0.9984819889068604,
          0.991772472858429,
          0.9981229901313782,
          0.9964586496353149,
          0.9954251050949097,
          0.991704523563385,
          0.9880536794662476,
          0.9872044920921326,
          0.9491012096405029,
          0.9274044036865234,
          0.9917766451835632,
          0.9589462280273438,
          0.00009307081927545369,
          0.8130139708518982,
          0.0028030213434249163,
          0.7994318008422852,
          0.9675875306129456,
          0.02933436818420887,
          0.3809313178062439,
          0.9906017780303955,
          0.3584820628166199,
          0.6423443555831909,
          0.4738515019416809
         ],
         "xaxis": "x",
         "yaxis": "y"
        }
       ],
       "layout": {
        "barmode": "relative",
        "legend": {
         "title": {
          "text": "variable"
         },
         "tracegroupgap": 0
        },
        "margin": {
         "t": 60
        },
        "template": {
         "data": {
          "bar": [
           {
            "error_x": {
             "color": "#2a3f5f"
            },
            "error_y": {
             "color": "#2a3f5f"
            },
            "marker": {
             "line": {
              "color": "#E5ECF6",
              "width": 0.5
             },
             "pattern": {
              "fillmode": "overlay",
              "size": 10,
              "solidity": 0.2
             }
            },
            "type": "bar"
           }
          ],
          "barpolar": [
           {
            "marker": {
             "line": {
              "color": "#E5ECF6",
              "width": 0.5
             },
             "pattern": {
              "fillmode": "overlay",
              "size": 10,
              "solidity": 0.2
             }
            },
            "type": "barpolar"
           }
          ],
          "carpet": [
           {
            "aaxis": {
             "endlinecolor": "#2a3f5f",
             "gridcolor": "white",
             "linecolor": "white",
             "minorgridcolor": "white",
             "startlinecolor": "#2a3f5f"
            },
            "baxis": {
             "endlinecolor": "#2a3f5f",
             "gridcolor": "white",
             "linecolor": "white",
             "minorgridcolor": "white",
             "startlinecolor": "#2a3f5f"
            },
            "type": "carpet"
           }
          ],
          "choropleth": [
           {
            "colorbar": {
             "outlinewidth": 0,
             "ticks": ""
            },
            "type": "choropleth"
           }
          ],
          "contour": [
           {
            "colorbar": {
             "outlinewidth": 0,
             "ticks": ""
            },
            "colorscale": [
             [
              0,
              "#0d0887"
             ],
             [
              0.1111111111111111,
              "#46039f"
             ],
             [
              0.2222222222222222,
              "#7201a8"
             ],
             [
              0.3333333333333333,
              "#9c179e"
             ],
             [
              0.4444444444444444,
              "#bd3786"
             ],
             [
              0.5555555555555556,
              "#d8576b"
             ],
             [
              0.6666666666666666,
              "#ed7953"
             ],
             [
              0.7777777777777778,
              "#fb9f3a"
             ],
             [
              0.8888888888888888,
              "#fdca26"
             ],
             [
              1,
              "#f0f921"
             ]
            ],
            "type": "contour"
           }
          ],
          "contourcarpet": [
           {
            "colorbar": {
             "outlinewidth": 0,
             "ticks": ""
            },
            "type": "contourcarpet"
           }
          ],
          "heatmap": [
           {
            "colorbar": {
             "outlinewidth": 0,
             "ticks": ""
            },
            "colorscale": [
             [
              0,
              "#0d0887"
             ],
             [
              0.1111111111111111,
              "#46039f"
             ],
             [
              0.2222222222222222,
              "#7201a8"
             ],
             [
              0.3333333333333333,
              "#9c179e"
             ],
             [
              0.4444444444444444,
              "#bd3786"
             ],
             [
              0.5555555555555556,
              "#d8576b"
             ],
             [
              0.6666666666666666,
              "#ed7953"
             ],
             [
              0.7777777777777778,
              "#fb9f3a"
             ],
             [
              0.8888888888888888,
              "#fdca26"
             ],
             [
              1,
              "#f0f921"
             ]
            ],
            "type": "heatmap"
           }
          ],
          "heatmapgl": [
           {
            "colorbar": {
             "outlinewidth": 0,
             "ticks": ""
            },
            "colorscale": [
             [
              0,
              "#0d0887"
             ],
             [
              0.1111111111111111,
              "#46039f"
             ],
             [
              0.2222222222222222,
              "#7201a8"
             ],
             [
              0.3333333333333333,
              "#9c179e"
             ],
             [
              0.4444444444444444,
              "#bd3786"
             ],
             [
              0.5555555555555556,
              "#d8576b"
             ],
             [
              0.6666666666666666,
              "#ed7953"
             ],
             [
              0.7777777777777778,
              "#fb9f3a"
             ],
             [
              0.8888888888888888,
              "#fdca26"
             ],
             [
              1,
              "#f0f921"
             ]
            ],
            "type": "heatmapgl"
           }
          ],
          "histogram": [
           {
            "marker": {
             "pattern": {
              "fillmode": "overlay",
              "size": 10,
              "solidity": 0.2
             }
            },
            "type": "histogram"
           }
          ],
          "histogram2d": [
           {
            "colorbar": {
             "outlinewidth": 0,
             "ticks": ""
            },
            "colorscale": [
             [
              0,
              "#0d0887"
             ],
             [
              0.1111111111111111,
              "#46039f"
             ],
             [
              0.2222222222222222,
              "#7201a8"
             ],
             [
              0.3333333333333333,
              "#9c179e"
             ],
             [
              0.4444444444444444,
              "#bd3786"
             ],
             [
              0.5555555555555556,
              "#d8576b"
             ],
             [
              0.6666666666666666,
              "#ed7953"
             ],
             [
              0.7777777777777778,
              "#fb9f3a"
             ],
             [
              0.8888888888888888,
              "#fdca26"
             ],
             [
              1,
              "#f0f921"
             ]
            ],
            "type": "histogram2d"
           }
          ],
          "histogram2dcontour": [
           {
            "colorbar": {
             "outlinewidth": 0,
             "ticks": ""
            },
            "colorscale": [
             [
              0,
              "#0d0887"
             ],
             [
              0.1111111111111111,
              "#46039f"
             ],
             [
              0.2222222222222222,
              "#7201a8"
             ],
             [
              0.3333333333333333,
              "#9c179e"
             ],
             [
              0.4444444444444444,
              "#bd3786"
             ],
             [
              0.5555555555555556,
              "#d8576b"
             ],
             [
              0.6666666666666666,
              "#ed7953"
             ],
             [
              0.7777777777777778,
              "#fb9f3a"
             ],
             [
              0.8888888888888888,
              "#fdca26"
             ],
             [
              1,
              "#f0f921"
             ]
            ],
            "type": "histogram2dcontour"
           }
          ],
          "mesh3d": [
           {
            "colorbar": {
             "outlinewidth": 0,
             "ticks": ""
            },
            "type": "mesh3d"
           }
          ],
          "parcoords": [
           {
            "line": {
             "colorbar": {
              "outlinewidth": 0,
              "ticks": ""
             }
            },
            "type": "parcoords"
           }
          ],
          "pie": [
           {
            "automargin": true,
            "type": "pie"
           }
          ],
          "scatter": [
           {
            "fillpattern": {
             "fillmode": "overlay",
             "size": 10,
             "solidity": 0.2
            },
            "type": "scatter"
           }
          ],
          "scatter3d": [
           {
            "line": {
             "colorbar": {
              "outlinewidth": 0,
              "ticks": ""
             }
            },
            "marker": {
             "colorbar": {
              "outlinewidth": 0,
              "ticks": ""
             }
            },
            "type": "scatter3d"
           }
          ],
          "scattercarpet": [
           {
            "marker": {
             "colorbar": {
              "outlinewidth": 0,
              "ticks": ""
             }
            },
            "type": "scattercarpet"
           }
          ],
          "scattergeo": [
           {
            "marker": {
             "colorbar": {
              "outlinewidth": 0,
              "ticks": ""
             }
            },
            "type": "scattergeo"
           }
          ],
          "scattergl": [
           {
            "marker": {
             "colorbar": {
              "outlinewidth": 0,
              "ticks": ""
             }
            },
            "type": "scattergl"
           }
          ],
          "scattermapbox": [
           {
            "marker": {
             "colorbar": {
              "outlinewidth": 0,
              "ticks": ""
             }
            },
            "type": "scattermapbox"
           }
          ],
          "scatterpolar": [
           {
            "marker": {
             "colorbar": {
              "outlinewidth": 0,
              "ticks": ""
             }
            },
            "type": "scatterpolar"
           }
          ],
          "scatterpolargl": [
           {
            "marker": {
             "colorbar": {
              "outlinewidth": 0,
              "ticks": ""
             }
            },
            "type": "scatterpolargl"
           }
          ],
          "scatterternary": [
           {
            "marker": {
             "colorbar": {
              "outlinewidth": 0,
              "ticks": ""
             }
            },
            "type": "scatterternary"
           }
          ],
          "surface": [
           {
            "colorbar": {
             "outlinewidth": 0,
             "ticks": ""
            },
            "colorscale": [
             [
              0,
              "#0d0887"
             ],
             [
              0.1111111111111111,
              "#46039f"
             ],
             [
              0.2222222222222222,
              "#7201a8"
             ],
             [
              0.3333333333333333,
              "#9c179e"
             ],
             [
              0.4444444444444444,
              "#bd3786"
             ],
             [
              0.5555555555555556,
              "#d8576b"
             ],
             [
              0.6666666666666666,
              "#ed7953"
             ],
             [
              0.7777777777777778,
              "#fb9f3a"
             ],
             [
              0.8888888888888888,
              "#fdca26"
             ],
             [
              1,
              "#f0f921"
             ]
            ],
            "type": "surface"
           }
          ],
          "table": [
           {
            "cells": {
             "fill": {
              "color": "#EBF0F8"
             },
             "line": {
              "color": "white"
             }
            },
            "header": {
             "fill": {
              "color": "#C8D4E3"
             },
             "line": {
              "color": "white"
             }
            },
            "type": "table"
           }
          ]
         },
         "layout": {
          "annotationdefaults": {
           "arrowcolor": "#2a3f5f",
           "arrowhead": 0,
           "arrowwidth": 1
          },
          "autotypenumbers": "strict",
          "coloraxis": {
           "colorbar": {
            "outlinewidth": 0,
            "ticks": ""
           }
          },
          "colorscale": {
           "diverging": [
            [
             0,
             "#8e0152"
            ],
            [
             0.1,
             "#c51b7d"
            ],
            [
             0.2,
             "#de77ae"
            ],
            [
             0.3,
             "#f1b6da"
            ],
            [
             0.4,
             "#fde0ef"
            ],
            [
             0.5,
             "#f7f7f7"
            ],
            [
             0.6,
             "#e6f5d0"
            ],
            [
             0.7,
             "#b8e186"
            ],
            [
             0.8,
             "#7fbc41"
            ],
            [
             0.9,
             "#4d9221"
            ],
            [
             1,
             "#276419"
            ]
           ],
           "sequential": [
            [
             0,
             "#0d0887"
            ],
            [
             0.1111111111111111,
             "#46039f"
            ],
            [
             0.2222222222222222,
             "#7201a8"
            ],
            [
             0.3333333333333333,
             "#9c179e"
            ],
            [
             0.4444444444444444,
             "#bd3786"
            ],
            [
             0.5555555555555556,
             "#d8576b"
            ],
            [
             0.6666666666666666,
             "#ed7953"
            ],
            [
             0.7777777777777778,
             "#fb9f3a"
            ],
            [
             0.8888888888888888,
             "#fdca26"
            ],
            [
             1,
             "#f0f921"
            ]
           ],
           "sequentialminus": [
            [
             0,
             "#0d0887"
            ],
            [
             0.1111111111111111,
             "#46039f"
            ],
            [
             0.2222222222222222,
             "#7201a8"
            ],
            [
             0.3333333333333333,
             "#9c179e"
            ],
            [
             0.4444444444444444,
             "#bd3786"
            ],
            [
             0.5555555555555556,
             "#d8576b"
            ],
            [
             0.6666666666666666,
             "#ed7953"
            ],
            [
             0.7777777777777778,
             "#fb9f3a"
            ],
            [
             0.8888888888888888,
             "#fdca26"
            ],
            [
             1,
             "#f0f921"
            ]
           ]
          },
          "colorway": [
           "#636efa",
           "#EF553B",
           "#00cc96",
           "#ab63fa",
           "#FFA15A",
           "#19d3f3",
           "#FF6692",
           "#B6E880",
           "#FF97FF",
           "#FECB52"
          ],
          "font": {
           "color": "#2a3f5f"
          },
          "geo": {
           "bgcolor": "white",
           "lakecolor": "white",
           "landcolor": "#E5ECF6",
           "showlakes": true,
           "showland": true,
           "subunitcolor": "white"
          },
          "hoverlabel": {
           "align": "left"
          },
          "hovermode": "closest",
          "mapbox": {
           "style": "light"
          },
          "paper_bgcolor": "white",
          "plot_bgcolor": "#E5ECF6",
          "polar": {
           "angularaxis": {
            "gridcolor": "white",
            "linecolor": "white",
            "ticks": ""
           },
           "bgcolor": "#E5ECF6",
           "radialaxis": {
            "gridcolor": "white",
            "linecolor": "white",
            "ticks": ""
           }
          },
          "scene": {
           "xaxis": {
            "backgroundcolor": "#E5ECF6",
            "gridcolor": "white",
            "gridwidth": 2,
            "linecolor": "white",
            "showbackground": true,
            "ticks": "",
            "zerolinecolor": "white"
           },
           "yaxis": {
            "backgroundcolor": "#E5ECF6",
            "gridcolor": "white",
            "gridwidth": 2,
            "linecolor": "white",
            "showbackground": true,
            "ticks": "",
            "zerolinecolor": "white"
           },
           "zaxis": {
            "backgroundcolor": "#E5ECF6",
            "gridcolor": "white",
            "gridwidth": 2,
            "linecolor": "white",
            "showbackground": true,
            "ticks": "",
            "zerolinecolor": "white"
           }
          },
          "shapedefaults": {
           "line": {
            "color": "#2a3f5f"
           }
          },
          "ternary": {
           "aaxis": {
            "gridcolor": "white",
            "linecolor": "white",
            "ticks": ""
           },
           "baxis": {
            "gridcolor": "white",
            "linecolor": "white",
            "ticks": ""
           },
           "bgcolor": "#E5ECF6",
           "caxis": {
            "gridcolor": "white",
            "linecolor": "white",
            "ticks": ""
           }
          },
          "title": {
           "x": 0.05
          },
          "xaxis": {
           "automargin": true,
           "gridcolor": "white",
           "linecolor": "white",
           "ticks": "",
           "title": {
            "standoff": 15
           },
           "zerolinecolor": "white",
           "zerolinewidth": 2
          },
          "yaxis": {
           "automargin": true,
           "gridcolor": "white",
           "linecolor": "white",
           "ticks": "",
           "title": {
            "standoff": 15
           },
           "zerolinecolor": "white",
           "zerolinewidth": 2
          }
         }
        },
        "xaxis": {
         "anchor": "y",
         "domain": [
          0,
          1
         ],
         "title": {
          "text": "value"
         }
        },
        "yaxis": {
         "anchor": "x",
         "domain": [
          0,
          1
         ],
         "title": {
          "text": "count"
         }
        }
       }
      }
     },
     "metadata": {},
     "output_type": "display_data"
    }
   ],
   "source": [
    "import plotly.express as px\n",
    "p = fc_model.predict(x_test)\n",
    "hist= px.histogram(p)\n",
    "hist.show()"
   ]
  },
  {
   "cell_type": "markdown",
   "metadata": {},
   "source": [
    "## 3.3. Red Neuronal Convolucional"
   ]
  },
  {
   "cell_type": "code",
   "execution_count": 13,
   "metadata": {},
   "outputs": [
    {
     "name": "stderr",
     "output_type": "stream",
     "text": [
      "c:\\aplicaciones_analitica\\Casos de Estudio\\brain-tumor-detection\\environment\\Lib\\site-packages\\keras\\src\\layers\\convolutional\\base_conv.py:99: UserWarning:\n",
      "\n",
      "Do not pass an `input_shape`/`input_dim` argument to a layer. When using Sequential models, prefer using an `Input(shape)` object as the first layer in the model instead.\n",
      "\n"
     ]
    }
   ],
   "source": [
    "model = tf.keras.Sequential([\n",
    "    tf.keras.layers.Conv2D(16, kernel_size=(3, 3), activation='relu', input_shape=x_train.shape[1:]),\n",
    "    tf.keras.layers.MaxPooling2D(pool_size=(2, 2)),\n",
    "    tf.keras.layers.Conv2D(32, kernel_size=(3, 3), activation='relu'),\n",
    "    tf.keras.layers.MaxPooling2D(pool_size=(2, 2)),\n",
    "    tf.keras.layers.Flatten(),\n",
    "    tf.keras.layers.Dense(64, activation='relu'),\n",
    "    tf.keras.layers.Dense(1, activation='sigmoid')\n",
    "])"
   ]
  },
  {
   "cell_type": "code",
   "execution_count": 14,
   "metadata": {},
   "outputs": [],
   "source": [
    "# Compile the model with binary cross-entropy loss and Adam optimizer\n",
    "model.compile(loss='binary_crossentropy', optimizer='adam', metrics=['AUC'])"
   ]
  },
  {
   "cell_type": "code",
   "execution_count": 15,
   "metadata": {},
   "outputs": [
    {
     "name": "stdout",
     "output_type": "stream",
     "text": [
      "Epoch 1/10\n",
      "\u001b[1m70/70\u001b[0m \u001b[32m━━━━━━━━━━━━━━━━━━━━\u001b[0m\u001b[37m\u001b[0m \u001b[1m17s\u001b[0m 187ms/step - AUC: 0.8318 - loss: 0.5369 - val_AUC: 0.9846 - val_loss: 0.1747\n",
      "Epoch 2/10\n",
      "\u001b[1m70/70\u001b[0m \u001b[32m━━━━━━━━━━━━━━━━━━━━\u001b[0m\u001b[37m\u001b[0m \u001b[1m15s\u001b[0m 213ms/step - AUC: 0.9827 - loss: 0.1690 - val_AUC: 0.9873 - val_loss: 0.1524\n",
      "Epoch 3/10\n",
      "\u001b[1m70/70\u001b[0m \u001b[32m━━━━━━━━━━━━━━━━━━━━\u001b[0m\u001b[37m\u001b[0m \u001b[1m21s\u001b[0m 219ms/step - AUC: 0.9888 - loss: 0.1381 - val_AUC: 0.9916 - val_loss: 0.1262\n",
      "Epoch 4/10\n",
      "\u001b[1m70/70\u001b[0m \u001b[32m━━━━━━━━━━━━━━━━━━━━\u001b[0m\u001b[37m\u001b[0m \u001b[1m15s\u001b[0m 206ms/step - AUC: 0.9905 - loss: 0.1150 - val_AUC: 0.9921 - val_loss: 0.0928\n",
      "Epoch 5/10\n",
      "\u001b[1m70/70\u001b[0m \u001b[32m━━━━━━━━━━━━━━━━━━━━\u001b[0m\u001b[37m\u001b[0m \u001b[1m13s\u001b[0m 180ms/step - AUC: 0.9969 - loss: 0.0604 - val_AUC: 0.9938 - val_loss: 0.0726\n",
      "Epoch 6/10\n",
      "\u001b[1m70/70\u001b[0m \u001b[32m━━━━━━━━━━━━━━━━━━━━\u001b[0m\u001b[37m\u001b[0m \u001b[1m13s\u001b[0m 179ms/step - AUC: 0.9968 - loss: 0.0624 - val_AUC: 0.9930 - val_loss: 0.0872\n",
      "Epoch 7/10\n",
      "\u001b[1m70/70\u001b[0m \u001b[32m━━━━━━━━━━━━━━━━━━━━\u001b[0m\u001b[37m\u001b[0m \u001b[1m12s\u001b[0m 172ms/step - AUC: 0.9991 - loss: 0.0371 - val_AUC: 0.9939 - val_loss: 0.0664\n",
      "Epoch 8/10\n",
      "\u001b[1m70/70\u001b[0m \u001b[32m━━━━━━━━━━━━━━━━━━━━\u001b[0m\u001b[37m\u001b[0m \u001b[1m16s\u001b[0m 228ms/step - AUC: 0.9996 - loss: 0.0244 - val_AUC: 0.9920 - val_loss: 0.0778\n",
      "Epoch 9/10\n",
      "\u001b[1m70/70\u001b[0m \u001b[32m━━━━━━━━━━━━━━━━━━━━\u001b[0m\u001b[37m\u001b[0m \u001b[1m13s\u001b[0m 188ms/step - AUC: 0.9998 - loss: 0.0192 - val_AUC: 0.9943 - val_loss: 0.0606\n",
      "Epoch 10/10\n",
      "\u001b[1m70/70\u001b[0m \u001b[32m━━━━━━━━━━━━━━━━━━━━\u001b[0m\u001b[37m\u001b[0m \u001b[1m11s\u001b[0m 153ms/step - AUC: 0.9999 - loss: 0.0164 - val_AUC: 0.9941 - val_loss: 0.0629\n"
     ]
    },
    {
     "data": {
      "text/plain": [
       "<keras.src.callbacks.history.History at 0x2a7d52f6390>"
      ]
     },
     "execution_count": 15,
     "metadata": {},
     "output_type": "execute_result"
    }
   ],
   "source": [
    "# Train the model for 10 epochs\n",
    "model.fit(x_train, y_train, batch_size=100, epochs=10, validation_data=(x_test, y_test))"
   ]
  },
  {
   "cell_type": "code",
   "execution_count": 16,
   "metadata": {},
   "outputs": [
    {
     "name": "stdout",
     "output_type": "stream",
     "text": [
      "\u001b[1m55/55\u001b[0m \u001b[32m━━━━━━━━━━━━━━━━━━━━\u001b[0m\u001b[37m\u001b[0m \u001b[1m1s\u001b[0m 17ms/step\n",
      "              precision    recall  f1-score   support\n",
      "\n",
      "           0       0.94      0.99      0.97       716\n",
      "           1       0.99      0.96      0.97      1021\n",
      "\n",
      "    accuracy                           0.97      1737\n",
      "   macro avg       0.97      0.97      0.97      1737\n",
      "weighted avg       0.97      0.97      0.97      1737\n",
      "\n"
     ]
    },
    {
     "data": {
      "image/png": "[encoded data removed]",
      "text/plain": [
       "<Figure size 640x480 with 2 Axes>"
      ]
     },
     "metadata": {},
     "output_type": "display_data"
    }
   ],
   "source": [
    "pred_test1=(model.predict(x_test) >= 0.98).astype('int')\n",
    "cm=metrics.confusion_matrix(y_test,pred_test1, labels=[1,0])\n",
    "disp=metrics.ConfusionMatrixDisplay(cm,display_labels=['tumor', 'No_tumor'])\n",
    "disp.plot()\n",
    "\n",
    "print(metrics.classification_report(y_test, pred_test1))\n"
   ]
  },
  {
   "cell_type": "code",
   "execution_count": 17,
   "metadata": {},
   "outputs": [
    {
     "name": "stdout",
     "output_type": "stream",
     "text": [
      "\u001b[1m55/55\u001b[0m \u001b[32m━━━━━━━━━━━━━━━━━━━━\u001b[0m\u001b[37m\u001b[0m \u001b[1m1s\u001b[0m 15ms/step\n"
     ]
    },
    {
     "data": {
      "application/vnd.plotly.v1+json": {
       "config": {
        "plotlyServerURL": "https://plot.ly"
       },
       "data": [
        {
         "alignmentgroup": "True",
         "bingroup": "x",
         "hovertemplate": "variable=0<br>value=%{x}<br>count=%{y}<extra></extra>",
         "legendgroup": "0",
         "marker": {
          "color": "#636efa",
          "pattern": {
           "shape": ""
          }
         },
         "name": "0",
         "offsetgroup": "0",
         "orientation": "v",
         "showlegend": true,
         "type": "histogram",
         "x": [
          0.00004193661152385175,
          0.0000016951852330748807,
          0.000014610120160796214,
          0.00201040250249207,
          0.0032408207189291716,
          0.0002419650845695287,
          0.00003466322596068494,
          0.01748400740325451,
          4.2450607473654145e-9,
          0.0000016951852330748807,
          0.002262036083266139,
          0.005100266542285681,
          0.0001535632909508422,
          0.01949785277247429,
          0.009058991447091103,
          0.0000024600014967290917,
          1.7479809821807635e-9,
          0.000014088221178099047,
          1.7063607471445863e-11,
          1.0751532178660331e-13,
          0.0034744576551020145,
          4.008885237660742e-12,
          2.90911316369602e-7,
          0.004842046648263931,
          1.5418818577472848e-7,
          0.008947868831455708,
          0.006978064309805632,
          0.030235322192311287,
          0.10107607394456863,
          0.021192535758018494,
          0.055248845368623734,
          0.00022866773360874504,
          0.004793576896190643,
          0.00012315725325606763,
          0.003325728001073003,
          0.012741894461214542,
          0.000024593102352810092,
          8.293218911603617e-8,
          0.0001301294396398589,
          0.0015263741370290518,
          0.002555392449721694,
          0.0033943222369998693,
          0.0005178590654395521,
          8.437709198005905e-7,
          1.7379115035964787e-7,
          3.3016345213354725e-8,
          2.0490700691766506e-8,
          0.0000046434274736384396,
          0.014553423970937729,
          0.003689163364470005,
          6.981605338296504e-7,
          7.25657578470873e-9,
          0.00015693626482971013,
          0.000011013120456482284,
          1.897914936321854e-9,
          2.657677189432661e-9,
          1.3774107188169182e-8,
          1.403445395453673e-7,
          0.00011393840395612642,
          0.000008034098755160812,
          0.008838415145874023,
          8.832881093212563e-9,
          0.0003169568662997335,
          0.000053106563427718356,
          1.6577208356016726e-11,
          0.00003202456719009206,
          0.0000026888683350989595,
          0.21391959488391876,
          7.449703076645164e-9,
          9.85963932720324e-9,
          0.003924007061868906,
          0.00002739399133133702,
          0.00004383311534184031,
          0.0008785386453382671,
          0.000027640506232273765,
          0.0009595421142876148,
          0.002486439887434244,
          0.00030047394102439284,
          2.4306007206931213e-10,
          4.69107435188687e-12,
          0.00027004859293811023,
          0.002295701066032052,
          0.0029301319736987352,
          0.0003019198193214834,
          1.7876976343700335e-8,
          0.0000010260127965011634,
          0.012064197100698948,
          0.0021600606851279736,
          0.046383701264858246,
          0.002644812222570181,
          5.820566695291518e-9,
          0.000002437440798530588,
          0.05672554671764374,
          0.002287979470565915,
          0.00023469369625672698,
          0.1992431879043579,
          0.0000025819838356255786,
          0.0000029060402084724046,
          1.1890651308021916e-7,
          0.000004924312179355184,
          0.008399693295359612,
          2.8815583252850274e-10,
          6.490652140200837e-7,
          2.0567313185893e-7,
          6.61037873328496e-8,
          0.0012345026480033994,
          4.200012213018134e-11,
          3.112031465857257e-10,
          3.8792659751152314e-8,
          4.664228825390637e-8,
          0.00003109242607024498,
          0.00002590544863778632,
          7.122823149074975e-7,
          9.597854455645205e-11,
          0.000003551693907866138,
          6.162244403640216e-8,
          6.484716870468546e-14,
          1.2136100124848781e-8,
          0.00005585694816545583,
          0.000026134304789593443,
          0.000009463868991588242,
          0.2238437980413437,
          6.308221713879902e-7,
          1.177807990027091e-10,
          3.655772073951624e-10,
          0.00001025574511004379,
          0.000045076143578626215,
          0.000021464180463226512,
          5.811306209579925e-7,
          0.0022708377800881863,
          0.0014406554400920868,
          0.00001692420664767269,
          0.00025140843354165554,
          0.01407620683312416,
          5.3651774578611366e-8,
          4.840980505349535e-9,
          0.000055707212595734745,
          0.00004451839777175337,
          0.001960412133485079,
          0.00020065200806129724,
          0.000001661809278630244,
          0.00003489200389594771,
          0.0000046547465899493545,
          2.207819527200172e-8,
          0.0008931591873988509,
          0.00014344821101985872,
          0.9999606013298035,
          0.000006411304184439359,
          0.001847354113124311,
          6.827004822041876e-17,
          1.1482472958568302e-12,
          4.959915145263949e-8,
          0.03548917546868324,
          2.841332204239766e-12,
          0.00035096617648378015,
          0.00005594560570898466,
          0.00001435989179299213,
          4.4117939523857785e-8,
          3.0722914988977335e-14,
          7.734298770011028e-13,
          9.271747671846242e-7,
          0.000003031345386261819,
          0.000004152989731665002,
          0.01718667708337307,
          6.601899258384947e-7,
          1.2757871148405542e-10,
          3.3927138876066465e-11,
          0.01139581948518753,
          0.0009201039792969823,
          0.000009723115908855107,
          1.1489018625354674e-9,
          0.000011172518497915007,
          4.866708369632988e-9,
          1.3248880215144254e-8,
          6.3719016907271e-7,
          0.001898207818157971,
          0.0000031259241950465366,
          2.7565247862071374e-9,
          1.3140379895304477e-9,
          0.000014235240996640641,
          0.018558261916041374,
          1.6423409476828965e-7,
          0.004073778633028269,
          0.0000023324391804635525,
          8.784037386355692e-10,
          0.00003042109528905712,
          0.00001247363707079785,
          0.000138597926707007,
          0.000010056703104055487,
          0.00003466322596068494,
          0.00022281009296420962,
          4.2450607473654145e-9,
          0.00024371757172048092,
          0.001413398771546781,
          0.0002897224039770663,
          0.0006598177133128047,
          0.0016204692656174302,
          0.0000029339175853237975,
          0.013535922393202782,
          1.4114223745309573e-7,
          1.2476129851446416e-10,
          1.9764172520808643e-8,
          0.007926133461296558,
          0.000047893099690554664,
          0.019772637635469437,
          3.181080746039733e-11,
          0.0017725266516208649,
          0.0033170050010085106,
          0.00024380635295528919,
          1.9572684402044405e-13,
          1.1083210438300739e-7,
          0.009097425267100334,
          0.000007481369266315596,
          0.006132457405328751,
          0.00025971850845962763,
          0.001969584496691823,
          0.004057965707033873,
          0.05451823025941849,
          0.000014345013369165827,
          0.02657448500394821,
          0.0005308051477186382,
          1.2327268450462725e-7,
          0.0354965478181839,
          0.0001208216417580843,
          0.015317521058022976,
          0.00020137763931415975,
          0.0022961334325373173,
          0.030906537547707558,
          0.001765928347595036,
          0.0003392149228602648,
          0.0000033274836823693477,
          0.013597393408417702,
          0.0000021997502699377947,
          1.2480764155498036e-7,
          2.4824953204216627e-10,
          5.780391720833222e-10,
          0.0003017974959220737,
          0.000134760863147676,
          0.00032659206772223115,
          2.502312668184459e-7,
          1.855729347965962e-9,
          2.04640642209597e-8,
          9.249862209514959e-9,
          3.6837005268353096e-7,
          0.000003378917199370335,
          5.998533225692881e-8,
          5.791718216130448e-9,
          0.0000016094876400529756,
          0.0000012385498848743737,
          0.000013971377484267578,
          2.5671589298781328e-9,
          0.000019485578377498314,
          6.048547773751523e-11,
          1.0547913120717567e-7,
          2.4035875512140592e-8,
          2.780778345368162e-7,
          0.00006779881368856877,
          5.210369522501423e-7,
          0.0024135869462043047,
          0.0022237622179090977,
          0.000006085800123400986,
          0.03484466299414635,
          0.00044505883124656975,
          5.714133166634383e-8,
          0.000001588353711667878,
          0.00787750817835331,
          0.00018002888828050345,
          5.1450665949914764e-8,
          0.0000061070672927598935,
          0.00834905169904232,
          0.000019500706912367605,
          0.052128031849861145,
          0.000022602214812650345,
          0.0000718976225471124,
          0.000013444223441183567,
          0.0002371986338403076,
          0.00101258116774261,
          0.011486111208796501,
          0.00022081109636928886,
          0.18907538056373596,
          0.00022287275351118296,
          0.006211061961948872,
          0.004656530451029539,
          1.5264549624305346e-9,
          0.00000375871968572028,
          0.000010809803825395647,
          0.0000014108386494626757,
          0.009510399773716927,
          1.0957816876100424e-9,
          3.324953823380383e-8,
          3.599115172558953e-10,
          0.0000826702598715201,
          0.000011789140444307122,
          1.426209039756543e-9,
          0.00009691678133094683,
          7.174907334928093e-9,
          7.16059616934217e-7,
          0.00011517551320139319,
          8.125269901348986e-10,
          2.995112993176008e-7,
          0.0013347049243748188,
          0.0000014199770248524146,
          1.195642362894489e-9,
          0.0000026079337658302393,
          0.000013702076103072613,
          3.4627350942173507e-7,
          1.2986726360963985e-8,
          0.0000033059307043004083,
          0.012673084624111652,
          1.6629359222974927e-8,
          2.8041984290183564e-9,
          0.000019495555534376763,
          0.008452964946627617,
          2.9948816404612444e-7,
          2.063252901862711e-10,
          0.00007848713721614331,
          0.0003847141924779862,
          0.05427210405468941,
          0.28405827283859253,
          0.001969584496691823,
          0.13723184168338776,
          0.04372459650039673,
          0.499504953622818,
          0.024926558136940002,
          0.005502871237695217,
          0.1772255003452301,
          0.0039881374686956406,
          0.002546831965446472,
          0.0000037754000459244708,
          0.0006598177133128047,
          0.0028787958435714245,
          0.074849933385849,
          0.052496831864118576,
          0.0006598177133128047,
          0.13747045397758484,
          0.38218432664871216,
          0.00011249403178226203,
          0.004139792639762163,
          0.000007666969395359047,
          0.0026972589548677206,
          0.021192535758018494,
          0.013866990804672241,
          0.01584898866713047,
          4.3226427237641474e-7,
          1.738655868166461e-7,
          0.0000046434274736384396,
          6.981605338296504e-7,
          2.1648094428172726e-9,
          0.0009164918446913362,
          2.8728301515457133e-8,
          0.000045899225369794294,
          1.723726583691132e-8,
          0.000006151901743578492,
          3.278714855170506e-9,
          0.00004383311534184031,
          0.0013352513778954744,
          4.69107435188687e-12,
          0.00014724420907441527,
          1.61305385715238e-10,
          3.600493514444025e-11,
          0.0021600606851279736,
          0.0007227245368994772,
          0.002644812222570181,
          0.000007434804047079524,
          0.1992431879043579,
          1.7747493474828957e-9,
          0.00019890167459379882,
          0.00006562677299370989,
          9.477076901021064e-7,
          0.00000473996215077932,
          3.976657225734925e-8,
          6.61037873328496e-8,
          9.597854455645205e-11,
          0.0000044169732973387,
          0.0000033965475267905276,
          0.2238437980413437,
          0.000001587166593708389,
          0.000006350664989440702,
          0.0002540987334214151,
          0.00018808325694408268,
          0.00019690564658958465,
          0.012509875930845737,
          0.00014344821101985872,
          0.002071024850010872,
          0.00002746284008026123,
          0.0031408867798745632,
          0.053252775222063065,
          0.00022081109636928886,
          0.000004118820470466744,
          0.004148073028773069,
          0.0006707548163831234,
          0.00027365091955289245,
          0.00428431062027812,
          0.0000014108386494626757,
          0.00008170612272806466,
          0.000019495555534376763,
          2.7163849836142617e-7,
          0.00003206554538337514,
          0.6881552934646606,
          1.7685654052357336e-9,
          0.8844196796417236,
          0.6643863916397095,
          0.13087816536426544,
          0.0005308051477186382,
          0.009097425267100334,
          0.0012402200372889638,
          9.775413367663077e-9,
          0.0000037754000459244708,
          0.0007687345496378839,
          0.04966402053833008,
          0.01762864738702774,
          0.038252778351306915,
          0.9991455674171448,
          0.7532014846801758,
          0.796169102191925,
          0.9988318681716919,
          1.9569081644021935e-7,
          0.007877631112933159,
          0.0002463528362568468,
          0.2771416902542114,
          0.000016713755030650645,
          0.000001766794753166323,
          0.000006389251666405471,
          0.00014756775635760278,
          0.06960698217153549,
          0.000033415584766771644,
          0.000015203562725218944,
          0.000001800661038942053,
          0.00029310668469406664,
          0.000001940333277161699,
          0.02657448500394821,
          0.0013885496882721782,
          0.00017901415412779897,
          0.259256511926651,
          0.0008361874497495592,
          0.0005557140102609992,
          0.06197622790932655,
          0.5928758382797241,
          0.9945247173309326,
          0.0008030272438190877,
          0.000001800661038942053,
          0.0030448692850768566,
          0.13559775054454803,
          0.03472801297903061,
          0.09959684312343597,
          0.00420819828286767,
          0.8631954193115234,
          0.0042298538610339165,
          0.5628223419189453,
          0.0020460705272853374,
          0.000022129341232357547,
          0.0001424711081199348,
          0.000002468864522597869,
          0.000002557209199949284,
          0.0018060808070003986,
          0.000014566076060873456,
          0.9948753714561462,
          0.9997426867485046,
          0.46182551980018616,
          0.000004473780336411437,
          0.05427210405468941,
          0.02696329914033413,
          0.10003940761089325,
          0.0023554000072181225,
          0.7750200033187866,
          0.13747045397758484,
          0.02375182881951332,
          0.004745093174278736,
          0.000006389251666405471,
          0.014250597916543484,
          0.0000037754000459244708,
          0.7478399276733398,
          0.9966775178909302,
          0.9699709415435791,
          1.7063607471445863e-11,
          3.1561714308736555e-7,
          2.90911316369602e-7,
          0.00016640397370792925,
          0.004812761675566435,
          0.00015110084495972842,
          0.055248845368623734,
          3.4409129057166865e-7,
          0.0032296557910740376,
          0.00012315725325606763,
          0.04961081221699715,
          0.0005322498618625104,
          0.000002759959215836716,
          0.0006621514330618083,
          0.0001416318555129692,
          3.221879296688712e-7,
          0.00001318128670391161,
          0.000007637711860297713,
          6.814525477238931e-7,
          0.0000493799161631614,
          0.0000068182512222847436,
          7.841310066536433e-12,
          0.000008034098755160812,
          1.2006304284106761e-10,
          0.0003214846656192094,
          0.00013136757479514927,
          4.097595152074973e-8,
          0.00018636751337908208,
          0.0009595421142876148,
          0.000044935281039215624,
          0.009196409024298191,
          0.00005246882574283518,
          9.426508462695438e-9,
          0.00027134804986417294,
          0.0000010260127965011634,
          2.0524639765540087e-9,
          0.0013685269514098763,
          0.0003720773966051638,
          6.43333386562972e-10,
          2.1153082840896786e-8,
          0.000002437440798530588,
          0.0002639318990986794,
          0.008399693295359612,
          0.08612991869449615,
          0.28517526388168335,
          4.6841100243000255e-7,
          0.00007834027201170102,
          8.30585094035996e-8,
          0.00002389489600318484,
          6.035753017386014e-7,
          4.200012213018134e-11,
          3.3367012974849786e-7,
          0.00005779124330729246,
          0.000009463868991588242,
          0.000004546790023596259,
          3.6839686856637854e-9,
          3.177500040862924e-9,
          2.3007025451438068e-10,
          0.0000065399381128372625,
          0.00025140843354165554,
          5.3651774578611366e-8,
          0.000014710645700688474,
          0.001546013867482543,
          0.058134157210588455,
          1.460728071833728e-7,
          0.00000414477563026594,
          0.0009708701400086284,
          9.291153446611133e-8,
          2.207819527200172e-8,
          0.0008931591873988509,
          0.00016158509242814034,
          0.0005173833924345672,
          8.761355356490252e-12,
          0.0002588076167739928,
          0.004921379964798689,
          1.1376433128873487e-9,
          0.000006411304184439359,
          1.7643471128536703e-9,
          0.000114155795017723,
          1.1631811069889864e-9,
          2.3836069229510315e-10,
          1.1482472958568302e-12,
          6.155109833266693e-17,
          0.00001587612678122241,
          3.1807925182647523e-9,
          0.01030645240098238,
          0.001519255107268691,
          9.446982858207775e-7,
          2.0400819922272717e-11,
          1.2072034927257391e-8,
          0.00001435989179299213,
          4.317707080758737e-8,
          4.4117939523857785e-8,
          3.0722914988977335e-14,
          0.07565294951200485,
          0.000004152989731665002,
          0.0005199547158554196,
          1.9607624412998348e-9,
          1.0136786521286467e-8,
          1.2092176149280931e-8,
          1.4644844270605972e-7,
          8.606904344787836e-8,
          1.4247535096156838e-10,
          0.01139581948518753,
          1.192640430858205e-9,
          4.6631612349301577e-8,
          5.574226635829405e-10,
          0.001107986317947507,
          0.0000031259241950465366,
          2.7565247862071374e-9,
          0.000007766115231788717,
          0.0016218977980315685,
          8.784037386355692e-10,
          0.00010039153858087957,
          0.000040781451389193535,
          0.00022281009296420962,
          0.006910725962370634,
          4.2450607473654145e-9,
          0.008064871653914452,
          0.0002897224039770663,
          0.00343919824808836,
          0.013535922393202782,
          1.4114223745309573e-7,
          0.0019985067192465067,
          0.0000024600014967290917,
          0.000011186069059476722,
          0.003310434753075242,
          1.963966322904298e-9,
          2.6267206725688608e-12,
          0.03469621017575264,
          0.000167552221682854,
          0.005074858665466309,
          0.0012620919151231647,
          0.007470667827874422,
          0.007613439112901688,
          0.09903278201818466,
          0.00006160593329695985,
          0.019900323823094368,
          0.000007481369266315596,
          4.646939828489849e-7,
          0.0012402200372889638,
          0.00025971850845962763,
          0.01762864738702774,
          0.0000037754000459244708,
          0.009409068152308464,
          0.001969584496691823,
          0.0007251874776557088,
          0.0002419650845695287,
          0.00029310668469406664,
          0.00025651391479186714,
          2.350815151430652e-7,
          5.711384698514621e-9,
          0.0001208216417580843,
          0.04423385486006737,
          0.0012855620589107275,
          0.01748400740325451,
          0.003304747398942709,
          0.016620580106973648,
          0.03374524042010307,
          0.0001671480422373861,
          0.0039881374686956406,
          1.498398960464442e-9,
          0.00022525305394083261,
          0.0016894120490178466,
          3.3931146958821046e-7,
          0.000019638007870526053,
          0.0005575911491177976,
          6.034374389063402e-11,
          0.0000407654297305271,
          4.19183095345943e-7,
          0.0037741870619356632,
          0.000016717724065529183,
          0.004002091009169817,
          0.00018033555534202605,
          0.000007014506536506815,
          8.003083751262352e-10,
          0.0000838469568407163,
          0.000007438165994244628,
          0.000134760863147676,
          7.709133598154949e-8,
          2.562707157593991e-9,
          1.566263924113187e-10,
          0.0003836652322206646,
          5.393551418819698e-7,
          2.4037188950387645e-7,
          8.54267838690248e-8,
          2.04640642209597e-8,
          0.00006563972419826314,
          0.000003378917199370335,
          0.000014405731235456187,
          0.000017057738659786992,
          1.9924453198427727e-9,
          0.00007158824155339971,
          4.428638789022443e-8,
          6.293256582523554e-9,
          2.575347712863163e-10,
          0.00001159437761089066,
          3.397945119720802e-12,
          1.1807910738070859e-7,
          6.610214597913e-8,
          3.128642067640186e-10,
          3.210922443486197e-7,
          2.780778345368162e-7,
          0.0030962596647441387,
          2.3994925157921898e-8,
          0.002055208897218108,
          1.5708644696132978e-7,
          0.00935716275125742,
          0.009011289104819298,
          0.003308025188744068,
          0.0035120302345603704,
          1.6656976242757082e-8,
          0.0015600102487951517,
          0.00016627059085294604,
          0.0017893046606332064,
          0.001542830839753151,
          6.066589453013194e-9,
          0.00031428333022631705,
          3.33260459228768e-8,
          0.0152431083843112,
          0.0037865545600652695,
          0.009510399773716927,
          0.000002726205138969817,
          0.00087922957027331,
          0.000022750586140318774,
          0.0003913095570169389,
          0.000029131075280020013,
          7.16059616934217e-7,
          0.00007290123903658241,
          0.000017603193555260077,
          0.00029144558357074857,
          0.006088621914386749,
          0.00021360954269766808,
          0.0026682005263864994,
          1.2898516388304415e-7,
          4.192134994696062e-8,
          0.00017233871039934456,
          1.4670607129119162e-7,
          0.008452964946627617,
          0.0029986994341015816,
          2.063252901862711e-10,
          1.1524693377396034e-7,
          0.7512888312339783,
          0.999713659286499,
          0.9999943971633911,
          0.9988449811935425,
          0.999993085861206,
          0.9999450445175171,
          0.9998635649681091,
          0.9999293088912964,
          0.9998305439949036,
          0.9998003840446472,
          0.99931800365448,
          0.9999643564224243,
          0.9999666810035706,
          0.9995662569999695,
          0.9658808708190918,
          0.9999979734420776,
          0.9999589920043945,
          0.9998679757118225,
          0.9999757409095764,
          0.999942421913147,
          0.9999367594718933,
          0.999974250793457,
          0.9999567270278931,
          0.9997715950012207,
          0.9999686479568481,
          0.9999963641166687,
          0.9998419284820557,
          0.9995372891426086,
          0.9999125003814697,
          0.999987781047821,
          0.9999926686286926,
          0.9997777342796326,
          0.9999776482582092,
          0.998610258102417,
          0.9972789287567139,
          0.9993501305580139,
          0.9979467391967773,
          0.9989818930625916,
          0.9999988079071045,
          0.9997907876968384,
          0.9999916553497314,
          0.9997767806053162,
          0.9999369978904724,
          0.9964295625686646,
          0.9876340627670288,
          0.9999390244483948,
          0.9999903440475464,
          0.999987006187439,
          0.9998937249183655,
          0.9999977350234985,
          0.9999765157699585,
          0.845548152923584,
          0.9996967315673828,
          0.9998351335525513,
          0.9999910593032837,
          0.9999616742134094,
          0.9147378206253052,
          0.9945319890975952,
          0.995440661907196,
          0.9769284129142761,
          0.9913471937179565,
          0.999683141708374,
          0.9999963641166687,
          0.9978814721107483,
          0.9998494982719421,
          0.9933017492294312,
          0.9778810739517212,
          0.9999626278877258,
          0.9998666048049927,
          0.8643249273300171,
          0.9995179772377014,
          0.9922630786895752,
          0.995193362236023,
          0.9974286556243896,
          0.9862907528877258,
          0.0001758116268320009,
          0.9994161128997803,
          0.9997444152832031,
          0.9995778799057007,
          0.9999887347221375,
          0.9987381100654602,
          0.9992409348487854,
          0.9900449514389038,
          0.9998260736465454,
          0.9991590976715088,
          0.9992144107818604,
          0.9999814033508301,
          0.9892464280128479,
          0.9999430775642395,
          0.9999674558639526,
          0.9998584389686584,
          0.9994850754737854,
          0.9938692450523376,
          0.9915286898612976,
          0.9999974370002747,
          0.9995779395103455,
          0.9999898076057434,
          0.9999952912330627,
          0.9999924302101135,
          0.9999969601631165,
          0.9999638199806213,
          0.9999833703041077,
          0.9999314546585083,
          0.9994202852249146,
          0.9993962049484253,
          0.9993033409118652,
          0.9937509298324585,
          0.9998750686645508,
          0.9999963045120239,
          0.999936580657959,
          0.9992774128913879,
          0.9999268651008606,
          0.9999940395355225,
          0.999998152256012,
          0.9997532963752747,
          0.9046042561531067,
          0.9999970197677612,
          0.9992547631263733,
          0.9999944567680359,
          0.9997565150260925,
          0.9894291758537292,
          0.9996423721313477,
          0.9967484474182129,
          0.9952183961868286,
          0.999846339225769,
          0.9984145760536194,
          0.9999958276748657,
          0.9992735385894775,
          0.9994934797286987,
          0.9994433522224426,
          0.9991698265075684,
          0.9989497661590576,
          0.9996321201324463,
          0.999886155128479,
          0.9986191391944885,
          0.9998342990875244,
          0.9995688199996948,
          0.9992067217826843,
          0.9998726844787598,
          0.9999532699584961,
          0.9993157982826233,
          0.9999692440032959,
          0.9999885559082031,
          0.9881978034973145,
          0.9998679161071777,
          0.9998523592948914,
          0.9999919533729553,
          0.9999887347221375,
          0.9984641671180725,
          0.9994592666625977,
          0.9997612833976746,
          0.9981105923652649,
          0.9999753832817078,
          0.9996004104614258,
          0.9999574422836304,
          0.9998471140861511,
          0.9994418025016785,
          0.9999780058860779,
          0.9994776248931885,
          0.9996726512908936,
          0.9999568462371826,
          0.9951748251914978,
          0.9999496936798096,
          0.9989569783210754,
          0.9998926520347595,
          0.9996863603591919,
          0.9983011484146118,
          0.9990341663360596,
          0.9690091609954834,
          0.9987592697143555,
          0.999961256980896,
          0.999173641204834,
          0.9998065829277039,
          0.9999565482139587,
          0.9997425079345703,
          0.9999529719352722,
          0.9928267002105713,
          0.999363124370575,
          0.9591453671455383,
          0.9993001222610474,
          0.9995597004890442,
          0.9998896718025208,
          0.9997047185897827,
          0.9999529719352722,
          0.9996767044067383,
          0.9996569752693176,
          0.9999698400497437,
          0.9999141693115234,
          0.9999163746833801,
          0.9999967217445374,
          0.9997183084487915,
          0.9999755620956421,
          0.9998117685317993,
          0.9984057545661926,
          0.9985442161560059,
          0.9921343922615051,
          0.9994431138038635,
          0.9969001412391663,
          0.999979555606842,
          0.9997454881668091,
          0.9991351366043091,
          0.99797123670578,
          0.9991480708122253,
          0.999782145023346,
          0.9998664259910583,
          0.9999977946281433,
          0.9997973442077637,
          0.9999580383300781,
          0.9999794960021973,
          0.9936136603355408,
          0.9989510774612427,
          0.9999957084655762,
          0.9992936849594116,
          0.999897301197052,
          0.999879002571106,
          0.9997381567955017,
          0.9999950528144836,
          0.9991357326507568,
          0.9864392876625061,
          0.9988335967063904,
          0.9990618824958801,
          0.999812662601471,
          0.9999393820762634,
          0.9999445676803589,
          0.9995936751365662,
          0.9999673962593079,
          0.9982122778892517,
          0.9999937415122986,
          0.999773383140564,
          0.9999225735664368,
          0.9999139904975891,
          0.9999889731407166,
          0.999983549118042,
          0.9999962449073792,
          0.9999803304672241,
          0.9999133944511414,
          0.9998285174369812,
          0.9981573820114136,
          0.9999950528144836,
          0.9999803304672241,
          0.9999759197235107,
          0.9992921948432922,
          0.999969482421875,
          0.9998067021369934,
          0.9998497366905212,
          0.9999562501907349,
          0.9999471306800842,
          0.9999583959579468,
          0.9998875856399536,
          0.9988064169883728,
          0.9997565150260925,
          0.9999821186065674,
          0.9998558759689331,
          0.9997568130493164,
          0.7202284336090088,
          0.9999733567237854,
          0.9982606768608093,
          0.999988317489624,
          0.9999961256980896,
          0.9871079325675964,
          0.9970816373825073,
          0.9991931319236755,
          0.9999702572822571,
          0.9999900460243225,
          0.9996703267097473,
          0.9999619126319885,
          0.9983927607536316,
          0.9999434351921082,
          0.9999208450317383,
          0.9999664425849915,
          0.9999819397926331,
          0.9997458457946777,
          0.999987781047821,
          0.9999916553497314,
          0.9999744892120361,
          0.9999950528144836,
          0.9999903440475464,
          0.9999855160713196,
          0.9999983906745911,
          0.9999952912330627,
          0.9999772310256958,
          0.9999825954437256,
          0.9999851584434509,
          0.9999573230743408,
          0.9999791383743286,
          0.999993085861206,
          0.9999368786811829,
          0.9999902248382568,
          0.9997872710227966,
          0.9997095465660095,
          0.9992089867591858,
          0.9964278936386108,
          0.9973982572555542,
          0.9993685483932495,
          0.9999982714653015,
          0.9999855756759644,
          0.9999915957450867,
          0.9999937415122986,
          0.9999508857727051,
          0.9990119934082031,
          0.9995452165603638,
          0.9986123442649841,
          0.9999934434890747,
          0.9999977946281433,
          0.9970440864562988,
          0.9995303153991699,
          0.9999406933784485,
          0.9999691843986511,
          0.9999863505363464,
          0.9999910593032837,
          0.9999980330467224,
          0.9999954104423523,
          0.9999949336051941,
          0.9999975562095642,
          0.9999979138374329,
          0.9999949932098389,
          0.999764084815979,
          0.9999865293502808,
          0.9999452233314514,
          0.999525785446167,
          0.996725857257843,
          0.998487651348114,
          0.9999489188194275,
          0.9999117851257324,
          0.9999861121177673,
          0.9963356852531433,
          0.9999948143959045,
          0.9999638199806213,
          0.9998968243598938,
          0.9999939799308777,
          0.9999904632568359,
          0.9999692440032959,
          0.999958872795105,
          0.9999973773956299,
          0.9999949336051941,
          0.9992380738258362,
          0.9999822378158569,
          0.9999202489852905,
          0.9997590780258179,
          0.9999656081199646,
          0.9999823570251465,
          0.9998959898948669,
          0.9998528361320496,
          0.9999900460243225,
          0.9999796748161316,
          0.9993990659713745,
          0.9999595284461975,
          0.9999366998672485,
          0.9992672204971313,
          0.9999840259552002,
          0.9995089173316956,
          0.9960343837738037,
          0.999877393245697,
          0.9994828701019287,
          0.9991446137428284,
          0.9999375343322754,
          0.9998078942298889,
          0.9999805688858032,
          0.9999900460243225,
          0.999978244304657,
          0.9999817609786987,
          0.9999433755874634,
          0.9995285272598267,
          0.9998824000358582,
          0.999650776386261,
          0.9995018243789673,
          0.9996630549430847,
          0.9997220039367676,
          0.9999863505363464,
          0.9999823570251465,
          0.9984259009361267,
          0.9994921088218689,
          0.9906846880912781,
          0.9902030229568481,
          0.9963083863258362,
          0.9994286894798279,
          0.9985214471817017,
          0.9993853569030762,
          0.9999313950538635,
          0.9959806799888611,
          0.9998886585235596,
          0.9899987578392029,
          0.9981915354728699,
          0.9997484087944031,
          0.9936838746070862,
          0.9999896883964539,
          0.9999971985816956,
          0.9939067959785461,
          0.9998782873153687,
          0.9998783469200134,
          0.9984729886054993,
          0.999660313129425,
          0.9999184012413025,
          0.9999585747718811,
          0.9999904036521912,
          0.9999432563781738,
          0.9804739356040955,
          0.9838238954544067,
          0.9613659381866455,
          0.9996858239173889,
          0.9996163249015808,
          0.9998356699943542,
          0.9999761581420898,
          0.9992740154266357,
          0.9983581304550171,
          0.9999715685844421,
          0.9999938011169434,
          0.9921016097068787,
          0.9998602271080017,
          0.9999870657920837,
          0.9981223344802856,
          0.9999477863311768,
          0.9984914064407349,
          0.9999921917915344,
          0.9999975562095642,
          0.9999686479568481,
          0.9999434947967529,
          0.9999813437461853,
          0.999967634677887,
          0.9995315074920654,
          0.9999880194664001,
          0.9999605417251587,
          0.9999926090240479,
          0.9999985694885254,
          0.9999205470085144,
          0.9999967217445374,
          0.9999502897262573,
          0.9997619390487671,
          0.9950413703918457,
          0.9999279975891113,
          0.9993622899055481,
          0.9998660087585449,
          0.9066320061683655,
          0.9999337792396545,
          0.9999655485153198,
          0.9998716711997986,
          0.9999428987503052,
          0.9985131621360779,
          0.9980327486991882,
          0.9986822605133057,
          0.9936702847480774,
          0.9999619722366333,
          0.9963050484657288,
          0.999986469745636,
          0.9987320303916931,
          0.9999741315841675,
          0.9999866485595703,
          0.9992067813873291,
          0.9999950528144836,
          0.9999768733978271,
          0.9997125267982483,
          0.9999329447746277,
          0.9997170567512512,
          0.9999808669090271,
          0.9997849464416504,
          0.9999257326126099,
          0.9997389912605286,
          0.9999843239784241,
          0.9997755289077759,
          0.9999846816062927,
          0.9998582601547241,
          0.9999573230743408,
          0.9998676180839539,
          0.9999447464942932,
          0.9994984865188599,
          0.9999487996101379,
          0.9998778104782104,
          0.9999659061431885,
          0.9997895359992981,
          0.999985933303833,
          0.9968906044960022,
          0.9999242424964905,
          0.99998539686203,
          0.9999890923500061,
          0.9999971389770508,
          0.9999980330467224,
          0.9987828731536865,
          0.9999704360961914,
          0.9999545216560364,
          0.9999947547912598,
          0.9999900460243225,
          0.9999093413352966,
          0.9673426151275635,
          0.9916582107543945,
          0.9918090105056763,
          0.99784255027771,
          0.999683141708374,
          0.9989456534385681,
          0.9769284129142761,
          0.9945562481880188,
          0.9999464154243469,
          0.9935097694396973,
          0.9999279975891113,
          0.9990512132644653,
          0.989585280418396,
          0.9959518909454346,
          0.9978814721107483,
          0.9998494982719421,
          0.9705101847648621,
          0.9798364639282227,
          0.9995179772377014,
          0.9999558329582214,
          0.999997079372406,
          0.9999969005584717,
          0.9997473359107971,
          0.9652525782585144,
          0.9998724460601807,
          0.9944086670875549,
          0.9955790042877197,
          0.9997508525848389,
          0.9904386401176453,
          0.9999093413352966,
          0.9995490312576294,
          0.9996166825294495,
          0.0001758116268320009,
          0.9956244230270386,
          0.999860405921936,
          0.9998825192451477,
          0.9999885559082031,
          0.9999662637710571,
          0.9992055892944336,
          0.995440661907196,
          0.6534508466720581,
          0.9999760985374451,
          0.999945878982544,
          0.9999788999557495,
          0.999989926815033,
          0.9999855160713196,
          0.9999695420265198,
          0.9999234080314636,
          0.999986469745636,
          0.9842910170555115,
          0.9999825954437256,
          0.9999872446060181,
          0.9999698996543884,
          0.9999703168869019,
          0.9999144673347473,
          0.9995088577270508,
          0.999989926815033,
          0.9984326362609863,
          0.9999923706054688,
          0.9999673962593079,
          0.9998711943626404,
          0.9999897480010986,
          0.9999650716781616,
          0.9999881386756897,
          0.9999825358390808,
          0.9999970197677612,
          0.9999828338623047,
          0.9999530911445618,
          0.9999751448631287,
          0.9999918341636658,
          0.9999095797538757,
          0.9999784827232361,
          0.9993982315063477,
          0.9959902167320251,
          0.9990156888961792,
          0.9914982914924622,
          0.9997432231903076,
          0.9999938607215881,
          0.9999847412109375,
          0.9999218583106995,
          0.9979593753814697,
          0.999968945980072,
          0.9999714493751526,
          0.9994146823883057,
          0.999918520450592,
          0.9990735054016113,
          0.9998345375061035,
          0.9986828565597534,
          0.9999852776527405,
          0.9999944567680359,
          0.999325156211853,
          0.9999600052833557,
          0.9998772144317627,
          0.9999470710754395,
          0.9996352791786194,
          0.9967048764228821,
          0.9980897903442383,
          0.9999908804893494,
          0.9998528957366943,
          0.9999831318855286,
          0.9999624490737915,
          0.9960185885429382,
          0.9986088871955872,
          0.9883133172988892,
          0.999993622303009,
          0.9990676641464233,
          0.9994940161705017,
          0.997995913028717,
          0.9999911785125732,
          0.9996351599693298,
          0.9996616840362549,
          0.9999561905860901,
          0.9997017979621887,
          0.9999815821647644,
          0.9999975562095642,
          0.9999911785125732,
          0.9986170530319214,
          0.9995666146278381,
          0.9905296564102173,
          0.9753546714782715,
          0.9999483227729797,
          0.9999658465385437,
          0.9998964667320251,
          0.9999735951423645,
          0.999951958656311,
          0.9998947381973267,
          0.9999451041221619,
          0.9999910593032837,
          0.9993627667427063,
          0.9982227683067322,
          0.9999871253967285,
          0.9999130368232727,
          0.9999863505363464,
          0.9999529719352722,
          0.9998673796653748,
          0.999419093132019,
          0.9999775886535645,
          0.9999904036521912,
          0.9978935718536377,
          0.9999609589576721,
          0.9999962449073792,
          0.9999937415122986,
          0.9999736547470093,
          0.9998172521591187,
          0.999996542930603,
          0.999987781047821,
          0.9999624490737915,
          0.9999880790710449,
          0.9999288320541382,
          0.9999539256095886,
          0.9999950528144836,
          0.9999813437461853,
          0.9987388253211975,
          0.9999743700027466,
          0.9998098611831665,
          0.9999884366989136,
          0.999997615814209,
          0.9999902844429016,
          0.9999929070472717,
          0.9999681115150452,
          0.9998615384101868,
          0.9999945759773254,
          0.9999861717224121,
          0.9999881982803345,
          0.9999672174453735,
          0.999991774559021,
          0.9999837875366211,
          0.9999818801879883,
          0.9997103810310364,
          0.9995952248573303,
          0.9999554753303528,
          0.9999538660049438,
          0.999066174030304,
          0.9999849796295166,
          0.9993771314620972,
          0.9997130632400513,
          0.9975607991218567,
          0.999991238117218,
          0.9999947547912598,
          0.9999759793281555,
          0.9999008774757385,
          0.9999755024909973,
          0.9999525547027588,
          0.9999762773513794,
          0.9999881982803345,
          0.9977524876594543,
          0.9999145865440369,
          0.9999513626098633,
          0.9999710321426392,
          0.9997103810310364,
          0.9999517798423767,
          0.9992642402648926,
          0.9999350905418396,
          0.9999891519546509,
          0.9999395608901978,
          0.9999391436576843,
          0.9999886751174927,
          0.9997767210006714,
          0.9998798370361328,
          0.9999951124191284,
          0.9999970197677612,
          0.9999175071716309,
          0.9924514889717102,
          0.9999960064888,
          0.9999865889549255,
          0.9999840259552002,
          0.9997137188911438,
          0.9997146725654602,
          0.9999963641166687,
          0.9999920725822449,
          0.9999983906745911,
          0.9999958276748657,
          0.999998927116394,
          0.999995768070221,
          0.9999940991401672,
          0.9997171759605408,
          0.9999964237213135,
          0.9999679327011108,
          0.9999330043792725,
          0.9997051358222961,
          0.9999959468841553,
          0.999943196773529,
          0.9999407529830933,
          0.999549388885498,
          0.9999876618385315,
          0.9999775290489197,
          0.9979807138442993,
          0.9999353885650635,
          0.9999501705169678,
          0.9993751049041748,
          0.9987434148788452,
          0.9998390078544617,
          0.9998677968978882,
          0.9996511340141296,
          0.9999919533729553,
          0.9999897480010986,
          0.9917116165161133,
          0.9954578876495361,
          0.9999679923057556,
          0.9999772310256958,
          0.9999641180038452,
          0.9999691843986511,
          0.9991928339004517,
          0.9990174770355225,
          0.9766203761100769,
          0.9989107251167297,
          0.999586820602417,
          0.9991945624351501,
          0.9998458623886108,
          0.9997888207435608,
          0.9994390606880188,
          0.9999875426292419,
          0.9989525675773621,
          0.985219419002533,
          0.9982787370681763,
          0.9999446272850037,
          0.9994595050811768,
          0.9992609620094299,
          0.9996627569198608,
          0.9998199343681335,
          0.9983247518539429,
          0.9998088479042053,
          0.999853253364563,
          0.9964916110038757,
          0.9999178647994995,
          0.9999908208847046,
          0.9999154806137085,
          0.999342679977417,
          0.999543309211731,
          0.9987947344779968,
          0.9999211430549622,
          0.9998180270195007,
          0.9984835982322693,
          0.9968940019607544,
          0.9962197542190552,
          0.998276948928833,
          0.9997586011886597,
          0.9983487725257874,
          0.9983959794044495,
          0.9999803304672241,
          0.9993102550506592,
          0.9991788864135742,
          0.9999171495437622,
          0.9995492696762085,
          0.996544599533081,
          0.9999632239341736,
          0.9998606443405151,
          0.9997967481613159,
          0.9982432126998901,
          0.9999927878379822,
          0.9973543882369995,
          0.9993131160736084,
          0.9997575283050537,
          0.9980635046958923,
          0.9966388940811157,
          0.9989599585533142,
          0.9990614056587219,
          0.9998121857643127,
          0.9987003803253174,
          0.9994634389877319,
          0.9998255968093872,
          0.9997539520263672,
          0.9989657402038574,
          0.9999504089355469,
          0.9989053606987,
          0.9985665082931519,
          0.9996737241744995,
          0.9996700882911682,
          0.9997055530548096,
          0.9994396567344666,
          0.999890148639679,
          0.9999815225601196,
          0.9998926520347595,
          0.9998944997787476,
          0.9977491497993469,
          0.9721262454986572,
          0.9948210120201111,
          0.9999014139175415,
          0.9999569654464722,
          0.9999476671218872,
          0.999549388885498,
          0.9998184442520142,
          0.9995761513710022,
          0.9999425411224365,
          0.9989448189735413,
          0.9998340606689453,
          0.9999218583106995,
          0.9998666644096375,
          0.9999786615371704,
          0.9999397993087769,
          0.9996457695960999,
          0.9994709491729736,
          0.9999592304229736,
          0.999721348285675,
          0.9992845058441162,
          0.9999779462814331,
          0.9999744296073914,
          0.9998854398727417,
          0.996238112449646,
          0.9999415278434753,
          0.9984077215194702,
          0.9998648166656494,
          0.9999951124191284,
          0.9995579719543457,
          0.9999630451202393,
          0.9999783039093018,
          0.9996942281723022,
          0.999886155128479,
          0.9855303764343262,
          0.9882124066352844,
          0.9999385476112366,
          0.9955348372459412,
          0.9995503425598145,
          0.9959402084350586,
          0.9999838471412659,
          0.9999865889549255,
          0.9999614953994751,
          0.9718481302261353,
          0.9997664093971252,
          0.9996635317802429,
          0.9999290108680725,
          0.9997068643569946,
          0.9999709725379944,
          0.999870777130127,
          0.998786985874176,
          0.8957967758178711,
          0.9969753623008728,
          0.9943613409996033,
          0.9998303651809692,
          0.9999526739120483,
          0.9998219013214111,
          0.9998680353164673,
          0.9997565150260925,
          0.9995549917221069,
          0.9998500943183899,
          0.9998695850372314,
          0.9989836812019348,
          0.9998528361320496,
          0.9999639987945557,
          0.9999411106109619,
          0.9999847412109375,
          0.9987401962280273,
          0.9993363618850708,
          0.9994800090789795,
          0.9999306797981262,
          0.999431312084198,
          0.9999774694442749,
          0.9980649352073669,
          0.9978368282318115,
          0.9937164187431335,
          0.9999419450759888,
          0.9999549984931946,
          0.9995583295822144,
          0.9999585151672363,
          0.9679927229881287,
          0.9999285340309143,
          0.9998888969421387,
          0.9995109438896179,
          0.9995705485343933,
          0.9997027516365051,
          0.9974586367607117,
          0.9999714493751526,
          0.9999498724937439,
          0.9993336796760559,
          0.9999493360519409,
          0.9998149275779724,
          0.9971678256988525,
          0.999951183795929,
          0.9982917308807373,
          0.9991295337677002,
          0.9999167323112488,
          0.996516764163971,
          0.9971200823783875,
          0.9999297857284546,
          0.998981773853302,
          0.999843418598175,
          0.9996567368507385,
          0.9956192374229431,
          0.9999470710754395,
          0.9971281886100769,
          0.9995235800743103,
          0.9945305585861206,
          0.9996286630630493,
          0.9994821548461914,
          0.9998149871826172,
          0.9994806051254272,
          0.9561426639556885,
          0.999542772769928,
          0.991214394569397,
          0.996023952960968,
          0.9979014992713928,
          0.9988667368888855,
          0.9999925494194031,
          0.9999983310699463,
          0.9999468326568604,
          0.9990003108978271,
          0.9999129772186279,
          0.9701105952262878,
          0.9999780654907227,
          0.9995152950286865,
          0.9584192633628845,
          0.9999467730522156,
          0.9998818635940552,
          0.9999648928642273,
          0.999954104423523,
          0.9993155002593994,
          0.996778130531311,
          0.9999878406524658,
          0.999996542930603,
          0.9998997449874878,
          0.997998833656311,
          0.9999167323112488,
          0.9998683929443359,
          0.9999971389770508,
          0.9985565543174744,
          0.9938644170761108,
          0.9955013990402222,
          0.9999382495880127,
          0.999472975730896,
          0.9998599886894226,
          0.9991118907928467,
          0.9998924732208252,
          0.9997172355651855,
          0.9999545216560364,
          0.9895443916320801,
          0.9999701976776123,
          0.9999701976776123,
          0.9998727440834045,
          0.9999189972877502,
          0.9999363422393799,
          0.9999762773513794,
          0.8695669770240784,
          0.9995056390762329,
          0.9998999238014221,
          0.9995248317718506,
          0.9999100565910339,
          0.999869167804718,
          0.9960954785346985,
          0.9993652105331421,
          0.9978301525115967,
          0.9760968089103699,
          0.9999578595161438,
          0.9999212026596069,
          0.9998960494995117,
          0.9937731623649597,
          0.9999954700469971,
          0.9999815821647644,
          0.9999686479568481,
          0.9995905756950378,
          0.9997544288635254,
          0.9996484518051147,
          0.9983607530593872,
          0.999664843082428,
          0.9999639391899109,
          0.999884843826294,
          0.9998734593391418,
          0.9997081756591797,
          0.9998384714126587,
          0.9983580708503723,
          0.9999213218688965,
          0.9999663829803467,
          0.9998536705970764,
          0.9996911287307739,
          0.9994550943374634,
          0.9840022921562195,
          0.9997565150260925,
          0.9998103380203247,
          0.9983680248260498,
          0.9522768259048462,
          0.9999136328697205,
          0.9999681115150452,
          0.9867024421691895,
          0.9997508525848389,
          0.9996494650840759,
          0.9981204271316528,
          0.9999475479125977,
          0.9999914169311523,
          0.9987375736236572,
          0.9998028874397278,
          0.999811053276062,
          0.9991267919540405,
          0.9998629689216614,
          0.9998264908790588,
          0.9997381567955017,
          0.8101149797439575,
          0.8732359409332275,
          0.9675346612930298,
          0.9952364563941956,
          0.8864071369171143,
          0.3447686433792114,
          0.5014040470123291,
          0.9726741909980774,
          0.999033510684967,
          0.9917471408843994,
          0.9628928899765015,
          0.9926639199256897,
          0.9602179527282715,
          0.00019444589270278811,
          0.04179001227021217
         ],
         "xaxis": "x",
         "yaxis": "y"
        }
       ],
       "layout": {
        "barmode": "relative",
        "legend": {
         "title": {
          "text": "variable"
         },
         "tracegroupgap": 0
        },
        "margin": {
         "t": 60
        },
        "template": {
         "data": {
          "bar": [
           {
            "error_x": {
             "color": "#2a3f5f"
            },
            "error_y": {
             "color": "#2a3f5f"
            },
            "marker": {
             "line": {
              "color": "#E5ECF6",
              "width": 0.5
             },
             "pattern": {
              "fillmode": "overlay",
              "size": 10,
              "solidity": 0.2
             }
            },
            "type": "bar"
           }
          ],
          "barpolar": [
           {
            "marker": {
             "line": {
              "color": "#E5ECF6",
              "width": 0.5
             },
             "pattern": {
              "fillmode": "overlay",
              "size": 10,
              "solidity": 0.2
             }
            },
            "type": "barpolar"
           }
          ],
          "carpet": [
           {
            "aaxis": {
             "endlinecolor": "#2a3f5f",
             "gridcolor": "white",
             "linecolor": "white",
             "minorgridcolor": "white",
             "startlinecolor": "#2a3f5f"
            },
            "baxis": {
             "endlinecolor": "#2a3f5f",
             "gridcolor": "white",
             "linecolor": "white",
             "minorgridcolor": "white",
             "startlinecolor": "#2a3f5f"
            },
            "type": "carpet"
           }
          ],
          "choropleth": [
           {
            "colorbar": {
             "outlinewidth": 0,
             "ticks": ""
            },
            "type": "choropleth"
           }
          ],
          "contour": [
           {
            "colorbar": {
             "outlinewidth": 0,
             "ticks": ""
            },
            "colorscale": [
             [
              0,
              "#0d0887"
             ],
             [
              0.1111111111111111,
              "#46039f"
             ],
             [
              0.2222222222222222,
              "#7201a8"
             ],
             [
              0.3333333333333333,
              "#9c179e"
             ],
             [
              0.4444444444444444,
              "#bd3786"
             ],
             [
              0.5555555555555556,
              "#d8576b"
             ],
             [
              0.6666666666666666,
              "#ed7953"
             ],
             [
              0.7777777777777778,
              "#fb9f3a"
             ],
             [
              0.8888888888888888,
              "#fdca26"
             ],
             [
              1,
              "#f0f921"
             ]
            ],
            "type": "contour"
           }
          ],
          "contourcarpet": [
           {
            "colorbar": {
             "outlinewidth": 0,
             "ticks": ""
            },
            "type": "contourcarpet"
           }
          ],
          "heatmap": [
           {
            "colorbar": {
             "outlinewidth": 0,
             "ticks": ""
            },
            "colorscale": [
             [
              0,
              "#0d0887"
             ],
             [
              0.1111111111111111,
              "#46039f"
             ],
             [
              0.2222222222222222,
              "#7201a8"
             ],
             [
              0.3333333333333333,
              "#9c179e"
             ],
             [
              0.4444444444444444,
              "#bd3786"
             ],
             [
              0.5555555555555556,
              "#d8576b"
             ],
             [
              0.6666666666666666,
              "#ed7953"
             ],
             [
              0.7777777777777778,
              "#fb9f3a"
             ],
             [
              0.8888888888888888,
              "#fdca26"
             ],
             [
              1,
              "#f0f921"
             ]
            ],
            "type": "heatmap"
           }
          ],
          "heatmapgl": [
           {
            "colorbar": {
             "outlinewidth": 0,
             "ticks": ""
            },
            "colorscale": [
             [
              0,
              "#0d0887"
             ],
             [
              0.1111111111111111,
              "#46039f"
             ],
             [
              0.2222222222222222,
              "#7201a8"
             ],
             [
              0.3333333333333333,
              "#9c179e"
             ],
             [
              0.4444444444444444,
              "#bd3786"
             ],
             [
              0.5555555555555556,
              "#d8576b"
             ],
             [
              0.6666666666666666,
              "#ed7953"
             ],
             [
              0.7777777777777778,
              "#fb9f3a"
             ],
             [
              0.8888888888888888,
              "#fdca26"
             ],
             [
              1,
              "#f0f921"
             ]
            ],
            "type": "heatmapgl"
           }
          ],
          "histogram": [
           {
            "marker": {
             "pattern": {
              "fillmode": "overlay",
              "size": 10,
              "solidity": 0.2
             }
            },
            "type": "histogram"
           }
          ],
          "histogram2d": [
           {
            "colorbar": {
             "outlinewidth": 0,
             "ticks": ""
            },
            "colorscale": [
             [
              0,
              "#0d0887"
             ],
             [
              0.1111111111111111,
              "#46039f"
             ],
             [
              0.2222222222222222,
              "#7201a8"
             ],
             [
              0.3333333333333333,
              "#9c179e"
             ],
             [
              0.4444444444444444,
              "#bd3786"
             ],
             [
              0.5555555555555556,
              "#d8576b"
             ],
             [
              0.6666666666666666,
              "#ed7953"
             ],
             [
              0.7777777777777778,
              "#fb9f3a"
             ],
             [
              0.8888888888888888,
              "#fdca26"
             ],
             [
              1,
              "#f0f921"
             ]
            ],
            "type": "histogram2d"
           }
          ],
          "histogram2dcontour": [
           {
            "colorbar": {
             "outlinewidth": 0,
             "ticks": ""
            },
            "colorscale": [
             [
              0,
              "#0d0887"
             ],
             [
              0.1111111111111111,
              "#46039f"
             ],
             [
              0.2222222222222222,
              "#7201a8"
             ],
             [
              0.3333333333333333,
              "#9c179e"
             ],
             [
              0.4444444444444444,
              "#bd3786"
             ],
             [
              0.5555555555555556,
              "#d8576b"
             ],
             [
              0.6666666666666666,
              "#ed7953"
             ],
             [
              0.7777777777777778,
              "#fb9f3a"
             ],
             [
              0.8888888888888888,
              "#fdca26"
             ],
             [
              1,
              "#f0f921"
             ]
            ],
            "type": "histogram2dcontour"
           }
          ],
          "mesh3d": [
           {
            "colorbar": {
             "outlinewidth": 0,
             "ticks": ""
            },
            "type": "mesh3d"
           }
          ],
          "parcoords": [
           {
            "line": {
             "colorbar": {
              "outlinewidth": 0,
              "ticks": ""
             }
            },
            "type": "parcoords"
           }
          ],
          "pie": [
           {
            "automargin": true,
            "type": "pie"
           }
          ],
          "scatter": [
           {
            "fillpattern": {
             "fillmode": "overlay",
             "size": 10,
             "solidity": 0.2
            },
            "type": "scatter"
           }
          ],
          "scatter3d": [
           {
            "line": {
             "colorbar": {
              "outlinewidth": 0,
              "ticks": ""
             }
            },
            "marker": {
             "colorbar": {
              "outlinewidth": 0,
              "ticks": ""
             }
            },
            "type": "scatter3d"
           }
          ],
          "scattercarpet": [
           {
            "marker": {
             "colorbar": {
              "outlinewidth": 0,
              "ticks": ""
             }
            },
            "type": "scattercarpet"
           }
          ],
          "scattergeo": [
           {
            "marker": {
             "colorbar": {
              "outlinewidth": 0,
              "ticks": ""
             }
            },
            "type": "scattergeo"
           }
          ],
          "scattergl": [
           {
            "marker": {
             "colorbar": {
              "outlinewidth": 0,
              "ticks": ""
             }
            },
            "type": "scattergl"
           }
          ],
          "scattermapbox": [
           {
            "marker": {
             "colorbar": {
              "outlinewidth": 0,
              "ticks": ""
             }
            },
            "type": "scattermapbox"
           }
          ],
          "scatterpolar": [
           {
            "marker": {
             "colorbar": {
              "outlinewidth": 0,
              "ticks": ""
             }
            },
            "type": "scatterpolar"
           }
          ],
          "scatterpolargl": [
           {
            "marker": {
             "colorbar": {
              "outlinewidth": 0,
              "ticks": ""
             }
            },
            "type": "scatterpolargl"
           }
          ],
          "scatterternary": [
           {
            "marker": {
             "colorbar": {
              "outlinewidth": 0,
              "ticks": ""
             }
            },
            "type": "scatterternary"
           }
          ],
          "surface": [
           {
            "colorbar": {
             "outlinewidth": 0,
             "ticks": ""
            },
            "colorscale": [
             [
              0,
              "#0d0887"
             ],
             [
              0.1111111111111111,
              "#46039f"
             ],
             [
              0.2222222222222222,
              "#7201a8"
             ],
             [
              0.3333333333333333,
              "#9c179e"
             ],
             [
              0.4444444444444444,
              "#bd3786"
             ],
             [
              0.5555555555555556,
              "#d8576b"
             ],
             [
              0.6666666666666666,
              "#ed7953"
             ],
             [
              0.7777777777777778,
              "#fb9f3a"
             ],
             [
              0.8888888888888888,
              "#fdca26"
             ],
             [
              1,
              "#f0f921"
             ]
            ],
            "type": "surface"
           }
          ],
          "table": [
           {
            "cells": {
             "fill": {
              "color": "#EBF0F8"
             },
             "line": {
              "color": "white"
             }
            },
            "header": {
             "fill": {
              "color": "#C8D4E3"
             },
             "line": {
              "color": "white"
             }
            },
            "type": "table"
           }
          ]
         },
         "layout": {
          "annotationdefaults": {
           "arrowcolor": "#2a3f5f",
           "arrowhead": 0,
           "arrowwidth": 1
          },
          "autotypenumbers": "strict",
          "coloraxis": {
           "colorbar": {
            "outlinewidth": 0,
            "ticks": ""
           }
          },
          "colorscale": {
           "diverging": [
            [
             0,
             "#8e0152"
            ],
            [
             0.1,
             "#c51b7d"
            ],
            [
             0.2,
             "#de77ae"
            ],
            [
             0.3,
             "#f1b6da"
            ],
            [
             0.4,
             "#fde0ef"
            ],
            [
             0.5,
             "#f7f7f7"
            ],
            [
             0.6,
             "#e6f5d0"
            ],
            [
             0.7,
             "#b8e186"
            ],
            [
             0.8,
             "#7fbc41"
            ],
            [
             0.9,
             "#4d9221"
            ],
            [
             1,
             "#276419"
            ]
           ],
           "sequential": [
            [
             0,
             "#0d0887"
            ],
            [
             0.1111111111111111,
             "#46039f"
            ],
            [
             0.2222222222222222,
             "#7201a8"
            ],
            [
             0.3333333333333333,
             "#9c179e"
            ],
            [
             0.4444444444444444,
             "#bd3786"
            ],
            [
             0.5555555555555556,
             "#d8576b"
            ],
            [
             0.6666666666666666,
             "#ed7953"
            ],
            [
             0.7777777777777778,
             "#fb9f3a"
            ],
            [
             0.8888888888888888,
             "#fdca26"
            ],
            [
             1,
             "#f0f921"
            ]
           ],
           "sequentialminus": [
            [
             0,
             "#0d0887"
            ],
            [
             0.1111111111111111,
             "#46039f"
            ],
            [
             0.2222222222222222,
             "#7201a8"
            ],
            [
             0.3333333333333333,
             "#9c179e"
            ],
            [
             0.4444444444444444,
             "#bd3786"
            ],
            [
             0.5555555555555556,
             "#d8576b"
            ],
            [
             0.6666666666666666,
             "#ed7953"
            ],
            [
             0.7777777777777778,
             "#fb9f3a"
            ],
            [
             0.8888888888888888,
             "#fdca26"
            ],
            [
             1,
             "#f0f921"
            ]
           ]
          },
          "colorway": [
           "#636efa",
           "#EF553B",
           "#00cc96",
           "#ab63fa",
           "#FFA15A",
           "#19d3f3",
           "#FF6692",
           "#B6E880",
           "#FF97FF",
           "#FECB52"
          ],
          "font": {
           "color": "#2a3f5f"
          },
          "geo": {
           "bgcolor": "white",
           "lakecolor": "white",
           "landcolor": "#E5ECF6",
           "showlakes": true,
           "showland": true,
           "subunitcolor": "white"
          },
          "hoverlabel": {
           "align": "left"
          },
          "hovermode": "closest",
          "mapbox": {
           "style": "light"
          },
          "paper_bgcolor": "white",
          "plot_bgcolor": "#E5ECF6",
          "polar": {
           "angularaxis": {
            "gridcolor": "white",
            "linecolor": "white",
            "ticks": ""
           },
           "bgcolor": "#E5ECF6",
           "radialaxis": {
            "gridcolor": "white",
            "linecolor": "white",
            "ticks": ""
           }
          },
          "scene": {
           "xaxis": {
            "backgroundcolor": "#E5ECF6",
            "gridcolor": "white",
            "gridwidth": 2,
            "linecolor": "white",
            "showbackground": true,
            "ticks": "",
            "zerolinecolor": "white"
           },
           "yaxis": {
            "backgroundcolor": "#E5ECF6",
            "gridcolor": "white",
            "gridwidth": 2,
            "linecolor": "white",
            "showbackground": true,
            "ticks": "",
            "zerolinecolor": "white"
           },
           "zaxis": {
            "backgroundcolor": "#E5ECF6",
            "gridcolor": "white",
            "gridwidth": 2,
            "linecolor": "white",
            "showbackground": true,
            "ticks": "",
            "zerolinecolor": "white"
           }
          },
          "shapedefaults": {
           "line": {
            "color": "#2a3f5f"
           }
          },
          "ternary": {
           "aaxis": {
            "gridcolor": "white",
            "linecolor": "white",
            "ticks": ""
           },
           "baxis": {
            "gridcolor": "white",
            "linecolor": "white",
            "ticks": ""
           },
           "bgcolor": "#E5ECF6",
           "caxis": {
            "gridcolor": "white",
            "linecolor": "white",
            "ticks": ""
           }
          },
          "title": {
           "x": 0.05
          },
          "xaxis": {
           "automargin": true,
           "gridcolor": "white",
           "linecolor": "white",
           "ticks": "",
           "title": {
            "standoff": 15
           },
           "zerolinecolor": "white",
           "zerolinewidth": 2
          },
          "yaxis": {
           "automargin": true,
           "gridcolor": "white",
           "linecolor": "white",
           "ticks": "",
           "title": {
            "standoff": 15
           },
           "zerolinecolor": "white",
           "zerolinewidth": 2
          }
         }
        },
        "xaxis": {
         "anchor": "y",
         "domain": [
          0,
          1
         ],
         "title": {
          "text": "value"
         }
        },
        "yaxis": {
         "anchor": "x",
         "domain": [
          0,
          1
         ],
         "title": {
          "text": "count"
         }
        }
       }
      }
     },
     "metadata": {},
     "output_type": "display_data"
    }
   ],
   "source": [
    "p = model.predict(x_test)\n",
    "hist= px.histogram(p)\n",
    "hist.show()"
   ]
  },
  {
   "cell_type": "markdown",
   "metadata": {},
   "source": [
    "# 3.4. Afinamiento de hiperparametros"
   ]
  },
  {
   "cell_type": "code",
   "execution_count": 20,
   "metadata": {},
   "outputs": [],
   "source": [
    "reg_strength = 0.001"
   ]
  },
  {
   "cell_type": "code",
   "execution_count": 21,
   "metadata": {},
   "outputs": [],
   "source": [
    "dropout_rate = 0.1  "
   ]
  },
  {
   "cell_type": "code",
   "execution_count": 22,
   "metadata": {},
   "outputs": [],
   "source": [
    "\n",
    "hp = kt.HyperParameters()\n",
    "\n",
    "def build_model(hp):\n",
    "    dropout_rate=hp.Float('DO', min_value=0.05, max_value= 0.2, step=0.05)\n",
    "    reg_strength = hp.Float(\"rs\", min_value=0.0001, max_value=0.0005, step=0.0001)\n",
    "    optimizer = hp.Choice('optimizer', ['adam', 'sgd']) # en el contexto no se debería afinar\n",
    "\n",
    "    model1 =  tf.keras.Sequential([\n",
    "    tf.keras.layers.Conv2D(16, kernel_size=(3, 3), activation='relu', input_shape=x_train.shape[1:]),\n",
    "    tf.keras.layers.MaxPooling2D(pool_size=(2, 2)),\n",
    "    tf.keras.layers.Conv2D(32, kernel_size=(3, 3), activation='relu'),\n",
    "    tf.keras.layers.MaxPooling2D(pool_size=(2, 2)),\n",
    "    tf.keras.layers.Flatten(),\n",
    "    tf.keras.layers.Dense(64, activation='relu'),\n",
    "    tf.keras.layers.Dense(1, activation='sigmoid')\n",
    "])\n",
    "    \n",
    "    if optimizer == 'adam':\n",
    "        opt = tf.keras.optimizers.Adam(learning_rate=0.001)\n",
    "    elif optimizer == 'sgd':\n",
    "        opt = tf.keras.optimizers.SGD(learning_rate=0.001)\n",
    "    else:\n",
    "        opt = tf.keras.optimizers.RMSprop(learning_rate=0.001)\n",
    "   \n",
    "    model1.compile(\n",
    "        optimizer=opt, loss=\"binary_crossentropy\", metrics=[\"Recall\", \"AUC\"],\n",
    "    )\n",
    "    return model1"
   ]
  },
  {
   "cell_type": "code",
   "execution_count": 23,
   "metadata": {},
   "outputs": [
    {
     "name": "stderr",
     "output_type": "stream",
     "text": [
      "c:\\aplicaciones_analitica\\Casos de Estudio\\brain-tumor-detection\\environment\\Lib\\site-packages\\keras\\src\\layers\\convolutional\\base_conv.py:99: UserWarning:\n",
      "\n",
      "Do not pass an `input_shape`/`input_dim` argument to a layer. When using Sequential models, prefer using an `Input(shape)` object as the first layer in the model instead.\n",
      "\n"
     ]
    }
   ],
   "source": [
    "tuner = kt.RandomSearch(\n",
    "    hypermodel=build_model,\n",
    "    hyperparameters=hp,\n",
    "    tune_new_entries=True, \n",
    "    objective=kt.Objective(\"AUC\", direction=\"max\"),\n",
    "    max_trials=5,\n",
    "    overwrite=True,\n",
    "    directory=\"my_dir\",\n",
    "    project_name=\"helloworld\", \n",
    ")"
   ]
  },
  {
   "cell_type": "code",
   "execution_count": 24,
   "metadata": {},
   "outputs": [
    {
     "name": "stdout",
     "output_type": "stream",
     "text": [
      "Trial 5 Complete [00h 01m 59s]\n",
      "AUC: 0.9283779859542847\n",
      "\n",
      "Best AUC So Far: 0.9999985694885254\n",
      "Total elapsed time: 00h 10m 59s\n"
     ]
    },
    {
     "name": "stderr",
     "output_type": "stream",
     "text": [
      "c:\\aplicaciones_analitica\\Casos de Estudio\\brain-tumor-detection\\environment\\Lib\\site-packages\\keras\\src\\saving\\saving_lib.py:418: UserWarning:\n",
      "\n",
      "Skipping variable loading for optimizer 'adam', because it has 2 variables whereas the saved optimizer has 18 variables. \n",
      "\n"
     ]
    }
   ],
   "source": [
    "tuner.search(x_train, y_train, epochs=10, validation_data=(x_test, y_test), batch_size=100)\n",
    "\n",
    "fc_best_model = tuner.get_best_models(num_models=1)[0]"
   ]
  },
  {
   "cell_type": "code",
   "execution_count": 25,
   "metadata": {},
   "outputs": [
    {
     "name": "stdout",
     "output_type": "stream",
     "text": [
      "Results summary\n",
      "Results in my_dir\\helloworld\n",
      "Showing 10 best trials\n",
      "Objective(name=\"AUC\", direction=\"max\")\n",
      "\n",
      "Trial 2 summary\n",
      "Hyperparameters:\n",
      "DO: 0.1\n",
      "rs: 0.0001\n",
      "optimizer: adam\n",
      "Score: 0.9999985694885254\n",
      "\n",
      "Trial 1 summary\n",
      "Hyperparameters:\n",
      "DO: 0.2\n",
      "rs: 0.0001\n",
      "optimizer: adam\n",
      "Score: 0.9999967217445374\n",
      "\n",
      "Trial 4 summary\n",
      "Hyperparameters:\n",
      "DO: 0.2\n",
      "rs: 0.0001\n",
      "optimizer: sgd\n",
      "Score: 0.9283779859542847\n",
      "\n",
      "Trial 0 summary\n",
      "Hyperparameters:\n",
      "DO: 0.2\n",
      "rs: 0.0005\n",
      "optimizer: sgd\n",
      "Score: 0.9192618131637573\n",
      "\n",
      "Trial 3 summary\n",
      "Hyperparameters:\n",
      "DO: 0.1\n",
      "rs: 0.0002\n",
      "optimizer: sgd\n",
      "Score: 0.8990659713745117\n"
     ]
    }
   ],
   "source": [
    "tuner.results_summary()"
   ]
  },
  {
   "cell_type": "code",
   "execution_count": 26,
   "metadata": {},
   "outputs": [
    {
     "name": "stderr",
     "output_type": "stream",
     "text": [
      "WARNING:absl:You are saving your model as an HDF5 file via `model.save()` or `keras.saving.save_model(model)`. This file format is considered legacy. We recommend using instead the native Keras format, e.g. `model.save('my_model.keras')` or `keras.saving.save_model(model, 'my_model.keras')`. \n"
     ]
    }
   ],
   "source": [
    "fc_best_model.save(\"salidas\\\\best_model.h5\")"
   ]
  }
 ],
 "metadata": {
  "kernelspec": {
   "display_name": "environment",
   "language": "python",
   "name": "python3"
  },
  "language_info": {
   "codemirror_mode": {
    "name": "ipython",
    "version": 3
   },
   "file_extension": ".py",
   "mimetype": "text/x-python",
   "name": "python",
   "nbconvert_exporter": "python",
   "pygments_lexer": "ipython3",
   "version": "3.11.7"
  }
 },
 "nbformat": 4,
 "nbformat_minor": 2
}
