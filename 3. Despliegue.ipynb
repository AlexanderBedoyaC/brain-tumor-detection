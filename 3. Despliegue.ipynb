{
 "cells": [
  {
   "cell_type": "code",
   "execution_count": 8,
   "metadata": {},
   "outputs": [
    {
     "data": {
      "text/plain": [
       "['C:\\\\Anaconda\\\\python311.zip',\n",
       " 'C:\\\\Anaconda\\\\DLLs',\n",
       " 'C:\\\\Anaconda\\\\Lib',\n",
       " 'C:\\\\Anaconda',\n",
       " 'c:\\\\Analitica 3\\\\brain-tumor-detection\\\\environment',\n",
       " '',\n",
       " 'c:\\\\Analitica 3\\\\brain-tumor-detection\\\\environment\\\\Lib\\\\site-packages',\n",
       " 'c:\\\\Analitica 3\\\\brain-tumor-detection\\\\environment\\\\Lib\\\\site-packages\\\\win32',\n",
       " 'c:\\\\Analitica 3\\\\brain-tumor-detection\\\\environment\\\\Lib\\\\site-packages\\\\win32\\\\lib',\n",
       " 'c:\\\\Analitica 3\\\\brain-tumor-detection\\\\environment\\\\Lib\\\\site-packages\\\\Pythonwin']"
      ]
     },
     "execution_count": 8,
     "metadata": {},
     "output_type": "execute_result"
    }
   ],
   "source": [
    "import numpy as np\n",
    "import matplotlib.pyplot as plt\n",
    "import cv2\n",
    "import tensorflow as tf\n",
    "\n",
    "\n",
    "import sys\n",
    "sys.executable\n",
    "sys.path"
   ]
  },
  {
   "cell_type": "code",
   "execution_count": null,
   "metadata": {},
   "outputs": [],
   "source": []
  }
 ],
 "metadata": {
  "kernelspec": {
   "display_name": "environment",
   "language": "python",
   "name": "python3"
  },
  "language_info": {
   "codemirror_mode": {
    "name": "ipython",
    "version": 3
   },
   "file_extension": ".py",
   "mimetype": "text/x-python",
   "name": "python",
   "nbconvert_exporter": "python",
   "pygments_lexer": "ipython3",
   "version": "3.11.7"
  }
 },
 "nbformat": 4,
 "nbformat_minor": 2
}
