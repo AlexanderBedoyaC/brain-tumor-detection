{
 "cells": [
  {
   "cell_type": "markdown",
   "metadata": {},
   "source": [
    "# 1. Importar Librerías"
   ]
  },
  {
   "cell_type": "code",
   "execution_count": 70,
   "metadata": {},
   "outputs": [],
   "source": [
    "import numpy as np\n",
    "import joblib ### para cargar array\n",
    "import keras_tuner as kt\n",
    "\n",
    "########Paquetes para NN #########\n",
    "import tensorflow as tf\n",
    "from sklearn import metrics ### para analizar modelo\n",
    "from sklearn.ensemble import RandomForestClassifier  ### para analizar modelo"
   ]
  },
  {
   "cell_type": "markdown",
   "metadata": {},
   "source": [
    "# 2. Importar Datos"
   ]
  },
  {
   "cell_type": "code",
   "execution_count": 71,
   "metadata": {},
   "outputs": [],
   "source": [
    "x_train = joblib.load('salidas\\\\x_train.pkl')\n",
    "y_train = joblib.load('salidas\\\\y_train.pkl')\n",
    "x_test = joblib.load('salidas\\\\x_test.pkl')\n",
    "y_test = joblib.load('salidas\\\\y_test.pkl')\n"
   ]
  },
  {
   "cell_type": "markdown",
   "metadata": {},
   "source": [
    "# 3. Modelos"
   ]
  },
  {
   "cell_type": "markdown",
   "metadata": {},
   "source": [
    "## 3.1. Modelo Random Forest Classifier"
   ]
  },
  {
   "cell_type": "code",
   "execution_count": 72,
   "metadata": {},
   "outputs": [
    {
     "data": {
      "text/plain": [
       "(1737, 100, 100, 3)"
      ]
     },
     "execution_count": 72,
     "metadata": {},
     "output_type": "execute_result"
    }
   ],
   "source": [
    "x_test.shape"
   ]
  },
  {
   "cell_type": "code",
   "execution_count": 73,
   "metadata": {},
   "outputs": [
    {
     "data": {
      "text/plain": [
       "(1737, 30000)"
      ]
     },
     "execution_count": 73,
     "metadata": {},
     "output_type": "execute_result"
    }
   ],
   "source": [
    "x_train2=x_train.reshape(6953,30000)\n",
    "x_test2=x_test.reshape(1737, 30000)\n",
    "x_train2.shape\n",
    "x_test2.shape"
   ]
  },
  {
   "cell_type": "code",
   "execution_count": 74,
   "metadata": {},
   "outputs": [
    {
     "name": "stderr",
     "output_type": "stream",
     "text": [
      "c:\\Analitica 3\\brain-tumor-detection\\environment\\Lib\\site-packages\\sklearn\\base.py:1474: DataConversionWarning:\n",
      "\n",
      "A column-vector y was passed when a 1d array was expected. Please change the shape of y to (n_samples,), for example using ravel().\n",
      "\n"
     ]
    },
    {
     "data": {
      "text/html": [
       "<style>#sk-container-id-2 {\n",
       "  /* Definition of color scheme common for light and dark mode */\n",
       "  --sklearn-color-text: black;\n",
       "  --sklearn-color-line: gray;\n",
       "  /* Definition of color scheme for unfitted estimators */\n",
       "  --sklearn-color-unfitted-level-0: #fff5e6;\n",
       "  --sklearn-color-unfitted-level-1: #f6e4d2;\n",
       "  --sklearn-color-unfitted-level-2: #ffe0b3;\n",
       "  --sklearn-color-unfitted-level-3: chocolate;\n",
       "  /* Definition of color scheme for fitted estimators */\n",
       "  --sklearn-color-fitted-level-0: #f0f8ff;\n",
       "  --sklearn-color-fitted-level-1: #d4ebff;\n",
       "  --sklearn-color-fitted-level-2: #b3dbfd;\n",
       "  --sklearn-color-fitted-level-3: cornflowerblue;\n",
       "\n",
       "  /* Specific color for light theme */\n",
       "  --sklearn-color-text-on-default-background: var(--sg-text-color, var(--theme-code-foreground, var(--jp-content-font-color1, black)));\n",
       "  --sklearn-color-background: var(--sg-background-color, var(--theme-background, var(--jp-layout-color0, white)));\n",
       "  --sklearn-color-border-box: var(--sg-text-color, var(--theme-code-foreground, var(--jp-content-font-color1, black)));\n",
       "  --sklearn-color-icon: #696969;\n",
       "\n",
       "  @media (prefers-color-scheme: dark) {\n",
       "    /* Redefinition of color scheme for dark theme */\n",
       "    --sklearn-color-text-on-default-background: var(--sg-text-color, var(--theme-code-foreground, var(--jp-content-font-color1, white)));\n",
       "    --sklearn-color-background: var(--sg-background-color, var(--theme-background, var(--jp-layout-color0, #111)));\n",
       "    --sklearn-color-border-box: var(--sg-text-color, var(--theme-code-foreground, var(--jp-content-font-color1, white)));\n",
       "    --sklearn-color-icon: #878787;\n",
       "  }\n",
       "}\n",
       "\n",
       "#sk-container-id-2 {\n",
       "  color: var(--sklearn-color-text);\n",
       "}\n",
       "\n",
       "#sk-container-id-2 pre {\n",
       "  padding: 0;\n",
       "}\n",
       "\n",
       "#sk-container-id-2 input.sk-hidden--visually {\n",
       "  border: 0;\n",
       "  clip: rect(1px 1px 1px 1px);\n",
       "  clip: rect(1px, 1px, 1px, 1px);\n",
       "  height: 1px;\n",
       "  margin: -1px;\n",
       "  overflow: hidden;\n",
       "  padding: 0;\n",
       "  position: absolute;\n",
       "  width: 1px;\n",
       "}\n",
       "\n",
       "#sk-container-id-2 div.sk-dashed-wrapped {\n",
       "  border: 1px dashed var(--sklearn-color-line);\n",
       "  margin: 0 0.4em 0.5em 0.4em;\n",
       "  box-sizing: border-box;\n",
       "  padding-bottom: 0.4em;\n",
       "  background-color: var(--sklearn-color-background);\n",
       "}\n",
       "\n",
       "#sk-container-id-2 div.sk-container {\n",
       "  /* jupyter's `normalize.less` sets `[hidden] { display: none; }`\n",
       "     but bootstrap.min.css set `[hidden] { display: none !important; }`\n",
       "     so we also need the `!important` here to be able to override the\n",
       "     default hidden behavior on the sphinx rendered scikit-learn.org.\n",
       "     See: https://github.com/scikit-learn/scikit-learn/issues/21755 */\n",
       "  display: inline-block !important;\n",
       "  position: relative;\n",
       "}\n",
       "\n",
       "#sk-container-id-2 div.sk-text-repr-fallback {\n",
       "  display: none;\n",
       "}\n",
       "\n",
       "div.sk-parallel-item,\n",
       "div.sk-serial,\n",
       "div.sk-item {\n",
       "  /* draw centered vertical line to link estimators */\n",
       "  background-image: linear-gradient(var(--sklearn-color-text-on-default-background), var(--sklearn-color-text-on-default-background));\n",
       "  background-size: 2px 100%;\n",
       "  background-repeat: no-repeat;\n",
       "  background-position: center center;\n",
       "}\n",
       "\n",
       "/* Parallel-specific style estimator block */\n",
       "\n",
       "#sk-container-id-2 div.sk-parallel-item::after {\n",
       "  content: \"\";\n",
       "  width: 100%;\n",
       "  border-bottom: 2px solid var(--sklearn-color-text-on-default-background);\n",
       "  flex-grow: 1;\n",
       "}\n",
       "\n",
       "#sk-container-id-2 div.sk-parallel {\n",
       "  display: flex;\n",
       "  align-items: stretch;\n",
       "  justify-content: center;\n",
       "  background-color: var(--sklearn-color-background);\n",
       "  position: relative;\n",
       "}\n",
       "\n",
       "#sk-container-id-2 div.sk-parallel-item {\n",
       "  display: flex;\n",
       "  flex-direction: column;\n",
       "}\n",
       "\n",
       "#sk-container-id-2 div.sk-parallel-item:first-child::after {\n",
       "  align-self: flex-end;\n",
       "  width: 50%;\n",
       "}\n",
       "\n",
       "#sk-container-id-2 div.sk-parallel-item:last-child::after {\n",
       "  align-self: flex-start;\n",
       "  width: 50%;\n",
       "}\n",
       "\n",
       "#sk-container-id-2 div.sk-parallel-item:only-child::after {\n",
       "  width: 0;\n",
       "}\n",
       "\n",
       "/* Serial-specific style estimator block */\n",
       "\n",
       "#sk-container-id-2 div.sk-serial {\n",
       "  display: flex;\n",
       "  flex-direction: column;\n",
       "  align-items: center;\n",
       "  background-color: var(--sklearn-color-background);\n",
       "  padding-right: 1em;\n",
       "  padding-left: 1em;\n",
       "}\n",
       "\n",
       "\n",
       "/* Toggleable style: style used for estimator/Pipeline/ColumnTransformer box that is\n",
       "clickable and can be expanded/collapsed.\n",
       "- Pipeline and ColumnTransformer use this feature and define the default style\n",
       "- Estimators will overwrite some part of the style using the `sk-estimator` class\n",
       "*/\n",
       "\n",
       "/* Pipeline and ColumnTransformer style (default) */\n",
       "\n",
       "#sk-container-id-2 div.sk-toggleable {\n",
       "  /* Default theme specific background. It is overwritten whether we have a\n",
       "  specific estimator or a Pipeline/ColumnTransformer */\n",
       "  background-color: var(--sklearn-color-background);\n",
       "}\n",
       "\n",
       "/* Toggleable label */\n",
       "#sk-container-id-2 label.sk-toggleable__label {\n",
       "  cursor: pointer;\n",
       "  display: block;\n",
       "  width: 100%;\n",
       "  margin-bottom: 0;\n",
       "  padding: 0.5em;\n",
       "  box-sizing: border-box;\n",
       "  text-align: center;\n",
       "}\n",
       "\n",
       "#sk-container-id-2 label.sk-toggleable__label-arrow:before {\n",
       "  /* Arrow on the left of the label */\n",
       "  content: \"▸\";\n",
       "  float: left;\n",
       "  margin-right: 0.25em;\n",
       "  color: var(--sklearn-color-icon);\n",
       "}\n",
       "\n",
       "#sk-container-id-2 label.sk-toggleable__label-arrow:hover:before {\n",
       "  color: var(--sklearn-color-text);\n",
       "}\n",
       "\n",
       "/* Toggleable content - dropdown */\n",
       "\n",
       "#sk-container-id-2 div.sk-toggleable__content {\n",
       "  max-height: 0;\n",
       "  max-width: 0;\n",
       "  overflow: hidden;\n",
       "  text-align: left;\n",
       "  /* unfitted */\n",
       "  background-color: var(--sklearn-color-unfitted-level-0);\n",
       "}\n",
       "\n",
       "#sk-container-id-2 div.sk-toggleable__content.fitted {\n",
       "  /* fitted */\n",
       "  background-color: var(--sklearn-color-fitted-level-0);\n",
       "}\n",
       "\n",
       "#sk-container-id-2 div.sk-toggleable__content pre {\n",
       "  margin: 0.2em;\n",
       "  border-radius: 0.25em;\n",
       "  color: var(--sklearn-color-text);\n",
       "  /* unfitted */\n",
       "  background-color: var(--sklearn-color-unfitted-level-0);\n",
       "}\n",
       "\n",
       "#sk-container-id-2 div.sk-toggleable__content.fitted pre {\n",
       "  /* unfitted */\n",
       "  background-color: var(--sklearn-color-fitted-level-0);\n",
       "}\n",
       "\n",
       "#sk-container-id-2 input.sk-toggleable__control:checked~div.sk-toggleable__content {\n",
       "  /* Expand drop-down */\n",
       "  max-height: 200px;\n",
       "  max-width: 100%;\n",
       "  overflow: auto;\n",
       "}\n",
       "\n",
       "#sk-container-id-2 input.sk-toggleable__control:checked~label.sk-toggleable__label-arrow:before {\n",
       "  content: \"▾\";\n",
       "}\n",
       "\n",
       "/* Pipeline/ColumnTransformer-specific style */\n",
       "\n",
       "#sk-container-id-2 div.sk-label input.sk-toggleable__control:checked~label.sk-toggleable__label {\n",
       "  color: var(--sklearn-color-text);\n",
       "  background-color: var(--sklearn-color-unfitted-level-2);\n",
       "}\n",
       "\n",
       "#sk-container-id-2 div.sk-label.fitted input.sk-toggleable__control:checked~label.sk-toggleable__label {\n",
       "  background-color: var(--sklearn-color-fitted-level-2);\n",
       "}\n",
       "\n",
       "/* Estimator-specific style */\n",
       "\n",
       "/* Colorize estimator box */\n",
       "#sk-container-id-2 div.sk-estimator input.sk-toggleable__control:checked~label.sk-toggleable__label {\n",
       "  /* unfitted */\n",
       "  background-color: var(--sklearn-color-unfitted-level-2);\n",
       "}\n",
       "\n",
       "#sk-container-id-2 div.sk-estimator.fitted input.sk-toggleable__control:checked~label.sk-toggleable__label {\n",
       "  /* fitted */\n",
       "  background-color: var(--sklearn-color-fitted-level-2);\n",
       "}\n",
       "\n",
       "#sk-container-id-2 div.sk-label label.sk-toggleable__label,\n",
       "#sk-container-id-2 div.sk-label label {\n",
       "  /* The background is the default theme color */\n",
       "  color: var(--sklearn-color-text-on-default-background);\n",
       "}\n",
       "\n",
       "/* On hover, darken the color of the background */\n",
       "#sk-container-id-2 div.sk-label:hover label.sk-toggleable__label {\n",
       "  color: var(--sklearn-color-text);\n",
       "  background-color: var(--sklearn-color-unfitted-level-2);\n",
       "}\n",
       "\n",
       "/* Label box, darken color on hover, fitted */\n",
       "#sk-container-id-2 div.sk-label.fitted:hover label.sk-toggleable__label.fitted {\n",
       "  color: var(--sklearn-color-text);\n",
       "  background-color: var(--sklearn-color-fitted-level-2);\n",
       "}\n",
       "\n",
       "/* Estimator label */\n",
       "\n",
       "#sk-container-id-2 div.sk-label label {\n",
       "  font-family: monospace;\n",
       "  font-weight: bold;\n",
       "  display: inline-block;\n",
       "  line-height: 1.2em;\n",
       "}\n",
       "\n",
       "#sk-container-id-2 div.sk-label-container {\n",
       "  text-align: center;\n",
       "}\n",
       "\n",
       "/* Estimator-specific */\n",
       "#sk-container-id-2 div.sk-estimator {\n",
       "  font-family: monospace;\n",
       "  border: 1px dotted var(--sklearn-color-border-box);\n",
       "  border-radius: 0.25em;\n",
       "  box-sizing: border-box;\n",
       "  margin-bottom: 0.5em;\n",
       "  /* unfitted */\n",
       "  background-color: var(--sklearn-color-unfitted-level-0);\n",
       "}\n",
       "\n",
       "#sk-container-id-2 div.sk-estimator.fitted {\n",
       "  /* fitted */\n",
       "  background-color: var(--sklearn-color-fitted-level-0);\n",
       "}\n",
       "\n",
       "/* on hover */\n",
       "#sk-container-id-2 div.sk-estimator:hover {\n",
       "  /* unfitted */\n",
       "  background-color: var(--sklearn-color-unfitted-level-2);\n",
       "}\n",
       "\n",
       "#sk-container-id-2 div.sk-estimator.fitted:hover {\n",
       "  /* fitted */\n",
       "  background-color: var(--sklearn-color-fitted-level-2);\n",
       "}\n",
       "\n",
       "/* Specification for estimator info (e.g. \"i\" and \"?\") */\n",
       "\n",
       "/* Common style for \"i\" and \"?\" */\n",
       "\n",
       ".sk-estimator-doc-link,\n",
       "a:link.sk-estimator-doc-link,\n",
       "a:visited.sk-estimator-doc-link {\n",
       "  float: right;\n",
       "  font-size: smaller;\n",
       "  line-height: 1em;\n",
       "  font-family: monospace;\n",
       "  background-color: var(--sklearn-color-background);\n",
       "  border-radius: 1em;\n",
       "  height: 1em;\n",
       "  width: 1em;\n",
       "  text-decoration: none !important;\n",
       "  margin-left: 1ex;\n",
       "  /* unfitted */\n",
       "  border: var(--sklearn-color-unfitted-level-1) 1pt solid;\n",
       "  color: var(--sklearn-color-unfitted-level-1);\n",
       "}\n",
       "\n",
       ".sk-estimator-doc-link.fitted,\n",
       "a:link.sk-estimator-doc-link.fitted,\n",
       "a:visited.sk-estimator-doc-link.fitted {\n",
       "  /* fitted */\n",
       "  border: var(--sklearn-color-fitted-level-1) 1pt solid;\n",
       "  color: var(--sklearn-color-fitted-level-1);\n",
       "}\n",
       "\n",
       "/* On hover */\n",
       "div.sk-estimator:hover .sk-estimator-doc-link:hover,\n",
       ".sk-estimator-doc-link:hover,\n",
       "div.sk-label-container:hover .sk-estimator-doc-link:hover,\n",
       ".sk-estimator-doc-link:hover {\n",
       "  /* unfitted */\n",
       "  background-color: var(--sklearn-color-unfitted-level-3);\n",
       "  color: var(--sklearn-color-background);\n",
       "  text-decoration: none;\n",
       "}\n",
       "\n",
       "div.sk-estimator.fitted:hover .sk-estimator-doc-link.fitted:hover,\n",
       ".sk-estimator-doc-link.fitted:hover,\n",
       "div.sk-label-container:hover .sk-estimator-doc-link.fitted:hover,\n",
       ".sk-estimator-doc-link.fitted:hover {\n",
       "  /* fitted */\n",
       "  background-color: var(--sklearn-color-fitted-level-3);\n",
       "  color: var(--sklearn-color-background);\n",
       "  text-decoration: none;\n",
       "}\n",
       "\n",
       "/* Span, style for the box shown on hovering the info icon */\n",
       ".sk-estimator-doc-link span {\n",
       "  display: none;\n",
       "  z-index: 9999;\n",
       "  position: relative;\n",
       "  font-weight: normal;\n",
       "  right: .2ex;\n",
       "  padding: .5ex;\n",
       "  margin: .5ex;\n",
       "  width: min-content;\n",
       "  min-width: 20ex;\n",
       "  max-width: 50ex;\n",
       "  color: var(--sklearn-color-text);\n",
       "  box-shadow: 2pt 2pt 4pt #999;\n",
       "  /* unfitted */\n",
       "  background: var(--sklearn-color-unfitted-level-0);\n",
       "  border: .5pt solid var(--sklearn-color-unfitted-level-3);\n",
       "}\n",
       "\n",
       ".sk-estimator-doc-link.fitted span {\n",
       "  /* fitted */\n",
       "  background: var(--sklearn-color-fitted-level-0);\n",
       "  border: var(--sklearn-color-fitted-level-3);\n",
       "}\n",
       "\n",
       ".sk-estimator-doc-link:hover span {\n",
       "  display: block;\n",
       "}\n",
       "\n",
       "/* \"?\"-specific style due to the `<a>` HTML tag */\n",
       "\n",
       "#sk-container-id-2 a.estimator_doc_link {\n",
       "  float: right;\n",
       "  font-size: 1rem;\n",
       "  line-height: 1em;\n",
       "  font-family: monospace;\n",
       "  background-color: var(--sklearn-color-background);\n",
       "  border-radius: 1rem;\n",
       "  height: 1rem;\n",
       "  width: 1rem;\n",
       "  text-decoration: none;\n",
       "  /* unfitted */\n",
       "  color: var(--sklearn-color-unfitted-level-1);\n",
       "  border: var(--sklearn-color-unfitted-level-1) 1pt solid;\n",
       "}\n",
       "\n",
       "#sk-container-id-2 a.estimator_doc_link.fitted {\n",
       "  /* fitted */\n",
       "  border: var(--sklearn-color-fitted-level-1) 1pt solid;\n",
       "  color: var(--sklearn-color-fitted-level-1);\n",
       "}\n",
       "\n",
       "/* On hover */\n",
       "#sk-container-id-2 a.estimator_doc_link:hover {\n",
       "  /* unfitted */\n",
       "  background-color: var(--sklearn-color-unfitted-level-3);\n",
       "  color: var(--sklearn-color-background);\n",
       "  text-decoration: none;\n",
       "}\n",
       "\n",
       "#sk-container-id-2 a.estimator_doc_link.fitted:hover {\n",
       "  /* fitted */\n",
       "  background-color: var(--sklearn-color-fitted-level-3);\n",
       "}\n",
       "</style><div id=\"sk-container-id-2\" class=\"sk-top-container\"><div class=\"sk-text-repr-fallback\"><pre>RandomForestClassifier()</pre><b>In a Jupyter environment, please rerun this cell to show the HTML representation or trust the notebook. <br />On GitHub, the HTML representation is unable to render, please try loading this page with nbviewer.org.</b></div><div class=\"sk-container\" hidden><div class=\"sk-item\"><div class=\"sk-estimator fitted sk-toggleable\"><input class=\"sk-toggleable__control sk-hidden--visually\" id=\"sk-estimator-id-2\" type=\"checkbox\" checked><label for=\"sk-estimator-id-2\" class=\"sk-toggleable__label fitted sk-toggleable__label-arrow fitted\">&nbsp;&nbsp;RandomForestClassifier<a class=\"sk-estimator-doc-link fitted\" rel=\"noreferrer\" target=\"_blank\" href=\"https://scikit-learn.org/1.4/modules/generated/sklearn.ensemble.RandomForestClassifier.html\">?<span>Documentation for RandomForestClassifier</span></a><span class=\"sk-estimator-doc-link fitted\">i<span>Fitted</span></span></label><div class=\"sk-toggleable__content fitted\"><pre>RandomForestClassifier()</pre></div> </div></div></div></div>"
      ],
      "text/plain": [
       "RandomForestClassifier()"
      ]
     },
     "execution_count": 74,
     "metadata": {},
     "output_type": "execute_result"
    }
   ],
   "source": [
    "rf=RandomForestClassifier()\n",
    "rf.fit(x_train2, y_train)"
   ]
  },
  {
   "cell_type": "code",
   "execution_count": 75,
   "metadata": {},
   "outputs": [
    {
     "name": "stdout",
     "output_type": "stream",
     "text": [
      "------------------------TRAIN---------------------------\n",
      "              precision    recall  f1-score   support\n",
      "\n",
      "           0       0.75      1.00      0.86      2864\n",
      "           1       1.00      0.77      0.87      4089\n",
      "\n",
      "    accuracy                           0.86      6953\n",
      "   macro avg       0.88      0.88      0.86      6953\n",
      "weighted avg       0.90      0.86      0.86      6953\n",
      "\n",
      "\n",
      "------------------------TEST---------------------------\n",
      "              precision    recall  f1-score   support\n",
      "\n",
      "           0       0.62      1.00      0.77       716\n",
      "           1       1.00      0.57      0.73      1021\n",
      "\n",
      "    accuracy                           0.75      1737\n",
      "   macro avg       0.81      0.79      0.75      1737\n",
      "weighted avg       0.84      0.75      0.75      1737\n",
      "\n"
     ]
    },
    {
     "data": {
      "text/plain": [
       "0.7874632713026445"
      ]
     },
     "execution_count": 75,
     "metadata": {},
     "output_type": "execute_result"
    }
   ],
   "source": [
    "print('------------------------TRAIN---------------------------')\n",
    "pred_train = rf.predict_proba(x_train2)[:, 1]\n",
    "pred_train = (pred_train > 0.98).astype(int)\n",
    "print(metrics.classification_report(y_train, pred_train))\n",
    "metrics.roc_auc_score(y_train, pred_train)\n",
    "\n",
    "print()\n",
    "print('------------------------TEST---------------------------')\n",
    "pred_test = rf.predict_proba(x_test2)[:, 1]\n",
    "pred_test = (pred_test > 0.98).astype(int)\n",
    "print(metrics.classification_report(y_test, pred_test))\n",
    "metrics.roc_auc_score(y_test, pred_test)"
   ]
  },
  {
   "cell_type": "markdown",
   "metadata": {},
   "source": [
    "## 3.2. Red Neuronal Estándar"
   ]
  },
  {
   "cell_type": "code",
   "execution_count": 76,
   "metadata": {},
   "outputs": [
    {
     "name": "stderr",
     "output_type": "stream",
     "text": [
      "c:\\Analitica 3\\brain-tumor-detection\\environment\\Lib\\site-packages\\keras\\src\\layers\\reshaping\\flatten.py:37: UserWarning:\n",
      "\n",
      "Do not pass an `input_shape`/`input_dim` argument to a layer. When using Sequential models, prefer using an `Input(shape)` object as the first layer in the model instead.\n",
      "\n"
     ]
    }
   ],
   "source": [
    "fc_model=tf.keras.models.Sequential([\n",
    "    tf.keras.layers.Flatten(input_shape=x_train.shape[1:]),\n",
    "    tf.keras.layers.Dense(128, activation='relu'),\n",
    "    tf.keras.layers.Dense(64, activation='relu'),\n",
    "    tf.keras.layers.Dense(1, activation='sigmoid')\n",
    "])"
   ]
  },
  {
   "cell_type": "code",
   "execution_count": 77,
   "metadata": {},
   "outputs": [],
   "source": [
    "##### configura el optimizador y la función para optimizar ##############\n",
    "fc_model.compile(optimizer='adam', loss='binary_crossentropy', metrics=['accuracy','AUC', 'Recall', 'Precision'])"
   ]
  },
  {
   "cell_type": "code",
   "execution_count": 78,
   "metadata": {},
   "outputs": [
    {
     "name": "stdout",
     "output_type": "stream",
     "text": [
      "Epoch 1/10\n",
      "\u001b[1m70/70\u001b[0m \u001b[32m━━━━━━━━━━━━━━━━━━━━\u001b[0m\u001b[37m\u001b[0m \u001b[1m12s\u001b[0m 123ms/step - AUC: 0.7642 - Precision: 0.7702 - Recall: 0.6977 - accuracy: 0.7100 - loss: 0.7127 - val_AUC: 0.9418 - val_Precision: 0.8267 - val_Recall: 0.9814 - val_accuracy: 0.8682 - val_loss: 0.3501\n",
      "Epoch 2/10\n",
      "\u001b[1m70/70\u001b[0m \u001b[32m━━━━━━━━━━━━━━━━━━━━\u001b[0m\u001b[37m\u001b[0m \u001b[1m5s\u001b[0m 71ms/step - AUC: 0.9477 - Precision: 0.9112 - Recall: 0.9224 - accuracy: 0.9007 - loss: 0.2944 - val_AUC: 0.9819 - val_Precision: 0.9829 - val_Recall: 0.8443 - val_accuracy: 0.8998 - val_loss: 0.2685\n",
      "Epoch 3/10\n",
      "\u001b[1m70/70\u001b[0m \u001b[32m━━━━━━━━━━━━━━━━━━━━\u001b[0m\u001b[37m\u001b[0m \u001b[1m4s\u001b[0m 61ms/step - AUC: 0.9802 - Precision: 0.9530 - Recall: 0.9485 - accuracy: 0.9423 - loss: 0.1871 - val_AUC: 0.9808 - val_Precision: 0.9486 - val_Recall: 0.9755 - val_accuracy: 0.9545 - val_loss: 0.1641\n",
      "Epoch 4/10\n",
      "\u001b[1m70/70\u001b[0m \u001b[32m━━━━━━━━━━━━━━━━━━━━\u001b[0m\u001b[37m\u001b[0m \u001b[1m4s\u001b[0m 60ms/step - AUC: 0.9874 - Precision: 0.9611 - Recall: 0.9678 - accuracy: 0.9575 - loss: 0.1444 - val_AUC: 0.9836 - val_Precision: 0.9748 - val_Recall: 0.9491 - val_accuracy: 0.9557 - val_loss: 0.1574\n",
      "Epoch 5/10\n",
      "\u001b[1m70/70\u001b[0m \u001b[32m━━━━━━━━━━━━━━━━━━━━\u001b[0m\u001b[37m\u001b[0m \u001b[1m4s\u001b[0m 62ms/step - AUC: 0.9934 - Precision: 0.9743 - Recall: 0.9776 - accuracy: 0.9716 - loss: 0.1002 - val_AUC: 0.9895 - val_Precision: 0.9820 - val_Recall: 0.9598 - val_accuracy: 0.9660 - val_loss: 0.1267\n",
      "Epoch 6/10\n",
      "\u001b[1m70/70\u001b[0m \u001b[32m━━━━━━━━━━━━━━━━━━━━\u001b[0m\u001b[37m\u001b[0m \u001b[1m4s\u001b[0m 60ms/step - AUC: 0.9926 - Precision: 0.9714 - Recall: 0.9729 - accuracy: 0.9669 - loss: 0.1063 - val_AUC: 0.9907 - val_Precision: 0.9810 - val_Recall: 0.9618 - val_accuracy: 0.9666 - val_loss: 0.1066\n",
      "Epoch 7/10\n",
      "\u001b[1m70/70\u001b[0m \u001b[32m━━━━━━━━━━━━━━━━━━━━\u001b[0m\u001b[37m\u001b[0m \u001b[1m4s\u001b[0m 61ms/step - AUC: 0.9976 - Precision: 0.9846 - Recall: 0.9873 - accuracy: 0.9835 - loss: 0.0631 - val_AUC: 0.9904 - val_Precision: 0.9538 - val_Recall: 0.9902 - val_accuracy: 0.9660 - val_loss: 0.1200\n",
      "Epoch 8/10\n",
      "\u001b[1m70/70\u001b[0m \u001b[32m━━━━━━━━━━━━━━━━━━━━\u001b[0m\u001b[37m\u001b[0m \u001b[1m4s\u001b[0m 60ms/step - AUC: 0.9983 - Precision: 0.9862 - Recall: 0.9888 - accuracy: 0.9854 - loss: 0.0539 - val_AUC: 0.9919 - val_Precision: 0.9805 - val_Recall: 0.9843 - val_accuracy: 0.9793 - val_loss: 0.0912\n",
      "Epoch 9/10\n",
      "\u001b[1m70/70\u001b[0m \u001b[32m━━━━━━━━━━━━━━━━━━━━\u001b[0m\u001b[37m\u001b[0m \u001b[1m4s\u001b[0m 60ms/step - AUC: 0.9993 - Precision: 0.9911 - Recall: 0.9950 - accuracy: 0.9917 - loss: 0.0342 - val_AUC: 0.9908 - val_Precision: 0.9796 - val_Recall: 0.9873 - val_accuracy: 0.9804 - val_loss: 0.0951\n",
      "Epoch 10/10\n",
      "\u001b[1m70/70\u001b[0m \u001b[32m━━━━━━━━━━━━━━━━━━━━\u001b[0m\u001b[37m\u001b[0m \u001b[1m4s\u001b[0m 61ms/step - AUC: 0.9990 - Precision: 0.9906 - Recall: 0.9952 - accuracy: 0.9915 - loss: 0.0344 - val_AUC: 0.9915 - val_Precision: 0.9741 - val_Recall: 0.9931 - val_accuracy: 0.9804 - val_loss: 0.0991\n"
     ]
    },
    {
     "data": {
      "text/plain": [
       "<keras.src.callbacks.history.History at 0x2458fcbbd50>"
      ]
     },
     "execution_count": 78,
     "metadata": {},
     "output_type": "execute_result"
    }
   ],
   "source": [
    "#####Entrenar el modelo usando el optimizador y arquitectura definidas #########\n",
    "fc_model.fit(x_train, y_train, batch_size=100, epochs=10, validation_data=(x_test, y_test))"
   ]
  },
  {
   "cell_type": "code",
   "execution_count": 79,
   "metadata": {},
   "outputs": [
    {
     "name": "stdout",
     "output_type": "stream",
     "text": [
      "55/55 - 0s - 6ms/step - AUC: 0.9915 - Precision: 0.9741 - Recall: 0.9931 - accuracy: 0.9804 - loss: 0.0991\n",
      "Test auc: 0.991457998752594\n"
     ]
    }
   ],
   "source": [
    "#########Evaluar el modelo ####################\n",
    "test_loss, test_acc, test_auc, test_recall, test_precision = fc_model.evaluate(x_test, y_test, verbose=2)\n",
    "print(\"Test auc:\", test_auc)"
   ]
  },
  {
   "cell_type": "code",
   "execution_count": 80,
   "metadata": {},
   "outputs": [
    {
     "name": "stdout",
     "output_type": "stream",
     "text": [
      "\u001b[1m55/55\u001b[0m \u001b[32m━━━━━━━━━━━━━━━━━━━━\u001b[0m\u001b[37m\u001b[0m \u001b[1m0s\u001b[0m 7ms/step\n",
      "              precision    recall  f1-score   support\n",
      "\n",
      "           0       0.84      0.99      0.91       716\n",
      "           1       0.99      0.86      0.92      1021\n",
      "\n",
      "    accuracy                           0.91      1737\n",
      "   macro avg       0.91      0.93      0.91      1737\n",
      "weighted avg       0.93      0.91      0.92      1737\n",
      "\n"
     ]
    },
    {
     "data": {
      "image/png": "[encoded data removed]",
      "text/plain": [
       "<Figure size 640x480 with 2 Axes>"
      ]
     },
     "metadata": {},
     "output_type": "display_data"
    }
   ],
   "source": [
    "###### matriz de confusión test\n",
    "pred_test=(fc_model.predict(x_test) > 0.98).astype('int')\n",
    "cm=metrics.confusion_matrix(y_test,pred_test, labels=[1,0])\n",
    "disp=metrics.ConfusionMatrixDisplay(cm,display_labels=['tumor', 'No_tumor'])\n",
    "disp.plot()\n",
    "\n",
    "print(metrics.classification_report(y_test, pred_test))\n"
   ]
  },
  {
   "cell_type": "code",
   "execution_count": 81,
   "metadata": {},
   "outputs": [
    {
     "name": "stdout",
     "output_type": "stream",
     "text": [
      "\u001b[1m55/55\u001b[0m \u001b[32m━━━━━━━━━━━━━━━━━━━━\u001b[0m\u001b[37m\u001b[0m \u001b[1m0s\u001b[0m 5ms/step\n"
     ]
    },
    {
     "data": {
      "application/vnd.plotly.v1+json": {
       "config": {
        "plotlyServerURL": "https://plot.ly"
       },
       "data": [
        {
         "alignmentgroup": "True",
         "bingroup": "x",
         "hovertemplate": "variable=0<br>value=%{x}<br>count=%{y}<extra></extra>",
         "legendgroup": "0",
         "marker": {
          "color": "#636efa",
          "pattern": {
           "shape": ""
          }
         },
         "name": "0",
         "offsetgroup": "0",
         "orientation": "v",
         "showlegend": true,
         "type": "histogram",
         "x": [
          0.00006179811316542327,
          0.0062082610093057156,
          0.005902893375605345,
          0.020764213055372238,
          0.009666139259934425,
          0.00004214416185277514,
          0.009448456577956676,
          0.0018960797460749745,
          0.004041926469653845,
          0.0062082610093057156,
          0.0016953939339146018,
          0.0006158536416478455,
          0.0037563075311481953,
          0.009833174757659435,
          0.008511378429830074,
          0.007702718023210764,
          0.002650469308719039,
          0.00006149031105451286,
          0.0022464958019554615,
          0.00006392502109520137,
          0.012470277026295662,
          0.00007491027645301074,
          0.0010531999869272113,
          0.0020969321485608816,
          0.004577923100441694,
          0.056526247411966324,
          0.017068251967430115,
          0.010864270851016045,
          0.009575905278325081,
          0.05008885636925697,
          0.06397475302219391,
          0.05856362730264664,
          0.0038058971986174583,
          0.005257006268948317,
          0.009942899458110332,
          0.005831507500261068,
          0.003700262401252985,
          0.0012567222584038973,
          0.014065464958548546,
          0.1299525648355484,
          0.03442200645804405,
          0.014379997737705708,
          0.02709321677684784,
          0.00029005322721786797,
          0.00014509129687212408,
          0.005843239836394787,
          0.050470948219299316,
          0.000005628024609904969,
          0.044029317796230316,
          0.000015784202332724817,
          0.0002707639941945672,
          0.002514344174414873,
          0.3659037947654724,
          0.00003692819882417098,
          0.0016429126262664795,
          0.0003476608544588089,
          0.000817378459032625,
          0.0011834725737571716,
          0.00029055034974589944,
          0.005568142049014568,
          0.003137090941891074,
          0.0008609661599621177,
          0.000052125607908237725,
          0.0041043395176529884,
          0.00027090549701824784,
          0.0033014004584401846,
          0.061743658035993576,
          0.48324957489967346,
          0.0020785776432603598,
          1.1819177103689071e-7,
          0.005975247360765934,
          0.00019919015176128596,
          0.00013697076065000147,
          0.03149719163775444,
          0.16169482469558716,
          0.0502677746117115,
          0.003910430707037449,
          0.08482397347688675,
          0.0035346969962120056,
          0.00040810107020661235,
          0.08489702641963959,
          0.018411630764603615,
          0.010381934233009815,
          0.02826555259525776,
          0.00002040101207967382,
          0.003670511767268181,
          0.0020018217619508505,
          0.21916058659553528,
          0.023540085181593895,
          0.000716045789886266,
          0.01521441899240017,
          0.0023200984578579664,
          0.053535930812358856,
          0.13483139872550964,
          0.017727229744195938,
          0.44668155908584595,
          0.00024779289378784597,
          0.0017007474089041352,
          0.014344552531838417,
          0.00004370230817585252,
          0.3729747235774994,
          0.0003081814502365887,
          0.034874215722084045,
          0.00013728038175031543,
          0.000006758529707440175,
          0.0003663326206151396,
          0.0019460347248241305,
          0.000003685569936351385,
          0.01429666206240654,
          1.5627531269046813e-8,
          0.0002964219020213932,
          0.048352573066949844,
          0.00010259634291287512,
          0.000003596590886445483,
          0.000011985928722424433,
          0.0006170327542349696,
          2.2140801547720912e-7,
          0.02810663729906082,
          0.0007910990971140563,
          0.0030321201775223017,
          0.0000385445928259287,
          0.4748823940753937,
          0.00030888564651831985,
          0.006020810455083847,
          0.00015918306598905474,
          0.000026139065084862523,
          0.00009814965596888214,
          0.00004754379915539175,
          0.0003941616741940379,
          0.09226208925247192,
          0.0008312432910315692,
          0.05443902686238289,
          0.001380352070555091,
          0.021403683349490166,
          0.0010449745459482074,
          0.004107166547328234,
          0.0004492062143981457,
          0.00012934350525029004,
          0.024111628532409668,
          0.001238222816027701,
          0.1293066442012787,
          0.1507338136434555,
          0.01719261333346367,
          0.03987530618906021,
          0.003501364728435874,
          0.35866695642471313,
          0.9999788999557495,
          0.004095354117453098,
          0.00102906150277704,
          3.4430237860760826e-7,
          0.00033053476363420486,
          0.0000065312306105624884,
          0.019529838114976883,
          0.000022946014723856933,
          0.000025816512788878754,
          0.00004902225191472098,
          0.0000010357199471400236,
          0.00016800864250399172,
          0.00002063212014036253,
          0.00008195886766770855,
          0.0025929210241883993,
          0.04838167876005173,
          0.002490436192601919,
          0.00007089719292707741,
          0.06489238142967224,
          0.0002761597279459238,
          0.000017104752259911038,
          0.0408816896378994,
          0.002022501779720187,
          0.0330793634057045,
          0.006289797369390726,
          0.01593945175409317,
          0.004133423790335655,
          0.00004267386975698173,
          0.0318671278655529,
          0.05295322462916374,
          0.02403169684112072,
          0.002281792229041457,
          0.00040815011016093194,
          0.005392075981944799,
          0.01169687882065773,
          0.004239416681230068,
          0.0975714698433876,
          0.0013046168023720384,
          0.005636392626911402,
          0.00048047196469269693,
          0.004290716722607613,
          0.004331402946263552,
          0.00710296630859375,
          0.009448456577956676,
          0.000012005823009531014,
          0.004041905049234629,
          0.0021763190161436796,
          0.03791295364499092,
          0.00131025945302099,
          0.0027650974225252867,
          0.053694549947977066,
          0.008446880616247654,
          0.28572866320610046,
          0.023293698206543922,
          0.027888916432857513,
          0.11016201972961426,
          0.0006907747010700405,
          0.015642395243048668,
          0.31527242064476013,
          0.0026336011942476034,
          0.018493054434657097,
          0.002346502151340246,
          0.035190269351005554,
          0.00007770806405460462,
          0.00019206262368243188,
          0.00849063228815794,
          0.0008160643628798425,
          0.0004913482116535306,
          0.0037026817444711924,
          0.17850475013256073,
          0.2822617292404175,
          0.0006833997322246432,
          0.01892930269241333,
          0.012080718763172626,
          0.009196234866976738,
          0.006147090345621109,
          0.01766464114189148,
          0.03254855424165726,
          0.014989946037530899,
          0.0046701934188604355,
          0.00464591896161437,
          0.014494224451482296,
          0.01321615930646658,
          0.004867844749242067,
          0.006985730957239866,
          0.0009841092396527529,
          0.00013630121247842908,
          0.0007108434801921248,
          0.0023100487887859344,
          4.751820199544454e-7,
          0.00005224075721343979,
          0.00015587947564199567,
          0.000029926206480013207,
          0.0001803651248337701,
          0.0008976313401944935,
          3.9430545939467265e-8,
          0.004064773675054312,
          0.0009600455523468554,
          0.058896392583847046,
          0.002850999590009451,
          0.0009714738698676229,
          0.000003676901997096138,
          0.00043288824963383377,
          0.00046808531624265015,
          9.474230182604515e-7,
          0.007264699786901474,
          5.293849199006218e-7,
          0.00014972942881286144,
          0.00031475472496822476,
          0.000855631020385772,
          0.27850016951560974,
          0.015020694583654404,
          0.08981321007013321,
          0.6070462465286255,
          4.22180818304696e-7,
          0.11300431191921234,
          0.1740178018808365,
          0.000008439498742518481,
          0.00098793872166425,
          0.023769741877913475,
          0.06648951023817062,
          0.0006468882784247398,
          0.012746249325573444,
          0.0011158010456711054,
          0.03154269605875015,
          0.0008287840173579752,
          0.009089600294828415,
          0.02344491519033909,
          0.00005765643436461687,
          0.05276152491569519,
          0.0031722139101475477,
          0.04420718178153038,
          0.016005631536245346,
          0.4283421039581299,
          0.0033123986795544624,
          0.0002190603263443336,
          0.03832332417368889,
          0.00290124979801476,
          0.000786315300501883,
          0.00015300042286980897,
          0.001559607102535665,
          0.0025423262268304825,
          0.0016738995909690857,
          0.0011112106731161475,
          0.00018059814465232193,
          0.000649694527965039,
          0.0031109850388020277,
          0.0009158097091130912,
          0.011151761747896671,
          0.0006911418749950826,
          0.0344550795853138,
          0.014376788400113583,
          0.00022876981529407203,
          0.000015493047612835653,
          0.00040994264418259263,
          0.00045191976823844016,
          0.0002938966208603233,
          0.009675459936261177,
          0.001311815925873816,
          0.02530118264257908,
          0.000058847497712122276,
          0.006741642020642757,
          0.004411800764501095,
          0.002737176138907671,
          0.000027264566597295925,
          0.000041896240873029456,
          0.06508605182170868,
          2.2963344292747934e-7,
          0.012042013928294182,
          0.000018252660083817318,
          0.14882706105709076,
          0.0017150260973721743,
          0.2728491723537445,
          0.17850448191165924,
          0.18445073068141937,
          0.02061905339360237,
          0.6818414926528931,
          0.40095171332359314,
          0.015652410686016083,
          0.5776232481002808,
          0.003260511439293623,
          0.05225437879562378,
          0.024012355133891106,
          0.0027650974225252867,
          0.003334223059937358,
          0.028480613604187965,
          0.10901813954114914,
          0.0027650974225252867,
          0.21407966315746307,
          0.4547829329967499,
          0.2702229619026184,
          0.04218783229589462,
          0.004380552098155022,
          0.00018736245692707598,
          0.05008885636925697,
          0.026217931881546974,
          0.0014022572431713343,
          0.0042244624346494675,
          0.00018603249918669462,
          0.000005628024609904969,
          0.0002707639941945672,
          0.000001004381033453683,
          0.004010596312582493,
          0.0013164619449526072,
          0.0007981790695339441,
          0.006946314126253128,
          0.00029213246307335794,
          0.001732311095111072,
          0.00013697076065000147,
          0.0013942621881142259,
          0.00040810107020661235,
          0.35648366808891296,
          0.000010975364602927584,
          0.002952138427644968,
          0.21916058659553528,
          0.004352445248514414,
          0.000716045789886266,
          0.0007670047343708575,
          0.4466809630393982,
          3.8901691823411966e-7,
          0.06645642966032028,
          0.002001891378313303,
          0.00007801753235980868,
          0.0000039600840864295606,
          0.004032012540847063,
          0.000006758529707440175,
          0.000003596590886445483,
          0.00013634812785312533,
          0.00002530152596591506,
          0.4748823940753937,
          0.00004043613444082439,
          0.0003097485168837011,
          0.03287595137953758,
          0.0026627485640347004,
          0.01476234383881092,
          0.04422471672296524,
          0.35866719484329224,
          0.008851294405758381,
          0.0014064962742850184,
          0.000705598620697856,
          0.009069355204701424,
          0.016005631536245346,
          0.002358261262997985,
          0.0037550213746726513,
          0.022746820002794266,
          0.035953450947999954,
          0.17865337431430817,
          0.0015596101293340325,
          0.2542080879211426,
          0.000041896240873029456,
          0.00023101629631128162,
          0.11765222251415253,
          0.8707346320152283,
          0.0026502336841076612,
          0.02746783010661602,
          0.5437769889831543,
          0.1730605512857437,
          0.009196234866976738,
          0.00849063228815794,
          0.010045832023024559,
          0.0029733190312981606,
          0.024012355133891106,
          0.5099837183952332,
          0.012304326519370079,
          0.013166104443371296,
          0.0323258638381958,
          0.963427722454071,
          0.9934391379356384,
          0.8902886509895325,
          0.9999994039535522,
          0.009620281867682934,
          0.7977418303489685,
          0.00491289934143424,
          0.9762803912162781,
          0.008159779012203217,
          0.0536252036690712,
          0.00005486975351232104,
          0.0037254251074045897,
          0.6664974689483643,
          0.033539194613695145,
          0.006030906457453966,
          0.013669616542756557,
          0.0014462386025115848,
          0.0316670797765255,
          0.012080718763172626,
          0.009238125756382942,
          0.0024421215057373047,
          0.30783265829086304,
          0.00686200987547636,
          0.11847373098134995,
          0.13938690721988678,
          0.9279705286026001,
          0.9268043041229248,
          0.000034381653676973656,
          0.013669616542756557,
          0.9885895848274231,
          0.08106743544340134,
          0.4764568507671356,
          0.40929660201072693,
          0.030406923964619637,
          0.03503751754760742,
          0.9865983724594116,
          0.802216649055481,
          0.00010899550397880375,
          0.14861372113227844,
          0.0039118495769798756,
          0.00769296009093523,
          0.006520629860460758,
          0.03975473716855049,
          0.00006113610288593918,
          0.9995182156562805,
          0.9998667240142822,
          0.9910380244255066,
          0.3189041316509247,
          0.0017150260973721743,
          0.04608174413442612,
          0.5093574523925781,
          0.021390831097960472,
          0.982828676700592,
          0.21407966315746307,
          0.1351550668478012,
          0.031664229929447174,
          0.00005486975351232104,
          0.010618378408253193,
          0.024012355133891106,
          0.9932966232299805,
          0.9364914894104004,
          0.7815020680427551,
          0.0022464958019554615,
          0.0003328063467051834,
          0.0010531999869272113,
          0.06749142706394196,
          0.0005621089949272573,
          0.018233731389045715,
          0.0639747753739357,
          0.0016953052254393697,
          0.23202747106552124,
          0.005257006268948317,
          0.0007538473000749946,
          0.026714147999882698,
          0.007015019655227661,
          0.010701125487685204,
          0.014079139567911625,
          0.0018291415181010962,
          0.005530328955501318,
          0.027150990441441536,
          0.00009990391845349222,
          0.006733125541359186,
          0.0007991844904609025,
          0.0000016397394801970222,
          0.005568142049014568,
          2.9926232514299045e-7,
          0.004573626909404993,
          0.010855485685169697,
          0.00008793831511866301,
          0.0012479686411097646,
          0.0502677746117115,
          0.13806432485580444,
          0.002250333782285452,
          0.000055774449720047414,
          0.004752677399665117,
          0.0031443601474165916,
          0.003670511767268181,
          0.002552584046497941,
          0.010548131540417671,
          0.023555897176265717,
          0.010920544154942036,
          0.00006221135845407844,
          0.0023200984578579664,
          0.0037849273066967726,
          0.3729747235774994,
          0.11069296300411224,
          0.15068699419498444,
          0.000014923772141628433,
          0.0008127936162054539,
          0.00022391558741219342,
          0.0038051558658480644,
          0.000011469513083284255,
          0.0019460347248241305,
          0.0008424129919148982,
          0.0002440973330521956,
          0.0000385445928259287,
          0.0020704464986920357,
          0.000677840260323137,
          0.000017567592294653878,
          0.00011081249976996332,
          0.006204731296747923,
          0.001380352070555091,
          0.0010449745459482074,
          0.0062025971710681915,
          0.009192047640681267,
          0.09760691225528717,
          0.003309873165562749,
          0.0017623016610741615,
          0.028768667951226234,
          0.000037041558243799955,
          0.03987537696957588,
          0.003501354483887553,
          0.002729137660935521,
          0.0007929685525596142,
          0.000021006624592700973,
          0.02867179363965988,
          0.1753336489200592,
          0.000019811383026535623,
          0.004095354117453098,
          0.00025467356317676604,
          0.0007418621680699289,
          0.00026668727514334023,
          0.000022592430468648672,
          0.00033053476363420486,
          0.000021323772671166807,
          0.006113479845225811,
          0.00007923447992652655,
          0.01040031760931015,
          0.009393131360411644,
          0.00000746010255170404,
          0.000041873550799209625,
          0.004397934302687645,
          0.0000010357199471400236,
          0.00001263169997400837,
          0.00016800864250399172,
          0.000020632158339140005,
          0.009416066110134125,
          0.002490436192601919,
          0.0025921480264514685,
          8.99166423096176e-7,
          0.005048199091106653,
          0.010306082665920258,
          4.2614948370101047e-7,
          0.00013650191249325871,
          0.000012543672710307874,
          0.0408816896378994,
          0.0000617684781900607,
          0.0008256103028543293,
          0.000008358720151591115,
          0.0004735563416033983,
          0.02403169684112072,
          0.002281792229041457,
          0.0008877000072970986,
          0.013310490176081657,
          0.005636392626911402,
          0.02264499105513096,
          0.02838374488055706,
          0.000012005845746898558,
          0.055603645741939545,
          0.004041926469653845,
          0.03288447484374046,
          0.00131025945302099,
          0.0025095173623412848,
          0.28572866320610046,
          0.023293698206543922,
          0.004438243806362152,
          0.007702718023210764,
          0.004059233237057924,
          0.0023014729376882315,
          0.00259450008161366,
          0.02784527838230133,
          0.005596523638814688,
          0.004652742296457291,
          0.004409602377563715,
          0.010680533945560455,
          0.023024719208478928,
          0.02367451600730419,
          0.05208146199584007,
          0.00011765379895223305,
          0.009927374310791492,
          0.0008160643628798425,
          0.000034015603887382895,
          0.010045832023024559,
          0.0037026817444711924,
          0.013166104443371296,
          0.024012355133891106,
          0.04507695510983467,
          0.17850475013256073,
          0.004102266393601894,
          0.00004214416185277514,
          0.0014462386025115848,
          0.029611077159643173,
          0.0348360650241375,
          0.1277475208044052,
          0.03254822641611099,
          0.005980440881103277,
          0.016316376626491547,
          0.0018960797460749745,
          0.09699681401252747,
          0.03519719839096069,
          0.017772937193512917,
          0.09516146779060364,
          0.003260511439293623,
          0.003305906429886818,
          0.034946978092193604,
          0.1962175965309143,
          0.00003432798257563263,
          2.9586499294964597e-7,
          0.003977270796895027,
          0.004868010524660349,
          0.0005868126172572374,
          0.0000010093540367961396,
          0.0002573894744273275,
          0.0006933675613254309,
          0.003641041461378336,
          0.004069560207426548,
          0.005549171939492226,
          0.006378536112606525,
          0.00009427013719687238,
          0.0000045302776925382204,
          0.00015587947564199567,
          0.0000427205377491191,
          0.00002864405541913584,
          0.00043211295269429684,
          0.006878784392029047,
          0.0002133445377694443,
          0.000017113901776610874,
          0.0028015971183776855,
          3.9430545939467265e-8,
          0.008538058958947659,
          0.058896392583847046,
          0.0034662336111068726,
          0.0018073716200888157,
          0.00038662031874991953,
          0.0007464063237421215,
          0.000022413307306123897,
          0.0025739099364727736,
          0.0006027787458151579,
          0.026797614991664886,
          2.2916920272564312e-7,
          0.0012138555757701397,
          0.002505456330254674,
          0.00001914813583425712,
          0.004018254578113556,
          0.0008556293905712664,
          0.00939287431538105,
          0.00010558157373452559,
          0.00020950299222022295,
          0.004476356320083141,
          0.01814168691635132,
          0.00427136430516839,
          0.028302136808633804,
          0.0006096296710893512,
          0.000029058017389615998,
          0.13281971216201782,
          0.025752389803528786,
          0.017937012016773224,
          0.0010807715589180589,
          0.015116666443645954,
          0.004011369775980711,
          0.003337772795930505,
          0.0031478176824748516,
          0.025131652131676674,
          0.002542316447943449,
          0.003135693958029151,
          0.0007794274133630097,
          0.0004176128131803125,
          0.03372260555624962,
          0.012673795223236084,
          0.0344550795853138,
          0.00020194296666886657,
          0.0046190619468688965,
          0.00005839001460117288,
          0.000018190328773926012,
          0.09386773407459259,
          0.027429258450865746,
          0.004709248431026936,
          0.0000780383707024157,
          0.020307034254074097,
          0.00005695128857041709,
          0.06508605182170868,
          0.11703462898731232,
          0.012042013928294182,
          0.0003900790470652282,
          0.996875524520874,
          0.9978877305984497,
          0.9997496604919434,
          0.9961344003677368,
          0.997532069683075,
          0.9942337870597839,
          0.9989931583404541,
          0.9998334050178528,
          0.9999138712882996,
          0.9811416864395142,
          0.9737393260002136,
          0.999915599822998,
          0.999154269695282,
          0.9704936742782593,
          0.9822686910629272,
          0.999688982963562,
          0.9844074249267578,
          0.9784423112869263,
          0.9989826679229736,
          0.975792646408081,
          0.999943196773529,
          0.9998472929000854,
          0.9843465089797974,
          0.9992765784263611,
          0.9985886812210083,
          0.9999980330467224,
          0.9994482398033142,
          0.9868156909942627,
          0.9995101690292358,
          0.9954143762588501,
          0.9999373555183411,
          0.9906128644943237,
          0.9999721050262451,
          0.9991048574447632,
          0.9994075298309326,
          0.9976447224617004,
          0.9772258996963501,
          0.9869979619979858,
          0.9999158978462219,
          0.9984487295150757,
          0.9998887181282043,
          0.9999134540557861,
          0.998695433139801,
          0.9985920190811157,
          0.9999989867210388,
          0.9997495412826538,
          0.9993370175361633,
          0.9965500235557556,
          0.9905357360839844,
          0.9974753260612488,
          0.9994226694107056,
          0.36316102743148804,
          0.999091386795044,
          0.9931173920631409,
          0.9960140585899353,
          0.9998952746391296,
          0.9941291213035583,
          0.9988674521446228,
          0.7256386280059814,
          0.9775259494781494,
          0.9857577085494995,
          1,
          0.9999960660934448,
          0.9998694658279419,
          0.9999992847442627,
          0.9637407064437866,
          0.9831359386444092,
          1,
          0.9979590177536011,
          0.9759289026260376,
          0.9956890344619751,
          0.9747703671455383,
          0.9961888790130615,
          0.9997380375862122,
          0.9828835129737854,
          0.0005184232722967863,
          0.9994137287139893,
          0.9984391927719116,
          0.9978342652320862,
          0.9998980760574341,
          0.9999472498893738,
          0.9989852905273438,
          0.9998080730438232,
          0.9998508095741272,
          0.9073671102523804,
          0.9999774694442749,
          0.9995485544204712,
          0.9807201623916626,
          0.9998462796211243,
          0.9998807311058044,
          0.9999836087226868,
          0.9952587485313416,
          0.9997444748878479,
          0.955922544002533,
          0.9999995827674866,
          0.957450270652771,
          0.9998950958251953,
          0.9998214840888977,
          0.9999449253082275,
          0.9994059801101685,
          0.9988610744476318,
          0.9996170997619629,
          0.9993919730186462,
          0.9787137508392334,
          0.9992721080780029,
          0.9998905062675476,
          0.9991553425788879,
          0.9999918937683105,
          0.999843955039978,
          0.9999336004257202,
          0.9999518394470215,
          0.997687041759491,
          0.9985217452049255,
          0.999660313129425,
          0.9990929961204529,
          0.9997476935386658,
          0.9999361634254456,
          0.9999678134918213,
          0.9999905824661255,
          0.9998505115509033,
          0.944161593914032,
          0.9998418688774109,
          0.9991584420204163,
          0.997445821762085,
          0.998734712600708,
          0.9998003840446472,
          0.9999992251396179,
          0.997201681137085,
          0.9999362826347351,
          0.9910359978675842,
          0.957429051399231,
          0.9846755266189575,
          0.9977312684059143,
          0.9985532164573669,
          0.9962618947029114,
          0.9966485500335693,
          0.9954560399055481,
          0.9992126822471619,
          0.9998436570167542,
          0.9980392456054688,
          0.9994340538978577,
          0.996749997138977,
          0.9995236992835999,
          0.9984681606292725,
          0.9996108412742615,
          0.9994286298751831,
          0.9998174905776978,
          0.9996376037597656,
          0.9891466498374939,
          0.9995156526565552,
          0.927958071231842,
          0.9991917014122009,
          0.9998431205749512,
          0.9867403507232666,
          0.9999554753303528,
          0.9999432563781738,
          0.9854326248168945,
          0.9927953481674194,
          0.9966381192207336,
          0.9979157447814941,
          0.9999995827674866,
          0.9942687153816223,
          0.9999526739120483,
          0.9974563121795654,
          0.9960820078849792,
          0.9922544956207275,
          0.9989085793495178,
          0.9999841451644897,
          0.9631252884864807,
          0.9957676529884338,
          0.9999644756317139,
          0.9983657598495483,
          0.9988943934440613,
          0.9991481900215149,
          0.9997996091842651,
          0.9999678134918213,
          0.999998927116394,
          0.9987661242485046,
          0.9996166229248047,
          0.9993659257888794,
          0.9951765537261963,
          0.9992174506187439,
          0.9985265135765076,
          0.9989191293716431,
          0.9989705681800842,
          0.9994940757751465,
          0.9979293346405029,
          0.9993788003921509,
          0.9963479042053223,
          0.9998730421066284,
          0.9997936487197876,
          0.9999997019767761,
          0.9881368279457092,
          0.9944244027137756,
          0.9991594552993774,
          0.9999723434448242,
          0.9993628859519958,
          0.8157631158828735,
          0.9963057637214661,
          0.9832376837730408,
          0.9962373375892639,
          0.9941636919975281,
          0.9815564155578613,
          0.9999006390571594,
          0.9998372197151184,
          0.9996204376220703,
          0.9993063807487488,
          0.9993902444839478,
          0.9998630285263062,
          0.9738768935203552,
          0.9977264404296875,
          0.9976604580879211,
          0.997654378414154,
          0.9981707334518433,
          0.971925675868988,
          0.9855347871780396,
          0.9627528786659241,
          0.9206646084785461,
          0.9815222024917603,
          0.9826706647872925,
          0.9999141693115234,
          0.9997171759605408,
          0.9901439547538757,
          0.9964809417724609,
          0.9921373128890991,
          0.9986772537231445,
          0.9921867847442627,
          0.99994957447052,
          0.9982767701148987,
          0.9824224710464478,
          0.9978595972061157,
          0.9989537596702576,
          0.9999631643295288,
          0.9979426264762878,
          0.9965618252754211,
          0.9937127232551575,
          0.9772939682006836,
          0.96209716796875,
          0.9885997772216797,
          0.9987509846687317,
          0.9770771265029907,
          0.9960225224494934,
          0.9773287773132324,
          0.9566259384155273,
          0.7681520581245422,
          0.7578810453414917,
          0.9998182654380798,
          0.9994896650314331,
          0.9980485439300537,
          0.9908109307289124,
          0.9975249171257019,
          0.997783899307251,
          0.9949637055397034,
          0.9922857880592346,
          0.906902551651001,
          0.8182631134986877,
          0.9845589399337769,
          0.9301433563232422,
          0.9937114119529724,
          0.5410350561141968,
          0.7945631742477417,
          0.9743515849113464,
          0.9969427585601807,
          0.99893718957901,
          0.9548905491828918,
          0.8969741463661194,
          0.9217853546142578,
          0.9852891564369202,
          0.9941121935844421,
          0.9988808631896973,
          0.9980881810188293,
          0.9975053071975708,
          0.8772205114364624,
          0.9998003244400024,
          0.9998044371604919,
          0.9999611377716064,
          0.9939597249031067,
          0.9960633516311646,
          0.9999934434890747,
          0.9999865293502808,
          0.9810481667518616,
          0.9984316825866699,
          0.9999832510948181,
          0.9999833106994629,
          0.9995577931404114,
          0.999433696269989,
          0.9985604882240295,
          0.9976858496665955,
          0.9989864230155945,
          0.996224582195282,
          0.9347250461578369,
          0.8647297620773315,
          0.9390880465507507,
          0.9536636471748352,
          0.998045027256012,
          0.9803837537765503,
          0.998226523399353,
          0.9979425668716431,
          0.998123288154602,
          0.9736652970314026,
          0.9696111679077148,
          0.989490270614624,
          0.9999578595161438,
          0.999962329864502,
          0.993181049823761,
          0.9979521036148071,
          0.999771773815155,
          0.9992693662643433,
          0.9997929930686951,
          0.9998006224632263,
          0.999972939491272,
          0.9999959468841553,
          0.9999962449073792,
          0.9999990463256836,
          0.9999995827674866,
          0.9999995231628418,
          0.9983735680580139,
          0.9998899102210999,
          0.9894722104072571,
          0.9943757057189941,
          0.8163119554519653,
          0.5691938400268555,
          0.986438512802124,
          0.994887113571167,
          0.9969214797019958,
          0.861027717590332,
          0.9934678077697754,
          0.9956960678100586,
          0.9849601984024048,
          0.9996309280395508,
          0.9999426603317261,
          0.9999716877937317,
          0.9965766668319702,
          0.9997329711914062,
          0.9998777508735657,
          0.969778299331665,
          0.9996262192726135,
          0.9927793145179749,
          0.9998360276222229,
          0.9980973601341248,
          0.9995569586753845,
          0.9895104765892029,
          0.9756839275360107,
          0.9997154474258423,
          0.9998147487640381,
          0.9947006106376648,
          0.9996198415756226,
          0.9566577076911926,
          0.9973191618919373,
          0.999962568283081,
          0.9864047765731812,
          0.9400211572647095,
          0.9999517798423767,
          0.9990553259849548,
          0.9993301630020142,
          0.9961206316947937,
          0.9997303485870361,
          0.9999005198478699,
          0.9991915225982666,
          0.9997568130493164,
          0.9799370765686035,
          0.9982193112373352,
          0.9321810007095337,
          0.9987630844116211,
          0.9887772798538208,
          0.9832639694213867,
          0.8921370506286621,
          0.9864052534103394,
          0.9999443888664246,
          0.9860246777534485,
          0.9922175407409668,
          0.9897792339324951,
          0.9494183659553528,
          0.9318051934242249,
          0.9999955296516418,
          0.9837083220481873,
          0.9999563097953796,
          0.9980083703994751,
          0.9999349117279053,
          0.9205220937728882,
          0.9981189370155334,
          0.9168895483016968,
          0.9996244311332703,
          0.9993658661842346,
          0.9161122441291809,
          0.9989857077598572,
          0.996809720993042,
          0.9995593428611755,
          0.999293327331543,
          0.9965449571609497,
          0.9741246700286865,
          0.9916224479675293,
          0.9999634027481079,
          0.9999158382415771,
          0.9999067783355713,
          0.9980449080467224,
          0.9959627389907837,
          0.8999757766723633,
          0.794795036315918,
          0.9998236298561096,
          0.9996256232261658,
          0.9998819828033447,
          0.9999023675918579,
          0.9528246521949768,
          0.9977142810821533,
          0.9978535175323486,
          0.9979899525642395,
          0.9809455275535583,
          0.9997102618217468,
          0.9999672770500183,
          0.982723593711853,
          0.9902946352958679,
          0.9996277689933777,
          0.9999886155128479,
          0.9999305605888367,
          0.9998403191566467,
          0.9999819397926331,
          0.9987238645553589,
          0.9996837973594666,
          0.9999905824661255,
          0.9999239444732666,
          0.9999898076057434,
          0.9999916553497314,
          0.9999836087226868,
          0.9999114274978638,
          0.9999923706054688,
          0.9994834065437317,
          0.9201695919036865,
          0.999733567237854,
          0.9994664788246155,
          0.9999650120735168,
          0.9916776418685913,
          0.9013655185699463,
          0.9999318718910217,
          0.9951238036155701,
          0.9947270154953003,
          0.9695122241973877,
          0.9158646464347839,
          0.9998304843902588,
          0.989751935005188,
          0.8794794678688049,
          0.9998319149017334,
          0.9999847412109375,
          0.9998811483383179,
          0.9989461302757263,
          0.9998674392700195,
          0.9999253153800964,
          0.996059000492096,
          0.9999977946281433,
          0.9994413256645203,
          0.9992594718933105,
          0.9991106390953064,
          0.999627411365509,
          0.9999565482139587,
          0.9997029304504395,
          0.9999064207077026,
          0.9992752075195312,
          0.9995179772377014,
          0.9999974370002747,
          0.9999715089797974,
          0.9949051737785339,
          0.9804060459136963,
          0.9858146905899048,
          0.999862790107727,
          0.9992392063140869,
          0.990533173084259,
          0.9942115545272827,
          0.9992037415504456,
          0.999823272228241,
          0.9965009093284607,
          0.9981440305709839,
          0.9999852776527405,
          0.9999729990959167,
          0.99400395154953,
          0.9949426651000977,
          0.999618411064148,
          0.9402119517326355,
          0.9999710321426392,
          0.9999995827674866,
          0.9999963641166687,
          0.999681293964386,
          0.9999216198921204,
          0.9998939633369446,
          0.9471848011016846,
          0.9878785610198975,
          0.9970303773880005,
          1,
          0.851882815361023,
          0.9775259494781494,
          0.9988810420036316,
          0.9976640343666077,
          0.9998667240142822,
          0.9994802474975586,
          0.9789003729820251,
          0.9916501641273499,
          0.9725407361984253,
          0.9998694658279419,
          0.9999992847442627,
          0.9866287708282471,
          0.9983737468719482,
          0.9956890344619751,
          0.979597806930542,
          0.9999906420707703,
          0.9999951124191284,
          0.9590614438056946,
          0.9970629215240479,
          0.9186894297599792,
          0.9611456990242004,
          0.9605829119682312,
          0.9919096827507019,
          0.9811193943023682,
          0.9978539943695068,
          0.9999089241027832,
          0.9908196926116943,
          0.0005184232722967863,
          0.9922178387641907,
          0.9997851252555847,
          0.705917477607727,
          0.9989403486251831,
          0.9991869330406189,
          0.9994622468948364,
          0.7256386280059814,
          0.9850883483886719,
          0.9998869895935059,
          0.9998946189880371,
          0.9999992251396179,
          0.999340295791626,
          0.9998103380203247,
          0.9993739724159241,
          0.9999581575393677,
          0.9966272115707397,
          0.9997689723968506,
          0.9999725222587585,
          0.9998605251312256,
          0.9998825788497925,
          0.997550904750824,
          0.9990737438201904,
          0.9991579055786133,
          0.9999914169311523,
          0.9976434111595154,
          0.9999549984931946,
          0.9995733499526978,
          0.9954614639282227,
          0.9989282488822937,
          0.997403085231781,
          0.9994218349456787,
          0.9999999403953552,
          0.9999856352806091,
          0.9999772906303406,
          0.9999226927757263,
          0.9990776181221008,
          0.9989839196205139,
          0.9997928142547607,
          0.9993563890457153,
          0.9915333390235901,
          0.9653608202934265,
          0.6891435384750366,
          0.026255792006850243,
          0.9981663227081299,
          0.9999462366104126,
          0.9971522092819214,
          0.9973791837692261,
          0.9974545240402222,
          0.9997939467430115,
          0.9996532201766968,
          0.9998081922531128,
          0.9460796117782593,
          0.9948267340660095,
          0.9995750188827515,
          0.9999986290931702,
          0.9994080066680908,
          0.9998576045036316,
          0.9998427629470825,
          0.999940037727356,
          0.9995983839035034,
          0.9990745782852173,
          0.9999496936798096,
          0.8737571239471436,
          0.921417236328125,
          0.9951484799385071,
          0.9996609091758728,
          0.9868268370628357,
          0.9999938011169434,
          0.903467059135437,
          0.6982148885726929,
          0.9527021646499634,
          0.999805212020874,
          0.9659412503242493,
          0.9425108432769775,
          0.99842768907547,
          0.9995929002761841,
          0.9961079955101013,
          0.9986491799354553,
          0.9999493956565857,
          0.9996702075004578,
          0.9955443143844604,
          0.9511054754257202,
          0.9956163167953491,
          0.9991479516029358,
          0.9971041083335876,
          0.9983934164047241,
          0.9822165966033936,
          0.9990127682685852,
          0.9986396431922913,
          0.9999626278877258,
          0.9998456239700317,
          0.9983851909637451,
          0.9996339082717896,
          0.9967451691627502,
          0.9999563694000244,
          0.99835205078125,
          0.997361958026886,
          0.996432900428772,
          0.9996782541275024,
          0.9995816946029663,
          0.9999431371688843,
          0.9949848651885986,
          0.996731698513031,
          0.9973137974739075,
          0.9997262954711914,
          0.9973793029785156,
          0.9997056126594543,
          0.9931405782699585,
          0.9999201893806458,
          0.9999994039535522,
          0.9999971985816956,
          0.9999367594718933,
          0.9999595880508423,
          0.991904616355896,
          0.9998207688331604,
          0.9999101758003235,
          0.9959354996681213,
          0.9999954104423523,
          0.9993935227394104,
          0.9982357621192932,
          0.9999204874038696,
          0.9990665912628174,
          0.9999246001243591,
          0.99944007396698,
          0.9999580383300781,
          0.9989029765129089,
          0.9995049834251404,
          0.9990979433059692,
          0.9999926090240479,
          0.9999514222145081,
          0.9999405741691589,
          0.9999832510948181,
          0.9999990463256836,
          0.9999003410339355,
          0.9984094500541687,
          0.9985274076461792,
          0.9997570514678955,
          0.9977269768714905,
          0.9999080896377563,
          0.9999993443489075,
          0.9998174905776978,
          0.9839610457420349,
          0.9999722838401794,
          0.9996181726455688,
          0.9999714493751526,
          0.9999388456344604,
          0.9998127818107605,
          0.9998731017112732,
          0.9999759197235107,
          0.9942948818206787,
          0.9994730353355408,
          0.9957953691482544,
          0.9995543956756592,
          0.9493465423583984,
          0.9998154044151306,
          0.9996278285980225,
          0.9979850649833679,
          0.9999538660049438,
          0.9993971586227417,
          0.9958387017250061,
          0.9986082315444946,
          0.998519241809845,
          0.995032787322998,
          0.9999040365219116,
          0.997279167175293,
          0.9969421029090881,
          0.9999955296516418,
          0.9999789595603943,
          0.973796546459198,
          0.9996449947357178,
          0.999957799911499,
          0.9969943165779114,
          0.9994680285453796,
          0.999912440776825,
          0.993328869342804,
          0.9999253749847412,
          0.9995490312576294,
          0.9994513392448425,
          0.9996241927146912,
          0.999382495880127,
          0.9998485445976257,
          0.9998915791511536,
          0.9975185394287109,
          0.9994872212409973,
          0.999822199344635,
          0.9980901479721069,
          0.9992271661758423,
          0.9999348521232605,
          0.999991238117218,
          0.9921008348464966,
          0.9996297359466553,
          0.999824583530426,
          0.9999402165412903,
          0.9509216547012329,
          0.9998714923858643,
          0.9999696016311646,
          0.994645893573761,
          0.9965564012527466,
          0.9994190335273743,
          0.9965935349464417,
          0.9999240636825562,
          0.9989773631095886,
          0.9999911189079285,
          0.9990014433860779,
          0.9999052882194519,
          0.9992502331733704,
          0.9984725117683411,
          0.9994109272956848,
          0.9971204996109009,
          0.9976391196250916,
          0.9999998807907104,
          0.9712091088294983,
          0.9880406856536865,
          0.9999791383743286,
          0.9995872974395752,
          0.9998361468315125,
          0.9999139904975891,
          0.999847412109375,
          0.9999996423721313,
          0.962689995765686,
          0.9807944893836975,
          0.9846286773681641,
          0.9788060188293457,
          0.8931030035018921,
          0.9960016012191772,
          0.9994302988052368,
          0.9958229660987854,
          0.9994211196899414,
          0.9993929266929626,
          0.9999275803565979,
          0.904705286026001,
          0.9980358481407166,
          0.9999856948852539,
          0.999808669090271,
          0.9999492168426514,
          0.9994436502456665,
          0.9999370574951172,
          0.9974339008331299,
          0.998771607875824,
          0.9926866888999939,
          0.9976679682731628,
          0.9990804195404053,
          0.9993170499801636,
          0.9999823570251465,
          0.9997963309288025,
          0.9941328763961792,
          0.9999922513961792,
          0.9840138554573059,
          0.9996991157531738,
          0.9998647570610046,
          0.9999644160270691,
          0.9975053668022156,
          0.9956094622612,
          0.9948960542678833,
          0.9935843348503113,
          0.9998349547386169,
          0.9999997019767761,
          0.999542772769928,
          0.9779072999954224,
          0.9985801577568054,
          0.9845468401908875,
          0.9411067366600037,
          0.9903531074523926,
          0.9671517014503479,
          0.9965360164642334,
          0.9998824000358582,
          0.9998921155929565,
          0.9999911189079285,
          0.9999669790267944,
          0.9857303500175476,
          0.9997611045837402,
          0.9999263882637024,
          0.9998087286949158,
          0.9869562983512878,
          0.9981640577316284,
          0.9961233139038086,
          0.9990474581718445,
          0.999630331993103,
          0.9999518394470215,
          0.9485352039337158,
          0.8748849034309387,
          0.9980090856552124,
          0.9984676837921143,
          0.9966363310813904,
          0.9997633695602417,
          0.9999433755874634,
          0.9998593926429749,
          0.9918175935745239,
          0.9901047945022583,
          0.9997513294219971,
          0.9999111890792847,
          0.975763738155365,
          0.9654451012611389,
          0.9995349645614624,
          0.9993270635604858,
          0.999435544013977,
          0.991693913936615,
          0.9960490465164185,
          0.9999978542327881,
          0.9989936947822571,
          0.9992265105247498,
          0.9975502490997314,
          0.9981096386909485,
          0.9973447918891907,
          0.9881584048271179,
          0.9992860555648804,
          0.9608883261680603,
          0.9979501366615295,
          0.9999704957008362,
          0.999029278755188,
          0.9998633861541748,
          0.9995147585868835,
          0.9992169737815857,
          0.9978055953979492,
          0.9998899698257446,
          0.915517270565033,
          0.998965859413147,
          0.9999794363975525,
          0.9988715648651123,
          0.9905192852020264,
          0.9859464168548584,
          0.9999985098838806,
          0.9999961256980896,
          0.999970555305481,
          0.9936611652374268,
          0.9997102618217468,
          0.9374916553497314,
          0.9986839890480042,
          0.991992712020874,
          0.9994308948516846,
          0.9979609847068787,
          0.9956707954406738,
          0.9444120526313782,
          0.996652364730835,
          0.9897348880767822,
          0.9998753070831299,
          0.9897648096084595,
          0.9981552362442017,
          0.9998771548271179,
          0.9991052150726318,
          0.9706711769104004,
          0.9979427456855774,
          0.9986242651939392,
          0.998773992061615,
          0.9993144273757935,
          0.9999415278434753,
          0.9999996423721313,
          0.9991455674171448,
          0.9970727562904358,
          0.9994396567344666,
          0.9986867904663086,
          0.9884160161018372,
          0.9892235994338989,
          0.9996635317802429,
          0.9995476603507996,
          0.9994615912437439,
          0.9869492053985596,
          0.9959617257118225,
          0.9990326166152954,
          0.9999255537986755,
          0.9998283386230469,
          0.9996017217636108,
          0.9989946484565735,
          0.9997831583023071,
          0.9999546408653259,
          0.9954771399497986,
          0.9996397495269775,
          0.9967114925384521,
          0.9999952912330627,
          0.9991211295127869,
          0.9939976930618286,
          0.9999364614486694,
          0.9681093096733093,
          0.996313750743866,
          0.9999772310256958,
          0.9988183379173279,
          0.9982432126998901,
          0.998344361782074,
          0.9903466105461121,
          0.986276388168335,
          0.9997405409812927,
          0.990765392780304,
          0.9999927282333374,
          0.9963780045509338,
          0.9967381358146667,
          0.9999997019767761,
          0.9997159242630005,
          0.9900888204574585,
          0.99991375207901,
          0.9974092841148376,
          0.9992690682411194,
          0.9999637007713318,
          0.9992296099662781,
          0.9985104203224182,
          0.999809741973877,
          0.9775275588035583,
          0.9916282296180725,
          0.998706042766571,
          0.9991264939308167,
          0.9999614953994751,
          0.9999831914901733,
          0.9732246994972229,
          0.9234809279441833,
          0.9975255131721497,
          0.9965240359306335,
          0.9995806813240051,
          0.9907808899879456,
          0.994478702545166,
          0.9995354413986206,
          0.9999841451644897,
          0.9999918341636658,
          0.9999840259552002,
          0.9999932646751404,
          0.9973644018173218,
          0.9999966621398926,
          0.9998046159744263,
          0.8305493593215942,
          0.9574798941612244,
          0.9999858736991882,
          0.9991092681884766,
          0.9999219179153442,
          0.9705245494842529,
          0.9897212982177734,
          0.994880735874176,
          0.9958223104476929,
          0.9981163740158081,
          0.9998000264167786,
          0.9984520673751831,
          0.9970869421958923,
          0.9977771043777466,
          0.999961256980896,
          0.999772310256958,
          0.9989114999771118,
          0.9987374544143677,
          0.9998472332954407,
          0.9995661377906799,
          0.9996589422225952,
          0.9848079681396484,
          0.9965282082557678,
          0.999656617641449,
          0.9822994470596313,
          0.9959323406219482,
          0.9997268319129944,
          0.9994515180587769,
          0.9934106469154358,
          0.9968371987342834,
          0.995789110660553,
          0.9870265126228333,
          0.9940064549446106,
          0.9888566732406616,
          0.9998759031295776,
          0.9962834119796753,
          0.9999793171882629,
          0.999954342842102,
          0.9999597072601318,
          0.9983730912208557,
          0.9991322159767151,
          0.995384931564331,
          0.9412599205970764,
          0.9693009853363037,
          0.998744785785675,
          0.9981532692909241,
          0.9986062049865723,
          0.9993032217025757,
          0.9995783567428589,
          0.9995887875556946,
          0.9999222159385681,
          0.9999368786811829,
          0.9999419450759888,
          0.9999458193778992,
          0.9997859597206116,
          0.9999087452888489,
          0.9998459815979004,
          0.9999643564224243,
          0.9999999403953552,
          0.9689362049102783,
          0.9884926080703735,
          0.995597243309021,
          0.9706029891967773,
          0.9973097443580627,
          0.9999575018882751,
          0.999992847442627,
          0.9998483061790466,
          0.9999198317527771,
          0.9954077005386353,
          0.9997192621231079,
          0.9985437393188477,
          0.9977304339408875,
          0.9942708015441895,
          0.9979206323623657,
          0.9983764290809631,
          0.9952948689460754,
          0.9905152320861816,
          0.9989334344863892,
          0.9978543519973755,
          0.00963534414768219,
          0.7974582314491272,
          0.011128323152661324,
          0.9734457731246948,
          0.9857929348945618,
          0.026481950655579567,
          0.5300952196121216,
          0.9807013869285583,
          0.5022541880607605,
          0.785900890827179,
          0.7564372420310974
         ],
         "xaxis": "x",
         "yaxis": "y"
        }
       ],
       "layout": {
        "barmode": "relative",
        "legend": {
         "title": {
          "text": "variable"
         },
         "tracegroupgap": 0
        },
        "margin": {
         "t": 60
        },
        "template": {
         "data": {
          "bar": [
           {
            "error_x": {
             "color": "#2a3f5f"
            },
            "error_y": {
             "color": "#2a3f5f"
            },
            "marker": {
             "line": {
              "color": "#E5ECF6",
              "width": 0.5
             },
             "pattern": {
              "fillmode": "overlay",
              "size": 10,
              "solidity": 0.2
             }
            },
            "type": "bar"
           }
          ],
          "barpolar": [
           {
            "marker": {
             "line": {
              "color": "#E5ECF6",
              "width": 0.5
             },
             "pattern": {
              "fillmode": "overlay",
              "size": 10,
              "solidity": 0.2
             }
            },
            "type": "barpolar"
           }
          ],
          "carpet": [
           {
            "aaxis": {
             "endlinecolor": "#2a3f5f",
             "gridcolor": "white",
             "linecolor": "white",
             "minorgridcolor": "white",
             "startlinecolor": "#2a3f5f"
            },
            "baxis": {
             "endlinecolor": "#2a3f5f",
             "gridcolor": "white",
             "linecolor": "white",
             "minorgridcolor": "white",
             "startlinecolor": "#2a3f5f"
            },
            "type": "carpet"
           }
          ],
          "choropleth": [
           {
            "colorbar": {
             "outlinewidth": 0,
             "ticks": ""
            },
            "type": "choropleth"
           }
          ],
          "contour": [
           {
            "colorbar": {
             "outlinewidth": 0,
             "ticks": ""
            },
            "colorscale": [
             [
              0,
              "#0d0887"
             ],
             [
              0.1111111111111111,
              "#46039f"
             ],
             [
              0.2222222222222222,
              "#7201a8"
             ],
             [
              0.3333333333333333,
              "#9c179e"
             ],
             [
              0.4444444444444444,
              "#bd3786"
             ],
             [
              0.5555555555555556,
              "#d8576b"
             ],
             [
              0.6666666666666666,
              "#ed7953"
             ],
             [
              0.7777777777777778,
              "#fb9f3a"
             ],
             [
              0.8888888888888888,
              "#fdca26"
             ],
             [
              1,
              "#f0f921"
             ]
            ],
            "type": "contour"
           }
          ],
          "contourcarpet": [
           {
            "colorbar": {
             "outlinewidth": 0,
             "ticks": ""
            },
            "type": "contourcarpet"
           }
          ],
          "heatmap": [
           {
            "colorbar": {
             "outlinewidth": 0,
             "ticks": ""
            },
            "colorscale": [
             [
              0,
              "#0d0887"
             ],
             [
              0.1111111111111111,
              "#46039f"
             ],
             [
              0.2222222222222222,
              "#7201a8"
             ],
             [
              0.3333333333333333,
              "#9c179e"
             ],
             [
              0.4444444444444444,
              "#bd3786"
             ],
             [
              0.5555555555555556,
              "#d8576b"
             ],
             [
              0.6666666666666666,
              "#ed7953"
             ],
             [
              0.7777777777777778,
              "#fb9f3a"
             ],
             [
              0.8888888888888888,
              "#fdca26"
             ],
             [
              1,
              "#f0f921"
             ]
            ],
            "type": "heatmap"
           }
          ],
          "heatmapgl": [
           {
            "colorbar": {
             "outlinewidth": 0,
             "ticks": ""
            },
            "colorscale": [
             [
              0,
              "#0d0887"
             ],
             [
              0.1111111111111111,
              "#46039f"
             ],
             [
              0.2222222222222222,
              "#7201a8"
             ],
             [
              0.3333333333333333,
              "#9c179e"
             ],
             [
              0.4444444444444444,
              "#bd3786"
             ],
             [
              0.5555555555555556,
              "#d8576b"
             ],
             [
              0.6666666666666666,
              "#ed7953"
             ],
             [
              0.7777777777777778,
              "#fb9f3a"
             ],
             [
              0.8888888888888888,
              "#fdca26"
             ],
             [
              1,
              "#f0f921"
             ]
            ],
            "type": "heatmapgl"
           }
          ],
          "histogram": [
           {
            "marker": {
             "pattern": {
              "fillmode": "overlay",
              "size": 10,
              "solidity": 0.2
             }
            },
            "type": "histogram"
           }
          ],
          "histogram2d": [
           {
            "colorbar": {
             "outlinewidth": 0,
             "ticks": ""
            },
            "colorscale": [
             [
              0,
              "#0d0887"
             ],
             [
              0.1111111111111111,
              "#46039f"
             ],
             [
              0.2222222222222222,
              "#7201a8"
             ],
             [
              0.3333333333333333,
              "#9c179e"
             ],
             [
              0.4444444444444444,
              "#bd3786"
             ],
             [
              0.5555555555555556,
              "#d8576b"
             ],
             [
              0.6666666666666666,
              "#ed7953"
             ],
             [
              0.7777777777777778,
              "#fb9f3a"
             ],
             [
              0.8888888888888888,
              "#fdca26"
             ],
             [
              1,
              "#f0f921"
             ]
            ],
            "type": "histogram2d"
           }
          ],
          "histogram2dcontour": [
           {
            "colorbar": {
             "outlinewidth": 0,
             "ticks": ""
            },
            "colorscale": [
             [
              0,
              "#0d0887"
             ],
             [
              0.1111111111111111,
              "#46039f"
             ],
             [
              0.2222222222222222,
              "#7201a8"
             ],
             [
              0.3333333333333333,
              "#9c179e"
             ],
             [
              0.4444444444444444,
              "#bd3786"
             ],
             [
              0.5555555555555556,
              "#d8576b"
             ],
             [
              0.6666666666666666,
              "#ed7953"
             ],
             [
              0.7777777777777778,
              "#fb9f3a"
             ],
             [
              0.8888888888888888,
              "#fdca26"
             ],
             [
              1,
              "#f0f921"
             ]
            ],
            "type": "histogram2dcontour"
           }
          ],
          "mesh3d": [
           {
            "colorbar": {
             "outlinewidth": 0,
             "ticks": ""
            },
            "type": "mesh3d"
           }
          ],
          "parcoords": [
           {
            "line": {
             "colorbar": {
              "outlinewidth": 0,
              "ticks": ""
             }
            },
            "type": "parcoords"
           }
          ],
          "pie": [
           {
            "automargin": true,
            "type": "pie"
           }
          ],
          "scatter": [
           {
            "fillpattern": {
             "fillmode": "overlay",
             "size": 10,
             "solidity": 0.2
            },
            "type": "scatter"
           }
          ],
          "scatter3d": [
           {
            "line": {
             "colorbar": {
              "outlinewidth": 0,
              "ticks": ""
             }
            },
            "marker": {
             "colorbar": {
              "outlinewidth": 0,
              "ticks": ""
             }
            },
            "type": "scatter3d"
           }
          ],
          "scattercarpet": [
           {
            "marker": {
             "colorbar": {
              "outlinewidth": 0,
              "ticks": ""
             }
            },
            "type": "scattercarpet"
           }
          ],
          "scattergeo": [
           {
            "marker": {
             "colorbar": {
              "outlinewidth": 0,
              "ticks": ""
             }
            },
            "type": "scattergeo"
           }
          ],
          "scattergl": [
           {
            "marker": {
             "colorbar": {
              "outlinewidth": 0,
              "ticks": ""
             }
            },
            "type": "scattergl"
           }
          ],
          "scattermapbox": [
           {
            "marker": {
             "colorbar": {
              "outlinewidth": 0,
              "ticks": ""
             }
            },
            "type": "scattermapbox"
           }
          ],
          "scatterpolar": [
           {
            "marker": {
             "colorbar": {
              "outlinewidth": 0,
              "ticks": ""
             }
            },
            "type": "scatterpolar"
           }
          ],
          "scatterpolargl": [
           {
            "marker": {
             "colorbar": {
              "outlinewidth": 0,
              "ticks": ""
             }
            },
            "type": "scatterpolargl"
           }
          ],
          "scatterternary": [
           {
            "marker": {
             "colorbar": {
              "outlinewidth": 0,
              "ticks": ""
             }
            },
            "type": "scatterternary"
           }
          ],
          "surface": [
           {
            "colorbar": {
             "outlinewidth": 0,
             "ticks": ""
            },
            "colorscale": [
             [
              0,
              "#0d0887"
             ],
             [
              0.1111111111111111,
              "#46039f"
             ],
             [
              0.2222222222222222,
              "#7201a8"
             ],
             [
              0.3333333333333333,
              "#9c179e"
             ],
             [
              0.4444444444444444,
              "#bd3786"
             ],
             [
              0.5555555555555556,
              "#d8576b"
             ],
             [
              0.6666666666666666,
              "#ed7953"
             ],
             [
              0.7777777777777778,
              "#fb9f3a"
             ],
             [
              0.8888888888888888,
              "#fdca26"
             ],
             [
              1,
              "#f0f921"
             ]
            ],
            "type": "surface"
           }
          ],
          "table": [
           {
            "cells": {
             "fill": {
              "color": "#EBF0F8"
             },
             "line": {
              "color": "white"
             }
            },
            "header": {
             "fill": {
              "color": "#C8D4E3"
             },
             "line": {
              "color": "white"
             }
            },
            "type": "table"
           }
          ]
         },
         "layout": {
          "annotationdefaults": {
           "arrowcolor": "#2a3f5f",
           "arrowhead": 0,
           "arrowwidth": 1
          },
          "autotypenumbers": "strict",
          "coloraxis": {
           "colorbar": {
            "outlinewidth": 0,
            "ticks": ""
           }
          },
          "colorscale": {
           "diverging": [
            [
             0,
             "#8e0152"
            ],
            [
             0.1,
             "#c51b7d"
            ],
            [
             0.2,
             "#de77ae"
            ],
            [
             0.3,
             "#f1b6da"
            ],
            [
             0.4,
             "#fde0ef"
            ],
            [
             0.5,
             "#f7f7f7"
            ],
            [
             0.6,
             "#e6f5d0"
            ],
            [
             0.7,
             "#b8e186"
            ],
            [
             0.8,
             "#7fbc41"
            ],
            [
             0.9,
             "#4d9221"
            ],
            [
             1,
             "#276419"
            ]
           ],
           "sequential": [
            [
             0,
             "#0d0887"
            ],
            [
             0.1111111111111111,
             "#46039f"
            ],
            [
             0.2222222222222222,
             "#7201a8"
            ],
            [
             0.3333333333333333,
             "#9c179e"
            ],
            [
             0.4444444444444444,
             "#bd3786"
            ],
            [
             0.5555555555555556,
             "#d8576b"
            ],
            [
             0.6666666666666666,
             "#ed7953"
            ],
            [
             0.7777777777777778,
             "#fb9f3a"
            ],
            [
             0.8888888888888888,
             "#fdca26"
            ],
            [
             1,
             "#f0f921"
            ]
           ],
           "sequentialminus": [
            [
             0,
             "#0d0887"
            ],
            [
             0.1111111111111111,
             "#46039f"
            ],
            [
             0.2222222222222222,
             "#7201a8"
            ],
            [
             0.3333333333333333,
             "#9c179e"
            ],
            [
             0.4444444444444444,
             "#bd3786"
            ],
            [
             0.5555555555555556,
             "#d8576b"
            ],
            [
             0.6666666666666666,
             "#ed7953"
            ],
            [
             0.7777777777777778,
             "#fb9f3a"
            ],
            [
             0.8888888888888888,
             "#fdca26"
            ],
            [
             1,
             "#f0f921"
            ]
           ]
          },
          "colorway": [
           "#636efa",
           "#EF553B",
           "#00cc96",
           "#ab63fa",
           "#FFA15A",
           "#19d3f3",
           "#FF6692",
           "#B6E880",
           "#FF97FF",
           "#FECB52"
          ],
          "font": {
           "color": "#2a3f5f"
          },
          "geo": {
           "bgcolor": "white",
           "lakecolor": "white",
           "landcolor": "#E5ECF6",
           "showlakes": true,
           "showland": true,
           "subunitcolor": "white"
          },
          "hoverlabel": {
           "align": "left"
          },
          "hovermode": "closest",
          "mapbox": {
           "style": "light"
          },
          "paper_bgcolor": "white",
          "plot_bgcolor": "#E5ECF6",
          "polar": {
           "angularaxis": {
            "gridcolor": "white",
            "linecolor": "white",
            "ticks": ""
           },
           "bgcolor": "#E5ECF6",
           "radialaxis": {
            "gridcolor": "white",
            "linecolor": "white",
            "ticks": ""
           }
          },
          "scene": {
           "xaxis": {
            "backgroundcolor": "#E5ECF6",
            "gridcolor": "white",
            "gridwidth": 2,
            "linecolor": "white",
            "showbackground": true,
            "ticks": "",
            "zerolinecolor": "white"
           },
           "yaxis": {
            "backgroundcolor": "#E5ECF6",
            "gridcolor": "white",
            "gridwidth": 2,
            "linecolor": "white",
            "showbackground": true,
            "ticks": "",
            "zerolinecolor": "white"
           },
           "zaxis": {
            "backgroundcolor": "#E5ECF6",
            "gridcolor": "white",
            "gridwidth": 2,
            "linecolor": "white",
            "showbackground": true,
            "ticks": "",
            "zerolinecolor": "white"
           }
          },
          "shapedefaults": {
           "line": {
            "color": "#2a3f5f"
           }
          },
          "ternary": {
           "aaxis": {
            "gridcolor": "white",
            "linecolor": "white",
            "ticks": ""
           },
           "baxis": {
            "gridcolor": "white",
            "linecolor": "white",
            "ticks": ""
           },
           "bgcolor": "#E5ECF6",
           "caxis": {
            "gridcolor": "white",
            "linecolor": "white",
            "ticks": ""
           }
          },
          "title": {
           "x": 0.05
          },
          "xaxis": {
           "automargin": true,
           "gridcolor": "white",
           "linecolor": "white",
           "ticks": "",
           "title": {
            "standoff": 15
           },
           "zerolinecolor": "white",
           "zerolinewidth": 2
          },
          "yaxis": {
           "automargin": true,
           "gridcolor": "white",
           "linecolor": "white",
           "ticks": "",
           "title": {
            "standoff": 15
           },
           "zerolinecolor": "white",
           "zerolinewidth": 2
          }
         }
        },
        "xaxis": {
         "anchor": "y",
         "domain": [
          0,
          1
         ],
         "title": {
          "text": "value"
         }
        },
        "yaxis": {
         "anchor": "x",
         "domain": [
          0,
          1
         ],
         "title": {
          "text": "count"
         }
        }
       }
      }
     },
     "metadata": {},
     "output_type": "display_data"
    }
   ],
   "source": [
    "import plotly.express as px\n",
    "p = fc_model.predict(x_test)\n",
    "hist= px.histogram(p)\n",
    "hist.show()"
   ]
  },
  {
   "cell_type": "markdown",
   "metadata": {},
   "source": [
    "## 3.3. Red Neuronal Convolucional"
   ]
  },
  {
   "cell_type": "code",
   "execution_count": 82,
   "metadata": {},
   "outputs": [
    {
     "name": "stderr",
     "output_type": "stream",
     "text": [
      "c:\\Analitica 3\\brain-tumor-detection\\environment\\Lib\\site-packages\\keras\\src\\layers\\convolutional\\base_conv.py:107: UserWarning:\n",
      "\n",
      "Do not pass an `input_shape`/`input_dim` argument to a layer. When using Sequential models, prefer using an `Input(shape)` object as the first layer in the model instead.\n",
      "\n"
     ]
    }
   ],
   "source": [
    "model = tf.keras.Sequential([\n",
    "    tf.keras.layers.Conv2D(16, kernel_size=(3, 3), activation='relu', input_shape=x_train.shape[1:]),\n",
    "    tf.keras.layers.MaxPooling2D(pool_size=(2, 2)),\n",
    "    tf.keras.layers.Conv2D(32, kernel_size=(3, 3), activation='relu'),\n",
    "    tf.keras.layers.MaxPooling2D(pool_size=(2, 2)),\n",
    "    tf.keras.layers.Flatten(),\n",
    "    tf.keras.layers.Dense(64, activation='relu'),\n",
    "    tf.keras.layers.Dense(1, activation='sigmoid')\n",
    "])"
   ]
  },
  {
   "cell_type": "code",
   "execution_count": 83,
   "metadata": {},
   "outputs": [],
   "source": [
    "# Compile the model with binary cross-entropy loss and Adam optimizer\n",
    "model.compile(loss='binary_crossentropy', optimizer='adam', metrics=['AUC'])"
   ]
  },
  {
   "cell_type": "code",
   "execution_count": 84,
   "metadata": {},
   "outputs": [
    {
     "name": "stdout",
     "output_type": "stream",
     "text": [
      "Epoch 1/10\n",
      "\u001b[1m70/70\u001b[0m \u001b[32m━━━━━━━━━━━━━━━━━━━━\u001b[0m\u001b[37m\u001b[0m \u001b[1m13s\u001b[0m 153ms/step - AUC: 0.8530 - loss: 0.4558 - val_AUC: 0.9867 - val_loss: 0.1449\n",
      "Epoch 2/10\n",
      "\u001b[1m70/70\u001b[0m \u001b[32m━━━━━━━━━━━━━━━━━━━━\u001b[0m\u001b[37m\u001b[0m \u001b[1m11s\u001b[0m 153ms/step - AUC: 0.9881 - loss: 0.1335 - val_AUC: 0.9923 - val_loss: 0.1000\n",
      "Epoch 3/10\n",
      "\u001b[1m70/70\u001b[0m \u001b[32m━━━━━━━━━━━━━━━━━━━━\u001b[0m\u001b[37m\u001b[0m \u001b[1m11s\u001b[0m 152ms/step - AUC: 0.9938 - loss: 0.0907 - val_AUC: 0.9941 - val_loss: 0.0806\n",
      "Epoch 4/10\n",
      "\u001b[1m70/70\u001b[0m \u001b[32m━━━━━━━━━━━━━━━━━━━━\u001b[0m\u001b[37m\u001b[0m \u001b[1m11s\u001b[0m 153ms/step - AUC: 0.9979 - loss: 0.0518 - val_AUC: 0.9915 - val_loss: 0.0949\n",
      "Epoch 5/10\n",
      "\u001b[1m70/70\u001b[0m \u001b[32m━━━━━━━━━━━━━━━━━━━━\u001b[0m\u001b[37m\u001b[0m \u001b[1m11s\u001b[0m 152ms/step - AUC: 0.9989 - loss: 0.0405 - val_AUC: 0.9961 - val_loss: 0.0569\n",
      "Epoch 6/10\n",
      "\u001b[1m70/70\u001b[0m \u001b[32m━━━━━━━━━━━━━━━━━━━━\u001b[0m\u001b[37m\u001b[0m \u001b[1m11s\u001b[0m 151ms/step - AUC: 0.9994 - loss: 0.0289 - val_AUC: 0.9946 - val_loss: 0.0559\n",
      "Epoch 7/10\n",
      "\u001b[1m70/70\u001b[0m \u001b[32m━━━━━━━━━━━━━━━━━━━━\u001b[0m\u001b[37m\u001b[0m \u001b[1m11s\u001b[0m 153ms/step - AUC: 0.9999 - loss: 0.0101 - val_AUC: 0.9954 - val_loss: 0.0468\n",
      "Epoch 8/10\n",
      "\u001b[1m70/70\u001b[0m \u001b[32m━━━━━━━━━━━━━━━━━━━━\u001b[0m\u001b[37m\u001b[0m \u001b[1m11s\u001b[0m 151ms/step - AUC: 1.0000 - loss: 0.0088 - val_AUC: 0.9957 - val_loss: 0.0502\n",
      "Epoch 9/10\n",
      "\u001b[1m70/70\u001b[0m \u001b[32m━━━━━━━━━━━━━━━━━━━━\u001b[0m\u001b[37m\u001b[0m \u001b[1m11s\u001b[0m 154ms/step - AUC: 1.0000 - loss: 0.0037 - val_AUC: 0.9956 - val_loss: 0.0596\n",
      "Epoch 10/10\n",
      "\u001b[1m70/70\u001b[0m \u001b[32m━━━━━━━━━━━━━━━━━━━━\u001b[0m\u001b[37m\u001b[0m \u001b[1m11s\u001b[0m 151ms/step - AUC: 1.0000 - loss: 0.0020 - val_AUC: 0.9953 - val_loss: 0.0549\n"
     ]
    },
    {
     "data": {
      "text/plain": [
       "<keras.src.callbacks.history.History at 0x2454241a190>"
      ]
     },
     "execution_count": 84,
     "metadata": {},
     "output_type": "execute_result"
    }
   ],
   "source": [
    "# Train the model for 10 epochs\n",
    "model.fit(x_train, y_train, batch_size=100, epochs=10, validation_data=(x_test, y_test))"
   ]
  },
  {
   "cell_type": "code",
   "execution_count": 85,
   "metadata": {},
   "outputs": [
    {
     "name": "stdout",
     "output_type": "stream",
     "text": [
      "\u001b[1m55/55\u001b[0m \u001b[32m━━━━━━━━━━━━━━━━━━━━\u001b[0m\u001b[37m\u001b[0m \u001b[1m1s\u001b[0m 17ms/step\n",
      "              precision    recall  f1-score   support\n",
      "\n",
      "           0       0.96      0.99      0.98       716\n",
      "           1       0.99      0.97      0.98      1021\n",
      "\n",
      "    accuracy                           0.98      1737\n",
      "   macro avg       0.98      0.98      0.98      1737\n",
      "weighted avg       0.98      0.98      0.98      1737\n",
      "\n"
     ]
    },
    {
     "data": {
      "image/png": "[encoded data removed]",
      "text/plain": [
       "<Figure size 640x480 with 2 Axes>"
      ]
     },
     "metadata": {},
     "output_type": "display_data"
    }
   ],
   "source": [
    "pred_test1=(model.predict(x_test) >= 0.98).astype('int')\n",
    "cm=metrics.confusion_matrix(y_test,pred_test1, labels=[1,0])\n",
    "disp=metrics.ConfusionMatrixDisplay(cm,display_labels=['tumor', 'No_tumor'])\n",
    "disp.plot()\n",
    "\n",
    "print(metrics.classification_report(y_test, pred_test1))\n"
   ]
  },
  {
   "cell_type": "code",
   "execution_count": 86,
   "metadata": {},
   "outputs": [
    {
     "name": "stdout",
     "output_type": "stream",
     "text": [
      "\u001b[1m55/55\u001b[0m \u001b[32m━━━━━━━━━━━━━━━━━━━━\u001b[0m\u001b[37m\u001b[0m \u001b[1m1s\u001b[0m 17ms/step\n"
     ]
    },
    {
     "data": {
      "application/vnd.plotly.v1+json": {
       "config": {
        "plotlyServerURL": "https://plot.ly"
       },
       "data": [
        {
         "alignmentgroup": "True",
         "bingroup": "x",
         "hovertemplate": "variable=0<br>value=%{x}<br>count=%{y}<extra></extra>",
         "legendgroup": "0",
         "marker": {
          "color": "#636efa",
          "pattern": {
           "shape": ""
          }
         },
         "name": "0",
         "offsetgroup": "0",
         "orientation": "v",
         "showlegend": true,
         "type": "histogram",
         "x": [
          0.0000021981859390507452,
          7.430605108993404e-8,
          0.0000020633003714465303,
          0.0004972575698047876,
          0.002484859200194478,
          0.00010830661631189287,
          0.00007567991269752383,
          0.000011810352589236572,
          2.352857642051731e-8,
          7.430605108993404e-8,
          0.0007162211695685983,
          0.000199995149159804,
          0.00001926104596350342,
          0.0008689528331160545,
          0.0008576537948101759,
          0.000008416946002398618,
          7.007284086313348e-9,
          0.0000011469852552181692,
          7.776883581556149e-10,
          9.495675730095132e-13,
          0.0003447621129453182,
          4.696804577208891e-12,
          1.0175625675401534e-8,
          0.00007511321746278554,
          1.8615536134802824e-7,
          0.002861614339053631,
          0.002537723397836089,
          0.005255335941910744,
          0.016355188563466072,
          0.0004989570588804781,
          0.000024325467165908776,
          0.00037673217593692243,
          0.0013439590111374855,
          0.00031713611679151654,
          0.00008350018470082432,
          0.00006237180787138641,
          0.000005493369826581329,
          3.046462282441098e-8,
          0.00009172803402179852,
          0.00023970402253326029,
          0.004120890982449055,
          0.0008324282825924456,
          0.00001328669623035239,
          0.000004233458184899064,
          0.000001978398813662352,
          5.143487058489882e-8,
          1.743277167065571e-8,
          0.000004265908955858322,
          0.0007573474431410432,
          0.00001043342399498215,
          7.787816969084815e-8,
          2.31449304166631e-9,
          0.000009837578545557335,
          1.7762156190315181e-9,
          3.1952573920079885e-10,
          1.2287117989728813e-9,
          1.2058715981311252e-7,
          6.258712801354704e-7,
          0.0003324311983305961,
          0.00007828052184777334,
          0.00001411540051776683,
          4.0444947391193864e-10,
          0.00001774409793142695,
          0.000004490442279347917,
          1.609098097821171e-11,
          0.005089109763503075,
          3.8965109183664026e-7,
          0.000390333792893216,
          7.913139938864333e-7,
          1.086473488953743e-8,
          0.00016716668324079365,
          4.006058063055207e-8,
          0.0000012973800949112047,
          0.0001282886223634705,
          5.035659569330164e-7,
          0.003351520514115691,
          0.000011248189366597217,
          0.00004105099287698977,
          6.594144341676156e-9,
          7.584643468838692e-10,
          0.00003580734119168483,
          0.0005485024303197861,
          0.0024639528710395098,
          0.000006756022685294738,
          1.6133959723774183e-9,
          0.0000011124344609925174,
          0.00001561999488330912,
          0.0001975401391973719,
          0.004076643381267786,
          0.0001416854647686705,
          4.044134360725593e-9,
          0.000003970331817981787,
          0.005158091429620981,
          0.001169972587376833,
          0.000039115475374273956,
          0.018436800688505173,
          7.409249036527399e-8,
          0.0000017236204712389736,
          1.2653941894313903e-8,
          2.8458947554099723e-7,
          0.0009711503516882658,
          2.2650420428149687e-10,
          0.000018051612642011605,
          0.0000020452607714105397,
          8.469297085866856e-8,
          0.00034013562253676355,
          1.408160921201329e-9,
          2.544248589586573e-9,
          0.000005044325007474981,
          1.3047336722138425e-7,
          1.0921750259740293e-7,
          9.274739909415075e-8,
          4.707351664023918e-8,
          9.84873782527984e-9,
          0.000027503016099217348,
          6.31570955533789e-8,
          9.353327574262993e-13,
          4.42930634392269e-8,
          0.000017300333638559096,
          6.043350140316761e-7,
          1.866880428025297e-9,
          0.00032206569449044764,
          0.0000031325550935434876,
          8.656187433508933e-10,
          7.172961113965926e-10,
          7.024843853287166e-7,
          0.005156205501407385,
          0.000007316154551517684,
          7.603858165339261e-8,
          0.000001266504682462255,
          0.00010860871407203376,
          0.000002258047061332036,
          0.00015105144120752811,
          0.00011894632189068943,
          3.4846610930117095e-8,
          2.7199252627951864e-8,
          0.000004275324954505777,
          0.000001138056063609838,
          0.00023807818070054054,
          0.00005765989772044122,
          9.926382205094342e-8,
          0.000015825124137336388,
          1.1720904780077035e-7,
          1.4372310452870352e-8,
          0.00014141418796498328,
          0.000009300917554355692,
          0.9999963045120239,
          0.0000010404442036815453,
          0.0005088787293061614,
          2.422907591248004e-14,
          3.0545392604164334e-11,
          1.3796725914505537e-11,
          0.0035213478840887547,
          3.42274104024598e-12,
          0.000012398553735692985,
          0.000003918750735465437,
          7.898602660816323e-9,
          1.9655489680303617e-8,
          2.475408658435263e-13,
          8.395778863801162e-12,
          1.367252622230808e-7,
          0.000023899614461697638,
          0.00017378955089952797,
          0.002840600674971938,
          8.517963578924537e-8,
          1.118792124915613e-11,
          7.74086350574521e-10,
          0.0023740127217024565,
          2.9830744097125717e-8,
          2.1886377155055925e-8,
          1.7144721753403758e-10,
          0.000002005372834901209,
          3.1805456046640757e-8,
          2.655675679363867e-9,
          9.638187137284149e-9,
          0.0002929111069533974,
          0.000016737583791837096,
          2.128853343608128e-10,
          9.187074212491098e-9,
          0.000007641740921826568,
          0.000987283419817686,
          1.4404639259169016e-8,
          0.000005605831574939657,
          0.0000015311379684135318,
          6.669962360206227e-10,
          0.0000926256543607451,
          2.1937406557981376e-8,
          0.000019176699424861,
          0.000021000214474042878,
          0.00007567991269752383,
          0.0013532593147829175,
          2.352857642051731e-8,
          0.0001444532535970211,
          0.00007898153126006946,
          0.000832906283903867,
          0.00004905339301330969,
          0.00004675570016843267,
          0.000007008281045273179,
          0.004047451075166464,
          0.000009405187483935151,
          4.610829513335135e-12,
          3.598666467041767e-7,
          0.0017410647124052048,
          0.000029657467166543938,
          0.00021903045126236975,
          1.0932139637986893e-9,
          0.00047419298789463937,
          0.0010178674710914493,
          0.00017675072012934834,
          2.053298937126913e-12,
          1.6463820307066612e-9,
          0.0008597665000706911,
          0.00001242188136529876,
          0.00023035994672682136,
          0.00002762348231044598,
          0.005998993758112192,
          0.00021294965699780732,
          0.003784333821386099,
          0.0000013036658401688328,
          0.00023712874099146575,
          0.00011857951176352799,
          0.000004789212653122377,
          0.00006988742825342342,
          0.00023509950551670045,
          0.0028353773523122072,
          0.0000035689220112544717,
          0.00000968135009316029,
          0.0013728843769058585,
          0.00023092511401046067,
          0.00020149769261479378,
          0.000008827333658700809,
          2.733380028985266e-7,
          0.000010357633072999306,
          1.0096228919564965e-7,
          3.69355124263393e-9,
          4.7009720560708956e-8,
          0.000015682368029956706,
          0.00042273945291526616,
          8.446852994836718e-9,
          0.000001932600980580901,
          9.906420128658056e-10,
          2.442924262879842e-8,
          3.3677780009178093e-10,
          7.116101414794684e-7,
          0.000006216658675839426,
          2.0809967082868752e-8,
          3.1103113418140538e-9,
          0.0000019167550817655865,
          9.676742962483331e-8,
          8.742949262341426e-7,
          7.942231761148832e-9,
          0.00004864012589678168,
          7.950541913714915e-8,
          6.751444403541029e-10,
          1.0861940324957686e-7,
          7.96024846039245e-9,
          0.00002210378079325892,
          0.000009075410162040498,
          0.0020800833590328693,
          0.003913553897291422,
          1.7141475439075293e-7,
          0.0019619620870798826,
          0.0004860130720771849,
          1.2191363474300942e-8,
          1.3091479011961837e-8,
          0.0011539292754605412,
          0.000002322231921425555,
          5.2631239644274075e-11,
          0.000005094439075037371,
          0.0005311918212100863,
          0.0000033209973935299786,
          0.004390912130475044,
          0.00006348470196826383,
          0.0000015623260196662159,
          0.0000012043561810060055,
          0.00015780719695612788,
          0.00000136557594032638,
          0.0025347352493554354,
          0.00004315871774451807,
          0.01757185161113739,
          0.000025745706807356328,
          0.00029612137586809695,
          0.00007744965114397928,
          1.2894415313269292e-8,
          3.7785122231071e-7,
          4.5873383669459145e-7,
          0.0000019492915726004867,
          0.002037936355918646,
          1.546316685807625e-10,
          2.289271776589885e-7,
          7.714214822485133e-10,
          0.000020600426068995148,
          0.0000186444722203305,
          7.32702953865072e-10,
          0.00008845302363624796,
          6.801287355528984e-8,
          0.000020017230781377293,
          0.00000762794297770597,
          1.321414755395267e-9,
          1.3191545633617352e-7,
          0.00038859917549416423,
          0.0000015758894278405933,
          1.8915666544216947e-7,
          1.0907094605272505e-7,
          3.368674583725806e-7,
          5.826475746317783e-9,
          7.921649447517609e-11,
          9.259164812647214e-7,
          0.00017634197138249874,
          2.281094992895305e-7,
          4.900237438043575e-10,
          7.234494319163787e-7,
          0.000021591074983007275,
          0.00001688395241217222,
          3.754540428557718e-11,
          0.00004502771844272502,
          0.0004537747008726001,
          0.005913000088185072,
          0.05814895033836365,
          0.005998993758112192,
          0.013158176094293594,
          0.002368774963542819,
          0.006911485455930233,
          0.004727110732346773,
          0.0035752623807638884,
          0.0023764430079609156,
          0.0016157065983861685,
          0.00039591453969478607,
          0.0000758802198106423,
          0.00004905339301330969,
          0.007378862239420414,
          0.012834836728870869,
          0.005181652493774891,
          0.00004905339301330969,
          0.07773716747760773,
          0.00891865510493517,
          0.000017513159036752768,
          0.0003575434093363583,
          9.549004431619323e-8,
          0.000956217001657933,
          0.0004989570588804781,
          0.003491459647193551,
          0.00098530447576195,
          3.445947243108094e-7,
          6.646460803949594e-8,
          0.000004265908955858322,
          7.787816969084815e-8,
          7.77954323183394e-9,
          0.00014151993673294783,
          5.193266705560973e-9,
          0.00001720331420074217,
          9.490663899214269e-8,
          0.00013580745144281536,
          3.869880629281397e-7,
          0.0000012973800949112047,
          0.00019476169836707413,
          7.584643468838692e-10,
          0.00000807333071861649,
          4.297222300220227e-13,
          1.049020093013553e-9,
          0.0001975401391973719,
          0.00010599730012472719,
          0.0001416854647686705,
          4.917432647744135e-7,
          0.018436800688505173,
          1.4801240233452972e-8,
          0.0000035517141441232525,
          0.000002336457782803336,
          2.0445652637590683e-7,
          0.00000427184841100825,
          1.2628076717646763e-7,
          8.469297085866856e-8,
          9.84873782527984e-9,
          0.000014274432032834738,
          0.000037392459489637986,
          0.00032206569449044764,
          0.0000030733258427062538,
          0.00014746566012036055,
          0.00000481180131828296,
          0.00014089733303990215,
          0.0001592375774635002,
          0.0007867064559832215,
          0.000009300917554355692,
          0.0002139660791726783,
          0.0000050303697207709774,
          0.00021215925517026335,
          0.0000059327599046810064,
          0.00004315871774451807,
          0.0000062786948547000065,
          0.0007956362096592784,
          0.00019408563093747944,
          0.00036583602195605636,
          0.0007151039899326861,
          0.0000019492915726004867,
          0.000019590645024436526,
          7.234494319163787e-7,
          0.0000013908398841522285,
          0.00004776852802024223,
          0.8191583156585693,
          7.048825967359562e-9,
          0.9094892144203186,
          0.3272615373134613,
          0.0007979843649081886,
          0.00011857951176352799,
          0.0008597665000706911,
          0.00004993152106180787,
          2.2943069666325755e-8,
          0.0000758802198106423,
          0.00016129171126522124,
          0.020375292748212814,
          0.004022044595330954,
          0.031089970842003822,
          0.998865008354187,
          0.2934147119522095,
          0.6727595925331116,
          0.9997749924659729,
          0.00002486571975168772,
          0.000044822423660662025,
          0.00010845843644347042,
          0.007224383298307657,
          0.000006217844656930538,
          0.000012519818483269773,
          0.000010039884728030302,
          0.000009135499567491934,
          0.009586412459611893,
          0.00007091477164067328,
          0.000002101187646985636,
          7.825772030400913e-8,
          0.0001716826664051041,
          0.00013377006689552218,
          0.00023712874099146575,
          0.001963292947039008,
          0.00046873651444911957,
          0.04172225296497345,
          0.0005222649197094142,
          0.00567896943539381,
          0.0000225281673920108,
          0.7670844793319702,
          0.8731101751327515,
          0.01697530411183834,
          7.825772030400913e-8,
          0.09577450156211853,
          0.02019079215824604,
          0.06512299180030823,
          0.01382391806691885,
          0.0007590609602630138,
          0.3083871304988861,
          0.004012104589492083,
          0.28886228799819946,
          0.00027647637762129307,
          0.000006694484454783378,
          0.0000180681799974991,
          0.000008145625542965718,
          7.78982212068513e-8,
          0.001682280795648694,
          0.0000011840278375530033,
          0.8027810454368591,
          0.9996688961982727,
          0.09778846800327301,
          0.0002079643600154668,
          0.005913000088185072,
          0.0004417048767209053,
          0.0033172350376844406,
          0.00034202481037937105,
          0.004659316502511501,
          0.07773716747760773,
          0.001962860580533743,
          0.0046370080672204494,
          0.000010039884728030302,
          0.00045105390017852187,
          0.0000758802198106423,
          0.2817833125591278,
          0.9799647331237793,
          0.9843462109565735,
          7.776883581556149e-10,
          8.885502325028938e-7,
          1.0175625675401534e-8,
          0.0000022426786472351523,
          0.00020985105948057026,
          0.00013052886060904711,
          0.000024325467165908776,
          1.1873054006628081e-7,
          0.00012524181511253119,
          0.00031713611679151654,
          0.0037522483617067337,
          0.0002443870180286467,
          0.00005225171844358556,
          0.00032814350561238825,
          0.0000082542674135766,
          7.200196705525741e-7,
          0.0000255950271821348,
          0.0000023798763777449494,
          5.3463406146647685e-8,
          4.914704163638817e-7,
          0.0000022681754217046546,
          1.226845403046184e-9,
          0.00007828052184777334,
          1.780398584116938e-8,
          0.0003706718562170863,
          0.0000995999071164988,
          3.5140339527117703e-9,
          0.00005509479160537012,
          0.003351520514115691,
          0.00001576366958033759,
          0.000014487649423244875,
          0.0000029581665330624674,
          3.581949670206086e-8,
          0.00018126145005226135,
          0.0000011124344609925174,
          7.78674369428245e-9,
          0.000050458733312552795,
          0.00039324912359006703,
          3.0759960550907905e-11,
          1.1384612003118022e-10,
          0.000003970331817981787,
          0.00003426306648179889,
          0.0009711503516882658,
          0.005793736316263676,
          0.005731281824409962,
          1.6478571751576965e-7,
          0.0008436493226327002,
          0.000019828774384222925,
          0.0000021249745714158053,
          3.146329277115001e-7,
          1.408160921201329e-9,
          1.0128283101096258e-8,
          0.0002217457367805764,
          1.866880428025297e-9,
          2.6469522129701772e-9,
          6.296906551739312e-9,
          3.7290032395276285e-8,
          1.8810255436596535e-11,
          4.379056051107e-8,
          0.00015105144120752811,
          3.4846610930117095e-8,
          0.0000022379483652912313,
          0.0022193188779056072,
          0.0030201771296560764,
          8.04605591042673e-8,
          0.0000015888097095739795,
          0.00010248868056805804,
          0.00008736609743209556,
          1.4372310452870352e-8,
          0.00014141418796498328,
          4.860977469434147e-7,
          0.00005567821062868461,
          6.250573392208025e-9,
          0.0000059728968153649475,
          0.0007568226428702474,
          5.16714528941975e-8,
          0.0000010404442036815453,
          1.7201598367933002e-8,
          0.000010915030543401372,
          1.1149862144677058e-9,
          9.050443554314835e-12,
          3.0545392604164334e-11,
          3.9130084263962195e-13,
          0.0000022342996999213938,
          9.867008321506887e-10,
          9.27995699839812e-7,
          0.0017791534774005413,
          3.858765751374449e-8,
          4.308957357590515e-10,
          4.9665040080526524e-8,
          7.898602660816323e-9,
          1.3529356454600183e-11,
          1.9655489680303617e-8,
          2.475408658435263e-13,
          0.000004999860266252654,
          0.00017378955089952797,
          0.00000304225204672548,
          1.9597379274927107e-9,
          6.396017049326019e-10,
          1.9932487660412335e-8,
          9.612817564175202e-8,
          0.000004044070010422729,
          7.653377237515357e-11,
          0.0023740127217024565,
          1.0314759463225798e-11,
          1.0258455196421323e-10,
          3.413306082222789e-9,
          0.000022440213797381148,
          0.000016737583791837096,
          2.128853343608128e-10,
          0.00001690148019406479,
          0.00015967560466378927,
          6.669962360206227e-10,
          0.0004509403952397406,
          0.0000016601460401943768,
          0.0013532593147829175,
          0.00055828777840361,
          2.352857642051731e-8,
          0.00395351042971015,
          0.000832906283903867,
          0.0009312902693636715,
          0.004047451075166464,
          0.000009405187483935151,
          0.000009627397048461717,
          0.000008416946002398618,
          0.00010673692304408178,
          0.0010056548053398728,
          7.700562854040527e-9,
          4.979947010319563e-11,
          0.0013746871845796704,
          0.00003198681224603206,
          0.0002290847769472748,
          0.00005137793777976185,
          0.000269488402409479,
          0.0002759789058472961,
          0.019867541268467903,
          0.00008025582792470232,
          0.000946235959418118,
          0.00001242188136529876,
          0.000005859773864358431,
          0.00004993152106180787,
          0.00002762348231044598,
          0.004022044595330954,
          0.0000758802198106423,
          0.000927272776607424,
          0.005998993758112192,
          0.0007326687918975949,
          0.00010830661631189287,
          0.0001716826664051041,
          0.00000503807086715824,
          0.000018943965187645517,
          2.423638234549941e-10,
          0.00023509950551670045,
          0.0014385840622708201,
          0.0004195928922854364,
          0.000011810352589236572,
          0.0000061714167713944335,
          0.00035040435614064336,
          0.00006760842370567843,
          0.000008354058081749827,
          0.0016157065983861685,
          2.655538899887233e-9,
          0.0001484818203607574,
          0.00020450142619665712,
          0.000005131061698193662,
          2.0214775631188786e-8,
          0.00009911547385854647,
          7.094831944165492e-10,
          0.00001530434747110121,
          1.3552543975947628e-8,
          2.0391517807638593e-7,
          0.000009324399798060767,
          0.0007444038055837154,
          0.00008358703053090721,
          0.00007877100870246068,
          5.261606254858275e-12,
          0.0044801910407841206,
          0.000005903671080886852,
          0.00042273945291526616,
          0.000006206256784935249,
          4.025702438070766e-9,
          1.6929085910888375e-10,
          0.00006517623114632443,
          0.000002807502141877194,
          1.4910804679857392e-7,
          1.5390757557298684e-9,
          2.442924262879842e-8,
          0.00008718416938791052,
          0.000006216658675839426,
          0.000012548279300972354,
          0.000004693281425716123,
          5.853400963928834e-8,
          0.00030835310462862253,
          1.1380068087873951e-7,
          2.0961892222004508e-9,
          2.6806274977531075e-9,
          0.0000025109525267907884,
          3.074551813142534e-8,
          4.378744034028159e-9,
          1.075578808240607e-7,
          7.488748510198207e-10,
          5.411920867004483e-8,
          7.96024846039245e-9,
          0.000008101590537989978,
          3.919530033869023e-9,
          0.0008722649072296917,
          1.8824266589945182e-7,
          0.002947380067780614,
          0.00015948389773257077,
          0.0007802574546076357,
          0.000483128271298483,
          6.419852649486302e-9,
          0.00022422410256695002,
          0.00003439089414314367,
          0.00033688746043480933,
          0.00015261155203916132,
          3.720752594915666e-9,
          0.0003617129987105727,
          1.358766699155467e-8,
          0.0003708125150296837,
          0.0009429124766029418,
          0.002037936355918646,
          3.744069658750959e-7,
          0.0001115384729928337,
          4.678382197198516e-7,
          3.308771852061909e-7,
          1.547655443800977e-7,
          0.000020017230781377293,
          5.830486093927334e-10,
          0.000002135121349056135,
          5.192754315430648e-7,
          0.000008030230674194172,
          0.0005147407064214349,
          0.0004360241873655468,
          1.768408708358038e-7,
          3.3993505788032508e-9,
          0.00013502004730980843,
          5.178622114465625e-11,
          0.000021591074983007275,
          0.0006539281457662582,
          3.754540428557718e-11,
          0.0000013055756653557182,
          0.9558027386665344,
          0.9999943375587463,
          1,
          0.9999955892562866,
          1,
          0.9999876618385315,
          0.999985933303833,
          0.9999986886978149,
          0.999967634677887,
          0.9999907612800598,
          0.9999921321868896,
          0.999999463558197,
          0.9999998211860657,
          0.9997075200080872,
          0.9908133149147034,
          1,
          0.9999951720237732,
          0.9999005198478699,
          0.9999999403953552,
          0.9999707341194153,
          0.9999921917915344,
          0.9999988079071045,
          0.9999924898147583,
          0.9999926686286926,
          0.9999997615814209,
          1,
          0.9999988675117493,
          0.9999985694885254,
          0.9999397993087769,
          0.9999979734420776,
          1,
          0.9999700784683228,
          1,
          0.9999783635139465,
          0.9999694228172302,
          0.999946653842926,
          0.9999525547027588,
          0.9999914765357971,
          1,
          0.9998900294303894,
          0.9999996423721313,
          0.9999998807907104,
          0.9999999403953552,
          0.9991330504417419,
          0.9993221163749695,
          0.9999812245368958,
          1,
          0.9999999403953552,
          0.9999876618385315,
          0.9999849200248718,
          0.9996088147163391,
          0.9782324433326721,
          0.9999003410339355,
          0.9999850392341614,
          1,
          0.9999998807907104,
          0.9805328845977783,
          0.9992934465408325,
          0.6971750259399414,
          0.9883185625076294,
          0.9940080642700195,
          0.9999999403953552,
          0.9999999403953552,
          0.9999995231628418,
          0.9999274611473083,
          0.9700376987457275,
          0.9746346473693848,
          0.9999969005584717,
          0.9999614357948303,
          0.9925451278686523,
          0.9999250769615173,
          0.9981642365455627,
          0.9917569160461426,
          0.9993231892585754,
          0.9987748265266418,
          0.000046519322495441884,
          0.9999719262123108,
          0.9995660781860352,
          0.9999999403953552,
          0.9999948740005493,
          0.9999926090240479,
          0.9999855756759644,
          0.9958265423774719,
          0.999999463558197,
          0.9998571276664734,
          0.9999863505363464,
          1,
          0.909115195274353,
          0.9999998807907104,
          0.9999995231628418,
          0.9999999403953552,
          0.9997533559799194,
          0.9990748167037964,
          0.9989709258079529,
          0.9999999403953552,
          0.999839186668396,
          1,
          0.9999998807907104,
          0.9999999403953552,
          1,
          0.9999901056289673,
          0.9999991655349731,
          0.9999830722808838,
          0.9983938336372375,
          0.9999968409538269,
          0.9999839067459106,
          0.9968008399009705,
          0.9999980330467224,
          1,
          0.9999997615814209,
          0.9999444484710693,
          0.9985037446022034,
          1,
          0.9999999403953552,
          0.9999998807907104,
          0.9999351501464844,
          1,
          0.9999674558639526,
          0.9999995231628418,
          0.9999234676361084,
          0.9958034753799438,
          0.9999499320983887,
          0.9997484683990479,
          0.9993150234222412,
          0.9999288320541382,
          0.9999936819076538,
          1,
          0.9999600648880005,
          0.9999997615814209,
          0.9999985694885254,
          0.9999973177909851,
          0.9999241232872009,
          0.999922513961792,
          0.9999707341194153,
          0.9999873042106628,
          0.9997939467430115,
          0.9997473359107971,
          0.9999749660491943,
          1,
          0.9999993443489075,
          0.9999997615814209,
          1,
          1,
          0.9996174573898315,
          0.9999961853027344,
          0.9999814033508301,
          0.9999999403953552,
          0.9999999403953552,
          0.9998765587806702,
          0.9999746084213257,
          0.999997079372406,
          0.9999702572822571,
          0.9999998807907104,
          0.9999588131904602,
          0.9999998211860657,
          0.9999998807907104,
          0.9999964237213135,
          0.9999999403953552,
          0.9988903999328613,
          0.999904990196228,
          0.9999979734420776,
          0.9997901320457458,
          0.9999998211860657,
          0.9999991059303284,
          0.9999691247940063,
          0.9999901056289673,
          0.9999793767929077,
          0.9999992251396179,
          0.9890857338905334,
          0.9999812841415405,
          0.9999997019767761,
          0.9999452829360962,
          0.9999914169311523,
          0.9999963641166687,
          0.9999999403953552,
          0.999961256980896,
          0.9997795224189758,
          0.9999571442604065,
          0.9828320145606995,
          0.9990483522415161,
          0.9999990463256836,
          0.9999998211860657,
          0.9999634027481079,
          0.9999850988388062,
          0.9998629093170166,
          0.9999997615814209,
          0.9999996423721313,
          0.9999998807907104,
          0.9999704957008362,
          1,
          0.9999780654907227,
          1,
          0.9999987483024597,
          0.9993332624435425,
          0.9999964833259583,
          0.9997615218162537,
          0.9999768733978271,
          0.9984733462333679,
          1,
          0.9998593330383301,
          0.9999623894691467,
          0.9931227564811707,
          0.9994695782661438,
          0.9999780654907227,
          0.9999049305915833,
          1,
          0.9999913573265076,
          0.999999463558197,
          0.9999998211860657,
          0.9933501482009888,
          0.9999940991401672,
          1,
          0.9997056722640991,
          0.9999988675117493,
          0.9999179840087891,
          0.9999913573265076,
          1,
          0.9998528957366943,
          0.9907395243644714,
          0.9985015988349915,
          0.9997970461845398,
          0.9999995231628418,
          0.999998152256012,
          0.9999998807907104,
          0.9985819458961487,
          1,
          0.9991105794906616,
          0.9999992251396179,
          0.9999990463256836,
          0.9999920725822449,
          0.9999924898147583,
          0.9999998211860657,
          1,
          1,
          0.9999986886978149,
          0.9999921321868896,
          0.9999631643295288,
          0.9846360683441162,
          1,
          0.9999983310699463,
          0.9999713897705078,
          0.9982886910438538,
          0.9999998211860657,
          0.9999977946281433,
          0.9999681711196899,
          0.9999963045120239,
          0.9999992251396179,
          0.9999998807907104,
          0.999951183795929,
          0.9922342896461487,
          0.9999825358390808,
          0.9999979734420776,
          0.9999539852142334,
          0.999886691570282,
          0.8455789685249329,
          0.999998927116394,
          0.9981887340545654,
          0.9999911785125732,
          0.9999968409538269,
          0.9812501668930054,
          0.9930173754692078,
          0.9988210797309875,
          0.9999999403953552,
          1,
          0.9999651908874512,
          0.9999992847442627,
          0.9998337626457214,
          0.9999990463256836,
          0.9999940395355225,
          0.9999980926513672,
          1,
          0.9999960660934448,
          0.9999999403953552,
          1,
          1,
          1,
          1,
          0.9999999403953552,
          1,
          1,
          0.9999970197677612,
          1,
          0.9999997019767761,
          0.9999963641166687,
          1,
          1,
          0.9999937415122986,
          0.9999990463256836,
          0.9999731183052063,
          0.9999800324440002,
          0.9999772906303406,
          0.9985504150390625,
          0.9911399483680725,
          0.9995474815368652,
          1,
          0.9999988675117493,
          0.9999999403953552,
          1,
          0.9999912977218628,
          0.9956272840499878,
          0.9999964237213135,
          0.9999499917030334,
          1,
          1,
          0.9989789724349976,
          0.999607503414154,
          0.99998539686203,
          0.9999977946281433,
          0.9999999403953552,
          1,
          0.9999998807907104,
          1,
          1,
          1,
          1,
          1,
          0.9999557137489319,
          0.9999991655349731,
          0.9999999403953552,
          0.9999846816062927,
          0.9984011650085449,
          0.9858487844467163,
          0.9999927878379822,
          0.999981701374054,
          0.9999991059303284,
          0.9893280267715454,
          0.9999998807907104,
          0.9999987483024597,
          0.9999976754188538,
          1,
          0.9999997019767761,
          0.9999998211860657,
          0.9999999403953552,
          1,
          1,
          0.9997486472129822,
          0.9999995827674866,
          0.9999934434890747,
          0.9999971389770508,
          0.9999998211860657,
          0.999999463558197,
          0.9999225735664368,
          0.9999983906745911,
          0.9999978542327881,
          0.9999942779541016,
          0.9999849200248718,
          0.9999884366989136,
          0.9999913573265076,
          0.9997809529304504,
          0.9999971389770508,
          0.999991774559021,
          0.9999777674674988,
          0.9999993443489075,
          0.9999959468841553,
          0.9995840787887573,
          0.9999942779541016,
          0.9999788999557495,
          0.9999998211860657,
          1,
          0.9999995231628418,
          1,
          0.9999999403953552,
          0.9999910593032837,
          0.9999989867210388,
          0.9999558329582214,
          0.9999988675117493,
          0.9999992847442627,
          0.999998927116394,
          0.9999989867210388,
          0.9999991059303284,
          0.9999951720237732,
          0.9999822378158569,
          0.9109898209571838,
          0.9988173842430115,
          0.9999946355819702,
          0.9997535347938538,
          0.9998732209205627,
          0.9999396800994873,
          0.9998530149459839,
          0.9999974370002747,
          1,
          0.9998984932899475,
          0.999993622303009,
          0.9989804625511169,
          0.9759518504142761,
          0.9999997615814209,
          0.9999999403953552,
          0.9997372627258301,
          0.9999983906745911,
          0.999999463558197,
          0.9999113082885742,
          0.9999978542327881,
          0.9999999403953552,
          1,
          1,
          1,
          0.9993909001350403,
          0.9996016621589661,
          0.9992214441299438,
          0.9999966025352478,
          0.9999596476554871,
          0.9999816417694092,
          0.9999933838844299,
          0.9999993443489075,
          0.9999294281005859,
          0.9999993443489075,
          0.9999999403953552,
          0.9997439384460449,
          0.9999999403953552,
          0.9999998807907104,
          0.9954423904418945,
          0.9999992251396179,
          0.9999926686286926,
          1,
          1,
          1,
          0.9999997615814209,
          0.9999998807907104,
          0.9999997019767761,
          0.9999403357505798,
          0.9999999403953552,
          0.9999997615814209,
          0.9999839663505554,
          0.9999984502792358,
          0.999900758266449,
          0.9999989867210388,
          1,
          0.9999978542327881,
          0.9997105002403259,
          0.9999120235443115,
          0.9998798370361328,
          0.9999974370002747,
          0.9967173337936401,
          0.999998152256012,
          0.9999503493309021,
          0.9999999403953552,
          0.9999824166297913,
          0.9999509453773499,
          0.999983012676239,
          0.99994295835495,
          0.9996524453163147,
          0.9999998211860657,
          0.9999911189079285,
          1,
          0.9999691247940063,
          0.9999963641166687,
          1,
          0.9999996423721313,
          0.9999992847442627,
          0.9999980330467224,
          0.9999998807907104,
          0.9999982714653015,
          0.9999999403953552,
          1,
          0.999992847442627,
          0.9999960660934448,
          0.9999910593032837,
          0.9999994039535522,
          0.9999964237213135,
          1,
          0.9999999403953552,
          0.9999991655349731,
          0.9999850988388062,
          0.9999997615814209,
          0.9999969601631165,
          0.999992847442627,
          0.9999644160270691,
          0.9999999403953552,
          0.999990701675415,
          0.9999999403953552,
          0.9999637603759766,
          0.9999998807907104,
          0.9999982714653015,
          1,
          1,
          1,
          0.9998196959495544,
          0.9999998807907104,
          1,
          1,
          0.9999992251396179,
          0.9999999403953552,
          0.9864482283592224,
          0.9865834712982178,
          0.9942815899848938,
          0.9994601011276245,
          0.9999999403953552,
          0.9990702271461487,
          0.9883185625076294,
          0.9999428391456604,
          0.9999841451644897,
          0.989025890827179,
          0.9999996423721313,
          0.9998592138290405,
          0.9970217943191528,
          0.9970690011978149,
          0.9999995231628418,
          0.9999274611473083,
          0.9171786308288574,
          0.9834571480751038,
          0.9999250769615173,
          0.9982007145881653,
          0.9999998211860657,
          0.9999999403953552,
          0.9999924898147583,
          0.9963792562484741,
          0.999839723110199,
          0.9990376830101013,
          0.9685052633285522,
          0.9993054866790771,
          0.9985929131507874,
          0.9999830722808838,
          0.9998475909233093,
          0.9997090697288513,
          0.000046519322495441884,
          0.9989941120147705,
          0.9999663829803467,
          0.9999976754188538,
          0.9999943375587463,
          0.9999691843986511,
          0.999726414680481,
          0.6971750259399414,
          0.9278547167778015,
          0.9999999403953552,
          0.9999998807907104,
          0.9999701976776123,
          0.9999999403953552,
          0.9999997019767761,
          0.9999896287918091,
          0.9999983310699463,
          0.9999998807907104,
          0.9996778964996338,
          1,
          0.9997298121452332,
          0.9999999403953552,
          0.9999951124191284,
          0.9999995231628418,
          0.9999869465827942,
          0.9999999403953552,
          0.9997822046279907,
          0.9999999403953552,
          0.9999983906745911,
          0.9998381733894348,
          0.9999998807907104,
          0.999986469745636,
          0.9999998211860657,
          1,
          1,
          0.999999463558197,
          0.9999909996986389,
          1,
          0.9999988079071045,
          0.999992311000824,
          0.9999958276748657,
          0.9995905160903931,
          0.9995148181915283,
          0.9927983283996582,
          0.6361575126647949,
          0.9999973177909851,
          0.9999998211860657,
          1,
          0.9999989867210388,
          0.9988555312156677,
          1,
          1,
          0.9999997019767761,
          0.9999924898147583,
          0.9999416470527649,
          0.9998162984848022,
          0.9999850392341614,
          1,
          1,
          0.9999507069587708,
          0.9999784231185913,
          0.9999250769615173,
          0.9999116659164429,
          0.9999873638153076,
          0.9987887740135193,
          0.9992318153381348,
          0.9999884366989136,
          0.99997478723526,
          0.9999997615814209,
          0.9999993443489075,
          0.9999374747276306,
          0.9999420046806335,
          0.9999239444732666,
          1,
          0.9999909996986389,
          0.9998469352722168,
          0.9999268651008606,
          1,
          0.9999905228614807,
          0.999321699142456,
          1,
          0.9999853372573853,
          0.9999997019767761,
          0.9999999403953552,
          0.9999915957450867,
          0.9993252158164978,
          0.9999926090240479,
          0.9999370574951172,
          0.9993084669113159,
          0.9999916553497314,
          0.9999950528144836,
          0.9999946355819702,
          1,
          0.9999998211860657,
          1,
          0.9999995231628418,
          0.9999998211860657,
          0.9999592304229736,
          0.9999921321868896,
          0.9999998211860657,
          0.9999999403953552,
          0.9999972581863403,
          0.9999995231628418,
          0.999977707862854,
          0.9998473525047302,
          0.9999998211860657,
          0.9999999403953552,
          0.9999936819076538,
          0.9999987483024597,
          1,
          0.9999997615814209,
          1,
          0.9999844431877136,
          1,
          0.9999995231628418,
          0.9999997019767761,
          0.9999998211860657,
          0.9999999403953552,
          0.9999998211860657,
          1,
          0.9999998211860657,
          0.9999606609344482,
          0.9999998211860657,
          0.9999976754188538,
          0.9999998211860657,
          1,
          0.9999998211860657,
          0.9999999403953552,
          0.9999959468841553,
          0.9999746680259705,
          0.9999993443489075,
          0.9999983310699463,
          1,
          0.9999955296516418,
          0.9999999403953552,
          1,
          0.9999982714653015,
          0.9999986886978149,
          0.9999970197677612,
          0.9999999403953552,
          0.9999999403953552,
          0.9999992251396179,
          0.9999982714653015,
          0.999998927116394,
          0.9999945163726807,
          0.994500458240509,
          0.9999999403953552,
          1,
          0.999998152256012,
          0.9999996423721313,
          1,
          0.999997615814209,
          0.9999800324440002,
          0.9999533295631409,
          0.9987896084785461,
          1,
          1,
          0.9999996423721313,
          0.9997124075889587,
          0.9999933838844299,
          0.999782145023346,
          0.9999756217002869,
          0.9999945759773254,
          0.9999997615814209,
          1,
          0.9999929070472717,
          0.9998067021369934,
          0.9999757409095764,
          0.9999998211860657,
          0.9999999403953552,
          0.9999999403953552,
          0.9999889731407166,
          1,
          1,
          0.9999994039535522,
          0.9999905824661255,
          0.9999999403953552,
          1,
          1,
          1,
          1,
          1,
          1,
          0.9999997615814209,
          0.9999998807907104,
          0.9999987483024597,
          0.9999980926513672,
          0.9999983310699463,
          0.9999231100082397,
          1,
          1,
          0.9999955892562866,
          0.999914288520813,
          0.9999999403953552,
          1,
          0.9703463315963745,
          0.9999994039535522,
          0.9999996423721313,
          0.9997542500495911,
          0.9965192079544067,
          0.9999743700027466,
          0.9999999403953552,
          0.9996378421783447,
          0.999997079372406,
          0.9999997019767761,
          0.9999906420707703,
          0.9999666213989258,
          0.9999993443489075,
          0.9999992847442627,
          0.9999857544898987,
          1,
          0.9999964833259583,
          0.9989686012268066,
          0.8792229890823364,
          0.9950162768363953,
          0.999999463558197,
          0.9999502301216125,
          0.9999985694885254,
          0.9999758005142212,
          0.9996901750564575,
          1,
          0.9999933242797852,
          0.9995241165161133,
          0.9999774098396301,
          0.9999998807907104,
          0.9999990463256836,
          0.9998794794082642,
          0.9999942779541016,
          0.9998667240142822,
          0.9995421171188354,
          0.999984622001648,
          0.999973714351654,
          0.9978933930397034,
          0.9999960660934448,
          0.9999995231628418,
          0.9999992847442627,
          0.9999920129776001,
          0.9999436736106873,
          0.998213529586792,
          0.9999998211860657,
          0.999965488910675,
          0.9999555349349976,
          0.9996415972709656,
          0.9999611973762512,
          0.9999249577522278,
          0.9999969601631165,
          0.9995600581169128,
          0.9994434118270874,
          1,
          0.9996734857559204,
          0.9999979138374329,
          0.9999985694885254,
          0.9999992251396179,
          0.9971664547920227,
          0.9997985363006592,
          0.999998927116394,
          0.999996542930603,
          0.9982293248176575,
          0.9999999403953552,
          0.999997615814209,
          0.9996655583381653,
          0.9999974370002747,
          0.9962835907936096,
          0.9997245073318481,
          0.9999099373817444,
          0.999952495098114,
          0.9999973773956299,
          0.9993762969970703,
          0.9998919367790222,
          0.9999998807907104,
          0.9999908804893494,
          0.9999184012413025,
          0.9999971985816956,
          0.9998909831047058,
          0.9999275207519531,
          0.9998000860214233,
          0.9999985098838806,
          0.9999787211418152,
          0.9992422461509705,
          0.9999983906745911,
          1,
          0.9998818635940552,
          0.9999569654464722,
          0.994727611541748,
          0.9927951097488403,
          0.9996088743209839,
          0.9999998807907104,
          0.9999999403953552,
          1,
          0.9999982714653015,
          0.9999840259552002,
          0.9999886155128479,
          1,
          0.9990344643592834,
          0.9998663067817688,
          0.9999993443489075,
          0.9999997019767761,
          0.9999995231628418,
          0.9999961853027344,
          0.9999892711639404,
          0.9999958872795105,
          0.9999987483024597,
          0.9999971389770508,
          0.9999933242797852,
          0.9999999403953552,
          0.9999998211860657,
          0.9999995231628418,
          0.9945863485336304,
          0.999997615814209,
          0.9997740387916565,
          1,
          1,
          0.9999979138374329,
          1,
          0.9999988675117493,
          0.9999788999557495,
          0.9999998807907104,
          0.9999799728393555,
          0.9998900890350342,
          0.9999998807907104,
          0.9999952912330627,
          0.9999998211860657,
          0.9956150650978088,
          1,
          1,
          0.9999998211860657,
          0.9996310472488403,
          0.9999757409095764,
          0.9999613165855408,
          0.9999999403953552,
          0.9999976754188538,
          0.9999988079071045,
          0.9999927282333374,
          0.9997018575668335,
          0.9412492513656616,
          0.9997351765632629,
          0.9996918439865112,
          0.9999968409538269,
          0.9999992847442627,
          0.9999951720237732,
          0.9999919533729553,
          0.99998939037323,
          0.9998733401298523,
          0.9999350309371948,
          0.9999961256980896,
          0.9999899864196777,
          0.9999927878379822,
          0.9999991655349731,
          0.999999463558197,
          1,
          0.9999866485595703,
          0.9999988675117493,
          0.9996956586837769,
          0.999998152256012,
          0.999958872795105,
          1,
          0.9998343586921692,
          0.9998716711997986,
          0.9992913603782654,
          0.9999836683273315,
          0.9999943375587463,
          0.9999303221702576,
          0.9999996423721313,
          0.9998490810394287,
          1,
          1,
          0.9999818205833435,
          0.9989450573921204,
          0.9999964833259583,
          0.9983528256416321,
          0.9999999403953552,
          1,
          0.9999442100524902,
          0.9999998211860657,
          0.9999989867210388,
          0.9992164969444275,
          1,
          0.999941349029541,
          0.9990842938423157,
          0.9999572038650513,
          0.997776210308075,
          0.9992566108703613,
          0.9999990463256836,
          0.9999153017997742,
          0.9999961256980896,
          0.9999538660049438,
          0.9999853372573853,
          0.9999998807907104,
          0.999841570854187,
          0.9999855160713196,
          0.9998804926872253,
          0.9999735355377197,
          0.9999643564224243,
          0.9999999403953552,
          0.9999479055404663,
          0.9993464946746826,
          0.9999995231628418,
          0.9735943078994751,
          0.9983369708061218,
          0.999570369720459,
          0.9999422430992126,
          1,
          1,
          0.9999515414237976,
          0.9999998807907104,
          1,
          0.9980804920196533,
          1,
          0.9999999403953552,
          0.9988518357276917,
          0.9999986290931702,
          0.999988317489624,
          1,
          1,
          0.9999841451644897,
          0.9997614622116089,
          1,
          1,
          0.9999580979347229,
          0.9998772144317627,
          1,
          0.9999882578849792,
          1,
          0.9995107650756836,
          0.9997318983078003,
          0.9998863935470581,
          0.9999340772628784,
          0.9999895691871643,
          0.9999958276748657,
          0.9999096989631653,
          0.9999992847442627,
          0.9999990463256836,
          0.9999897480010986,
          0.9991025924682617,
          0.9999987483024597,
          0.9999950528144836,
          0.9999556541442871,
          0.9999996423721313,
          0.9999998211860657,
          0.9999978542327881,
          0.9957365393638611,
          0.9999988675117493,
          0.9999614953994751,
          0.9999887347221375,
          0.9999997615814209,
          0.9999977350234985,
          0.9999770522117615,
          0.9998971819877625,
          0.9999721646308899,
          0.988602876663208,
          0.9999935030937195,
          0.9999687671661377,
          0.9999856352806091,
          0.9997112154960632,
          0.9999998807907104,
          0.9999779462814331,
          0.9999999403953552,
          0.9999949336051941,
          0.9999848008155823,
          0.999995768070221,
          0.9998965859413147,
          0.9999542236328125,
          0.9999978542327881,
          0.9998435974121094,
          0.9990789294242859,
          0.9995431303977966,
          0.9999998807907104,
          0.9999994039535522,
          0.9999980330467224,
          0.9999983906745911,
          1,
          0.9999987483024597,
          0.9999993443489075,
          0.9944570660591125,
          0.9999996423721313,
          0.9999999403953552,
          0.9999985694885254,
          0.9401183724403381,
          0.9999991059303284,
          1,
          0.9969009160995483,
          0.9999855160713196,
          0.9999817609786987,
          0.9996538758277893,
          0.9999999403953552,
          0.9999878406524658,
          0.9999579787254333,
          0.9999995231628418,
          0.9999992847442627,
          0.9999737739562988,
          0.9999901652336121,
          0.9999992251396179,
          0.9999824166297913,
          0.9907485842704773,
          0.956577479839325,
          0.9996450543403625,
          0.9994537234306335,
          0.740978479385376,
          0.14200107753276825,
          0.33378538489341736,
          0.9849585294723511,
          0.9993206858634949,
          0.6373980045318604,
          0.7955621480941772,
          0.9995850920677185,
          0.7973129153251648,
          0.0013894889270886779,
          0.007533338386565447
         ],
         "xaxis": "x",
         "yaxis": "y"
        }
       ],
       "layout": {
        "barmode": "relative",
        "legend": {
         "title": {
          "text": "variable"
         },
         "tracegroupgap": 0
        },
        "margin": {
         "t": 60
        },
        "template": {
         "data": {
          "bar": [
           {
            "error_x": {
             "color": "#2a3f5f"
            },
            "error_y": {
             "color": "#2a3f5f"
            },
            "marker": {
             "line": {
              "color": "#E5ECF6",
              "width": 0.5
             },
             "pattern": {
              "fillmode": "overlay",
              "size": 10,
              "solidity": 0.2
             }
            },
            "type": "bar"
           }
          ],
          "barpolar": [
           {
            "marker": {
             "line": {
              "color": "#E5ECF6",
              "width": 0.5
             },
             "pattern": {
              "fillmode": "overlay",
              "size": 10,
              "solidity": 0.2
             }
            },
            "type": "barpolar"
           }
          ],
          "carpet": [
           {
            "aaxis": {
             "endlinecolor": "#2a3f5f",
             "gridcolor": "white",
             "linecolor": "white",
             "minorgridcolor": "white",
             "startlinecolor": "#2a3f5f"
            },
            "baxis": {
             "endlinecolor": "#2a3f5f",
             "gridcolor": "white",
             "linecolor": "white",
             "minorgridcolor": "white",
             "startlinecolor": "#2a3f5f"
            },
            "type": "carpet"
           }
          ],
          "choropleth": [
           {
            "colorbar": {
             "outlinewidth": 0,
             "ticks": ""
            },
            "type": "choropleth"
           }
          ],
          "contour": [
           {
            "colorbar": {
             "outlinewidth": 0,
             "ticks": ""
            },
            "colorscale": [
             [
              0,
              "#0d0887"
             ],
             [
              0.1111111111111111,
              "#46039f"
             ],
             [
              0.2222222222222222,
              "#7201a8"
             ],
             [
              0.3333333333333333,
              "#9c179e"
             ],
             [
              0.4444444444444444,
              "#bd3786"
             ],
             [
              0.5555555555555556,
              "#d8576b"
             ],
             [
              0.6666666666666666,
              "#ed7953"
             ],
             [
              0.7777777777777778,
              "#fb9f3a"
             ],
             [
              0.8888888888888888,
              "#fdca26"
             ],
             [
              1,
              "#f0f921"
             ]
            ],
            "type": "contour"
           }
          ],
          "contourcarpet": [
           {
            "colorbar": {
             "outlinewidth": 0,
             "ticks": ""
            },
            "type": "contourcarpet"
           }
          ],
          "heatmap": [
           {
            "colorbar": {
             "outlinewidth": 0,
             "ticks": ""
            },
            "colorscale": [
             [
              0,
              "#0d0887"
             ],
             [
              0.1111111111111111,
              "#46039f"
             ],
             [
              0.2222222222222222,
              "#7201a8"
             ],
             [
              0.3333333333333333,
              "#9c179e"
             ],
             [
              0.4444444444444444,
              "#bd3786"
             ],
             [
              0.5555555555555556,
              "#d8576b"
             ],
             [
              0.6666666666666666,
              "#ed7953"
             ],
             [
              0.7777777777777778,
              "#fb9f3a"
             ],
             [
              0.8888888888888888,
              "#fdca26"
             ],
             [
              1,
              "#f0f921"
             ]
            ],
            "type": "heatmap"
           }
          ],
          "heatmapgl": [
           {
            "colorbar": {
             "outlinewidth": 0,
             "ticks": ""
            },
            "colorscale": [
             [
              0,
              "#0d0887"
             ],
             [
              0.1111111111111111,
              "#46039f"
             ],
             [
              0.2222222222222222,
              "#7201a8"
             ],
             [
              0.3333333333333333,
              "#9c179e"
             ],
             [
              0.4444444444444444,
              "#bd3786"
             ],
             [
              0.5555555555555556,
              "#d8576b"
             ],
             [
              0.6666666666666666,
              "#ed7953"
             ],
             [
              0.7777777777777778,
              "#fb9f3a"
             ],
             [
              0.8888888888888888,
              "#fdca26"
             ],
             [
              1,
              "#f0f921"
             ]
            ],
            "type": "heatmapgl"
           }
          ],
          "histogram": [
           {
            "marker": {
             "pattern": {
              "fillmode": "overlay",
              "size": 10,
              "solidity": 0.2
             }
            },
            "type": "histogram"
           }
          ],
          "histogram2d": [
           {
            "colorbar": {
             "outlinewidth": 0,
             "ticks": ""
            },
            "colorscale": [
             [
              0,
              "#0d0887"
             ],
             [
              0.1111111111111111,
              "#46039f"
             ],
             [
              0.2222222222222222,
              "#7201a8"
             ],
             [
              0.3333333333333333,
              "#9c179e"
             ],
             [
              0.4444444444444444,
              "#bd3786"
             ],
             [
              0.5555555555555556,
              "#d8576b"
             ],
             [
              0.6666666666666666,
              "#ed7953"
             ],
             [
              0.7777777777777778,
              "#fb9f3a"
             ],
             [
              0.8888888888888888,
              "#fdca26"
             ],
             [
              1,
              "#f0f921"
             ]
            ],
            "type": "histogram2d"
           }
          ],
          "histogram2dcontour": [
           {
            "colorbar": {
             "outlinewidth": 0,
             "ticks": ""
            },
            "colorscale": [
             [
              0,
              "#0d0887"
             ],
             [
              0.1111111111111111,
              "#46039f"
             ],
             [
              0.2222222222222222,
              "#7201a8"
             ],
             [
              0.3333333333333333,
              "#9c179e"
             ],
             [
              0.4444444444444444,
              "#bd3786"
             ],
             [
              0.5555555555555556,
              "#d8576b"
             ],
             [
              0.6666666666666666,
              "#ed7953"
             ],
             [
              0.7777777777777778,
              "#fb9f3a"
             ],
             [
              0.8888888888888888,
              "#fdca26"
             ],
             [
              1,
              "#f0f921"
             ]
            ],
            "type": "histogram2dcontour"
           }
          ],
          "mesh3d": [
           {
            "colorbar": {
             "outlinewidth": 0,
             "ticks": ""
            },
            "type": "mesh3d"
           }
          ],
          "parcoords": [
           {
            "line": {
             "colorbar": {
              "outlinewidth": 0,
              "ticks": ""
             }
            },
            "type": "parcoords"
           }
          ],
          "pie": [
           {
            "automargin": true,
            "type": "pie"
           }
          ],
          "scatter": [
           {
            "fillpattern": {
             "fillmode": "overlay",
             "size": 10,
             "solidity": 0.2
            },
            "type": "scatter"
           }
          ],
          "scatter3d": [
           {
            "line": {
             "colorbar": {
              "outlinewidth": 0,
              "ticks": ""
             }
            },
            "marker": {
             "colorbar": {
              "outlinewidth": 0,
              "ticks": ""
             }
            },
            "type": "scatter3d"
           }
          ],
          "scattercarpet": [
           {
            "marker": {
             "colorbar": {
              "outlinewidth": 0,
              "ticks": ""
             }
            },
            "type": "scattercarpet"
           }
          ],
          "scattergeo": [
           {
            "marker": {
             "colorbar": {
              "outlinewidth": 0,
              "ticks": ""
             }
            },
            "type": "scattergeo"
           }
          ],
          "scattergl": [
           {
            "marker": {
             "colorbar": {
              "outlinewidth": 0,
              "ticks": ""
             }
            },
            "type": "scattergl"
           }
          ],
          "scattermapbox": [
           {
            "marker": {
             "colorbar": {
              "outlinewidth": 0,
              "ticks": ""
             }
            },
            "type": "scattermapbox"
           }
          ],
          "scatterpolar": [
           {
            "marker": {
             "colorbar": {
              "outlinewidth": 0,
              "ticks": ""
             }
            },
            "type": "scatterpolar"
           }
          ],
          "scatterpolargl": [
           {
            "marker": {
             "colorbar": {
              "outlinewidth": 0,
              "ticks": ""
             }
            },
            "type": "scatterpolargl"
           }
          ],
          "scatterternary": [
           {
            "marker": {
             "colorbar": {
              "outlinewidth": 0,
              "ticks": ""
             }
            },
            "type": "scatterternary"
           }
          ],
          "surface": [
           {
            "colorbar": {
             "outlinewidth": 0,
             "ticks": ""
            },
            "colorscale": [
             [
              0,
              "#0d0887"
             ],
             [
              0.1111111111111111,
              "#46039f"
             ],
             [
              0.2222222222222222,
              "#7201a8"
             ],
             [
              0.3333333333333333,
              "#9c179e"
             ],
             [
              0.4444444444444444,
              "#bd3786"
             ],
             [
              0.5555555555555556,
              "#d8576b"
             ],
             [
              0.6666666666666666,
              "#ed7953"
             ],
             [
              0.7777777777777778,
              "#fb9f3a"
             ],
             [
              0.8888888888888888,
              "#fdca26"
             ],
             [
              1,
              "#f0f921"
             ]
            ],
            "type": "surface"
           }
          ],
          "table": [
           {
            "cells": {
             "fill": {
              "color": "#EBF0F8"
             },
             "line": {
              "color": "white"
             }
            },
            "header": {
             "fill": {
              "color": "#C8D4E3"
             },
             "line": {
              "color": "white"
             }
            },
            "type": "table"
           }
          ]
         },
         "layout": {
          "annotationdefaults": {
           "arrowcolor": "#2a3f5f",
           "arrowhead": 0,
           "arrowwidth": 1
          },
          "autotypenumbers": "strict",
          "coloraxis": {
           "colorbar": {
            "outlinewidth": 0,
            "ticks": ""
           }
          },
          "colorscale": {
           "diverging": [
            [
             0,
             "#8e0152"
            ],
            [
             0.1,
             "#c51b7d"
            ],
            [
             0.2,
             "#de77ae"
            ],
            [
             0.3,
             "#f1b6da"
            ],
            [
             0.4,
             "#fde0ef"
            ],
            [
             0.5,
             "#f7f7f7"
            ],
            [
             0.6,
             "#e6f5d0"
            ],
            [
             0.7,
             "#b8e186"
            ],
            [
             0.8,
             "#7fbc41"
            ],
            [
             0.9,
             "#4d9221"
            ],
            [
             1,
             "#276419"
            ]
           ],
           "sequential": [
            [
             0,
             "#0d0887"
            ],
            [
             0.1111111111111111,
             "#46039f"
            ],
            [
             0.2222222222222222,
             "#7201a8"
            ],
            [
             0.3333333333333333,
             "#9c179e"
            ],
            [
             0.4444444444444444,
             "#bd3786"
            ],
            [
             0.5555555555555556,
             "#d8576b"
            ],
            [
             0.6666666666666666,
             "#ed7953"
            ],
            [
             0.7777777777777778,
             "#fb9f3a"
            ],
            [
             0.8888888888888888,
             "#fdca26"
            ],
            [
             1,
             "#f0f921"
            ]
           ],
           "sequentialminus": [
            [
             0,
             "#0d0887"
            ],
            [
             0.1111111111111111,
             "#46039f"
            ],
            [
             0.2222222222222222,
             "#7201a8"
            ],
            [
             0.3333333333333333,
             "#9c179e"
            ],
            [
             0.4444444444444444,
             "#bd3786"
            ],
            [
             0.5555555555555556,
             "#d8576b"
            ],
            [
             0.6666666666666666,
             "#ed7953"
            ],
            [
             0.7777777777777778,
             "#fb9f3a"
            ],
            [
             0.8888888888888888,
             "#fdca26"
            ],
            [
             1,
             "#f0f921"
            ]
           ]
          },
          "colorway": [
           "#636efa",
           "#EF553B",
           "#00cc96",
           "#ab63fa",
           "#FFA15A",
           "#19d3f3",
           "#FF6692",
           "#B6E880",
           "#FF97FF",
           "#FECB52"
          ],
          "font": {
           "color": "#2a3f5f"
          },
          "geo": {
           "bgcolor": "white",
           "lakecolor": "white",
           "landcolor": "#E5ECF6",
           "showlakes": true,
           "showland": true,
           "subunitcolor": "white"
          },
          "hoverlabel": {
           "align": "left"
          },
          "hovermode": "closest",
          "mapbox": {
           "style": "light"
          },
          "paper_bgcolor": "white",
          "plot_bgcolor": "#E5ECF6",
          "polar": {
           "angularaxis": {
            "gridcolor": "white",
            "linecolor": "white",
            "ticks": ""
           },
           "bgcolor": "#E5ECF6",
           "radialaxis": {
            "gridcolor": "white",
            "linecolor": "white",
            "ticks": ""
           }
          },
          "scene": {
           "xaxis": {
            "backgroundcolor": "#E5ECF6",
            "gridcolor": "white",
            "gridwidth": 2,
            "linecolor": "white",
            "showbackground": true,
            "ticks": "",
            "zerolinecolor": "white"
           },
           "yaxis": {
            "backgroundcolor": "#E5ECF6",
            "gridcolor": "white",
            "gridwidth": 2,
            "linecolor": "white",
            "showbackground": true,
            "ticks": "",
            "zerolinecolor": "white"
           },
           "zaxis": {
            "backgroundcolor": "#E5ECF6",
            "gridcolor": "white",
            "gridwidth": 2,
            "linecolor": "white",
            "showbackground": true,
            "ticks": "",
            "zerolinecolor": "white"
           }
          },
          "shapedefaults": {
           "line": {
            "color": "#2a3f5f"
           }
          },
          "ternary": {
           "aaxis": {
            "gridcolor": "white",
            "linecolor": "white",
            "ticks": ""
           },
           "baxis": {
            "gridcolor": "white",
            "linecolor": "white",
            "ticks": ""
           },
           "bgcolor": "#E5ECF6",
           "caxis": {
            "gridcolor": "white",
            "linecolor": "white",
            "ticks": ""
           }
          },
          "title": {
           "x": 0.05
          },
          "xaxis": {
           "automargin": true,
           "gridcolor": "white",
           "linecolor": "white",
           "ticks": "",
           "title": {
            "standoff": 15
           },
           "zerolinecolor": "white",
           "zerolinewidth": 2
          },
          "yaxis": {
           "automargin": true,
           "gridcolor": "white",
           "linecolor": "white",
           "ticks": "",
           "title": {
            "standoff": 15
           },
           "zerolinecolor": "white",
           "zerolinewidth": 2
          }
         }
        },
        "xaxis": {
         "anchor": "y",
         "domain": [
          0,
          1
         ],
         "title": {
          "text": "value"
         }
        },
        "yaxis": {
         "anchor": "x",
         "domain": [
          0,
          1
         ],
         "title": {
          "text": "count"
         }
        }
       }
      }
     },
     "metadata": {},
     "output_type": "display_data"
    }
   ],
   "source": [
    "p = model.predict(x_test)\n",
    "hist= px.histogram(p)\n",
    "hist.show()"
   ]
  },
  {
   "cell_type": "code",
   "execution_count": 87,
   "metadata": {},
   "outputs": [
    {
     "data": {
      "text/plain": [
       "[716,\n",
       " 767,\n",
       " 774,\n",
       " 781,\n",
       " 782,\n",
       " 791,\n",
       " 803,\n",
       " 970,\n",
       " 1088,\n",
       " 1100,\n",
       " 1214,\n",
       " 1224,\n",
       " 1230,\n",
       " 1237,\n",
       " 1238,\n",
       " 1273,\n",
       " 1424,\n",
       " 1442,\n",
       " 1563,\n",
       " 1626,\n",
       " 1706,\n",
       " 1723,\n",
       " 1726,\n",
       " 1727,\n",
       " 1728,\n",
       " 1731,\n",
       " 1732,\n",
       " 1734,\n",
       " 1735,\n",
       " 1736]"
      ]
     },
     "execution_count": 87,
     "metadata": {},
     "output_type": "execute_result"
    }
   ],
   "source": [
    "falsos_n = []\n",
    "\n",
    "# Iterar sobre las predicciones y las etiquetas verdaderas\n",
    "for i in range(len(pred_test1)):\n",
    "    # Si la predicción es 0 (no hay tumor) \n",
    "    if pred_test1[i] == 0 and y_test[i] == 1:\n",
    "        falsos_n.append(i)\n",
    "\n",
    "falsos_n"
   ]
  },
  {
   "cell_type": "code",
   "execution_count": 88,
   "metadata": {},
   "outputs": [
    {
     "data": {
      "text/plain": [
       "[146, 412, 415, 457, 473]"
      ]
     },
     "execution_count": 88,
     "metadata": {},
     "output_type": "execute_result"
    }
   ],
   "source": [
    "falsos_p = []\n",
    "\n",
    "# Iterar sobre las predicciones y las etiquetas verdaderas\n",
    "for i in range(len(pred_test1)):\n",
    "    if pred_test1[i] == 1 and y_test[i] == 0:\n",
    "        falsos_p.append(i)\n",
    "\n",
    "falsos_p"
   ]
  },
  {
   "cell_type": "code",
   "execution_count": 89,
   "metadata": {},
   "outputs": [],
   "source": [
    "reg_strength = 0.001"
   ]
  },
  {
   "cell_type": "code",
   "execution_count": 90,
   "metadata": {},
   "outputs": [],
   "source": [
    "dropout_rate = 0.1  "
   ]
  },
  {
   "cell_type": "markdown",
   "metadata": {},
   "source": [
    "### Afinamiento de hiperparametros"
   ]
  },
  {
   "cell_type": "code",
   "execution_count": 105,
   "metadata": {},
   "outputs": [],
   "source": [
    "\n",
    "hp = kt.HyperParameters()\n",
    "\n",
    "def build_model(hp):\n",
    "    dropout_rate=hp.Float('DO', min_value=0.05, max_value= 0.2, step=0.05)\n",
    "    reg_strength = hp.Float(\"rs\", min_value=0.0001, max_value=0.0005, step=0.0001)\n",
    "    optimizer = hp.Choice('optimizer', ['adam', 'sgd']) # en el contexto no se debería afinar\n",
    "\n",
    "    model1 =  tf.keras.Sequential([\n",
    "    tf.keras.layers.Conv2D(16, kernel_size=(3, 3), activation='relu', input_shape=x_train.shape[1:]),\n",
    "    tf.keras.layers.MaxPooling2D(pool_size=(2, 2)),\n",
    "    tf.keras.layers.Conv2D(32, kernel_size=(3, 3), activation='relu'),\n",
    "    tf.keras.layers.MaxPooling2D(pool_size=(2, 2)),\n",
    "    tf.keras.layers.Flatten(),\n",
    "    tf.keras.layers.Dense(64, activation='relu'),\n",
    "    tf.keras.layers.Dense(1, activation='sigmoid')\n",
    "])\n",
    "    \n",
    "    if optimizer == 'adam':\n",
    "        opt = tf.keras.optimizers.Adam(learning_rate=0.001)\n",
    "    elif optimizer == 'sgd':\n",
    "        opt = tf.keras.optimizers.SGD(learning_rate=0.001)\n",
    "    else:\n",
    "        opt = tf.keras.optimizers.RMSprop(learning_rate=0.001)\n",
    "   \n",
    "    model1.compile(\n",
    "        optimizer=opt, loss=\"binary_crossentropy\", metrics=[\"Recall\", \"AUC\"],\n",
    "    )\n",
    "    return model1"
   ]
  },
  {
   "cell_type": "code",
   "execution_count": 106,
   "metadata": {},
   "outputs": [
    {
     "name": "stderr",
     "output_type": "stream",
     "text": [
      "c:\\Analitica 3\\brain-tumor-detection\\environment\\Lib\\site-packages\\keras\\src\\layers\\convolutional\\base_conv.py:107: UserWarning:\n",
      "\n",
      "Do not pass an `input_shape`/`input_dim` argument to a layer. When using Sequential models, prefer using an `Input(shape)` object as the first layer in the model instead.\n",
      "\n"
     ]
    }
   ],
   "source": [
    "tuner = kt.RandomSearch(\n",
    "    hypermodel=build_model,\n",
    "    hyperparameters=hp,\n",
    "    tune_new_entries=True, \n",
    "    objective=kt.Objective(\"AUC\", direction=\"max\"),\n",
    "    max_trials=5,\n",
    "    overwrite=True,\n",
    "    directory=\"my_dir\",\n",
    "    project_name=\"helloworld\", \n",
    ")"
   ]
  },
  {
   "cell_type": "code",
   "execution_count": 107,
   "metadata": {},
   "outputs": [
    {
     "name": "stdout",
     "output_type": "stream",
     "text": [
      "Trial 5 Complete [00h 02m 24s]\n",
      "AUC: 0.9425405263900757\n",
      "\n",
      "Best AUC So Far: 0.9999760389328003\n",
      "Total elapsed time: 00h 12m 34s\n"
     ]
    },
    {
     "name": "stderr",
     "output_type": "stream",
     "text": [
      "c:\\Analitica 3\\brain-tumor-detection\\environment\\Lib\\site-packages\\keras\\src\\saving\\saving_lib.py:418: UserWarning:\n",
      "\n",
      "Skipping variable loading for optimizer 'adam', because it has 2 variables whereas the saved optimizer has 18 variables. \n",
      "\n"
     ]
    }
   ],
   "source": [
    "tuner.search(x_train, y_train, epochs=10, validation_data=(x_test, y_test), batch_size=100)\n",
    "\n",
    "fc_best_model = tuner.get_best_models(num_models=1)[0]"
   ]
  },
  {
   "cell_type": "code",
   "execution_count": 109,
   "metadata": {},
   "outputs": [
    {
     "name": "stdout",
     "output_type": "stream",
     "text": [
      "Results summary\n",
      "Results in my_dir\\helloworld\n",
      "Showing 10 best trials\n",
      "Objective(name=\"AUC\", direction=\"max\")\n",
      "\n",
      "Trial 3 summary\n",
      "Hyperparameters:\n",
      "DO: 0.2\n",
      "rs: 0.0005\n",
      "optimizer: adam\n",
      "Score: 0.9999760389328003\n",
      "\n",
      "Trial 0 summary\n",
      "Hyperparameters:\n",
      "DO: 0.1\n",
      "rs: 0.0001\n",
      "optimizer: adam\n",
      "Score: 0.9999127984046936\n",
      "\n",
      "Trial 4 summary\n",
      "Hyperparameters:\n",
      "DO: 0.05\n",
      "rs: 0.0005\n",
      "optimizer: sgd\n",
      "Score: 0.9425405263900757\n",
      "\n",
      "Trial 2 summary\n",
      "Hyperparameters:\n",
      "DO: 0.2\n",
      "rs: 0.0005\n",
      "optimizer: sgd\n",
      "Score: 0.9194196462631226\n",
      "\n",
      "Trial 1 summary\n",
      "Hyperparameters:\n",
      "DO: 0.1\n",
      "rs: 0.00030000000000000003\n",
      "optimizer: sgd\n",
      "Score: 0.9182038307189941\n"
     ]
    }
   ],
   "source": [
    "tuner.results_summary()"
   ]
  },
  {
   "cell_type": "code",
   "execution_count": 111,
   "metadata": {},
   "outputs": [
    {
     "name": "stderr",
     "output_type": "stream",
     "text": [
      "WARNING:absl:You are saving your model as an HDF5 file via `model.save()` or `keras.saving.save_model(model)`. This file format is considered legacy. We recommend using instead the native Keras format, e.g. `model.save('my_model.keras')` or `keras.saving.save_model(model, 'my_model.keras')`. \n"
     ]
    }
   ],
   "source": [
    "fc_best_model.save(\"salidas\\\\best_model.h5\")"
   ]
  }
 ],
 "metadata": {
  "kernelspec": {
   "display_name": "environment",
   "language": "python",
   "name": "python3"
  },
  "language_info": {
   "codemirror_mode": {
    "name": "ipython",
    "version": 3
   },
   "file_extension": ".py",
   "mimetype": "text/x-python",
   "name": "python",
   "nbconvert_exporter": "python",
   "pygments_lexer": "ipython3",
   "version": "3.11.7"
  }
 },
 "nbformat": 4,
 "nbformat_minor": 2
}
