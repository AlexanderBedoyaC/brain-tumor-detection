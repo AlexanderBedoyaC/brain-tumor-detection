{
 "cells": [
  {
   "cell_type": "markdown",
   "metadata": {},
   "source": [
    "# Problema de negocio"
   ]
  },
  {
   "cell_type": "markdown",
   "metadata": {},
   "source": [
    "\n",
    "Los tumores cerebrales representan un importante problema de salud a nivel mundial y requieren herramientas de diagnóstico precisas para una intervención oportuna. La resonancia magnética (MRI) sirve como piedra angular en la detección de tumores cerebrales, generando grandes cantidades de datos de imágenes cruciales para un diagnóstico preciso. Sin embargo, la interpretación manual realizada por los especialistas es propensa a errores y es lenta, debido a la naturaleza y las características del tumor. Esto genera que aumente la gravedad del tumor y luego se les deba prestar un tratamiento mucho más invasivo y costoso: cirugías más largas y cuidadosas, más tiempo en hospitalización, se le debe suministrar más medicamento, y otros factores.\n",
    "\n",
    "Debido a la gravedad de esta condición, es importante que el diagnóstico sea lo más rápido y preciso posible, ya que los pacientes con tumores requieren atención inmediata y programación de una biopsia para detectar el tipo y avance del tumor. Así se pueden evitar complicaciones, muertes de pacientes y altos costos para la entidad de salud."
   ]
  },
  {
   "cell_type": "markdown",
   "metadata": {},
   "source": [
    "# Diseño de solución"
   ]
  },
  {
   "cell_type": "markdown",
   "metadata": {},
   "source": [
    "1.\tTodas las IMR hechas por el hospital se dejan en una base de datos dentro del servidor con el número de documento de cada paciente.\n",
    "\n",
    "2. Todos los días a la 6:00 am se programa la ejecución automática del modelo para predecir cuales pacientes tienen o no un tumor.\n",
    "\n",
    "3.\tCon esta información se envían correos automáticamente informando a los pacientes de los resultados de las IMR, también se informa al paciente las precauciones necesarias en caso de tener un tumor.\n",
    "\n",
    "4.\tLos pacientes  serán clasificados como que tienen un tumor si tienen una probabilidad mayor del 98%, los que tengan una probabilidad inferior del 2% serán clasificados como no tumor y los demás serán revisados manualmente en orden de la probabilidad.\n",
    "\n",
    "5.\tSe asignará una cita con especialista para determinar si es necesario o no una biopsia.\n",
    "\n",
    "6.\tSemanalmente se reentrenara el modelo con imágenes nuevas de la nueva semana.\n"
   ]
  }
 ],
 "metadata": {
  "language_info": {
   "name": "python"
  }
 },
 "nbformat": 4,
 "nbformat_minor": 2
}
